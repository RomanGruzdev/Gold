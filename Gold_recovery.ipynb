{
 "cells": [
  {
   "cell_type": "markdown",
   "metadata": {},
   "source": [
    "# ВОССТАНОВЛЕНИЕ ЗОЛОТА ИЗ РУДЫ."
   ]
  },
  {
   "cell_type": "markdown",
   "metadata": {},
   "source": [
    "# Краткое описание проекта."
   ]
  },
  {
   "cell_type": "markdown",
   "metadata": {},
   "source": [
    "Мы должны подготовить прототип модели машинного обучения для «Цифры». Компания разрабатывает решения для эффективной работы промышленных предприятий.\n",
    "Модель должна предсказать коэффициент восстановления золота из золотосодержащей руды.\n",
    "В нашем распоряжении данные с параметрами добычи и очистки. "
   ]
  },
  {
   "cell_type": "markdown",
   "metadata": {},
   "source": [
    "# Цель проекта."
   ]
  },
  {
   "cell_type": "markdown",
   "metadata": {},
   "source": [
    "Модель поможет оптимизировать производство, чтобы не запускать предприятие с убыточными характеристиками."
   ]
  },
  {
   "cell_type": "markdown",
   "metadata": {},
   "source": [
    "# Описание данных."
   ]
  },
  {
   "cell_type": "markdown",
   "metadata": {},
   "source": [
    "- gold_recovery_train_new.csv — обучающая выборка;\n",
    "- gold_recovery_test_new.csv — тестовая выборка;\n",
    "- gold_recovery_full_new.csv — исходные данные.\n",
    "\n",
    "Данные индексируются датой и временем получения информации (признак date). Соседние по времени параметры часто похожи."
   ]
  },
  {
   "cell_type": "markdown",
   "metadata": {},
   "source": [
    "# План работы."
   ]
  },
  {
   "cell_type": "markdown",
   "metadata": {},
   "source": [
    "- Подготовить данные;\n",
    "- Провести исследовательский анализ данных;\n",
    "- Построить и обучить модель;\n",
    "- Общий вывод.\n"
   ]
  },
  {
   "cell_type": "markdown",
   "metadata": {},
   "source": [
    "## Подготовка данных"
   ]
  },
  {
   "cell_type": "markdown",
   "metadata": {},
   "source": [
    "### Изучение данных."
   ]
  },
  {
   "cell_type": "markdown",
   "metadata": {},
   "source": [
    "Загрузим все необходимые для работы библиотеки и модули."
   ]
  },
  {
   "cell_type": "code",
   "execution_count": 1,
   "metadata": {},
   "outputs": [],
   "source": [
    "import pandas as pd\n",
    "import matplotlib.pyplot as plt\n",
    "import numpy as np\n",
    "from sklearn. metrics import mean_absolute_error as mae\n",
    "from sklearn.impute import KNNImputer\n",
    "from sklearn.preprocessing import StandardScaler\n",
    "from sklearn.ensemble import RandomForestClassifier\n",
    "from sklearn.model_selection import GridSearchCV\n",
    "from sklearn.metrics import make_scorer\n",
    "from sklearn.model_selection import cross_val_score, GridSearchCV, RandomizedSearchCV\n",
    "from sklearn.tree import DecisionTreeClassifier\n",
    "import seaborn as sns\n",
    "from sklearn.dummy import DummyRegressor\n",
    "import warnings \n",
    "warnings.filterwarnings('ignore')\n",
    "\n",
    "from sklearn.linear_model import LinearRegression\n",
    "from sklearn.tree import DecisionTreeRegressor\n",
    "from sklearn.ensemble import RandomForestRegressor\n",
    "\n",
    "pd.set_option('display.max_rows', None)\n",
    "pd.set_option('display.max_columns', None)\n",
    "pd.set_option('display.max_colwidth', None)"
   ]
  },
  {
   "cell_type": "markdown",
   "metadata": {},
   "source": [
    "Считаем данные из csv-файлов в датафреймы и сохраним в переменные data, data_train и data_test. В качестве индекса возьмем колонку date."
   ]
  },
  {
   "cell_type": "code",
   "execution_count": 2,
   "metadata": {
    "scrolled": true
   },
   "outputs": [],
   "source": [
    "data = pd.read_csv('/datasets/gold_recovery_full_new.csv', index_col = 'date')\n",
    "data_train = pd.read_csv('/datasets/gold_recovery_train_new.csv', index_col = 'date')\n",
    "data_test = pd.read_csv('/datasets/gold_recovery_test_new.csv', index_col = 'date')"
   ]
  },
  {
   "cell_type": "markdown",
   "metadata": {},
   "source": [
    "Напишем функцию opening, которая будет выводить всю необходимую информацию на экран. Применим функцию к каждому датафрейму."
   ]
  },
  {
   "cell_type": "code",
   "execution_count": 3,
   "metadata": {},
   "outputs": [],
   "source": [
    "def opening(data):\n",
    "    display(data.head())\n",
    "    display(data.describe())\n",
    "    display(data_train.isna().sum().sort_values(ascending=False))\n",
    "    display(data.info())"
   ]
  },
  {
   "cell_type": "code",
   "execution_count": 4,
   "metadata": {
    "scrolled": true
   },
   "outputs": [
    {
     "data": {
      "text/html": [
       "<div>\n",
       "<style scoped>\n",
       "    .dataframe tbody tr th:only-of-type {\n",
       "        vertical-align: middle;\n",
       "    }\n",
       "\n",
       "    .dataframe tbody tr th {\n",
       "        vertical-align: top;\n",
       "    }\n",
       "\n",
       "    .dataframe thead th {\n",
       "        text-align: right;\n",
       "    }\n",
       "</style>\n",
       "<table border=\"1\" class=\"dataframe\">\n",
       "  <thead>\n",
       "    <tr style=\"text-align: right;\">\n",
       "      <th></th>\n",
       "      <th>final.output.concentrate_ag</th>\n",
       "      <th>final.output.concentrate_pb</th>\n",
       "      <th>final.output.concentrate_sol</th>\n",
       "      <th>final.output.concentrate_au</th>\n",
       "      <th>final.output.recovery</th>\n",
       "      <th>final.output.tail_ag</th>\n",
       "      <th>final.output.tail_pb</th>\n",
       "      <th>final.output.tail_sol</th>\n",
       "      <th>final.output.tail_au</th>\n",
       "      <th>primary_cleaner.input.sulfate</th>\n",
       "      <th>primary_cleaner.input.depressant</th>\n",
       "      <th>primary_cleaner.input.feed_size</th>\n",
       "      <th>primary_cleaner.input.xanthate</th>\n",
       "      <th>primary_cleaner.output.concentrate_ag</th>\n",
       "      <th>primary_cleaner.output.concentrate_pb</th>\n",
       "      <th>primary_cleaner.output.concentrate_sol</th>\n",
       "      <th>primary_cleaner.output.concentrate_au</th>\n",
       "      <th>primary_cleaner.output.tail_ag</th>\n",
       "      <th>primary_cleaner.output.tail_pb</th>\n",
       "      <th>primary_cleaner.output.tail_sol</th>\n",
       "      <th>primary_cleaner.output.tail_au</th>\n",
       "      <th>primary_cleaner.state.floatbank8_a_air</th>\n",
       "      <th>primary_cleaner.state.floatbank8_a_level</th>\n",
       "      <th>primary_cleaner.state.floatbank8_b_air</th>\n",
       "      <th>primary_cleaner.state.floatbank8_b_level</th>\n",
       "      <th>primary_cleaner.state.floatbank8_c_air</th>\n",
       "      <th>primary_cleaner.state.floatbank8_c_level</th>\n",
       "      <th>primary_cleaner.state.floatbank8_d_air</th>\n",
       "      <th>primary_cleaner.state.floatbank8_d_level</th>\n",
       "      <th>rougher.calculation.sulfate_to_au_concentrate</th>\n",
       "      <th>rougher.calculation.floatbank10_sulfate_to_au_feed</th>\n",
       "      <th>rougher.calculation.floatbank11_sulfate_to_au_feed</th>\n",
       "      <th>rougher.calculation.au_pb_ratio</th>\n",
       "      <th>rougher.input.feed_ag</th>\n",
       "      <th>rougher.input.feed_pb</th>\n",
       "      <th>rougher.input.feed_rate</th>\n",
       "      <th>rougher.input.feed_size</th>\n",
       "      <th>rougher.input.feed_sol</th>\n",
       "      <th>rougher.input.feed_au</th>\n",
       "      <th>rougher.input.floatbank10_sulfate</th>\n",
       "      <th>rougher.input.floatbank10_xanthate</th>\n",
       "      <th>rougher.input.floatbank11_sulfate</th>\n",
       "      <th>rougher.input.floatbank11_xanthate</th>\n",
       "      <th>rougher.output.concentrate_ag</th>\n",
       "      <th>rougher.output.concentrate_pb</th>\n",
       "      <th>rougher.output.concentrate_sol</th>\n",
       "      <th>rougher.output.concentrate_au</th>\n",
       "      <th>rougher.output.recovery</th>\n",
       "      <th>rougher.output.tail_ag</th>\n",
       "      <th>rougher.output.tail_pb</th>\n",
       "      <th>rougher.output.tail_sol</th>\n",
       "      <th>rougher.output.tail_au</th>\n",
       "      <th>rougher.state.floatbank10_a_air</th>\n",
       "      <th>rougher.state.floatbank10_a_level</th>\n",
       "      <th>rougher.state.floatbank10_b_air</th>\n",
       "      <th>rougher.state.floatbank10_b_level</th>\n",
       "      <th>rougher.state.floatbank10_c_air</th>\n",
       "      <th>rougher.state.floatbank10_c_level</th>\n",
       "      <th>rougher.state.floatbank10_d_air</th>\n",
       "      <th>rougher.state.floatbank10_d_level</th>\n",
       "      <th>rougher.state.floatbank10_e_air</th>\n",
       "      <th>rougher.state.floatbank10_e_level</th>\n",
       "      <th>rougher.state.floatbank10_f_air</th>\n",
       "      <th>rougher.state.floatbank10_f_level</th>\n",
       "      <th>secondary_cleaner.output.tail_ag</th>\n",
       "      <th>secondary_cleaner.output.tail_pb</th>\n",
       "      <th>secondary_cleaner.output.tail_sol</th>\n",
       "      <th>secondary_cleaner.output.tail_au</th>\n",
       "      <th>secondary_cleaner.state.floatbank2_a_air</th>\n",
       "      <th>secondary_cleaner.state.floatbank2_a_level</th>\n",
       "      <th>secondary_cleaner.state.floatbank2_b_air</th>\n",
       "      <th>secondary_cleaner.state.floatbank2_b_level</th>\n",
       "      <th>secondary_cleaner.state.floatbank3_a_air</th>\n",
       "      <th>secondary_cleaner.state.floatbank3_a_level</th>\n",
       "      <th>secondary_cleaner.state.floatbank3_b_air</th>\n",
       "      <th>secondary_cleaner.state.floatbank3_b_level</th>\n",
       "      <th>secondary_cleaner.state.floatbank4_a_air</th>\n",
       "      <th>secondary_cleaner.state.floatbank4_a_level</th>\n",
       "      <th>secondary_cleaner.state.floatbank4_b_air</th>\n",
       "      <th>secondary_cleaner.state.floatbank4_b_level</th>\n",
       "      <th>secondary_cleaner.state.floatbank5_a_air</th>\n",
       "      <th>secondary_cleaner.state.floatbank5_a_level</th>\n",
       "      <th>secondary_cleaner.state.floatbank5_b_air</th>\n",
       "      <th>secondary_cleaner.state.floatbank5_b_level</th>\n",
       "      <th>secondary_cleaner.state.floatbank6_a_air</th>\n",
       "      <th>secondary_cleaner.state.floatbank6_a_level</th>\n",
       "    </tr>\n",
       "    <tr>\n",
       "      <th>date</th>\n",
       "      <th></th>\n",
       "      <th></th>\n",
       "      <th></th>\n",
       "      <th></th>\n",
       "      <th></th>\n",
       "      <th></th>\n",
       "      <th></th>\n",
       "      <th></th>\n",
       "      <th></th>\n",
       "      <th></th>\n",
       "      <th></th>\n",
       "      <th></th>\n",
       "      <th></th>\n",
       "      <th></th>\n",
       "      <th></th>\n",
       "      <th></th>\n",
       "      <th></th>\n",
       "      <th></th>\n",
       "      <th></th>\n",
       "      <th></th>\n",
       "      <th></th>\n",
       "      <th></th>\n",
       "      <th></th>\n",
       "      <th></th>\n",
       "      <th></th>\n",
       "      <th></th>\n",
       "      <th></th>\n",
       "      <th></th>\n",
       "      <th></th>\n",
       "      <th></th>\n",
       "      <th></th>\n",
       "      <th></th>\n",
       "      <th></th>\n",
       "      <th></th>\n",
       "      <th></th>\n",
       "      <th></th>\n",
       "      <th></th>\n",
       "      <th></th>\n",
       "      <th></th>\n",
       "      <th></th>\n",
       "      <th></th>\n",
       "      <th></th>\n",
       "      <th></th>\n",
       "      <th></th>\n",
       "      <th></th>\n",
       "      <th></th>\n",
       "      <th></th>\n",
       "      <th></th>\n",
       "      <th></th>\n",
       "      <th></th>\n",
       "      <th></th>\n",
       "      <th></th>\n",
       "      <th></th>\n",
       "      <th></th>\n",
       "      <th></th>\n",
       "      <th></th>\n",
       "      <th></th>\n",
       "      <th></th>\n",
       "      <th></th>\n",
       "      <th></th>\n",
       "      <th></th>\n",
       "      <th></th>\n",
       "      <th></th>\n",
       "      <th></th>\n",
       "      <th></th>\n",
       "      <th></th>\n",
       "      <th></th>\n",
       "      <th></th>\n",
       "      <th></th>\n",
       "      <th></th>\n",
       "      <th></th>\n",
       "      <th></th>\n",
       "      <th></th>\n",
       "      <th></th>\n",
       "      <th></th>\n",
       "      <th></th>\n",
       "      <th></th>\n",
       "      <th></th>\n",
       "      <th></th>\n",
       "      <th></th>\n",
       "      <th></th>\n",
       "      <th></th>\n",
       "      <th></th>\n",
       "      <th></th>\n",
       "      <th></th>\n",
       "      <th></th>\n",
       "    </tr>\n",
       "  </thead>\n",
       "  <tbody>\n",
       "    <tr>\n",
       "      <th>2016-01-15 00:00:00</th>\n",
       "      <td>6.055403</td>\n",
       "      <td>9.889648</td>\n",
       "      <td>5.507324</td>\n",
       "      <td>42.192020</td>\n",
       "      <td>70.541216</td>\n",
       "      <td>10.411962</td>\n",
       "      <td>0.895447</td>\n",
       "      <td>16.904297</td>\n",
       "      <td>2.143149</td>\n",
       "      <td>127.092003</td>\n",
       "      <td>10.128295</td>\n",
       "      <td>7.25</td>\n",
       "      <td>0.988759</td>\n",
       "      <td>8.547551</td>\n",
       "      <td>10.389648</td>\n",
       "      <td>19.529297</td>\n",
       "      <td>34.174427</td>\n",
       "      <td>14.936526</td>\n",
       "      <td>2.534912</td>\n",
       "      <td>7.476074</td>\n",
       "      <td>2.106679</td>\n",
       "      <td>1549.775757</td>\n",
       "      <td>-498.912140</td>\n",
       "      <td>1551.434204</td>\n",
       "      <td>-516.403442</td>\n",
       "      <td>1549.873901</td>\n",
       "      <td>-498.666595</td>\n",
       "      <td>1554.367432</td>\n",
       "      <td>-493.428131</td>\n",
       "      <td>41885.707031</td>\n",
       "      <td>3481.779053</td>\n",
       "      <td>3520.337158</td>\n",
       "      <td>2.838687</td>\n",
       "      <td>6.100378</td>\n",
       "      <td>2.284912</td>\n",
       "      <td>523.546326</td>\n",
       "      <td>55.486599</td>\n",
       "      <td>36.808594</td>\n",
       "      <td>6.486150</td>\n",
       "      <td>11.986616</td>\n",
       "      <td>6.007990</td>\n",
       "      <td>11.836743</td>\n",
       "      <td>6.005818</td>\n",
       "      <td>11.500771</td>\n",
       "      <td>7.101074</td>\n",
       "      <td>28.029297</td>\n",
       "      <td>19.793808</td>\n",
       "      <td>87.107763</td>\n",
       "      <td>5.008018</td>\n",
       "      <td>0.508728</td>\n",
       "      <td>19.154297</td>\n",
       "      <td>1.170244</td>\n",
       "      <td>999.706909</td>\n",
       "      <td>-404.066986</td>\n",
       "      <td>1603.011353</td>\n",
       "      <td>-434.715027</td>\n",
       "      <td>1602.375000</td>\n",
       "      <td>-442.204468</td>\n",
       "      <td>1598.937256</td>\n",
       "      <td>-451.294128</td>\n",
       "      <td>1404.472046</td>\n",
       "      <td>-455.462982</td>\n",
       "      <td>1416.354980</td>\n",
       "      <td>-451.939636</td>\n",
       "      <td>14.500184</td>\n",
       "      <td>4.694824</td>\n",
       "      <td>8.764648</td>\n",
       "      <td>2.606185</td>\n",
       "      <td>25.853109</td>\n",
       "      <td>-498.526489</td>\n",
       "      <td>23.893660</td>\n",
       "      <td>-501.406281</td>\n",
       "      <td>23.961798</td>\n",
       "      <td>-495.262817</td>\n",
       "      <td>21.940409</td>\n",
       "      <td>-499.340973</td>\n",
       "      <td>14.016835</td>\n",
       "      <td>-502.488007</td>\n",
       "      <td>12.099931</td>\n",
       "      <td>-504.715942</td>\n",
       "      <td>9.925633</td>\n",
       "      <td>-498.310211</td>\n",
       "      <td>8.079666</td>\n",
       "      <td>-500.470978</td>\n",
       "      <td>14.151341</td>\n",
       "      <td>-605.841980</td>\n",
       "    </tr>\n",
       "    <tr>\n",
       "      <th>2016-01-15 01:00:00</th>\n",
       "      <td>6.029369</td>\n",
       "      <td>9.968944</td>\n",
       "      <td>5.257781</td>\n",
       "      <td>42.701629</td>\n",
       "      <td>69.266198</td>\n",
       "      <td>10.462676</td>\n",
       "      <td>0.927452</td>\n",
       "      <td>16.634514</td>\n",
       "      <td>2.224930</td>\n",
       "      <td>125.629232</td>\n",
       "      <td>10.296251</td>\n",
       "      <td>7.25</td>\n",
       "      <td>1.002663</td>\n",
       "      <td>8.558743</td>\n",
       "      <td>10.497069</td>\n",
       "      <td>19.369147</td>\n",
       "      <td>34.118526</td>\n",
       "      <td>16.250511</td>\n",
       "      <td>3.049646</td>\n",
       "      <td>6.733907</td>\n",
       "      <td>2.353017</td>\n",
       "      <td>1576.166671</td>\n",
       "      <td>-500.904965</td>\n",
       "      <td>1575.950626</td>\n",
       "      <td>-499.865889</td>\n",
       "      <td>1575.994189</td>\n",
       "      <td>-499.315107</td>\n",
       "      <td>1574.479259</td>\n",
       "      <td>-498.931665</td>\n",
       "      <td>42050.861809</td>\n",
       "      <td>3498.370979</td>\n",
       "      <td>3489.981857</td>\n",
       "      <td>2.858998</td>\n",
       "      <td>6.161113</td>\n",
       "      <td>2.266033</td>\n",
       "      <td>525.290581</td>\n",
       "      <td>57.278666</td>\n",
       "      <td>35.753385</td>\n",
       "      <td>6.478583</td>\n",
       "      <td>11.971193</td>\n",
       "      <td>6.005766</td>\n",
       "      <td>11.996163</td>\n",
       "      <td>6.012594</td>\n",
       "      <td>11.615865</td>\n",
       "      <td>7.278807</td>\n",
       "      <td>28.067063</td>\n",
       "      <td>20.050975</td>\n",
       "      <td>86.843261</td>\n",
       "      <td>4.955378</td>\n",
       "      <td>0.536689</td>\n",
       "      <td>18.965234</td>\n",
       "      <td>1.184827</td>\n",
       "      <td>1000.286398</td>\n",
       "      <td>-400.065196</td>\n",
       "      <td>1600.754587</td>\n",
       "      <td>-449.953435</td>\n",
       "      <td>1600.479580</td>\n",
       "      <td>-449.830646</td>\n",
       "      <td>1600.527589</td>\n",
       "      <td>-449.953649</td>\n",
       "      <td>1399.227084</td>\n",
       "      <td>-450.869848</td>\n",
       "      <td>1399.719514</td>\n",
       "      <td>-450.119001</td>\n",
       "      <td>14.265474</td>\n",
       "      <td>4.592547</td>\n",
       "      <td>9.001494</td>\n",
       "      <td>2.488248</td>\n",
       "      <td>25.880539</td>\n",
       "      <td>-499.989656</td>\n",
       "      <td>23.889530</td>\n",
       "      <td>-500.372428</td>\n",
       "      <td>23.970550</td>\n",
       "      <td>-500.085473</td>\n",
       "      <td>22.085714</td>\n",
       "      <td>-499.446897</td>\n",
       "      <td>13.992281</td>\n",
       "      <td>-505.503262</td>\n",
       "      <td>11.950531</td>\n",
       "      <td>-501.331529</td>\n",
       "      <td>10.039245</td>\n",
       "      <td>-500.169983</td>\n",
       "      <td>7.984757</td>\n",
       "      <td>-500.582168</td>\n",
       "      <td>13.998353</td>\n",
       "      <td>-599.787184</td>\n",
       "    </tr>\n",
       "    <tr>\n",
       "      <th>2016-01-15 02:00:00</th>\n",
       "      <td>6.055926</td>\n",
       "      <td>10.213995</td>\n",
       "      <td>5.383759</td>\n",
       "      <td>42.657501</td>\n",
       "      <td>68.116445</td>\n",
       "      <td>10.507046</td>\n",
       "      <td>0.953716</td>\n",
       "      <td>16.208849</td>\n",
       "      <td>2.257889</td>\n",
       "      <td>123.819808</td>\n",
       "      <td>11.316280</td>\n",
       "      <td>7.25</td>\n",
       "      <td>0.991265</td>\n",
       "      <td>8.603505</td>\n",
       "      <td>10.354494</td>\n",
       "      <td>19.167579</td>\n",
       "      <td>33.969464</td>\n",
       "      <td>16.491823</td>\n",
       "      <td>3.124664</td>\n",
       "      <td>6.471768</td>\n",
       "      <td>2.416800</td>\n",
       "      <td>1601.556163</td>\n",
       "      <td>-499.997791</td>\n",
       "      <td>1600.386685</td>\n",
       "      <td>-500.607762</td>\n",
       "      <td>1602.003542</td>\n",
       "      <td>-500.870069</td>\n",
       "      <td>1599.541515</td>\n",
       "      <td>-499.827444</td>\n",
       "      <td>42018.101184</td>\n",
       "      <td>3495.348910</td>\n",
       "      <td>3502.359819</td>\n",
       "      <td>2.945989</td>\n",
       "      <td>6.116455</td>\n",
       "      <td>2.159622</td>\n",
       "      <td>530.026610</td>\n",
       "      <td>57.510649</td>\n",
       "      <td>35.971630</td>\n",
       "      <td>6.362222</td>\n",
       "      <td>11.920603</td>\n",
       "      <td>6.197377</td>\n",
       "      <td>11.920305</td>\n",
       "      <td>6.204633</td>\n",
       "      <td>11.695753</td>\n",
       "      <td>7.216833</td>\n",
       "      <td>27.454037</td>\n",
       "      <td>19.737170</td>\n",
       "      <td>86.842308</td>\n",
       "      <td>4.843460</td>\n",
       "      <td>0.546416</td>\n",
       "      <td>18.808533</td>\n",
       "      <td>1.162562</td>\n",
       "      <td>999.719565</td>\n",
       "      <td>-400.074028</td>\n",
       "      <td>1599.337330</td>\n",
       "      <td>-450.008530</td>\n",
       "      <td>1599.672797</td>\n",
       "      <td>-449.954491</td>\n",
       "      <td>1599.849325</td>\n",
       "      <td>-449.954185</td>\n",
       "      <td>1399.180945</td>\n",
       "      <td>-449.937588</td>\n",
       "      <td>1400.316682</td>\n",
       "      <td>-450.527147</td>\n",
       "      <td>14.115662</td>\n",
       "      <td>4.624775</td>\n",
       "      <td>8.842896</td>\n",
       "      <td>2.458187</td>\n",
       "      <td>26.005245</td>\n",
       "      <td>-499.929616</td>\n",
       "      <td>23.886657</td>\n",
       "      <td>-499.951928</td>\n",
       "      <td>23.913535</td>\n",
       "      <td>-499.442343</td>\n",
       "      <td>23.957717</td>\n",
       "      <td>-499.901982</td>\n",
       "      <td>14.015015</td>\n",
       "      <td>-502.520901</td>\n",
       "      <td>11.912783</td>\n",
       "      <td>-501.133383</td>\n",
       "      <td>10.070913</td>\n",
       "      <td>-500.129135</td>\n",
       "      <td>8.013877</td>\n",
       "      <td>-500.517572</td>\n",
       "      <td>14.028663</td>\n",
       "      <td>-601.427363</td>\n",
       "    </tr>\n",
       "    <tr>\n",
       "      <th>2016-01-15 03:00:00</th>\n",
       "      <td>6.047977</td>\n",
       "      <td>9.977019</td>\n",
       "      <td>4.858634</td>\n",
       "      <td>42.689819</td>\n",
       "      <td>68.347543</td>\n",
       "      <td>10.422762</td>\n",
       "      <td>0.883763</td>\n",
       "      <td>16.532835</td>\n",
       "      <td>2.146849</td>\n",
       "      <td>122.270188</td>\n",
       "      <td>11.322140</td>\n",
       "      <td>7.25</td>\n",
       "      <td>0.996739</td>\n",
       "      <td>7.221879</td>\n",
       "      <td>8.496563</td>\n",
       "      <td>15.978538</td>\n",
       "      <td>28.260743</td>\n",
       "      <td>16.024359</td>\n",
       "      <td>2.960362</td>\n",
       "      <td>6.843791</td>\n",
       "      <td>2.262051</td>\n",
       "      <td>1599.968720</td>\n",
       "      <td>-500.951778</td>\n",
       "      <td>1600.659236</td>\n",
       "      <td>-499.677094</td>\n",
       "      <td>1600.304144</td>\n",
       "      <td>-500.727997</td>\n",
       "      <td>1600.449520</td>\n",
       "      <td>-500.052575</td>\n",
       "      <td>42029.447991</td>\n",
       "      <td>3498.578313</td>\n",
       "      <td>3499.162912</td>\n",
       "      <td>3.002340</td>\n",
       "      <td>6.043309</td>\n",
       "      <td>2.037807</td>\n",
       "      <td>542.590390</td>\n",
       "      <td>57.792734</td>\n",
       "      <td>36.862241</td>\n",
       "      <td>6.118189</td>\n",
       "      <td>11.630094</td>\n",
       "      <td>6.203177</td>\n",
       "      <td>11.692450</td>\n",
       "      <td>6.196578</td>\n",
       "      <td>11.915047</td>\n",
       "      <td>7.175616</td>\n",
       "      <td>27.341277</td>\n",
       "      <td>19.320810</td>\n",
       "      <td>87.226430</td>\n",
       "      <td>4.655288</td>\n",
       "      <td>0.542525</td>\n",
       "      <td>19.330200</td>\n",
       "      <td>1.079755</td>\n",
       "      <td>999.814770</td>\n",
       "      <td>-400.200179</td>\n",
       "      <td>1600.059442</td>\n",
       "      <td>-450.619948</td>\n",
       "      <td>1600.012842</td>\n",
       "      <td>-449.910497</td>\n",
       "      <td>1597.725177</td>\n",
       "      <td>-450.130127</td>\n",
       "      <td>1400.943157</td>\n",
       "      <td>-450.030142</td>\n",
       "      <td>1400.234743</td>\n",
       "      <td>-449.790835</td>\n",
       "      <td>13.732071</td>\n",
       "      <td>4.482453</td>\n",
       "      <td>9.122857</td>\n",
       "      <td>2.322062</td>\n",
       "      <td>25.942508</td>\n",
       "      <td>-499.176749</td>\n",
       "      <td>23.955516</td>\n",
       "      <td>-499.848796</td>\n",
       "      <td>23.966838</td>\n",
       "      <td>-500.008812</td>\n",
       "      <td>23.954443</td>\n",
       "      <td>-499.944710</td>\n",
       "      <td>14.036510</td>\n",
       "      <td>-500.857308</td>\n",
       "      <td>11.999550</td>\n",
       "      <td>-501.193686</td>\n",
       "      <td>9.970366</td>\n",
       "      <td>-499.201640</td>\n",
       "      <td>7.977324</td>\n",
       "      <td>-500.255908</td>\n",
       "      <td>14.005551</td>\n",
       "      <td>-599.996129</td>\n",
       "    </tr>\n",
       "    <tr>\n",
       "      <th>2016-01-15 04:00:00</th>\n",
       "      <td>6.148599</td>\n",
       "      <td>10.142511</td>\n",
       "      <td>4.939416</td>\n",
       "      <td>42.774141</td>\n",
       "      <td>66.927016</td>\n",
       "      <td>10.360302</td>\n",
       "      <td>0.792826</td>\n",
       "      <td>16.525686</td>\n",
       "      <td>2.055292</td>\n",
       "      <td>117.988169</td>\n",
       "      <td>11.913613</td>\n",
       "      <td>7.25</td>\n",
       "      <td>1.009869</td>\n",
       "      <td>9.089428</td>\n",
       "      <td>9.986786</td>\n",
       "      <td>19.199864</td>\n",
       "      <td>33.044932</td>\n",
       "      <td>16.480185</td>\n",
       "      <td>3.112100</td>\n",
       "      <td>6.550154</td>\n",
       "      <td>2.277073</td>\n",
       "      <td>1601.339707</td>\n",
       "      <td>-498.975456</td>\n",
       "      <td>1601.437854</td>\n",
       "      <td>-500.323246</td>\n",
       "      <td>1599.581894</td>\n",
       "      <td>-500.888152</td>\n",
       "      <td>1602.649541</td>\n",
       "      <td>-500.593010</td>\n",
       "      <td>42125.354245</td>\n",
       "      <td>3494.800771</td>\n",
       "      <td>3506.679315</td>\n",
       "      <td>3.169615</td>\n",
       "      <td>6.060915</td>\n",
       "      <td>1.786875</td>\n",
       "      <td>540.531893</td>\n",
       "      <td>56.047189</td>\n",
       "      <td>34.347666</td>\n",
       "      <td>5.663707</td>\n",
       "      <td>10.957755</td>\n",
       "      <td>6.198826</td>\n",
       "      <td>10.960521</td>\n",
       "      <td>6.194897</td>\n",
       "      <td>12.411054</td>\n",
       "      <td>7.240205</td>\n",
       "      <td>27.041023</td>\n",
       "      <td>19.216101</td>\n",
       "      <td>86.688794</td>\n",
       "      <td>4.552800</td>\n",
       "      <td>0.515438</td>\n",
       "      <td>19.267422</td>\n",
       "      <td>1.012642</td>\n",
       "      <td>999.678690</td>\n",
       "      <td>-399.752729</td>\n",
       "      <td>1600.208824</td>\n",
       "      <td>-449.599614</td>\n",
       "      <td>1600.357732</td>\n",
       "      <td>-450.034364</td>\n",
       "      <td>1599.759049</td>\n",
       "      <td>-449.909799</td>\n",
       "      <td>1401.560902</td>\n",
       "      <td>-448.877187</td>\n",
       "      <td>1401.160227</td>\n",
       "      <td>-450.407128</td>\n",
       "      <td>14.079996</td>\n",
       "      <td>4.470737</td>\n",
       "      <td>8.871028</td>\n",
       "      <td>2.330448</td>\n",
       "      <td>26.024787</td>\n",
       "      <td>-500.279091</td>\n",
       "      <td>23.955345</td>\n",
       "      <td>-500.593614</td>\n",
       "      <td>23.985703</td>\n",
       "      <td>-500.083811</td>\n",
       "      <td>23.958945</td>\n",
       "      <td>-499.990309</td>\n",
       "      <td>14.027298</td>\n",
       "      <td>-499.838632</td>\n",
       "      <td>11.953070</td>\n",
       "      <td>-501.053894</td>\n",
       "      <td>9.925709</td>\n",
       "      <td>-501.686727</td>\n",
       "      <td>7.894242</td>\n",
       "      <td>-500.356035</td>\n",
       "      <td>13.996647</td>\n",
       "      <td>-601.496691</td>\n",
       "    </tr>\n",
       "  </tbody>\n",
       "</table>\n",
       "</div>"
      ],
      "text/plain": [
       "                     final.output.concentrate_ag  final.output.concentrate_pb  \\\n",
       "date                                                                            \n",
       "2016-01-15 00:00:00                     6.055403                     9.889648   \n",
       "2016-01-15 01:00:00                     6.029369                     9.968944   \n",
       "2016-01-15 02:00:00                     6.055926                    10.213995   \n",
       "2016-01-15 03:00:00                     6.047977                     9.977019   \n",
       "2016-01-15 04:00:00                     6.148599                    10.142511   \n",
       "\n",
       "                     final.output.concentrate_sol  \\\n",
       "date                                                \n",
       "2016-01-15 00:00:00                      5.507324   \n",
       "2016-01-15 01:00:00                      5.257781   \n",
       "2016-01-15 02:00:00                      5.383759   \n",
       "2016-01-15 03:00:00                      4.858634   \n",
       "2016-01-15 04:00:00                      4.939416   \n",
       "\n",
       "                     final.output.concentrate_au  final.output.recovery  \\\n",
       "date                                                                      \n",
       "2016-01-15 00:00:00                    42.192020              70.541216   \n",
       "2016-01-15 01:00:00                    42.701629              69.266198   \n",
       "2016-01-15 02:00:00                    42.657501              68.116445   \n",
       "2016-01-15 03:00:00                    42.689819              68.347543   \n",
       "2016-01-15 04:00:00                    42.774141              66.927016   \n",
       "\n",
       "                     final.output.tail_ag  final.output.tail_pb  \\\n",
       "date                                                              \n",
       "2016-01-15 00:00:00             10.411962              0.895447   \n",
       "2016-01-15 01:00:00             10.462676              0.927452   \n",
       "2016-01-15 02:00:00             10.507046              0.953716   \n",
       "2016-01-15 03:00:00             10.422762              0.883763   \n",
       "2016-01-15 04:00:00             10.360302              0.792826   \n",
       "\n",
       "                     final.output.tail_sol  final.output.tail_au  \\\n",
       "date                                                               \n",
       "2016-01-15 00:00:00              16.904297              2.143149   \n",
       "2016-01-15 01:00:00              16.634514              2.224930   \n",
       "2016-01-15 02:00:00              16.208849              2.257889   \n",
       "2016-01-15 03:00:00              16.532835              2.146849   \n",
       "2016-01-15 04:00:00              16.525686              2.055292   \n",
       "\n",
       "                     primary_cleaner.input.sulfate  \\\n",
       "date                                                 \n",
       "2016-01-15 00:00:00                     127.092003   \n",
       "2016-01-15 01:00:00                     125.629232   \n",
       "2016-01-15 02:00:00                     123.819808   \n",
       "2016-01-15 03:00:00                     122.270188   \n",
       "2016-01-15 04:00:00                     117.988169   \n",
       "\n",
       "                     primary_cleaner.input.depressant  \\\n",
       "date                                                    \n",
       "2016-01-15 00:00:00                         10.128295   \n",
       "2016-01-15 01:00:00                         10.296251   \n",
       "2016-01-15 02:00:00                         11.316280   \n",
       "2016-01-15 03:00:00                         11.322140   \n",
       "2016-01-15 04:00:00                         11.913613   \n",
       "\n",
       "                     primary_cleaner.input.feed_size  \\\n",
       "date                                                   \n",
       "2016-01-15 00:00:00                             7.25   \n",
       "2016-01-15 01:00:00                             7.25   \n",
       "2016-01-15 02:00:00                             7.25   \n",
       "2016-01-15 03:00:00                             7.25   \n",
       "2016-01-15 04:00:00                             7.25   \n",
       "\n",
       "                     primary_cleaner.input.xanthate  \\\n",
       "date                                                  \n",
       "2016-01-15 00:00:00                        0.988759   \n",
       "2016-01-15 01:00:00                        1.002663   \n",
       "2016-01-15 02:00:00                        0.991265   \n",
       "2016-01-15 03:00:00                        0.996739   \n",
       "2016-01-15 04:00:00                        1.009869   \n",
       "\n",
       "                     primary_cleaner.output.concentrate_ag  \\\n",
       "date                                                         \n",
       "2016-01-15 00:00:00                               8.547551   \n",
       "2016-01-15 01:00:00                               8.558743   \n",
       "2016-01-15 02:00:00                               8.603505   \n",
       "2016-01-15 03:00:00                               7.221879   \n",
       "2016-01-15 04:00:00                               9.089428   \n",
       "\n",
       "                     primary_cleaner.output.concentrate_pb  \\\n",
       "date                                                         \n",
       "2016-01-15 00:00:00                              10.389648   \n",
       "2016-01-15 01:00:00                              10.497069   \n",
       "2016-01-15 02:00:00                              10.354494   \n",
       "2016-01-15 03:00:00                               8.496563   \n",
       "2016-01-15 04:00:00                               9.986786   \n",
       "\n",
       "                     primary_cleaner.output.concentrate_sol  \\\n",
       "date                                                          \n",
       "2016-01-15 00:00:00                               19.529297   \n",
       "2016-01-15 01:00:00                               19.369147   \n",
       "2016-01-15 02:00:00                               19.167579   \n",
       "2016-01-15 03:00:00                               15.978538   \n",
       "2016-01-15 04:00:00                               19.199864   \n",
       "\n",
       "                     primary_cleaner.output.concentrate_au  \\\n",
       "date                                                         \n",
       "2016-01-15 00:00:00                              34.174427   \n",
       "2016-01-15 01:00:00                              34.118526   \n",
       "2016-01-15 02:00:00                              33.969464   \n",
       "2016-01-15 03:00:00                              28.260743   \n",
       "2016-01-15 04:00:00                              33.044932   \n",
       "\n",
       "                     primary_cleaner.output.tail_ag  \\\n",
       "date                                                  \n",
       "2016-01-15 00:00:00                       14.936526   \n",
       "2016-01-15 01:00:00                       16.250511   \n",
       "2016-01-15 02:00:00                       16.491823   \n",
       "2016-01-15 03:00:00                       16.024359   \n",
       "2016-01-15 04:00:00                       16.480185   \n",
       "\n",
       "                     primary_cleaner.output.tail_pb  \\\n",
       "date                                                  \n",
       "2016-01-15 00:00:00                        2.534912   \n",
       "2016-01-15 01:00:00                        3.049646   \n",
       "2016-01-15 02:00:00                        3.124664   \n",
       "2016-01-15 03:00:00                        2.960362   \n",
       "2016-01-15 04:00:00                        3.112100   \n",
       "\n",
       "                     primary_cleaner.output.tail_sol  \\\n",
       "date                                                   \n",
       "2016-01-15 00:00:00                         7.476074   \n",
       "2016-01-15 01:00:00                         6.733907   \n",
       "2016-01-15 02:00:00                         6.471768   \n",
       "2016-01-15 03:00:00                         6.843791   \n",
       "2016-01-15 04:00:00                         6.550154   \n",
       "\n",
       "                     primary_cleaner.output.tail_au  \\\n",
       "date                                                  \n",
       "2016-01-15 00:00:00                        2.106679   \n",
       "2016-01-15 01:00:00                        2.353017   \n",
       "2016-01-15 02:00:00                        2.416800   \n",
       "2016-01-15 03:00:00                        2.262051   \n",
       "2016-01-15 04:00:00                        2.277073   \n",
       "\n",
       "                     primary_cleaner.state.floatbank8_a_air  \\\n",
       "date                                                          \n",
       "2016-01-15 00:00:00                             1549.775757   \n",
       "2016-01-15 01:00:00                             1576.166671   \n",
       "2016-01-15 02:00:00                             1601.556163   \n",
       "2016-01-15 03:00:00                             1599.968720   \n",
       "2016-01-15 04:00:00                             1601.339707   \n",
       "\n",
       "                     primary_cleaner.state.floatbank8_a_level  \\\n",
       "date                                                            \n",
       "2016-01-15 00:00:00                               -498.912140   \n",
       "2016-01-15 01:00:00                               -500.904965   \n",
       "2016-01-15 02:00:00                               -499.997791   \n",
       "2016-01-15 03:00:00                               -500.951778   \n",
       "2016-01-15 04:00:00                               -498.975456   \n",
       "\n",
       "                     primary_cleaner.state.floatbank8_b_air  \\\n",
       "date                                                          \n",
       "2016-01-15 00:00:00                             1551.434204   \n",
       "2016-01-15 01:00:00                             1575.950626   \n",
       "2016-01-15 02:00:00                             1600.386685   \n",
       "2016-01-15 03:00:00                             1600.659236   \n",
       "2016-01-15 04:00:00                             1601.437854   \n",
       "\n",
       "                     primary_cleaner.state.floatbank8_b_level  \\\n",
       "date                                                            \n",
       "2016-01-15 00:00:00                               -516.403442   \n",
       "2016-01-15 01:00:00                               -499.865889   \n",
       "2016-01-15 02:00:00                               -500.607762   \n",
       "2016-01-15 03:00:00                               -499.677094   \n",
       "2016-01-15 04:00:00                               -500.323246   \n",
       "\n",
       "                     primary_cleaner.state.floatbank8_c_air  \\\n",
       "date                                                          \n",
       "2016-01-15 00:00:00                             1549.873901   \n",
       "2016-01-15 01:00:00                             1575.994189   \n",
       "2016-01-15 02:00:00                             1602.003542   \n",
       "2016-01-15 03:00:00                             1600.304144   \n",
       "2016-01-15 04:00:00                             1599.581894   \n",
       "\n",
       "                     primary_cleaner.state.floatbank8_c_level  \\\n",
       "date                                                            \n",
       "2016-01-15 00:00:00                               -498.666595   \n",
       "2016-01-15 01:00:00                               -499.315107   \n",
       "2016-01-15 02:00:00                               -500.870069   \n",
       "2016-01-15 03:00:00                               -500.727997   \n",
       "2016-01-15 04:00:00                               -500.888152   \n",
       "\n",
       "                     primary_cleaner.state.floatbank8_d_air  \\\n",
       "date                                                          \n",
       "2016-01-15 00:00:00                             1554.367432   \n",
       "2016-01-15 01:00:00                             1574.479259   \n",
       "2016-01-15 02:00:00                             1599.541515   \n",
       "2016-01-15 03:00:00                             1600.449520   \n",
       "2016-01-15 04:00:00                             1602.649541   \n",
       "\n",
       "                     primary_cleaner.state.floatbank8_d_level  \\\n",
       "date                                                            \n",
       "2016-01-15 00:00:00                               -493.428131   \n",
       "2016-01-15 01:00:00                               -498.931665   \n",
       "2016-01-15 02:00:00                               -499.827444   \n",
       "2016-01-15 03:00:00                               -500.052575   \n",
       "2016-01-15 04:00:00                               -500.593010   \n",
       "\n",
       "                     rougher.calculation.sulfate_to_au_concentrate  \\\n",
       "date                                                                 \n",
       "2016-01-15 00:00:00                                   41885.707031   \n",
       "2016-01-15 01:00:00                                   42050.861809   \n",
       "2016-01-15 02:00:00                                   42018.101184   \n",
       "2016-01-15 03:00:00                                   42029.447991   \n",
       "2016-01-15 04:00:00                                   42125.354245   \n",
       "\n",
       "                     rougher.calculation.floatbank10_sulfate_to_au_feed  \\\n",
       "date                                                                      \n",
       "2016-01-15 00:00:00                                         3481.779053   \n",
       "2016-01-15 01:00:00                                         3498.370979   \n",
       "2016-01-15 02:00:00                                         3495.348910   \n",
       "2016-01-15 03:00:00                                         3498.578313   \n",
       "2016-01-15 04:00:00                                         3494.800771   \n",
       "\n",
       "                     rougher.calculation.floatbank11_sulfate_to_au_feed  \\\n",
       "date                                                                      \n",
       "2016-01-15 00:00:00                                         3520.337158   \n",
       "2016-01-15 01:00:00                                         3489.981857   \n",
       "2016-01-15 02:00:00                                         3502.359819   \n",
       "2016-01-15 03:00:00                                         3499.162912   \n",
       "2016-01-15 04:00:00                                         3506.679315   \n",
       "\n",
       "                     rougher.calculation.au_pb_ratio  rougher.input.feed_ag  \\\n",
       "date                                                                          \n",
       "2016-01-15 00:00:00                         2.838687               6.100378   \n",
       "2016-01-15 01:00:00                         2.858998               6.161113   \n",
       "2016-01-15 02:00:00                         2.945989               6.116455   \n",
       "2016-01-15 03:00:00                         3.002340               6.043309   \n",
       "2016-01-15 04:00:00                         3.169615               6.060915   \n",
       "\n",
       "                     rougher.input.feed_pb  rougher.input.feed_rate  \\\n",
       "date                                                                  \n",
       "2016-01-15 00:00:00               2.284912               523.546326   \n",
       "2016-01-15 01:00:00               2.266033               525.290581   \n",
       "2016-01-15 02:00:00               2.159622               530.026610   \n",
       "2016-01-15 03:00:00               2.037807               542.590390   \n",
       "2016-01-15 04:00:00               1.786875               540.531893   \n",
       "\n",
       "                     rougher.input.feed_size  rougher.input.feed_sol  \\\n",
       "date                                                                   \n",
       "2016-01-15 00:00:00                55.486599               36.808594   \n",
       "2016-01-15 01:00:00                57.278666               35.753385   \n",
       "2016-01-15 02:00:00                57.510649               35.971630   \n",
       "2016-01-15 03:00:00                57.792734               36.862241   \n",
       "2016-01-15 04:00:00                56.047189               34.347666   \n",
       "\n",
       "                     rougher.input.feed_au  rougher.input.floatbank10_sulfate  \\\n",
       "date                                                                            \n",
       "2016-01-15 00:00:00               6.486150                          11.986616   \n",
       "2016-01-15 01:00:00               6.478583                          11.971193   \n",
       "2016-01-15 02:00:00               6.362222                          11.920603   \n",
       "2016-01-15 03:00:00               6.118189                          11.630094   \n",
       "2016-01-15 04:00:00               5.663707                          10.957755   \n",
       "\n",
       "                     rougher.input.floatbank10_xanthate  \\\n",
       "date                                                      \n",
       "2016-01-15 00:00:00                            6.007990   \n",
       "2016-01-15 01:00:00                            6.005766   \n",
       "2016-01-15 02:00:00                            6.197377   \n",
       "2016-01-15 03:00:00                            6.203177   \n",
       "2016-01-15 04:00:00                            6.198826   \n",
       "\n",
       "                     rougher.input.floatbank11_sulfate  \\\n",
       "date                                                     \n",
       "2016-01-15 00:00:00                          11.836743   \n",
       "2016-01-15 01:00:00                          11.996163   \n",
       "2016-01-15 02:00:00                          11.920305   \n",
       "2016-01-15 03:00:00                          11.692450   \n",
       "2016-01-15 04:00:00                          10.960521   \n",
       "\n",
       "                     rougher.input.floatbank11_xanthate  \\\n",
       "date                                                      \n",
       "2016-01-15 00:00:00                            6.005818   \n",
       "2016-01-15 01:00:00                            6.012594   \n",
       "2016-01-15 02:00:00                            6.204633   \n",
       "2016-01-15 03:00:00                            6.196578   \n",
       "2016-01-15 04:00:00                            6.194897   \n",
       "\n",
       "                     rougher.output.concentrate_ag  \\\n",
       "date                                                 \n",
       "2016-01-15 00:00:00                      11.500771   \n",
       "2016-01-15 01:00:00                      11.615865   \n",
       "2016-01-15 02:00:00                      11.695753   \n",
       "2016-01-15 03:00:00                      11.915047   \n",
       "2016-01-15 04:00:00                      12.411054   \n",
       "\n",
       "                     rougher.output.concentrate_pb  \\\n",
       "date                                                 \n",
       "2016-01-15 00:00:00                       7.101074   \n",
       "2016-01-15 01:00:00                       7.278807   \n",
       "2016-01-15 02:00:00                       7.216833   \n",
       "2016-01-15 03:00:00                       7.175616   \n",
       "2016-01-15 04:00:00                       7.240205   \n",
       "\n",
       "                     rougher.output.concentrate_sol  \\\n",
       "date                                                  \n",
       "2016-01-15 00:00:00                       28.029297   \n",
       "2016-01-15 01:00:00                       28.067063   \n",
       "2016-01-15 02:00:00                       27.454037   \n",
       "2016-01-15 03:00:00                       27.341277   \n",
       "2016-01-15 04:00:00                       27.041023   \n",
       "\n",
       "                     rougher.output.concentrate_au  rougher.output.recovery  \\\n",
       "date                                                                          \n",
       "2016-01-15 00:00:00                      19.793808                87.107763   \n",
       "2016-01-15 01:00:00                      20.050975                86.843261   \n",
       "2016-01-15 02:00:00                      19.737170                86.842308   \n",
       "2016-01-15 03:00:00                      19.320810                87.226430   \n",
       "2016-01-15 04:00:00                      19.216101                86.688794   \n",
       "\n",
       "                     rougher.output.tail_ag  rougher.output.tail_pb  \\\n",
       "date                                                                  \n",
       "2016-01-15 00:00:00                5.008018                0.508728   \n",
       "2016-01-15 01:00:00                4.955378                0.536689   \n",
       "2016-01-15 02:00:00                4.843460                0.546416   \n",
       "2016-01-15 03:00:00                4.655288                0.542525   \n",
       "2016-01-15 04:00:00                4.552800                0.515438   \n",
       "\n",
       "                     rougher.output.tail_sol  rougher.output.tail_au  \\\n",
       "date                                                                   \n",
       "2016-01-15 00:00:00                19.154297                1.170244   \n",
       "2016-01-15 01:00:00                18.965234                1.184827   \n",
       "2016-01-15 02:00:00                18.808533                1.162562   \n",
       "2016-01-15 03:00:00                19.330200                1.079755   \n",
       "2016-01-15 04:00:00                19.267422                1.012642   \n",
       "\n",
       "                     rougher.state.floatbank10_a_air  \\\n",
       "date                                                   \n",
       "2016-01-15 00:00:00                       999.706909   \n",
       "2016-01-15 01:00:00                      1000.286398   \n",
       "2016-01-15 02:00:00                       999.719565   \n",
       "2016-01-15 03:00:00                       999.814770   \n",
       "2016-01-15 04:00:00                       999.678690   \n",
       "\n",
       "                     rougher.state.floatbank10_a_level  \\\n",
       "date                                                     \n",
       "2016-01-15 00:00:00                        -404.066986   \n",
       "2016-01-15 01:00:00                        -400.065196   \n",
       "2016-01-15 02:00:00                        -400.074028   \n",
       "2016-01-15 03:00:00                        -400.200179   \n",
       "2016-01-15 04:00:00                        -399.752729   \n",
       "\n",
       "                     rougher.state.floatbank10_b_air  \\\n",
       "date                                                   \n",
       "2016-01-15 00:00:00                      1603.011353   \n",
       "2016-01-15 01:00:00                      1600.754587   \n",
       "2016-01-15 02:00:00                      1599.337330   \n",
       "2016-01-15 03:00:00                      1600.059442   \n",
       "2016-01-15 04:00:00                      1600.208824   \n",
       "\n",
       "                     rougher.state.floatbank10_b_level  \\\n",
       "date                                                     \n",
       "2016-01-15 00:00:00                        -434.715027   \n",
       "2016-01-15 01:00:00                        -449.953435   \n",
       "2016-01-15 02:00:00                        -450.008530   \n",
       "2016-01-15 03:00:00                        -450.619948   \n",
       "2016-01-15 04:00:00                        -449.599614   \n",
       "\n",
       "                     rougher.state.floatbank10_c_air  \\\n",
       "date                                                   \n",
       "2016-01-15 00:00:00                      1602.375000   \n",
       "2016-01-15 01:00:00                      1600.479580   \n",
       "2016-01-15 02:00:00                      1599.672797   \n",
       "2016-01-15 03:00:00                      1600.012842   \n",
       "2016-01-15 04:00:00                      1600.357732   \n",
       "\n",
       "                     rougher.state.floatbank10_c_level  \\\n",
       "date                                                     \n",
       "2016-01-15 00:00:00                        -442.204468   \n",
       "2016-01-15 01:00:00                        -449.830646   \n",
       "2016-01-15 02:00:00                        -449.954491   \n",
       "2016-01-15 03:00:00                        -449.910497   \n",
       "2016-01-15 04:00:00                        -450.034364   \n",
       "\n",
       "                     rougher.state.floatbank10_d_air  \\\n",
       "date                                                   \n",
       "2016-01-15 00:00:00                      1598.937256   \n",
       "2016-01-15 01:00:00                      1600.527589   \n",
       "2016-01-15 02:00:00                      1599.849325   \n",
       "2016-01-15 03:00:00                      1597.725177   \n",
       "2016-01-15 04:00:00                      1599.759049   \n",
       "\n",
       "                     rougher.state.floatbank10_d_level  \\\n",
       "date                                                     \n",
       "2016-01-15 00:00:00                        -451.294128   \n",
       "2016-01-15 01:00:00                        -449.953649   \n",
       "2016-01-15 02:00:00                        -449.954185   \n",
       "2016-01-15 03:00:00                        -450.130127   \n",
       "2016-01-15 04:00:00                        -449.909799   \n",
       "\n",
       "                     rougher.state.floatbank10_e_air  \\\n",
       "date                                                   \n",
       "2016-01-15 00:00:00                      1404.472046   \n",
       "2016-01-15 01:00:00                      1399.227084   \n",
       "2016-01-15 02:00:00                      1399.180945   \n",
       "2016-01-15 03:00:00                      1400.943157   \n",
       "2016-01-15 04:00:00                      1401.560902   \n",
       "\n",
       "                     rougher.state.floatbank10_e_level  \\\n",
       "date                                                     \n",
       "2016-01-15 00:00:00                        -455.462982   \n",
       "2016-01-15 01:00:00                        -450.869848   \n",
       "2016-01-15 02:00:00                        -449.937588   \n",
       "2016-01-15 03:00:00                        -450.030142   \n",
       "2016-01-15 04:00:00                        -448.877187   \n",
       "\n",
       "                     rougher.state.floatbank10_f_air  \\\n",
       "date                                                   \n",
       "2016-01-15 00:00:00                      1416.354980   \n",
       "2016-01-15 01:00:00                      1399.719514   \n",
       "2016-01-15 02:00:00                      1400.316682   \n",
       "2016-01-15 03:00:00                      1400.234743   \n",
       "2016-01-15 04:00:00                      1401.160227   \n",
       "\n",
       "                     rougher.state.floatbank10_f_level  \\\n",
       "date                                                     \n",
       "2016-01-15 00:00:00                        -451.939636   \n",
       "2016-01-15 01:00:00                        -450.119001   \n",
       "2016-01-15 02:00:00                        -450.527147   \n",
       "2016-01-15 03:00:00                        -449.790835   \n",
       "2016-01-15 04:00:00                        -450.407128   \n",
       "\n",
       "                     secondary_cleaner.output.tail_ag  \\\n",
       "date                                                    \n",
       "2016-01-15 00:00:00                         14.500184   \n",
       "2016-01-15 01:00:00                         14.265474   \n",
       "2016-01-15 02:00:00                         14.115662   \n",
       "2016-01-15 03:00:00                         13.732071   \n",
       "2016-01-15 04:00:00                         14.079996   \n",
       "\n",
       "                     secondary_cleaner.output.tail_pb  \\\n",
       "date                                                    \n",
       "2016-01-15 00:00:00                          4.694824   \n",
       "2016-01-15 01:00:00                          4.592547   \n",
       "2016-01-15 02:00:00                          4.624775   \n",
       "2016-01-15 03:00:00                          4.482453   \n",
       "2016-01-15 04:00:00                          4.470737   \n",
       "\n",
       "                     secondary_cleaner.output.tail_sol  \\\n",
       "date                                                     \n",
       "2016-01-15 00:00:00                           8.764648   \n",
       "2016-01-15 01:00:00                           9.001494   \n",
       "2016-01-15 02:00:00                           8.842896   \n",
       "2016-01-15 03:00:00                           9.122857   \n",
       "2016-01-15 04:00:00                           8.871028   \n",
       "\n",
       "                     secondary_cleaner.output.tail_au  \\\n",
       "date                                                    \n",
       "2016-01-15 00:00:00                          2.606185   \n",
       "2016-01-15 01:00:00                          2.488248   \n",
       "2016-01-15 02:00:00                          2.458187   \n",
       "2016-01-15 03:00:00                          2.322062   \n",
       "2016-01-15 04:00:00                          2.330448   \n",
       "\n",
       "                     secondary_cleaner.state.floatbank2_a_air  \\\n",
       "date                                                            \n",
       "2016-01-15 00:00:00                                 25.853109   \n",
       "2016-01-15 01:00:00                                 25.880539   \n",
       "2016-01-15 02:00:00                                 26.005245   \n",
       "2016-01-15 03:00:00                                 25.942508   \n",
       "2016-01-15 04:00:00                                 26.024787   \n",
       "\n",
       "                     secondary_cleaner.state.floatbank2_a_level  \\\n",
       "date                                                              \n",
       "2016-01-15 00:00:00                                 -498.526489   \n",
       "2016-01-15 01:00:00                                 -499.989656   \n",
       "2016-01-15 02:00:00                                 -499.929616   \n",
       "2016-01-15 03:00:00                                 -499.176749   \n",
       "2016-01-15 04:00:00                                 -500.279091   \n",
       "\n",
       "                     secondary_cleaner.state.floatbank2_b_air  \\\n",
       "date                                                            \n",
       "2016-01-15 00:00:00                                 23.893660   \n",
       "2016-01-15 01:00:00                                 23.889530   \n",
       "2016-01-15 02:00:00                                 23.886657   \n",
       "2016-01-15 03:00:00                                 23.955516   \n",
       "2016-01-15 04:00:00                                 23.955345   \n",
       "\n",
       "                     secondary_cleaner.state.floatbank2_b_level  \\\n",
       "date                                                              \n",
       "2016-01-15 00:00:00                                 -501.406281   \n",
       "2016-01-15 01:00:00                                 -500.372428   \n",
       "2016-01-15 02:00:00                                 -499.951928   \n",
       "2016-01-15 03:00:00                                 -499.848796   \n",
       "2016-01-15 04:00:00                                 -500.593614   \n",
       "\n",
       "                     secondary_cleaner.state.floatbank3_a_air  \\\n",
       "date                                                            \n",
       "2016-01-15 00:00:00                                 23.961798   \n",
       "2016-01-15 01:00:00                                 23.970550   \n",
       "2016-01-15 02:00:00                                 23.913535   \n",
       "2016-01-15 03:00:00                                 23.966838   \n",
       "2016-01-15 04:00:00                                 23.985703   \n",
       "\n",
       "                     secondary_cleaner.state.floatbank3_a_level  \\\n",
       "date                                                              \n",
       "2016-01-15 00:00:00                                 -495.262817   \n",
       "2016-01-15 01:00:00                                 -500.085473   \n",
       "2016-01-15 02:00:00                                 -499.442343   \n",
       "2016-01-15 03:00:00                                 -500.008812   \n",
       "2016-01-15 04:00:00                                 -500.083811   \n",
       "\n",
       "                     secondary_cleaner.state.floatbank3_b_air  \\\n",
       "date                                                            \n",
       "2016-01-15 00:00:00                                 21.940409   \n",
       "2016-01-15 01:00:00                                 22.085714   \n",
       "2016-01-15 02:00:00                                 23.957717   \n",
       "2016-01-15 03:00:00                                 23.954443   \n",
       "2016-01-15 04:00:00                                 23.958945   \n",
       "\n",
       "                     secondary_cleaner.state.floatbank3_b_level  \\\n",
       "date                                                              \n",
       "2016-01-15 00:00:00                                 -499.340973   \n",
       "2016-01-15 01:00:00                                 -499.446897   \n",
       "2016-01-15 02:00:00                                 -499.901982   \n",
       "2016-01-15 03:00:00                                 -499.944710   \n",
       "2016-01-15 04:00:00                                 -499.990309   \n",
       "\n",
       "                     secondary_cleaner.state.floatbank4_a_air  \\\n",
       "date                                                            \n",
       "2016-01-15 00:00:00                                 14.016835   \n",
       "2016-01-15 01:00:00                                 13.992281   \n",
       "2016-01-15 02:00:00                                 14.015015   \n",
       "2016-01-15 03:00:00                                 14.036510   \n",
       "2016-01-15 04:00:00                                 14.027298   \n",
       "\n",
       "                     secondary_cleaner.state.floatbank4_a_level  \\\n",
       "date                                                              \n",
       "2016-01-15 00:00:00                                 -502.488007   \n",
       "2016-01-15 01:00:00                                 -505.503262   \n",
       "2016-01-15 02:00:00                                 -502.520901   \n",
       "2016-01-15 03:00:00                                 -500.857308   \n",
       "2016-01-15 04:00:00                                 -499.838632   \n",
       "\n",
       "                     secondary_cleaner.state.floatbank4_b_air  \\\n",
       "date                                                            \n",
       "2016-01-15 00:00:00                                 12.099931   \n",
       "2016-01-15 01:00:00                                 11.950531   \n",
       "2016-01-15 02:00:00                                 11.912783   \n",
       "2016-01-15 03:00:00                                 11.999550   \n",
       "2016-01-15 04:00:00                                 11.953070   \n",
       "\n",
       "                     secondary_cleaner.state.floatbank4_b_level  \\\n",
       "date                                                              \n",
       "2016-01-15 00:00:00                                 -504.715942   \n",
       "2016-01-15 01:00:00                                 -501.331529   \n",
       "2016-01-15 02:00:00                                 -501.133383   \n",
       "2016-01-15 03:00:00                                 -501.193686   \n",
       "2016-01-15 04:00:00                                 -501.053894   \n",
       "\n",
       "                     secondary_cleaner.state.floatbank5_a_air  \\\n",
       "date                                                            \n",
       "2016-01-15 00:00:00                                  9.925633   \n",
       "2016-01-15 01:00:00                                 10.039245   \n",
       "2016-01-15 02:00:00                                 10.070913   \n",
       "2016-01-15 03:00:00                                  9.970366   \n",
       "2016-01-15 04:00:00                                  9.925709   \n",
       "\n",
       "                     secondary_cleaner.state.floatbank5_a_level  \\\n",
       "date                                                              \n",
       "2016-01-15 00:00:00                                 -498.310211   \n",
       "2016-01-15 01:00:00                                 -500.169983   \n",
       "2016-01-15 02:00:00                                 -500.129135   \n",
       "2016-01-15 03:00:00                                 -499.201640   \n",
       "2016-01-15 04:00:00                                 -501.686727   \n",
       "\n",
       "                     secondary_cleaner.state.floatbank5_b_air  \\\n",
       "date                                                            \n",
       "2016-01-15 00:00:00                                  8.079666   \n",
       "2016-01-15 01:00:00                                  7.984757   \n",
       "2016-01-15 02:00:00                                  8.013877   \n",
       "2016-01-15 03:00:00                                  7.977324   \n",
       "2016-01-15 04:00:00                                  7.894242   \n",
       "\n",
       "                     secondary_cleaner.state.floatbank5_b_level  \\\n",
       "date                                                              \n",
       "2016-01-15 00:00:00                                 -500.470978   \n",
       "2016-01-15 01:00:00                                 -500.582168   \n",
       "2016-01-15 02:00:00                                 -500.517572   \n",
       "2016-01-15 03:00:00                                 -500.255908   \n",
       "2016-01-15 04:00:00                                 -500.356035   \n",
       "\n",
       "                     secondary_cleaner.state.floatbank6_a_air  \\\n",
       "date                                                            \n",
       "2016-01-15 00:00:00                                 14.151341   \n",
       "2016-01-15 01:00:00                                 13.998353   \n",
       "2016-01-15 02:00:00                                 14.028663   \n",
       "2016-01-15 03:00:00                                 14.005551   \n",
       "2016-01-15 04:00:00                                 13.996647   \n",
       "\n",
       "                     secondary_cleaner.state.floatbank6_a_level  \n",
       "date                                                             \n",
       "2016-01-15 00:00:00                                 -605.841980  \n",
       "2016-01-15 01:00:00                                 -599.787184  \n",
       "2016-01-15 02:00:00                                 -601.427363  \n",
       "2016-01-15 03:00:00                                 -599.996129  \n",
       "2016-01-15 04:00:00                                 -601.496691  "
      ]
     },
     "metadata": {},
     "output_type": "display_data"
    },
    {
     "data": {
      "text/html": [
       "<div>\n",
       "<style scoped>\n",
       "    .dataframe tbody tr th:only-of-type {\n",
       "        vertical-align: middle;\n",
       "    }\n",
       "\n",
       "    .dataframe tbody tr th {\n",
       "        vertical-align: top;\n",
       "    }\n",
       "\n",
       "    .dataframe thead th {\n",
       "        text-align: right;\n",
       "    }\n",
       "</style>\n",
       "<table border=\"1\" class=\"dataframe\">\n",
       "  <thead>\n",
       "    <tr style=\"text-align: right;\">\n",
       "      <th></th>\n",
       "      <th>final.output.concentrate_ag</th>\n",
       "      <th>final.output.concentrate_pb</th>\n",
       "      <th>final.output.concentrate_sol</th>\n",
       "      <th>final.output.concentrate_au</th>\n",
       "      <th>final.output.recovery</th>\n",
       "      <th>final.output.tail_ag</th>\n",
       "      <th>final.output.tail_pb</th>\n",
       "      <th>final.output.tail_sol</th>\n",
       "      <th>final.output.tail_au</th>\n",
       "      <th>primary_cleaner.input.sulfate</th>\n",
       "      <th>primary_cleaner.input.depressant</th>\n",
       "      <th>primary_cleaner.input.feed_size</th>\n",
       "      <th>primary_cleaner.input.xanthate</th>\n",
       "      <th>primary_cleaner.output.concentrate_ag</th>\n",
       "      <th>primary_cleaner.output.concentrate_pb</th>\n",
       "      <th>primary_cleaner.output.concentrate_sol</th>\n",
       "      <th>primary_cleaner.output.concentrate_au</th>\n",
       "      <th>primary_cleaner.output.tail_ag</th>\n",
       "      <th>primary_cleaner.output.tail_pb</th>\n",
       "      <th>primary_cleaner.output.tail_sol</th>\n",
       "      <th>primary_cleaner.output.tail_au</th>\n",
       "      <th>primary_cleaner.state.floatbank8_a_air</th>\n",
       "      <th>primary_cleaner.state.floatbank8_a_level</th>\n",
       "      <th>primary_cleaner.state.floatbank8_b_air</th>\n",
       "      <th>primary_cleaner.state.floatbank8_b_level</th>\n",
       "      <th>primary_cleaner.state.floatbank8_c_air</th>\n",
       "      <th>primary_cleaner.state.floatbank8_c_level</th>\n",
       "      <th>primary_cleaner.state.floatbank8_d_air</th>\n",
       "      <th>primary_cleaner.state.floatbank8_d_level</th>\n",
       "      <th>rougher.calculation.sulfate_to_au_concentrate</th>\n",
       "      <th>rougher.calculation.floatbank10_sulfate_to_au_feed</th>\n",
       "      <th>rougher.calculation.floatbank11_sulfate_to_au_feed</th>\n",
       "      <th>rougher.calculation.au_pb_ratio</th>\n",
       "      <th>rougher.input.feed_ag</th>\n",
       "      <th>rougher.input.feed_pb</th>\n",
       "      <th>rougher.input.feed_rate</th>\n",
       "      <th>rougher.input.feed_size</th>\n",
       "      <th>rougher.input.feed_sol</th>\n",
       "      <th>rougher.input.feed_au</th>\n",
       "      <th>rougher.input.floatbank10_sulfate</th>\n",
       "      <th>rougher.input.floatbank10_xanthate</th>\n",
       "      <th>rougher.input.floatbank11_sulfate</th>\n",
       "      <th>rougher.input.floatbank11_xanthate</th>\n",
       "      <th>rougher.output.concentrate_ag</th>\n",
       "      <th>rougher.output.concentrate_pb</th>\n",
       "      <th>rougher.output.concentrate_sol</th>\n",
       "      <th>rougher.output.concentrate_au</th>\n",
       "      <th>rougher.output.recovery</th>\n",
       "      <th>rougher.output.tail_ag</th>\n",
       "      <th>rougher.output.tail_pb</th>\n",
       "      <th>rougher.output.tail_sol</th>\n",
       "      <th>rougher.output.tail_au</th>\n",
       "      <th>rougher.state.floatbank10_a_air</th>\n",
       "      <th>rougher.state.floatbank10_a_level</th>\n",
       "      <th>rougher.state.floatbank10_b_air</th>\n",
       "      <th>rougher.state.floatbank10_b_level</th>\n",
       "      <th>rougher.state.floatbank10_c_air</th>\n",
       "      <th>rougher.state.floatbank10_c_level</th>\n",
       "      <th>rougher.state.floatbank10_d_air</th>\n",
       "      <th>rougher.state.floatbank10_d_level</th>\n",
       "      <th>rougher.state.floatbank10_e_air</th>\n",
       "      <th>rougher.state.floatbank10_e_level</th>\n",
       "      <th>rougher.state.floatbank10_f_air</th>\n",
       "      <th>rougher.state.floatbank10_f_level</th>\n",
       "      <th>secondary_cleaner.output.tail_ag</th>\n",
       "      <th>secondary_cleaner.output.tail_pb</th>\n",
       "      <th>secondary_cleaner.output.tail_sol</th>\n",
       "      <th>secondary_cleaner.output.tail_au</th>\n",
       "      <th>secondary_cleaner.state.floatbank2_a_air</th>\n",
       "      <th>secondary_cleaner.state.floatbank2_a_level</th>\n",
       "      <th>secondary_cleaner.state.floatbank2_b_air</th>\n",
       "      <th>secondary_cleaner.state.floatbank2_b_level</th>\n",
       "      <th>secondary_cleaner.state.floatbank3_a_air</th>\n",
       "      <th>secondary_cleaner.state.floatbank3_a_level</th>\n",
       "      <th>secondary_cleaner.state.floatbank3_b_air</th>\n",
       "      <th>secondary_cleaner.state.floatbank3_b_level</th>\n",
       "      <th>secondary_cleaner.state.floatbank4_a_air</th>\n",
       "      <th>secondary_cleaner.state.floatbank4_a_level</th>\n",
       "      <th>secondary_cleaner.state.floatbank4_b_air</th>\n",
       "      <th>secondary_cleaner.state.floatbank4_b_level</th>\n",
       "      <th>secondary_cleaner.state.floatbank5_a_air</th>\n",
       "      <th>secondary_cleaner.state.floatbank5_a_level</th>\n",
       "      <th>secondary_cleaner.state.floatbank5_b_air</th>\n",
       "      <th>secondary_cleaner.state.floatbank5_b_level</th>\n",
       "      <th>secondary_cleaner.state.floatbank6_a_air</th>\n",
       "      <th>secondary_cleaner.state.floatbank6_a_level</th>\n",
       "    </tr>\n",
       "  </thead>\n",
       "  <tbody>\n",
       "    <tr>\n",
       "      <th>count</th>\n",
       "      <td>14148.000000</td>\n",
       "      <td>14148.000000</td>\n",
       "      <td>13938.000000</td>\n",
       "      <td>14149.000000</td>\n",
       "      <td>14149.000000</td>\n",
       "      <td>14149.000000</td>\n",
       "      <td>14049.000000</td>\n",
       "      <td>14144.000000</td>\n",
       "      <td>14149.000000</td>\n",
       "      <td>14129.000000</td>\n",
       "      <td>14117.000000</td>\n",
       "      <td>14149.000000</td>\n",
       "      <td>14049.000000</td>\n",
       "      <td>14149.000000</td>\n",
       "      <td>14063.000000</td>\n",
       "      <td>13863.000000</td>\n",
       "      <td>14149.000000</td>\n",
       "      <td>14148.000000</td>\n",
       "      <td>14134.000000</td>\n",
       "      <td>14103.000000</td>\n",
       "      <td>14149.000000</td>\n",
       "      <td>14145.000000</td>\n",
       "      <td>14148.000000</td>\n",
       "      <td>14145.000000</td>\n",
       "      <td>14148.000000</td>\n",
       "      <td>14147.000000</td>\n",
       "      <td>14148.000000</td>\n",
       "      <td>14146.000000</td>\n",
       "      <td>14148.000000</td>\n",
       "      <td>1.414800e+04</td>\n",
       "      <td>14148.000000</td>\n",
       "      <td>14148.000000</td>\n",
       "      <td>14149.000000</td>\n",
       "      <td>14149.000000</td>\n",
       "      <td>14049.000000</td>\n",
       "      <td>14141.000000</td>\n",
       "      <td>14005.000000</td>\n",
       "      <td>14071.000000</td>\n",
       "      <td>14149.000000</td>\n",
       "      <td>14120.000000</td>\n",
       "      <td>14141.000000</td>\n",
       "      <td>14113.000000</td>\n",
       "      <td>13721.000000</td>\n",
       "      <td>14149.000000</td>\n",
       "      <td>14149.000000</td>\n",
       "      <td>14127.000000</td>\n",
       "      <td>14149.000000</td>\n",
       "      <td>14149.000000</td>\n",
       "      <td>14148.000000</td>\n",
       "      <td>14149.000000</td>\n",
       "      <td>14149.000000</td>\n",
       "      <td>14149.000000</td>\n",
       "      <td>14148.000000</td>\n",
       "      <td>14148.000000</td>\n",
       "      <td>14148.000000</td>\n",
       "      <td>14148.000000</td>\n",
       "      <td>14148.000000</td>\n",
       "      <td>14148.000000</td>\n",
       "      <td>14149.000000</td>\n",
       "      <td>14149.000000</td>\n",
       "      <td>13713.000000</td>\n",
       "      <td>14149.000000</td>\n",
       "      <td>14149.000000</td>\n",
       "      <td>14149.000000</td>\n",
       "      <td>14147.000000</td>\n",
       "      <td>14139.000000</td>\n",
       "      <td>12544.000000</td>\n",
       "      <td>14149.000000</td>\n",
       "      <td>13932.000000</td>\n",
       "      <td>14148.000000</td>\n",
       "      <td>14128.000000</td>\n",
       "      <td>14148.000000</td>\n",
       "      <td>14145.000000</td>\n",
       "      <td>14148.000000</td>\n",
       "      <td>14148.000000</td>\n",
       "      <td>14148.000000</td>\n",
       "      <td>14143.000000</td>\n",
       "      <td>14148.000000</td>\n",
       "      <td>14148.000000</td>\n",
       "      <td>14148.000000</td>\n",
       "      <td>14148.000000</td>\n",
       "      <td>14148.000000</td>\n",
       "      <td>14148.000000</td>\n",
       "      <td>14148.000000</td>\n",
       "      <td>14147.000000</td>\n",
       "      <td>14148.000000</td>\n",
       "    </tr>\n",
       "    <tr>\n",
       "      <th>mean</th>\n",
       "      <td>5.142034</td>\n",
       "      <td>10.132960</td>\n",
       "      <td>9.202849</td>\n",
       "      <td>44.003792</td>\n",
       "      <td>66.518832</td>\n",
       "      <td>9.607035</td>\n",
       "      <td>2.597298</td>\n",
       "      <td>10.512122</td>\n",
       "      <td>2.918421</td>\n",
       "      <td>133.320659</td>\n",
       "      <td>8.866996</td>\n",
       "      <td>7.322310</td>\n",
       "      <td>0.885588</td>\n",
       "      <td>8.200916</td>\n",
       "      <td>9.588862</td>\n",
       "      <td>10.114745</td>\n",
       "      <td>32.386836</td>\n",
       "      <td>16.303929</td>\n",
       "      <td>3.443398</td>\n",
       "      <td>7.533566</td>\n",
       "      <td>3.839637</td>\n",
       "      <td>1608.000064</td>\n",
       "      <td>-488.775525</td>\n",
       "      <td>1608.610983</td>\n",
       "      <td>-489.171786</td>\n",
       "      <td>1608.879407</td>\n",
       "      <td>-489.605549</td>\n",
       "      <td>1542.189963</td>\n",
       "      <td>-483.462423</td>\n",
       "      <td>4.038265e+04</td>\n",
       "      <td>3456.608298</td>\n",
       "      <td>3253.356387</td>\n",
       "      <td>2.367314</td>\n",
       "      <td>8.579195</td>\n",
       "      <td>3.522778</td>\n",
       "      <td>474.027714</td>\n",
       "      <td>60.110518</td>\n",
       "      <td>36.312593</td>\n",
       "      <td>7.866577</td>\n",
       "      <td>11.764931</td>\n",
       "      <td>5.854529</td>\n",
       "      <td>11.368685</td>\n",
       "      <td>5.894176</td>\n",
       "      <td>11.775812</td>\n",
       "      <td>7.664555</td>\n",
       "      <td>28.302715</td>\n",
       "      <td>19.439958</td>\n",
       "      <td>82.704502</td>\n",
       "      <td>5.567124</td>\n",
       "      <td>0.653277</td>\n",
       "      <td>17.882853</td>\n",
       "      <td>1.757473</td>\n",
       "      <td>1124.726280</td>\n",
       "      <td>-369.460950</td>\n",
       "      <td>1320.705069</td>\n",
       "      <td>-464.258983</td>\n",
       "      <td>1299.360578</td>\n",
       "      <td>-465.054849</td>\n",
       "      <td>1210.335236</td>\n",
       "      <td>-465.457377</td>\n",
       "      <td>1090.213187</td>\n",
       "      <td>-464.919119</td>\n",
       "      <td>1035.490299</td>\n",
       "      <td>-464.688631</td>\n",
       "      <td>14.281629</td>\n",
       "      <td>5.848863</td>\n",
       "      <td>6.938693</td>\n",
       "      <td>4.246961</td>\n",
       "      <td>29.613649</td>\n",
       "      <td>-502.223914</td>\n",
       "      <td>24.914403</td>\n",
       "      <td>-503.695706</td>\n",
       "      <td>29.243372</td>\n",
       "      <td>-478.244059</td>\n",
       "      <td>22.656261</td>\n",
       "      <td>-488.924046</td>\n",
       "      <td>19.985454</td>\n",
       "      <td>-478.696836</td>\n",
       "      <td>15.487065</td>\n",
       "      <td>-460.229416</td>\n",
       "      <td>16.775136</td>\n",
       "      <td>-483.956022</td>\n",
       "      <td>13.064590</td>\n",
       "      <td>-483.966564</td>\n",
       "      <td>19.577539</td>\n",
       "      <td>-506.798480</td>\n",
       "    </tr>\n",
       "    <tr>\n",
       "      <th>std</th>\n",
       "      <td>1.369586</td>\n",
       "      <td>1.654930</td>\n",
       "      <td>2.790516</td>\n",
       "      <td>4.905261</td>\n",
       "      <td>10.295402</td>\n",
       "      <td>2.319069</td>\n",
       "      <td>0.971843</td>\n",
       "      <td>3.003617</td>\n",
       "      <td>0.903712</td>\n",
       "      <td>39.431659</td>\n",
       "      <td>3.361589</td>\n",
       "      <td>0.614062</td>\n",
       "      <td>0.372714</td>\n",
       "      <td>2.005185</td>\n",
       "      <td>2.694296</td>\n",
       "      <td>4.064076</td>\n",
       "      <td>5.798843</td>\n",
       "      <td>3.739843</td>\n",
       "      <td>1.490106</td>\n",
       "      <td>2.133220</td>\n",
       "      <td>1.603544</td>\n",
       "      <td>128.394355</td>\n",
       "      <td>35.704184</td>\n",
       "      <td>131.112729</td>\n",
       "      <td>33.604449</td>\n",
       "      <td>134.266898</td>\n",
       "      <td>35.624002</td>\n",
       "      <td>278.316132</td>\n",
       "      <td>47.100934</td>\n",
       "      <td>3.801436e+05</td>\n",
       "      <td>5772.510248</td>\n",
       "      <td>6753.290662</td>\n",
       "      <td>0.873551</td>\n",
       "      <td>1.896284</td>\n",
       "      <td>1.073394</td>\n",
       "      <td>104.039838</td>\n",
       "      <td>22.418485</td>\n",
       "      <td>4.956057</td>\n",
       "      <td>1.919506</td>\n",
       "      <td>3.278813</td>\n",
       "      <td>1.104263</td>\n",
       "      <td>3.743672</td>\n",
       "      <td>1.124233</td>\n",
       "      <td>2.731747</td>\n",
       "      <td>1.856279</td>\n",
       "      <td>6.102982</td>\n",
       "      <td>3.765192</td>\n",
       "      <td>14.479156</td>\n",
       "      <td>1.039136</td>\n",
       "      <td>0.263766</td>\n",
       "      <td>3.432859</td>\n",
       "      <td>0.713187</td>\n",
       "      <td>169.310825</td>\n",
       "      <td>93.952787</td>\n",
       "      <td>183.155975</td>\n",
       "      <td>57.401954</td>\n",
       "      <td>213.404094</td>\n",
       "      <td>55.904716</td>\n",
       "      <td>210.431555</td>\n",
       "      <td>55.771393</td>\n",
       "      <td>184.610118</td>\n",
       "      <td>56.602962</td>\n",
       "      <td>175.052279</td>\n",
       "      <td>56.645965</td>\n",
       "      <td>4.477126</td>\n",
       "      <td>2.861799</td>\n",
       "      <td>4.155487</td>\n",
       "      <td>2.389060</td>\n",
       "      <td>5.800494</td>\n",
       "      <td>60.281705</td>\n",
       "      <td>5.994959</td>\n",
       "      <td>62.837357</td>\n",
       "      <td>5.637309</td>\n",
       "      <td>54.655143</td>\n",
       "      <td>4.996017</td>\n",
       "      <td>41.928112</td>\n",
       "      <td>5.657723</td>\n",
       "      <td>50.736021</td>\n",
       "      <td>5.255655</td>\n",
       "      <td>58.843586</td>\n",
       "      <td>5.831906</td>\n",
       "      <td>37.892788</td>\n",
       "      <td>5.765617</td>\n",
       "      <td>39.207913</td>\n",
       "      <td>5.764417</td>\n",
       "      <td>37.079249</td>\n",
       "    </tr>\n",
       "    <tr>\n",
       "      <th>min</th>\n",
       "      <td>0.000000</td>\n",
       "      <td>0.000000</td>\n",
       "      <td>0.000000</td>\n",
       "      <td>0.000000</td>\n",
       "      <td>0.000000</td>\n",
       "      <td>0.000000</td>\n",
       "      <td>0.000000</td>\n",
       "      <td>0.000000</td>\n",
       "      <td>0.000000</td>\n",
       "      <td>0.003112</td>\n",
       "      <td>0.000000</td>\n",
       "      <td>1.080000</td>\n",
       "      <td>0.000005</td>\n",
       "      <td>0.000000</td>\n",
       "      <td>0.000000</td>\n",
       "      <td>0.000000</td>\n",
       "      <td>0.000000</td>\n",
       "      <td>0.000000</td>\n",
       "      <td>0.000000</td>\n",
       "      <td>0.000000</td>\n",
       "      <td>0.000000</td>\n",
       "      <td>0.006352</td>\n",
       "      <td>-798.641662</td>\n",
       "      <td>0.008700</td>\n",
       "      <td>-740.122129</td>\n",
       "      <td>0.015159</td>\n",
       "      <td>-799.803073</td>\n",
       "      <td>0.008655</td>\n",
       "      <td>-799.788598</td>\n",
       "      <td>-4.223520e+07</td>\n",
       "      <td>-486.598675</td>\n",
       "      <td>-264.982785</td>\n",
       "      <td>-0.010548</td>\n",
       "      <td>0.010000</td>\n",
       "      <td>0.010000</td>\n",
       "      <td>0.012786</td>\n",
       "      <td>9.659576</td>\n",
       "      <td>0.010000</td>\n",
       "      <td>0.010000</td>\n",
       "      <td>0.001083</td>\n",
       "      <td>0.001428</td>\n",
       "      <td>0.000098</td>\n",
       "      <td>0.000290</td>\n",
       "      <td>0.000000</td>\n",
       "      <td>0.000000</td>\n",
       "      <td>0.000000</td>\n",
       "      <td>0.000000</td>\n",
       "      <td>0.000000</td>\n",
       "      <td>0.594562</td>\n",
       "      <td>0.007566</td>\n",
       "      <td>10.014648</td>\n",
       "      <td>0.020676</td>\n",
       "      <td>-0.041078</td>\n",
       "      <td>-650.202881</td>\n",
       "      <td>-0.653384</td>\n",
       "      <td>-650.260008</td>\n",
       "      <td>-0.035112</td>\n",
       "      <td>-640.995627</td>\n",
       "      <td>-0.554299</td>\n",
       "      <td>-640.519003</td>\n",
       "      <td>-1.970275</td>\n",
       "      <td>-649.443911</td>\n",
       "      <td>-2.430587</td>\n",
       "      <td>-649.880981</td>\n",
       "      <td>0.000000</td>\n",
       "      <td>0.000000</td>\n",
       "      <td>0.000000</td>\n",
       "      <td>0.000000</td>\n",
       "      <td>0.077503</td>\n",
       "      <td>-799.606441</td>\n",
       "      <td>0.000000</td>\n",
       "      <td>-799.873878</td>\n",
       "      <td>0.000000</td>\n",
       "      <td>-799.613013</td>\n",
       "      <td>0.000000</td>\n",
       "      <td>-759.177381</td>\n",
       "      <td>0.000000</td>\n",
       "      <td>-799.709069</td>\n",
       "      <td>0.000000</td>\n",
       "      <td>-799.889113</td>\n",
       "      <td>-0.372054</td>\n",
       "      <td>-797.142475</td>\n",
       "      <td>0.646208</td>\n",
       "      <td>-800.006180</td>\n",
       "      <td>0.195324</td>\n",
       "      <td>-809.398668</td>\n",
       "    </tr>\n",
       "    <tr>\n",
       "      <th>25%</th>\n",
       "      <td>4.211620</td>\n",
       "      <td>9.297355</td>\n",
       "      <td>7.484645</td>\n",
       "      <td>43.276111</td>\n",
       "      <td>62.545817</td>\n",
       "      <td>7.997429</td>\n",
       "      <td>1.905973</td>\n",
       "      <td>8.811324</td>\n",
       "      <td>2.368607</td>\n",
       "      <td>107.006651</td>\n",
       "      <td>6.040604</td>\n",
       "      <td>6.960000</td>\n",
       "      <td>0.607021</td>\n",
       "      <td>7.107126</td>\n",
       "      <td>8.333489</td>\n",
       "      <td>7.488139</td>\n",
       "      <td>30.857764</td>\n",
       "      <td>13.873147</td>\n",
       "      <td>2.420259</td>\n",
       "      <td>6.332548</td>\n",
       "      <td>2.867957</td>\n",
       "      <td>1595.695815</td>\n",
       "      <td>-500.287952</td>\n",
       "      <td>1558.959943</td>\n",
       "      <td>-500.375645</td>\n",
       "      <td>1549.871886</td>\n",
       "      <td>-500.601718</td>\n",
       "      <td>1452.678767</td>\n",
       "      <td>-500.459917</td>\n",
       "      <td>3.999430e+04</td>\n",
       "      <td>2527.093354</td>\n",
       "      <td>2512.200873</td>\n",
       "      <td>1.999588</td>\n",
       "      <td>7.132802</td>\n",
       "      <td>2.780010</td>\n",
       "      <td>420.781913</td>\n",
       "      <td>48.973027</td>\n",
       "      <td>34.117635</td>\n",
       "      <td>6.596217</td>\n",
       "      <td>9.861100</td>\n",
       "      <td>5.117359</td>\n",
       "      <td>9.505507</td>\n",
       "      <td>5.199168</td>\n",
       "      <td>10.486871</td>\n",
       "      <td>6.850501</td>\n",
       "      <td>26.703554</td>\n",
       "      <td>18.432161</td>\n",
       "      <td>79.993067</td>\n",
       "      <td>4.921647</td>\n",
       "      <td>0.474047</td>\n",
       "      <td>15.688727</td>\n",
       "      <td>1.310800</td>\n",
       "      <td>999.799166</td>\n",
       "      <td>-499.787867</td>\n",
       "      <td>1199.366448</td>\n",
       "      <td>-500.183028</td>\n",
       "      <td>1103.095071</td>\n",
       "      <td>-500.211863</td>\n",
       "      <td>1059.708509</td>\n",
       "      <td>-500.359197</td>\n",
       "      <td>997.183864</td>\n",
       "      <td>-500.250033</td>\n",
       "      <td>900.966986</td>\n",
       "      <td>-500.476526</td>\n",
       "      <td>12.177364</td>\n",
       "      <td>3.982298</td>\n",
       "      <td>3.225486</td>\n",
       "      <td>3.153122</td>\n",
       "      <td>25.099584</td>\n",
       "      <td>-500.248814</td>\n",
       "      <td>22.048294</td>\n",
       "      <td>-500.270997</td>\n",
       "      <td>24.991662</td>\n",
       "      <td>-500.175065</td>\n",
       "      <td>19.948436</td>\n",
       "      <td>-500.110581</td>\n",
       "      <td>14.990775</td>\n",
       "      <td>-500.628656</td>\n",
       "      <td>11.894558</td>\n",
       "      <td>-500.149000</td>\n",
       "      <td>11.083980</td>\n",
       "      <td>-500.363177</td>\n",
       "      <td>8.994405</td>\n",
       "      <td>-500.105994</td>\n",
       "      <td>14.989304</td>\n",
       "      <td>-500.745104</td>\n",
       "    </tr>\n",
       "    <tr>\n",
       "      <th>50%</th>\n",
       "      <td>4.994652</td>\n",
       "      <td>10.297144</td>\n",
       "      <td>8.845462</td>\n",
       "      <td>44.872436</td>\n",
       "      <td>67.432775</td>\n",
       "      <td>9.480270</td>\n",
       "      <td>2.592022</td>\n",
       "      <td>10.514621</td>\n",
       "      <td>2.851025</td>\n",
       "      <td>133.018328</td>\n",
       "      <td>8.035811</td>\n",
       "      <td>7.290000</td>\n",
       "      <td>0.888749</td>\n",
       "      <td>8.226247</td>\n",
       "      <td>9.933520</td>\n",
       "      <td>9.726566</td>\n",
       "      <td>33.225835</td>\n",
       "      <td>15.800604</td>\n",
       "      <td>3.218374</td>\n",
       "      <td>7.714419</td>\n",
       "      <td>3.510337</td>\n",
       "      <td>1601.824410</td>\n",
       "      <td>-499.909375</td>\n",
       "      <td>1601.818514</td>\n",
       "      <td>-499.938003</td>\n",
       "      <td>1601.574628</td>\n",
       "      <td>-499.871346</td>\n",
       "      <td>1600.168346</td>\n",
       "      <td>-499.831833</td>\n",
       "      <td>4.368431e+04</td>\n",
       "      <td>2975.892211</td>\n",
       "      <td>2899.807724</td>\n",
       "      <td>2.249275</td>\n",
       "      <td>8.156092</td>\n",
       "      <td>3.422677</td>\n",
       "      <td>499.454777</td>\n",
       "      <td>55.373885</td>\n",
       "      <td>37.020345</td>\n",
       "      <td>7.649138</td>\n",
       "      <td>11.688702</td>\n",
       "      <td>5.951071</td>\n",
       "      <td>11.384283</td>\n",
       "      <td>5.998460</td>\n",
       "      <td>11.747362</td>\n",
       "      <td>7.760435</td>\n",
       "      <td>29.257545</td>\n",
       "      <td>19.947312</td>\n",
       "      <td>85.299462</td>\n",
       "      <td>5.722018</td>\n",
       "      <td>0.625805</td>\n",
       "      <td>18.015894</td>\n",
       "      <td>1.745513</td>\n",
       "      <td>1001.685708</td>\n",
       "      <td>-300.175125</td>\n",
       "      <td>1301.365123</td>\n",
       "      <td>-499.764620</td>\n",
       "      <td>1300.213385</td>\n",
       "      <td>-499.682528</td>\n",
       "      <td>1200.744308</td>\n",
       "      <td>-499.465285</td>\n",
       "      <td>1050.496363</td>\n",
       "      <td>-499.611447</td>\n",
       "      <td>1000.053757</td>\n",
       "      <td>-499.364335</td>\n",
       "      <td>15.357951</td>\n",
       "      <td>5.442310</td>\n",
       "      <td>7.302639</td>\n",
       "      <td>3.980210</td>\n",
       "      <td>30.027721</td>\n",
       "      <td>-499.959206</td>\n",
       "      <td>27.022783</td>\n",
       "      <td>-500.014092</td>\n",
       "      <td>28.016530</td>\n",
       "      <td>-499.877837</td>\n",
       "      <td>22.037270</td>\n",
       "      <td>-499.966809</td>\n",
       "      <td>20.001789</td>\n",
       "      <td>-499.681450</td>\n",
       "      <td>14.975536</td>\n",
       "      <td>-499.388738</td>\n",
       "      <td>17.932223</td>\n",
       "      <td>-499.702452</td>\n",
       "      <td>11.997547</td>\n",
       "      <td>-499.914556</td>\n",
       "      <td>19.984175</td>\n",
       "      <td>-500.061431</td>\n",
       "    </tr>\n",
       "    <tr>\n",
       "      <th>75%</th>\n",
       "      <td>5.859540</td>\n",
       "      <td>11.170603</td>\n",
       "      <td>10.487508</td>\n",
       "      <td>46.166425</td>\n",
       "      <td>72.346428</td>\n",
       "      <td>11.003707</td>\n",
       "      <td>3.241723</td>\n",
       "      <td>11.933009</td>\n",
       "      <td>3.434764</td>\n",
       "      <td>159.825396</td>\n",
       "      <td>11.522173</td>\n",
       "      <td>7.700000</td>\n",
       "      <td>1.100933</td>\n",
       "      <td>9.504924</td>\n",
       "      <td>11.310817</td>\n",
       "      <td>13.052807</td>\n",
       "      <td>35.330145</td>\n",
       "      <td>18.450109</td>\n",
       "      <td>4.253218</td>\n",
       "      <td>8.910664</td>\n",
       "      <td>4.492470</td>\n",
       "      <td>1699.716408</td>\n",
       "      <td>-499.378551</td>\n",
       "      <td>1700.215351</td>\n",
       "      <td>-499.389658</td>\n",
       "      <td>1700.464037</td>\n",
       "      <td>-498.801774</td>\n",
       "      <td>1699.358771</td>\n",
       "      <td>-498.480341</td>\n",
       "      <td>4.776041e+04</td>\n",
       "      <td>3716.360822</td>\n",
       "      <td>3596.534806</td>\n",
       "      <td>2.660896</td>\n",
       "      <td>9.918304</td>\n",
       "      <td>4.226107</td>\n",
       "      <td>547.334973</td>\n",
       "      <td>66.080172</td>\n",
       "      <td>39.423265</td>\n",
       "      <td>9.066976</td>\n",
       "      <td>13.607115</td>\n",
       "      <td>6.602533</td>\n",
       "      <td>13.497134</td>\n",
       "      <td>6.699006</td>\n",
       "      <td>13.426419</td>\n",
       "      <td>8.601927</td>\n",
       "      <td>31.743913</td>\n",
       "      <td>21.392714</td>\n",
       "      <td>90.165021</td>\n",
       "      <td>6.310633</td>\n",
       "      <td>0.794326</td>\n",
       "      <td>19.938672</td>\n",
       "      <td>2.186790</td>\n",
       "      <td>1299.505513</td>\n",
       "      <td>-299.963153</td>\n",
       "      <td>1449.553689</td>\n",
       "      <td>-400.425493</td>\n",
       "      <td>1450.350668</td>\n",
       "      <td>-400.664736</td>\n",
       "      <td>1344.378462</td>\n",
       "      <td>-401.052891</td>\n",
       "      <td>1200.047746</td>\n",
       "      <td>-400.596104</td>\n",
       "      <td>1100.165435</td>\n",
       "      <td>-401.014951</td>\n",
       "      <td>17.230151</td>\n",
       "      <td>7.797948</td>\n",
       "      <td>10.547068</td>\n",
       "      <td>4.883943</td>\n",
       "      <td>34.893057</td>\n",
       "      <td>-499.593198</td>\n",
       "      <td>28.939454</td>\n",
       "      <td>-499.764112</td>\n",
       "      <td>34.990095</td>\n",
       "      <td>-436.923166</td>\n",
       "      <td>25.970365</td>\n",
       "      <td>-499.757501</td>\n",
       "      <td>24.990826</td>\n",
       "      <td>-477.472413</td>\n",
       "      <td>20.059375</td>\n",
       "      <td>-400.039008</td>\n",
       "      <td>21.346550</td>\n",
       "      <td>-487.712108</td>\n",
       "      <td>17.982903</td>\n",
       "      <td>-453.186936</td>\n",
       "      <td>24.991623</td>\n",
       "      <td>-499.536466</td>\n",
       "    </tr>\n",
       "    <tr>\n",
       "      <th>max</th>\n",
       "      <td>16.001945</td>\n",
       "      <td>17.031899</td>\n",
       "      <td>18.124851</td>\n",
       "      <td>52.756638</td>\n",
       "      <td>100.000000</td>\n",
       "      <td>19.552149</td>\n",
       "      <td>5.639565</td>\n",
       "      <td>22.317730</td>\n",
       "      <td>8.197408</td>\n",
       "      <td>250.127834</td>\n",
       "      <td>20.052255</td>\n",
       "      <td>10.470000</td>\n",
       "      <td>2.512968</td>\n",
       "      <td>16.081632</td>\n",
       "      <td>17.081278</td>\n",
       "      <td>22.280845</td>\n",
       "      <td>45.933934</td>\n",
       "      <td>29.459575</td>\n",
       "      <td>9.634565</td>\n",
       "      <td>20.620833</td>\n",
       "      <td>17.788925</td>\n",
       "      <td>2079.531340</td>\n",
       "      <td>-330.134203</td>\n",
       "      <td>2114.906758</td>\n",
       "      <td>-347.354380</td>\n",
       "      <td>2013.156457</td>\n",
       "      <td>-346.653450</td>\n",
       "      <td>2398.903635</td>\n",
       "      <td>-30.601828</td>\n",
       "      <td>3.428099e+06</td>\n",
       "      <td>629638.977914</td>\n",
       "      <td>718684.955855</td>\n",
       "      <td>39.379272</td>\n",
       "      <td>14.596026</td>\n",
       "      <td>7.142594</td>\n",
       "      <td>717.508837</td>\n",
       "      <td>484.967466</td>\n",
       "      <td>48.363177</td>\n",
       "      <td>13.126043</td>\n",
       "      <td>36.118275</td>\n",
       "      <td>9.703448</td>\n",
       "      <td>37.980648</td>\n",
       "      <td>9.698407</td>\n",
       "      <td>24.480271</td>\n",
       "      <td>13.617072</td>\n",
       "      <td>38.351193</td>\n",
       "      <td>28.146838</td>\n",
       "      <td>100.000000</td>\n",
       "      <td>12.719177</td>\n",
       "      <td>3.778064</td>\n",
       "      <td>66.117188</td>\n",
       "      <td>9.688980</td>\n",
       "      <td>1521.980372</td>\n",
       "      <td>-281.039299</td>\n",
       "      <td>1809.194008</td>\n",
       "      <td>-296.383080</td>\n",
       "      <td>2499.129174</td>\n",
       "      <td>-292.155509</td>\n",
       "      <td>1817.199290</td>\n",
       "      <td>-208.330673</td>\n",
       "      <td>1922.636637</td>\n",
       "      <td>-272.199598</td>\n",
       "      <td>1706.307502</td>\n",
       "      <td>-191.718480</td>\n",
       "      <td>23.264738</td>\n",
       "      <td>17.042505</td>\n",
       "      <td>17.976171</td>\n",
       "      <td>26.811643</td>\n",
       "      <td>52.651399</td>\n",
       "      <td>-127.875565</td>\n",
       "      <td>35.152122</td>\n",
       "      <td>-212.064665</td>\n",
       "      <td>44.260464</td>\n",
       "      <td>-191.678810</td>\n",
       "      <td>35.072841</td>\n",
       "      <td>-159.742331</td>\n",
       "      <td>30.115735</td>\n",
       "      <td>-245.239184</td>\n",
       "      <td>24.007913</td>\n",
       "      <td>-145.071088</td>\n",
       "      <td>43.709931</td>\n",
       "      <td>-275.073125</td>\n",
       "      <td>27.926001</td>\n",
       "      <td>-157.396071</td>\n",
       "      <td>32.188906</td>\n",
       "      <td>-104.427459</td>\n",
       "    </tr>\n",
       "  </tbody>\n",
       "</table>\n",
       "</div>"
      ],
      "text/plain": [
       "       final.output.concentrate_ag  final.output.concentrate_pb  \\\n",
       "count                 14148.000000                 14148.000000   \n",
       "mean                      5.142034                    10.132960   \n",
       "std                       1.369586                     1.654930   \n",
       "min                       0.000000                     0.000000   \n",
       "25%                       4.211620                     9.297355   \n",
       "50%                       4.994652                    10.297144   \n",
       "75%                       5.859540                    11.170603   \n",
       "max                      16.001945                    17.031899   \n",
       "\n",
       "       final.output.concentrate_sol  final.output.concentrate_au  \\\n",
       "count                  13938.000000                 14149.000000   \n",
       "mean                       9.202849                    44.003792   \n",
       "std                        2.790516                     4.905261   \n",
       "min                        0.000000                     0.000000   \n",
       "25%                        7.484645                    43.276111   \n",
       "50%                        8.845462                    44.872436   \n",
       "75%                       10.487508                    46.166425   \n",
       "max                       18.124851                    52.756638   \n",
       "\n",
       "       final.output.recovery  final.output.tail_ag  final.output.tail_pb  \\\n",
       "count           14149.000000          14149.000000          14049.000000   \n",
       "mean               66.518832              9.607035              2.597298   \n",
       "std                10.295402              2.319069              0.971843   \n",
       "min                 0.000000              0.000000              0.000000   \n",
       "25%                62.545817              7.997429              1.905973   \n",
       "50%                67.432775              9.480270              2.592022   \n",
       "75%                72.346428             11.003707              3.241723   \n",
       "max               100.000000             19.552149              5.639565   \n",
       "\n",
       "       final.output.tail_sol  final.output.tail_au  \\\n",
       "count           14144.000000          14149.000000   \n",
       "mean               10.512122              2.918421   \n",
       "std                 3.003617              0.903712   \n",
       "min                 0.000000              0.000000   \n",
       "25%                 8.811324              2.368607   \n",
       "50%                10.514621              2.851025   \n",
       "75%                11.933009              3.434764   \n",
       "max                22.317730              8.197408   \n",
       "\n",
       "       primary_cleaner.input.sulfate  primary_cleaner.input.depressant  \\\n",
       "count                   14129.000000                      14117.000000   \n",
       "mean                      133.320659                          8.866996   \n",
       "std                        39.431659                          3.361589   \n",
       "min                         0.003112                          0.000000   \n",
       "25%                       107.006651                          6.040604   \n",
       "50%                       133.018328                          8.035811   \n",
       "75%                       159.825396                         11.522173   \n",
       "max                       250.127834                         20.052255   \n",
       "\n",
       "       primary_cleaner.input.feed_size  primary_cleaner.input.xanthate  \\\n",
       "count                     14149.000000                    14049.000000   \n",
       "mean                          7.322310                        0.885588   \n",
       "std                           0.614062                        0.372714   \n",
       "min                           1.080000                        0.000005   \n",
       "25%                           6.960000                        0.607021   \n",
       "50%                           7.290000                        0.888749   \n",
       "75%                           7.700000                        1.100933   \n",
       "max                          10.470000                        2.512968   \n",
       "\n",
       "       primary_cleaner.output.concentrate_ag  \\\n",
       "count                           14149.000000   \n",
       "mean                                8.200916   \n",
       "std                                 2.005185   \n",
       "min                                 0.000000   \n",
       "25%                                 7.107126   \n",
       "50%                                 8.226247   \n",
       "75%                                 9.504924   \n",
       "max                                16.081632   \n",
       "\n",
       "       primary_cleaner.output.concentrate_pb  \\\n",
       "count                           14063.000000   \n",
       "mean                                9.588862   \n",
       "std                                 2.694296   \n",
       "min                                 0.000000   \n",
       "25%                                 8.333489   \n",
       "50%                                 9.933520   \n",
       "75%                                11.310817   \n",
       "max                                17.081278   \n",
       "\n",
       "       primary_cleaner.output.concentrate_sol  \\\n",
       "count                            13863.000000   \n",
       "mean                                10.114745   \n",
       "std                                  4.064076   \n",
       "min                                  0.000000   \n",
       "25%                                  7.488139   \n",
       "50%                                  9.726566   \n",
       "75%                                 13.052807   \n",
       "max                                 22.280845   \n",
       "\n",
       "       primary_cleaner.output.concentrate_au  primary_cleaner.output.tail_ag  \\\n",
       "count                           14149.000000                    14148.000000   \n",
       "mean                               32.386836                       16.303929   \n",
       "std                                 5.798843                        3.739843   \n",
       "min                                 0.000000                        0.000000   \n",
       "25%                                30.857764                       13.873147   \n",
       "50%                                33.225835                       15.800604   \n",
       "75%                                35.330145                       18.450109   \n",
       "max                                45.933934                       29.459575   \n",
       "\n",
       "       primary_cleaner.output.tail_pb  primary_cleaner.output.tail_sol  \\\n",
       "count                    14134.000000                     14103.000000   \n",
       "mean                         3.443398                         7.533566   \n",
       "std                          1.490106                         2.133220   \n",
       "min                          0.000000                         0.000000   \n",
       "25%                          2.420259                         6.332548   \n",
       "50%                          3.218374                         7.714419   \n",
       "75%                          4.253218                         8.910664   \n",
       "max                          9.634565                        20.620833   \n",
       "\n",
       "       primary_cleaner.output.tail_au  primary_cleaner.state.floatbank8_a_air  \\\n",
       "count                    14149.000000                            14145.000000   \n",
       "mean                         3.839637                             1608.000064   \n",
       "std                          1.603544                              128.394355   \n",
       "min                          0.000000                                0.006352   \n",
       "25%                          2.867957                             1595.695815   \n",
       "50%                          3.510337                             1601.824410   \n",
       "75%                          4.492470                             1699.716408   \n",
       "max                         17.788925                             2079.531340   \n",
       "\n",
       "       primary_cleaner.state.floatbank8_a_level  \\\n",
       "count                              14148.000000   \n",
       "mean                                -488.775525   \n",
       "std                                   35.704184   \n",
       "min                                 -798.641662   \n",
       "25%                                 -500.287952   \n",
       "50%                                 -499.909375   \n",
       "75%                                 -499.378551   \n",
       "max                                 -330.134203   \n",
       "\n",
       "       primary_cleaner.state.floatbank8_b_air  \\\n",
       "count                            14145.000000   \n",
       "mean                              1608.610983   \n",
       "std                                131.112729   \n",
       "min                                  0.008700   \n",
       "25%                               1558.959943   \n",
       "50%                               1601.818514   \n",
       "75%                               1700.215351   \n",
       "max                               2114.906758   \n",
       "\n",
       "       primary_cleaner.state.floatbank8_b_level  \\\n",
       "count                              14148.000000   \n",
       "mean                                -489.171786   \n",
       "std                                   33.604449   \n",
       "min                                 -740.122129   \n",
       "25%                                 -500.375645   \n",
       "50%                                 -499.938003   \n",
       "75%                                 -499.389658   \n",
       "max                                 -347.354380   \n",
       "\n",
       "       primary_cleaner.state.floatbank8_c_air  \\\n",
       "count                            14147.000000   \n",
       "mean                              1608.879407   \n",
       "std                                134.266898   \n",
       "min                                  0.015159   \n",
       "25%                               1549.871886   \n",
       "50%                               1601.574628   \n",
       "75%                               1700.464037   \n",
       "max                               2013.156457   \n",
       "\n",
       "       primary_cleaner.state.floatbank8_c_level  \\\n",
       "count                              14148.000000   \n",
       "mean                                -489.605549   \n",
       "std                                   35.624002   \n",
       "min                                 -799.803073   \n",
       "25%                                 -500.601718   \n",
       "50%                                 -499.871346   \n",
       "75%                                 -498.801774   \n",
       "max                                 -346.653450   \n",
       "\n",
       "       primary_cleaner.state.floatbank8_d_air  \\\n",
       "count                            14146.000000   \n",
       "mean                              1542.189963   \n",
       "std                                278.316132   \n",
       "min                                  0.008655   \n",
       "25%                               1452.678767   \n",
       "50%                               1600.168346   \n",
       "75%                               1699.358771   \n",
       "max                               2398.903635   \n",
       "\n",
       "       primary_cleaner.state.floatbank8_d_level  \\\n",
       "count                              14148.000000   \n",
       "mean                                -483.462423   \n",
       "std                                   47.100934   \n",
       "min                                 -799.788598   \n",
       "25%                                 -500.459917   \n",
       "50%                                 -499.831833   \n",
       "75%                                 -498.480341   \n",
       "max                                  -30.601828   \n",
       "\n",
       "       rougher.calculation.sulfate_to_au_concentrate  \\\n",
       "count                                   1.414800e+04   \n",
       "mean                                    4.038265e+04   \n",
       "std                                     3.801436e+05   \n",
       "min                                    -4.223520e+07   \n",
       "25%                                     3.999430e+04   \n",
       "50%                                     4.368431e+04   \n",
       "75%                                     4.776041e+04   \n",
       "max                                     3.428099e+06   \n",
       "\n",
       "       rougher.calculation.floatbank10_sulfate_to_au_feed  \\\n",
       "count                                        14148.000000   \n",
       "mean                                          3456.608298   \n",
       "std                                           5772.510248   \n",
       "min                                           -486.598675   \n",
       "25%                                           2527.093354   \n",
       "50%                                           2975.892211   \n",
       "75%                                           3716.360822   \n",
       "max                                         629638.977914   \n",
       "\n",
       "       rougher.calculation.floatbank11_sulfate_to_au_feed  \\\n",
       "count                                        14148.000000   \n",
       "mean                                          3253.356387   \n",
       "std                                           6753.290662   \n",
       "min                                           -264.982785   \n",
       "25%                                           2512.200873   \n",
       "50%                                           2899.807724   \n",
       "75%                                           3596.534806   \n",
       "max                                         718684.955855   \n",
       "\n",
       "       rougher.calculation.au_pb_ratio  rougher.input.feed_ag  \\\n",
       "count                     14149.000000           14149.000000   \n",
       "mean                          2.367314               8.579195   \n",
       "std                           0.873551               1.896284   \n",
       "min                          -0.010548               0.010000   \n",
       "25%                           1.999588               7.132802   \n",
       "50%                           2.249275               8.156092   \n",
       "75%                           2.660896               9.918304   \n",
       "max                          39.379272              14.596026   \n",
       "\n",
       "       rougher.input.feed_pb  rougher.input.feed_rate  \\\n",
       "count           14049.000000             14141.000000   \n",
       "mean                3.522778               474.027714   \n",
       "std                 1.073394               104.039838   \n",
       "min                 0.010000                 0.012786   \n",
       "25%                 2.780010               420.781913   \n",
       "50%                 3.422677               499.454777   \n",
       "75%                 4.226107               547.334973   \n",
       "max                 7.142594               717.508837   \n",
       "\n",
       "       rougher.input.feed_size  rougher.input.feed_sol  rougher.input.feed_au  \\\n",
       "count             14005.000000            14071.000000           14149.000000   \n",
       "mean                 60.110518               36.312593               7.866577   \n",
       "std                  22.418485                4.956057               1.919506   \n",
       "min                   9.659576                0.010000               0.010000   \n",
       "25%                  48.973027               34.117635               6.596217   \n",
       "50%                  55.373885               37.020345               7.649138   \n",
       "75%                  66.080172               39.423265               9.066976   \n",
       "max                 484.967466               48.363177              13.126043   \n",
       "\n",
       "       rougher.input.floatbank10_sulfate  rougher.input.floatbank10_xanthate  \\\n",
       "count                       14120.000000                        14141.000000   \n",
       "mean                           11.764931                            5.854529   \n",
       "std                             3.278813                            1.104263   \n",
       "min                             0.001083                            0.001428   \n",
       "25%                             9.861100                            5.117359   \n",
       "50%                            11.688702                            5.951071   \n",
       "75%                            13.607115                            6.602533   \n",
       "max                            36.118275                            9.703448   \n",
       "\n",
       "       rougher.input.floatbank11_sulfate  rougher.input.floatbank11_xanthate  \\\n",
       "count                       14113.000000                        13721.000000   \n",
       "mean                           11.368685                            5.894176   \n",
       "std                             3.743672                            1.124233   \n",
       "min                             0.000098                            0.000290   \n",
       "25%                             9.505507                            5.199168   \n",
       "50%                            11.384283                            5.998460   \n",
       "75%                            13.497134                            6.699006   \n",
       "max                            37.980648                            9.698407   \n",
       "\n",
       "       rougher.output.concentrate_ag  rougher.output.concentrate_pb  \\\n",
       "count                   14149.000000                   14149.000000   \n",
       "mean                       11.775812                       7.664555   \n",
       "std                         2.731747                       1.856279   \n",
       "min                         0.000000                       0.000000   \n",
       "25%                        10.486871                       6.850501   \n",
       "50%                        11.747362                       7.760435   \n",
       "75%                        13.426419                       8.601927   \n",
       "max                        24.480271                      13.617072   \n",
       "\n",
       "       rougher.output.concentrate_sol  rougher.output.concentrate_au  \\\n",
       "count                    14127.000000                   14149.000000   \n",
       "mean                        28.302715                      19.439958   \n",
       "std                          6.102982                       3.765192   \n",
       "min                          0.000000                       0.000000   \n",
       "25%                         26.703554                      18.432161   \n",
       "50%                         29.257545                      19.947312   \n",
       "75%                         31.743913                      21.392714   \n",
       "max                         38.351193                      28.146838   \n",
       "\n",
       "       rougher.output.recovery  rougher.output.tail_ag  \\\n",
       "count             14149.000000            14148.000000   \n",
       "mean                 82.704502                5.567124   \n",
       "std                  14.479156                1.039136   \n",
       "min                   0.000000                0.594562   \n",
       "25%                  79.993067                4.921647   \n",
       "50%                  85.299462                5.722018   \n",
       "75%                  90.165021                6.310633   \n",
       "max                 100.000000               12.719177   \n",
       "\n",
       "       rougher.output.tail_pb  rougher.output.tail_sol  \\\n",
       "count            14149.000000             14149.000000   \n",
       "mean                 0.653277                17.882853   \n",
       "std                  0.263766                 3.432859   \n",
       "min                  0.007566                10.014648   \n",
       "25%                  0.474047                15.688727   \n",
       "50%                  0.625805                18.015894   \n",
       "75%                  0.794326                19.938672   \n",
       "max                  3.778064                66.117188   \n",
       "\n",
       "       rougher.output.tail_au  rougher.state.floatbank10_a_air  \\\n",
       "count            14149.000000                     14148.000000   \n",
       "mean                 1.757473                      1124.726280   \n",
       "std                  0.713187                       169.310825   \n",
       "min                  0.020676                        -0.041078   \n",
       "25%                  1.310800                       999.799166   \n",
       "50%                  1.745513                      1001.685708   \n",
       "75%                  2.186790                      1299.505513   \n",
       "max                  9.688980                      1521.980372   \n",
       "\n",
       "       rougher.state.floatbank10_a_level  rougher.state.floatbank10_b_air  \\\n",
       "count                       14148.000000                     14148.000000   \n",
       "mean                         -369.460950                      1320.705069   \n",
       "std                            93.952787                       183.155975   \n",
       "min                          -650.202881                        -0.653384   \n",
       "25%                          -499.787867                      1199.366448   \n",
       "50%                          -300.175125                      1301.365123   \n",
       "75%                          -299.963153                      1449.553689   \n",
       "max                          -281.039299                      1809.194008   \n",
       "\n",
       "       rougher.state.floatbank10_b_level  rougher.state.floatbank10_c_air  \\\n",
       "count                       14148.000000                     14148.000000   \n",
       "mean                         -464.258983                      1299.360578   \n",
       "std                            57.401954                       213.404094   \n",
       "min                          -650.260008                        -0.035112   \n",
       "25%                          -500.183028                      1103.095071   \n",
       "50%                          -499.764620                      1300.213385   \n",
       "75%                          -400.425493                      1450.350668   \n",
       "max                          -296.383080                      2499.129174   \n",
       "\n",
       "       rougher.state.floatbank10_c_level  rougher.state.floatbank10_d_air  \\\n",
       "count                       14148.000000                     14149.000000   \n",
       "mean                         -465.054849                      1210.335236   \n",
       "std                            55.904716                       210.431555   \n",
       "min                          -640.995627                        -0.554299   \n",
       "25%                          -500.211863                      1059.708509   \n",
       "50%                          -499.682528                      1200.744308   \n",
       "75%                          -400.664736                      1344.378462   \n",
       "max                          -292.155509                      1817.199290   \n",
       "\n",
       "       rougher.state.floatbank10_d_level  rougher.state.floatbank10_e_air  \\\n",
       "count                       14149.000000                     13713.000000   \n",
       "mean                         -465.457377                      1090.213187   \n",
       "std                            55.771393                       184.610118   \n",
       "min                          -640.519003                        -1.970275   \n",
       "25%                          -500.359197                       997.183864   \n",
       "50%                          -499.465285                      1050.496363   \n",
       "75%                          -401.052891                      1200.047746   \n",
       "max                          -208.330673                      1922.636637   \n",
       "\n",
       "       rougher.state.floatbank10_e_level  rougher.state.floatbank10_f_air  \\\n",
       "count                       14149.000000                     14149.000000   \n",
       "mean                         -464.919119                      1035.490299   \n",
       "std                            56.602962                       175.052279   \n",
       "min                          -649.443911                        -2.430587   \n",
       "25%                          -500.250033                       900.966986   \n",
       "50%                          -499.611447                      1000.053757   \n",
       "75%                          -400.596104                      1100.165435   \n",
       "max                          -272.199598                      1706.307502   \n",
       "\n",
       "       rougher.state.floatbank10_f_level  secondary_cleaner.output.tail_ag  \\\n",
       "count                       14149.000000                      14147.000000   \n",
       "mean                         -464.688631                         14.281629   \n",
       "std                            56.645965                          4.477126   \n",
       "min                          -649.880981                          0.000000   \n",
       "25%                          -500.476526                         12.177364   \n",
       "50%                          -499.364335                         15.357951   \n",
       "75%                          -401.014951                         17.230151   \n",
       "max                          -191.718480                         23.264738   \n",
       "\n",
       "       secondary_cleaner.output.tail_pb  secondary_cleaner.output.tail_sol  \\\n",
       "count                      14139.000000                       12544.000000   \n",
       "mean                           5.848863                           6.938693   \n",
       "std                            2.861799                           4.155487   \n",
       "min                            0.000000                           0.000000   \n",
       "25%                            3.982298                           3.225486   \n",
       "50%                            5.442310                           7.302639   \n",
       "75%                            7.797948                          10.547068   \n",
       "max                           17.042505                          17.976171   \n",
       "\n",
       "       secondary_cleaner.output.tail_au  \\\n",
       "count                      14149.000000   \n",
       "mean                           4.246961   \n",
       "std                            2.389060   \n",
       "min                            0.000000   \n",
       "25%                            3.153122   \n",
       "50%                            3.980210   \n",
       "75%                            4.883943   \n",
       "max                           26.811643   \n",
       "\n",
       "       secondary_cleaner.state.floatbank2_a_air  \\\n",
       "count                              13932.000000   \n",
       "mean                                  29.613649   \n",
       "std                                    5.800494   \n",
       "min                                    0.077503   \n",
       "25%                                   25.099584   \n",
       "50%                                   30.027721   \n",
       "75%                                   34.893057   \n",
       "max                                   52.651399   \n",
       "\n",
       "       secondary_cleaner.state.floatbank2_a_level  \\\n",
       "count                                14148.000000   \n",
       "mean                                  -502.223914   \n",
       "std                                     60.281705   \n",
       "min                                   -799.606441   \n",
       "25%                                   -500.248814   \n",
       "50%                                   -499.959206   \n",
       "75%                                   -499.593198   \n",
       "max                                   -127.875565   \n",
       "\n",
       "       secondary_cleaner.state.floatbank2_b_air  \\\n",
       "count                              14128.000000   \n",
       "mean                                  24.914403   \n",
       "std                                    5.994959   \n",
       "min                                    0.000000   \n",
       "25%                                   22.048294   \n",
       "50%                                   27.022783   \n",
       "75%                                   28.939454   \n",
       "max                                   35.152122   \n",
       "\n",
       "       secondary_cleaner.state.floatbank2_b_level  \\\n",
       "count                                14148.000000   \n",
       "mean                                  -503.695706   \n",
       "std                                     62.837357   \n",
       "min                                   -799.873878   \n",
       "25%                                   -500.270997   \n",
       "50%                                   -500.014092   \n",
       "75%                                   -499.764112   \n",
       "max                                   -212.064665   \n",
       "\n",
       "       secondary_cleaner.state.floatbank3_a_air  \\\n",
       "count                              14145.000000   \n",
       "mean                                  29.243372   \n",
       "std                                    5.637309   \n",
       "min                                    0.000000   \n",
       "25%                                   24.991662   \n",
       "50%                                   28.016530   \n",
       "75%                                   34.990095   \n",
       "max                                   44.260464   \n",
       "\n",
       "       secondary_cleaner.state.floatbank3_a_level  \\\n",
       "count                                14148.000000   \n",
       "mean                                  -478.244059   \n",
       "std                                     54.655143   \n",
       "min                                   -799.613013   \n",
       "25%                                   -500.175065   \n",
       "50%                                   -499.877837   \n",
       "75%                                   -436.923166   \n",
       "max                                   -191.678810   \n",
       "\n",
       "       secondary_cleaner.state.floatbank3_b_air  \\\n",
       "count                              14148.000000   \n",
       "mean                                  22.656261   \n",
       "std                                    4.996017   \n",
       "min                                    0.000000   \n",
       "25%                                   19.948436   \n",
       "50%                                   22.037270   \n",
       "75%                                   25.970365   \n",
       "max                                   35.072841   \n",
       "\n",
       "       secondary_cleaner.state.floatbank3_b_level  \\\n",
       "count                                14148.000000   \n",
       "mean                                  -488.924046   \n",
       "std                                     41.928112   \n",
       "min                                   -759.177381   \n",
       "25%                                   -500.110581   \n",
       "50%                                   -499.966809   \n",
       "75%                                   -499.757501   \n",
       "max                                   -159.742331   \n",
       "\n",
       "       secondary_cleaner.state.floatbank4_a_air  \\\n",
       "count                              14143.000000   \n",
       "mean                                  19.985454   \n",
       "std                                    5.657723   \n",
       "min                                    0.000000   \n",
       "25%                                   14.990775   \n",
       "50%                                   20.001789   \n",
       "75%                                   24.990826   \n",
       "max                                   30.115735   \n",
       "\n",
       "       secondary_cleaner.state.floatbank4_a_level  \\\n",
       "count                                14148.000000   \n",
       "mean                                  -478.696836   \n",
       "std                                     50.736021   \n",
       "min                                   -799.709069   \n",
       "25%                                   -500.628656   \n",
       "50%                                   -499.681450   \n",
       "75%                                   -477.472413   \n",
       "max                                   -245.239184   \n",
       "\n",
       "       secondary_cleaner.state.floatbank4_b_air  \\\n",
       "count                              14148.000000   \n",
       "mean                                  15.487065   \n",
       "std                                    5.255655   \n",
       "min                                    0.000000   \n",
       "25%                                   11.894558   \n",
       "50%                                   14.975536   \n",
       "75%                                   20.059375   \n",
       "max                                   24.007913   \n",
       "\n",
       "       secondary_cleaner.state.floatbank4_b_level  \\\n",
       "count                                14148.000000   \n",
       "mean                                  -460.229416   \n",
       "std                                     58.843586   \n",
       "min                                   -799.889113   \n",
       "25%                                   -500.149000   \n",
       "50%                                   -499.388738   \n",
       "75%                                   -400.039008   \n",
       "max                                   -145.071088   \n",
       "\n",
       "       secondary_cleaner.state.floatbank5_a_air  \\\n",
       "count                              14148.000000   \n",
       "mean                                  16.775136   \n",
       "std                                    5.831906   \n",
       "min                                   -0.372054   \n",
       "25%                                   11.083980   \n",
       "50%                                   17.932223   \n",
       "75%                                   21.346550   \n",
       "max                                   43.709931   \n",
       "\n",
       "       secondary_cleaner.state.floatbank5_a_level  \\\n",
       "count                                14148.000000   \n",
       "mean                                  -483.956022   \n",
       "std                                     37.892788   \n",
       "min                                   -797.142475   \n",
       "25%                                   -500.363177   \n",
       "50%                                   -499.702452   \n",
       "75%                                   -487.712108   \n",
       "max                                   -275.073125   \n",
       "\n",
       "       secondary_cleaner.state.floatbank5_b_air  \\\n",
       "count                              14148.000000   \n",
       "mean                                  13.064590   \n",
       "std                                    5.765617   \n",
       "min                                    0.646208   \n",
       "25%                                    8.994405   \n",
       "50%                                   11.997547   \n",
       "75%                                   17.982903   \n",
       "max                                   27.926001   \n",
       "\n",
       "       secondary_cleaner.state.floatbank5_b_level  \\\n",
       "count                                14148.000000   \n",
       "mean                                  -483.966564   \n",
       "std                                     39.207913   \n",
       "min                                   -800.006180   \n",
       "25%                                   -500.105994   \n",
       "50%                                   -499.914556   \n",
       "75%                                   -453.186936   \n",
       "max                                   -157.396071   \n",
       "\n",
       "       secondary_cleaner.state.floatbank6_a_air  \\\n",
       "count                              14147.000000   \n",
       "mean                                  19.577539   \n",
       "std                                    5.764417   \n",
       "min                                    0.195324   \n",
       "25%                                   14.989304   \n",
       "50%                                   19.984175   \n",
       "75%                                   24.991623   \n",
       "max                                   32.188906   \n",
       "\n",
       "       secondary_cleaner.state.floatbank6_a_level  \n",
       "count                                14148.000000  \n",
       "mean                                  -506.798480  \n",
       "std                                     37.079249  \n",
       "min                                   -809.398668  \n",
       "25%                                   -500.745104  \n",
       "50%                                   -500.061431  \n",
       "75%                                   -499.536466  \n",
       "max                                   -104.427459  "
      ]
     },
     "metadata": {},
     "output_type": "display_data"
    },
    {
     "data": {
      "text/plain": [
       "secondary_cleaner.output.tail_sol                     1605\n",
       "rougher.state.floatbank10_e_air                        436\n",
       "rougher.input.floatbank11_xanthate                     428\n",
       "primary_cleaner.output.concentrate_sol                 286\n",
       "secondary_cleaner.state.floatbank2_a_air               217\n",
       "final.output.concentrate_sol                           211\n",
       "rougher.input.feed_size                                144\n",
       "rougher.input.feed_pb                                  100\n",
       "final.output.tail_pb                                   100\n",
       "primary_cleaner.input.xanthate                         100\n",
       "primary_cleaner.output.concentrate_pb                   86\n",
       "rougher.input.feed_sol                                  78\n",
       "primary_cleaner.output.tail_sol                         46\n",
       "rougher.input.floatbank11_sulfate                       36\n",
       "primary_cleaner.input.depressant                        32\n",
       "rougher.input.floatbank10_sulfate                       29\n",
       "rougher.output.concentrate_sol                          22\n",
       "secondary_cleaner.state.floatbank2_b_air                21\n",
       "primary_cleaner.input.sulfate                           20\n",
       "primary_cleaner.output.tail_pb                          15\n",
       "secondary_cleaner.output.tail_pb                        10\n",
       "rougher.input.floatbank10_xanthate                       8\n",
       "rougher.input.feed_rate                                  8\n",
       "secondary_cleaner.state.floatbank4_a_air                 6\n",
       "final.output.tail_sol                                    5\n",
       "primary_cleaner.state.floatbank8_b_air                   4\n",
       "primary_cleaner.state.floatbank8_a_air                   4\n",
       "secondary_cleaner.state.floatbank3_a_air                 4\n",
       "primary_cleaner.state.floatbank8_d_air                   3\n",
       "secondary_cleaner.output.tail_ag                         2\n",
       "secondary_cleaner.state.floatbank6_a_air                 2\n",
       "primary_cleaner.state.floatbank8_c_air                   2\n",
       "rougher.state.floatbank10_c_level                        1\n",
       "rougher.state.floatbank10_c_air                          1\n",
       "rougher.state.floatbank10_b_level                        1\n",
       "rougher.state.floatbank10_b_air                          1\n",
       "final.output.concentrate_ag                              1\n",
       "secondary_cleaner.state.floatbank2_a_level               1\n",
       "secondary_cleaner.state.floatbank2_b_level               1\n",
       "secondary_cleaner.state.floatbank3_a_level               1\n",
       "rougher.state.floatbank10_a_air                          1\n",
       "secondary_cleaner.state.floatbank3_b_air                 1\n",
       "secondary_cleaner.state.floatbank3_b_level               1\n",
       "secondary_cleaner.state.floatbank4_a_level               1\n",
       "secondary_cleaner.state.floatbank4_b_air                 1\n",
       "secondary_cleaner.state.floatbank4_b_level               1\n",
       "secondary_cleaner.state.floatbank5_a_air                 1\n",
       "secondary_cleaner.state.floatbank5_a_level               1\n",
       "secondary_cleaner.state.floatbank5_b_air                 1\n",
       "secondary_cleaner.state.floatbank5_b_level               1\n",
       "rougher.state.floatbank10_a_level                        1\n",
       "secondary_cleaner.state.floatbank6_a_level               1\n",
       "rougher.calculation.floatbank11_sulfate_to_au_feed       1\n",
       "rougher.calculation.floatbank10_sulfate_to_au_feed       1\n",
       "primary_cleaner.state.floatbank8_d_level                 1\n",
       "primary_cleaner.state.floatbank8_c_level                 1\n",
       "primary_cleaner.state.floatbank8_b_level                 1\n",
       "primary_cleaner.state.floatbank8_a_level                 1\n",
       "final.output.concentrate_pb                              1\n",
       "primary_cleaner.output.tail_ag                           1\n",
       "rougher.calculation.sulfate_to_au_concentrate            1\n",
       "rougher.output.tail_ag                                   1\n",
       "primary_cleaner.output.concentrate_ag                    0\n",
       "primary_cleaner.input.feed_size                          0\n",
       "primary_cleaner.output.tail_au                           0\n",
       "final.output.tail_au                                     0\n",
       "final.output.tail_ag                                     0\n",
       "final.output.recovery                                    0\n",
       "final.output.concentrate_au                              0\n",
       "primary_cleaner.output.concentrate_au                    0\n",
       "rougher.output.tail_au                                   0\n",
       "rougher.output.tail_sol                                  0\n",
       "rougher.calculation.au_pb_ratio                          0\n",
       "secondary_cleaner.output.tail_au                         0\n",
       "rougher.input.feed_ag                                    0\n",
       "rougher.input.feed_au                                    0\n",
       "rougher.state.floatbank10_f_level                        0\n",
       "rougher.state.floatbank10_f_air                          0\n",
       "rougher.state.floatbank10_e_level                        0\n",
       "rougher.output.concentrate_pb                            0\n",
       "rougher.state.floatbank10_d_level                        0\n",
       "rougher.state.floatbank10_d_air                          0\n",
       "rougher.output.concentrate_au                            0\n",
       "rougher.output.recovery                                  0\n",
       "rougher.output.tail_pb                                   0\n",
       "rougher.output.concentrate_ag                            0\n",
       "dtype: int64"
      ]
     },
     "metadata": {},
     "output_type": "display_data"
    },
    {
     "name": "stdout",
     "output_type": "stream",
     "text": [
      "<class 'pandas.core.frame.DataFrame'>\n",
      "Index: 14149 entries, 2016-01-15 00:00:00 to 2018-08-18 10:59:59\n",
      "Data columns (total 86 columns):\n",
      " #   Column                                              Non-Null Count  Dtype  \n",
      "---  ------                                              --------------  -----  \n",
      " 0   final.output.concentrate_ag                         14148 non-null  float64\n",
      " 1   final.output.concentrate_pb                         14148 non-null  float64\n",
      " 2   final.output.concentrate_sol                        13938 non-null  float64\n",
      " 3   final.output.concentrate_au                         14149 non-null  float64\n",
      " 4   final.output.recovery                               14149 non-null  float64\n",
      " 5   final.output.tail_ag                                14149 non-null  float64\n",
      " 6   final.output.tail_pb                                14049 non-null  float64\n",
      " 7   final.output.tail_sol                               14144 non-null  float64\n",
      " 8   final.output.tail_au                                14149 non-null  float64\n",
      " 9   primary_cleaner.input.sulfate                       14129 non-null  float64\n",
      " 10  primary_cleaner.input.depressant                    14117 non-null  float64\n",
      " 11  primary_cleaner.input.feed_size                     14149 non-null  float64\n",
      " 12  primary_cleaner.input.xanthate                      14049 non-null  float64\n",
      " 13  primary_cleaner.output.concentrate_ag               14149 non-null  float64\n",
      " 14  primary_cleaner.output.concentrate_pb               14063 non-null  float64\n",
      " 15  primary_cleaner.output.concentrate_sol              13863 non-null  float64\n",
      " 16  primary_cleaner.output.concentrate_au               14149 non-null  float64\n",
      " 17  primary_cleaner.output.tail_ag                      14148 non-null  float64\n",
      " 18  primary_cleaner.output.tail_pb                      14134 non-null  float64\n",
      " 19  primary_cleaner.output.tail_sol                     14103 non-null  float64\n",
      " 20  primary_cleaner.output.tail_au                      14149 non-null  float64\n",
      " 21  primary_cleaner.state.floatbank8_a_air              14145 non-null  float64\n",
      " 22  primary_cleaner.state.floatbank8_a_level            14148 non-null  float64\n",
      " 23  primary_cleaner.state.floatbank8_b_air              14145 non-null  float64\n",
      " 24  primary_cleaner.state.floatbank8_b_level            14148 non-null  float64\n",
      " 25  primary_cleaner.state.floatbank8_c_air              14147 non-null  float64\n",
      " 26  primary_cleaner.state.floatbank8_c_level            14148 non-null  float64\n",
      " 27  primary_cleaner.state.floatbank8_d_air              14146 non-null  float64\n",
      " 28  primary_cleaner.state.floatbank8_d_level            14148 non-null  float64\n",
      " 29  rougher.calculation.sulfate_to_au_concentrate       14148 non-null  float64\n",
      " 30  rougher.calculation.floatbank10_sulfate_to_au_feed  14148 non-null  float64\n",
      " 31  rougher.calculation.floatbank11_sulfate_to_au_feed  14148 non-null  float64\n",
      " 32  rougher.calculation.au_pb_ratio                     14149 non-null  float64\n",
      " 33  rougher.input.feed_ag                               14149 non-null  float64\n",
      " 34  rougher.input.feed_pb                               14049 non-null  float64\n",
      " 35  rougher.input.feed_rate                             14141 non-null  float64\n",
      " 36  rougher.input.feed_size                             14005 non-null  float64\n",
      " 37  rougher.input.feed_sol                              14071 non-null  float64\n",
      " 38  rougher.input.feed_au                               14149 non-null  float64\n",
      " 39  rougher.input.floatbank10_sulfate                   14120 non-null  float64\n",
      " 40  rougher.input.floatbank10_xanthate                  14141 non-null  float64\n",
      " 41  rougher.input.floatbank11_sulfate                   14113 non-null  float64\n",
      " 42  rougher.input.floatbank11_xanthate                  13721 non-null  float64\n",
      " 43  rougher.output.concentrate_ag                       14149 non-null  float64\n",
      " 44  rougher.output.concentrate_pb                       14149 non-null  float64\n",
      " 45  rougher.output.concentrate_sol                      14127 non-null  float64\n",
      " 46  rougher.output.concentrate_au                       14149 non-null  float64\n",
      " 47  rougher.output.recovery                             14149 non-null  float64\n",
      " 48  rougher.output.tail_ag                              14148 non-null  float64\n",
      " 49  rougher.output.tail_pb                              14149 non-null  float64\n",
      " 50  rougher.output.tail_sol                             14149 non-null  float64\n",
      " 51  rougher.output.tail_au                              14149 non-null  float64\n",
      " 52  rougher.state.floatbank10_a_air                     14148 non-null  float64\n",
      " 53  rougher.state.floatbank10_a_level                   14148 non-null  float64\n",
      " 54  rougher.state.floatbank10_b_air                     14148 non-null  float64\n",
      " 55  rougher.state.floatbank10_b_level                   14148 non-null  float64\n",
      " 56  rougher.state.floatbank10_c_air                     14148 non-null  float64\n",
      " 57  rougher.state.floatbank10_c_level                   14148 non-null  float64\n",
      " 58  rougher.state.floatbank10_d_air                     14149 non-null  float64\n",
      " 59  rougher.state.floatbank10_d_level                   14149 non-null  float64\n",
      " 60  rougher.state.floatbank10_e_air                     13713 non-null  float64\n",
      " 61  rougher.state.floatbank10_e_level                   14149 non-null  float64\n",
      " 62  rougher.state.floatbank10_f_air                     14149 non-null  float64\n",
      " 63  rougher.state.floatbank10_f_level                   14149 non-null  float64\n",
      " 64  secondary_cleaner.output.tail_ag                    14147 non-null  float64\n",
      " 65  secondary_cleaner.output.tail_pb                    14139 non-null  float64\n",
      " 66  secondary_cleaner.output.tail_sol                   12544 non-null  float64\n",
      " 67  secondary_cleaner.output.tail_au                    14149 non-null  float64\n",
      " 68  secondary_cleaner.state.floatbank2_a_air            13932 non-null  float64\n",
      " 69  secondary_cleaner.state.floatbank2_a_level          14148 non-null  float64\n",
      " 70  secondary_cleaner.state.floatbank2_b_air            14128 non-null  float64\n",
      " 71  secondary_cleaner.state.floatbank2_b_level          14148 non-null  float64\n",
      " 72  secondary_cleaner.state.floatbank3_a_air            14145 non-null  float64\n",
      " 73  secondary_cleaner.state.floatbank3_a_level          14148 non-null  float64\n",
      " 74  secondary_cleaner.state.floatbank3_b_air            14148 non-null  float64\n",
      " 75  secondary_cleaner.state.floatbank3_b_level          14148 non-null  float64\n",
      " 76  secondary_cleaner.state.floatbank4_a_air            14143 non-null  float64\n",
      " 77  secondary_cleaner.state.floatbank4_a_level          14148 non-null  float64\n",
      " 78  secondary_cleaner.state.floatbank4_b_air            14148 non-null  float64\n",
      " 79  secondary_cleaner.state.floatbank4_b_level          14148 non-null  float64\n",
      " 80  secondary_cleaner.state.floatbank5_a_air            14148 non-null  float64\n",
      " 81  secondary_cleaner.state.floatbank5_a_level          14148 non-null  float64\n",
      " 82  secondary_cleaner.state.floatbank5_b_air            14148 non-null  float64\n",
      " 83  secondary_cleaner.state.floatbank5_b_level          14148 non-null  float64\n",
      " 84  secondary_cleaner.state.floatbank6_a_air            14147 non-null  float64\n",
      " 85  secondary_cleaner.state.floatbank6_a_level          14148 non-null  float64\n",
      "dtypes: float64(86)\n",
      "memory usage: 9.4+ MB\n"
     ]
    },
    {
     "data": {
      "text/plain": [
       "None"
      ]
     },
     "metadata": {},
     "output_type": "display_data"
    }
   ],
   "source": [
    "opening(data_train)#получим информацию о тренировочной выборке"
   ]
  },
  {
   "cell_type": "code",
   "execution_count": 5,
   "metadata": {
    "scrolled": true
   },
   "outputs": [
    {
     "data": {
      "text/html": [
       "<div>\n",
       "<style scoped>\n",
       "    .dataframe tbody tr th:only-of-type {\n",
       "        vertical-align: middle;\n",
       "    }\n",
       "\n",
       "    .dataframe tbody tr th {\n",
       "        vertical-align: top;\n",
       "    }\n",
       "\n",
       "    .dataframe thead th {\n",
       "        text-align: right;\n",
       "    }\n",
       "</style>\n",
       "<table border=\"1\" class=\"dataframe\">\n",
       "  <thead>\n",
       "    <tr style=\"text-align: right;\">\n",
       "      <th></th>\n",
       "      <th>primary_cleaner.input.sulfate</th>\n",
       "      <th>primary_cleaner.input.depressant</th>\n",
       "      <th>primary_cleaner.input.feed_size</th>\n",
       "      <th>primary_cleaner.input.xanthate</th>\n",
       "      <th>primary_cleaner.state.floatbank8_a_air</th>\n",
       "      <th>primary_cleaner.state.floatbank8_a_level</th>\n",
       "      <th>primary_cleaner.state.floatbank8_b_air</th>\n",
       "      <th>primary_cleaner.state.floatbank8_b_level</th>\n",
       "      <th>primary_cleaner.state.floatbank8_c_air</th>\n",
       "      <th>primary_cleaner.state.floatbank8_c_level</th>\n",
       "      <th>primary_cleaner.state.floatbank8_d_air</th>\n",
       "      <th>primary_cleaner.state.floatbank8_d_level</th>\n",
       "      <th>rougher.input.feed_ag</th>\n",
       "      <th>rougher.input.feed_pb</th>\n",
       "      <th>rougher.input.feed_rate</th>\n",
       "      <th>rougher.input.feed_size</th>\n",
       "      <th>rougher.input.feed_sol</th>\n",
       "      <th>rougher.input.feed_au</th>\n",
       "      <th>rougher.input.floatbank10_sulfate</th>\n",
       "      <th>rougher.input.floatbank10_xanthate</th>\n",
       "      <th>rougher.input.floatbank11_sulfate</th>\n",
       "      <th>rougher.input.floatbank11_xanthate</th>\n",
       "      <th>rougher.state.floatbank10_a_air</th>\n",
       "      <th>rougher.state.floatbank10_a_level</th>\n",
       "      <th>rougher.state.floatbank10_b_air</th>\n",
       "      <th>rougher.state.floatbank10_b_level</th>\n",
       "      <th>rougher.state.floatbank10_c_air</th>\n",
       "      <th>rougher.state.floatbank10_c_level</th>\n",
       "      <th>rougher.state.floatbank10_d_air</th>\n",
       "      <th>rougher.state.floatbank10_d_level</th>\n",
       "      <th>rougher.state.floatbank10_e_air</th>\n",
       "      <th>rougher.state.floatbank10_e_level</th>\n",
       "      <th>rougher.state.floatbank10_f_air</th>\n",
       "      <th>rougher.state.floatbank10_f_level</th>\n",
       "      <th>secondary_cleaner.state.floatbank2_a_air</th>\n",
       "      <th>secondary_cleaner.state.floatbank2_a_level</th>\n",
       "      <th>secondary_cleaner.state.floatbank2_b_air</th>\n",
       "      <th>secondary_cleaner.state.floatbank2_b_level</th>\n",
       "      <th>secondary_cleaner.state.floatbank3_a_air</th>\n",
       "      <th>secondary_cleaner.state.floatbank3_a_level</th>\n",
       "      <th>secondary_cleaner.state.floatbank3_b_air</th>\n",
       "      <th>secondary_cleaner.state.floatbank3_b_level</th>\n",
       "      <th>secondary_cleaner.state.floatbank4_a_air</th>\n",
       "      <th>secondary_cleaner.state.floatbank4_a_level</th>\n",
       "      <th>secondary_cleaner.state.floatbank4_b_air</th>\n",
       "      <th>secondary_cleaner.state.floatbank4_b_level</th>\n",
       "      <th>secondary_cleaner.state.floatbank5_a_air</th>\n",
       "      <th>secondary_cleaner.state.floatbank5_a_level</th>\n",
       "      <th>secondary_cleaner.state.floatbank5_b_air</th>\n",
       "      <th>secondary_cleaner.state.floatbank5_b_level</th>\n",
       "      <th>secondary_cleaner.state.floatbank6_a_air</th>\n",
       "      <th>secondary_cleaner.state.floatbank6_a_level</th>\n",
       "    </tr>\n",
       "    <tr>\n",
       "      <th>date</th>\n",
       "      <th></th>\n",
       "      <th></th>\n",
       "      <th></th>\n",
       "      <th></th>\n",
       "      <th></th>\n",
       "      <th></th>\n",
       "      <th></th>\n",
       "      <th></th>\n",
       "      <th></th>\n",
       "      <th></th>\n",
       "      <th></th>\n",
       "      <th></th>\n",
       "      <th></th>\n",
       "      <th></th>\n",
       "      <th></th>\n",
       "      <th></th>\n",
       "      <th></th>\n",
       "      <th></th>\n",
       "      <th></th>\n",
       "      <th></th>\n",
       "      <th></th>\n",
       "      <th></th>\n",
       "      <th></th>\n",
       "      <th></th>\n",
       "      <th></th>\n",
       "      <th></th>\n",
       "      <th></th>\n",
       "      <th></th>\n",
       "      <th></th>\n",
       "      <th></th>\n",
       "      <th></th>\n",
       "      <th></th>\n",
       "      <th></th>\n",
       "      <th></th>\n",
       "      <th></th>\n",
       "      <th></th>\n",
       "      <th></th>\n",
       "      <th></th>\n",
       "      <th></th>\n",
       "      <th></th>\n",
       "      <th></th>\n",
       "      <th></th>\n",
       "      <th></th>\n",
       "      <th></th>\n",
       "      <th></th>\n",
       "      <th></th>\n",
       "      <th></th>\n",
       "      <th></th>\n",
       "      <th></th>\n",
       "      <th></th>\n",
       "      <th></th>\n",
       "      <th></th>\n",
       "    </tr>\n",
       "  </thead>\n",
       "  <tbody>\n",
       "    <tr>\n",
       "      <th>2016-09-01 00:59:59</th>\n",
       "      <td>210.800909</td>\n",
       "      <td>14.993118</td>\n",
       "      <td>8.080000</td>\n",
       "      <td>1.005021</td>\n",
       "      <td>1398.981301</td>\n",
       "      <td>-500.225577</td>\n",
       "      <td>1399.144926</td>\n",
       "      <td>-499.919735</td>\n",
       "      <td>1400.102998</td>\n",
       "      <td>-500.704369</td>\n",
       "      <td>1399.001695</td>\n",
       "      <td>-499.485144</td>\n",
       "      <td>13.128569</td>\n",
       "      <td>5.636710</td>\n",
       "      <td>489.793655</td>\n",
       "      <td>62.710452</td>\n",
       "      <td>42.022440</td>\n",
       "      <td>12.084103</td>\n",
       "      <td>16.922877</td>\n",
       "      <td>6.153479</td>\n",
       "      <td>16.867518</td>\n",
       "      <td>6.150709</td>\n",
       "      <td>1001.849317</td>\n",
       "      <td>-350.301265</td>\n",
       "      <td>1249.738612</td>\n",
       "      <td>-399.107531</td>\n",
       "      <td>1249.750520</td>\n",
       "      <td>-399.396730</td>\n",
       "      <td>1198.287855</td>\n",
       "      <td>-399.488594</td>\n",
       "      <td>999.472250</td>\n",
       "      <td>-399.530962</td>\n",
       "      <td>949.566189</td>\n",
       "      <td>-398.180807</td>\n",
       "      <td>24.938200</td>\n",
       "      <td>-500.490963</td>\n",
       "      <td>14.947607</td>\n",
       "      <td>-500.013837</td>\n",
       "      <td>20.018166</td>\n",
       "      <td>-450.395995</td>\n",
       "      <td>13.987058</td>\n",
       "      <td>-449.831513</td>\n",
       "      <td>12.023554</td>\n",
       "      <td>-497.795834</td>\n",
       "      <td>8.016656</td>\n",
       "      <td>-501.289139</td>\n",
       "      <td>7.946562</td>\n",
       "      <td>-432.317850</td>\n",
       "      <td>4.872511</td>\n",
       "      <td>-500.037437</td>\n",
       "      <td>26.705889</td>\n",
       "      <td>-499.709414</td>\n",
       "    </tr>\n",
       "    <tr>\n",
       "      <th>2016-09-01 01:59:59</th>\n",
       "      <td>215.392455</td>\n",
       "      <td>14.987471</td>\n",
       "      <td>8.080000</td>\n",
       "      <td>0.990469</td>\n",
       "      <td>1398.777912</td>\n",
       "      <td>-500.057435</td>\n",
       "      <td>1398.055362</td>\n",
       "      <td>-499.778182</td>\n",
       "      <td>1396.151033</td>\n",
       "      <td>-499.240168</td>\n",
       "      <td>1399.508091</td>\n",
       "      <td>-500.416324</td>\n",
       "      <td>13.036280</td>\n",
       "      <td>5.526065</td>\n",
       "      <td>490.104534</td>\n",
       "      <td>61.961163</td>\n",
       "      <td>41.187903</td>\n",
       "      <td>11.918977</td>\n",
       "      <td>17.002532</td>\n",
       "      <td>5.999043</td>\n",
       "      <td>16.996063</td>\n",
       "      <td>6.002315</td>\n",
       "      <td>998.690785</td>\n",
       "      <td>-350.425704</td>\n",
       "      <td>1248.395457</td>\n",
       "      <td>-399.946025</td>\n",
       "      <td>1249.514451</td>\n",
       "      <td>-399.630810</td>\n",
       "      <td>1200.506459</td>\n",
       "      <td>-399.942434</td>\n",
       "      <td>1000.002114</td>\n",
       "      <td>-399.491528</td>\n",
       "      <td>950.200009</td>\n",
       "      <td>-405.787514</td>\n",
       "      <td>24.923466</td>\n",
       "      <td>-499.813963</td>\n",
       "      <td>14.930873</td>\n",
       "      <td>-500.764452</td>\n",
       "      <td>19.988503</td>\n",
       "      <td>-450.114024</td>\n",
       "      <td>14.092981</td>\n",
       "      <td>-450.059163</td>\n",
       "      <td>12.058140</td>\n",
       "      <td>-498.695773</td>\n",
       "      <td>8.130979</td>\n",
       "      <td>-499.634209</td>\n",
       "      <td>7.958270</td>\n",
       "      <td>-525.839648</td>\n",
       "      <td>4.878850</td>\n",
       "      <td>-500.162375</td>\n",
       "      <td>25.019940</td>\n",
       "      <td>-499.819438</td>\n",
       "    </tr>\n",
       "    <tr>\n",
       "      <th>2016-09-01 02:59:59</th>\n",
       "      <td>215.259946</td>\n",
       "      <td>12.884934</td>\n",
       "      <td>7.786667</td>\n",
       "      <td>0.996043</td>\n",
       "      <td>1398.493666</td>\n",
       "      <td>-500.868360</td>\n",
       "      <td>1398.860436</td>\n",
       "      <td>-499.764529</td>\n",
       "      <td>1398.075709</td>\n",
       "      <td>-502.151509</td>\n",
       "      <td>1399.497088</td>\n",
       "      <td>-499.715479</td>\n",
       "      <td>13.138412</td>\n",
       "      <td>5.426561</td>\n",
       "      <td>489.617969</td>\n",
       "      <td>66.903807</td>\n",
       "      <td>42.546294</td>\n",
       "      <td>12.091332</td>\n",
       "      <td>16.992520</td>\n",
       "      <td>5.850632</td>\n",
       "      <td>16.982096</td>\n",
       "      <td>5.853594</td>\n",
       "      <td>998.516720</td>\n",
       "      <td>-349.783538</td>\n",
       "      <td>1247.440748</td>\n",
       "      <td>-400.264330</td>\n",
       "      <td>1248.207204</td>\n",
       "      <td>-401.074405</td>\n",
       "      <td>1199.770026</td>\n",
       "      <td>-400.790582</td>\n",
       "      <td>999.925519</td>\n",
       "      <td>-399.236999</td>\n",
       "      <td>950.320481</td>\n",
       "      <td>-400.864340</td>\n",
       "      <td>24.908732</td>\n",
       "      <td>-500.304035</td>\n",
       "      <td>14.996511</td>\n",
       "      <td>-500.993821</td>\n",
       "      <td>20.039689</td>\n",
       "      <td>-450.263164</td>\n",
       "      <td>14.077881</td>\n",
       "      <td>-449.660997</td>\n",
       "      <td>11.962366</td>\n",
       "      <td>-498.767484</td>\n",
       "      <td>8.096893</td>\n",
       "      <td>-500.827423</td>\n",
       "      <td>8.071056</td>\n",
       "      <td>-500.801673</td>\n",
       "      <td>4.905125</td>\n",
       "      <td>-499.828510</td>\n",
       "      <td>24.994862</td>\n",
       "      <td>-500.622559</td>\n",
       "    </tr>\n",
       "    <tr>\n",
       "      <th>2016-09-01 03:59:59</th>\n",
       "      <td>215.336236</td>\n",
       "      <td>12.006805</td>\n",
       "      <td>7.640000</td>\n",
       "      <td>0.863514</td>\n",
       "      <td>1399.618111</td>\n",
       "      <td>-498.863574</td>\n",
       "      <td>1397.440120</td>\n",
       "      <td>-499.211024</td>\n",
       "      <td>1400.129303</td>\n",
       "      <td>-498.355873</td>\n",
       "      <td>1401.065165</td>\n",
       "      <td>-501.038738</td>\n",
       "      <td>12.400507</td>\n",
       "      <td>5.114758</td>\n",
       "      <td>476.618130</td>\n",
       "      <td>59.865919</td>\n",
       "      <td>41.060195</td>\n",
       "      <td>12.181597</td>\n",
       "      <td>16.532144</td>\n",
       "      <td>5.801935</td>\n",
       "      <td>16.515277</td>\n",
       "      <td>5.803657</td>\n",
       "      <td>1000.276604</td>\n",
       "      <td>-350.172597</td>\n",
       "      <td>1251.322675</td>\n",
       "      <td>-398.655289</td>\n",
       "      <td>1250.493702</td>\n",
       "      <td>-399.746728</td>\n",
       "      <td>1199.398691</td>\n",
       "      <td>-397.503052</td>\n",
       "      <td>1001.930679</td>\n",
       "      <td>-400.437573</td>\n",
       "      <td>950.735324</td>\n",
       "      <td>-399.802986</td>\n",
       "      <td>24.893998</td>\n",
       "      <td>-499.382374</td>\n",
       "      <td>14.916674</td>\n",
       "      <td>-499.862299</td>\n",
       "      <td>20.031100</td>\n",
       "      <td>-449.372570</td>\n",
       "      <td>14.013968</td>\n",
       "      <td>-449.526900</td>\n",
       "      <td>12.033091</td>\n",
       "      <td>-498.350935</td>\n",
       "      <td>8.074946</td>\n",
       "      <td>-499.474407</td>\n",
       "      <td>7.897085</td>\n",
       "      <td>-500.868509</td>\n",
       "      <td>4.931400</td>\n",
       "      <td>-499.963623</td>\n",
       "      <td>24.948919</td>\n",
       "      <td>-498.709987</td>\n",
       "    </tr>\n",
       "    <tr>\n",
       "      <th>2016-09-01 04:59:59</th>\n",
       "      <td>199.099327</td>\n",
       "      <td>10.682530</td>\n",
       "      <td>7.530000</td>\n",
       "      <td>0.805575</td>\n",
       "      <td>1401.268123</td>\n",
       "      <td>-500.808305</td>\n",
       "      <td>1398.128818</td>\n",
       "      <td>-499.504543</td>\n",
       "      <td>1402.172226</td>\n",
       "      <td>-500.810606</td>\n",
       "      <td>1399.480508</td>\n",
       "      <td>-499.374053</td>\n",
       "      <td>11.327427</td>\n",
       "      <td>4.767383</td>\n",
       "      <td>488.248117</td>\n",
       "      <td>63.315324</td>\n",
       "      <td>41.269161</td>\n",
       "      <td>11.290425</td>\n",
       "      <td>13.607257</td>\n",
       "      <td>5.738081</td>\n",
       "      <td>13.650053</td>\n",
       "      <td>5.739634</td>\n",
       "      <td>996.541302</td>\n",
       "      <td>-350.562517</td>\n",
       "      <td>1304.658848</td>\n",
       "      <td>-399.511519</td>\n",
       "      <td>1306.455515</td>\n",
       "      <td>-399.050685</td>\n",
       "      <td>1248.699349</td>\n",
       "      <td>-400.876894</td>\n",
       "      <td>1058.839106</td>\n",
       "      <td>-398.988239</td>\n",
       "      <td>949.645313</td>\n",
       "      <td>-399.277632</td>\n",
       "      <td>24.886905</td>\n",
       "      <td>-499.357375</td>\n",
       "      <td>14.979233</td>\n",
       "      <td>-500.186804</td>\n",
       "      <td>19.962364</td>\n",
       "      <td>-450.638828</td>\n",
       "      <td>14.009245</td>\n",
       "      <td>-450.022259</td>\n",
       "      <td>12.025367</td>\n",
       "      <td>-500.786497</td>\n",
       "      <td>8.054678</td>\n",
       "      <td>-500.397500</td>\n",
       "      <td>8.107890</td>\n",
       "      <td>-509.526725</td>\n",
       "      <td>4.957674</td>\n",
       "      <td>-500.360026</td>\n",
       "      <td>25.003331</td>\n",
       "      <td>-500.856333</td>\n",
       "    </tr>\n",
       "  </tbody>\n",
       "</table>\n",
       "</div>"
      ],
      "text/plain": [
       "                     primary_cleaner.input.sulfate  \\\n",
       "date                                                 \n",
       "2016-09-01 00:59:59                     210.800909   \n",
       "2016-09-01 01:59:59                     215.392455   \n",
       "2016-09-01 02:59:59                     215.259946   \n",
       "2016-09-01 03:59:59                     215.336236   \n",
       "2016-09-01 04:59:59                     199.099327   \n",
       "\n",
       "                     primary_cleaner.input.depressant  \\\n",
       "date                                                    \n",
       "2016-09-01 00:59:59                         14.993118   \n",
       "2016-09-01 01:59:59                         14.987471   \n",
       "2016-09-01 02:59:59                         12.884934   \n",
       "2016-09-01 03:59:59                         12.006805   \n",
       "2016-09-01 04:59:59                         10.682530   \n",
       "\n",
       "                     primary_cleaner.input.feed_size  \\\n",
       "date                                                   \n",
       "2016-09-01 00:59:59                         8.080000   \n",
       "2016-09-01 01:59:59                         8.080000   \n",
       "2016-09-01 02:59:59                         7.786667   \n",
       "2016-09-01 03:59:59                         7.640000   \n",
       "2016-09-01 04:59:59                         7.530000   \n",
       "\n",
       "                     primary_cleaner.input.xanthate  \\\n",
       "date                                                  \n",
       "2016-09-01 00:59:59                        1.005021   \n",
       "2016-09-01 01:59:59                        0.990469   \n",
       "2016-09-01 02:59:59                        0.996043   \n",
       "2016-09-01 03:59:59                        0.863514   \n",
       "2016-09-01 04:59:59                        0.805575   \n",
       "\n",
       "                     primary_cleaner.state.floatbank8_a_air  \\\n",
       "date                                                          \n",
       "2016-09-01 00:59:59                             1398.981301   \n",
       "2016-09-01 01:59:59                             1398.777912   \n",
       "2016-09-01 02:59:59                             1398.493666   \n",
       "2016-09-01 03:59:59                             1399.618111   \n",
       "2016-09-01 04:59:59                             1401.268123   \n",
       "\n",
       "                     primary_cleaner.state.floatbank8_a_level  \\\n",
       "date                                                            \n",
       "2016-09-01 00:59:59                               -500.225577   \n",
       "2016-09-01 01:59:59                               -500.057435   \n",
       "2016-09-01 02:59:59                               -500.868360   \n",
       "2016-09-01 03:59:59                               -498.863574   \n",
       "2016-09-01 04:59:59                               -500.808305   \n",
       "\n",
       "                     primary_cleaner.state.floatbank8_b_air  \\\n",
       "date                                                          \n",
       "2016-09-01 00:59:59                             1399.144926   \n",
       "2016-09-01 01:59:59                             1398.055362   \n",
       "2016-09-01 02:59:59                             1398.860436   \n",
       "2016-09-01 03:59:59                             1397.440120   \n",
       "2016-09-01 04:59:59                             1398.128818   \n",
       "\n",
       "                     primary_cleaner.state.floatbank8_b_level  \\\n",
       "date                                                            \n",
       "2016-09-01 00:59:59                               -499.919735   \n",
       "2016-09-01 01:59:59                               -499.778182   \n",
       "2016-09-01 02:59:59                               -499.764529   \n",
       "2016-09-01 03:59:59                               -499.211024   \n",
       "2016-09-01 04:59:59                               -499.504543   \n",
       "\n",
       "                     primary_cleaner.state.floatbank8_c_air  \\\n",
       "date                                                          \n",
       "2016-09-01 00:59:59                             1400.102998   \n",
       "2016-09-01 01:59:59                             1396.151033   \n",
       "2016-09-01 02:59:59                             1398.075709   \n",
       "2016-09-01 03:59:59                             1400.129303   \n",
       "2016-09-01 04:59:59                             1402.172226   \n",
       "\n",
       "                     primary_cleaner.state.floatbank8_c_level  \\\n",
       "date                                                            \n",
       "2016-09-01 00:59:59                               -500.704369   \n",
       "2016-09-01 01:59:59                               -499.240168   \n",
       "2016-09-01 02:59:59                               -502.151509   \n",
       "2016-09-01 03:59:59                               -498.355873   \n",
       "2016-09-01 04:59:59                               -500.810606   \n",
       "\n",
       "                     primary_cleaner.state.floatbank8_d_air  \\\n",
       "date                                                          \n",
       "2016-09-01 00:59:59                             1399.001695   \n",
       "2016-09-01 01:59:59                             1399.508091   \n",
       "2016-09-01 02:59:59                             1399.497088   \n",
       "2016-09-01 03:59:59                             1401.065165   \n",
       "2016-09-01 04:59:59                             1399.480508   \n",
       "\n",
       "                     primary_cleaner.state.floatbank8_d_level  \\\n",
       "date                                                            \n",
       "2016-09-01 00:59:59                               -499.485144   \n",
       "2016-09-01 01:59:59                               -500.416324   \n",
       "2016-09-01 02:59:59                               -499.715479   \n",
       "2016-09-01 03:59:59                               -501.038738   \n",
       "2016-09-01 04:59:59                               -499.374053   \n",
       "\n",
       "                     rougher.input.feed_ag  rougher.input.feed_pb  \\\n",
       "date                                                                \n",
       "2016-09-01 00:59:59              13.128569               5.636710   \n",
       "2016-09-01 01:59:59              13.036280               5.526065   \n",
       "2016-09-01 02:59:59              13.138412               5.426561   \n",
       "2016-09-01 03:59:59              12.400507               5.114758   \n",
       "2016-09-01 04:59:59              11.327427               4.767383   \n",
       "\n",
       "                     rougher.input.feed_rate  rougher.input.feed_size  \\\n",
       "date                                                                    \n",
       "2016-09-01 00:59:59               489.793655                62.710452   \n",
       "2016-09-01 01:59:59               490.104534                61.961163   \n",
       "2016-09-01 02:59:59               489.617969                66.903807   \n",
       "2016-09-01 03:59:59               476.618130                59.865919   \n",
       "2016-09-01 04:59:59               488.248117                63.315324   \n",
       "\n",
       "                     rougher.input.feed_sol  rougher.input.feed_au  \\\n",
       "date                                                                 \n",
       "2016-09-01 00:59:59               42.022440              12.084103   \n",
       "2016-09-01 01:59:59               41.187903              11.918977   \n",
       "2016-09-01 02:59:59               42.546294              12.091332   \n",
       "2016-09-01 03:59:59               41.060195              12.181597   \n",
       "2016-09-01 04:59:59               41.269161              11.290425   \n",
       "\n",
       "                     rougher.input.floatbank10_sulfate  \\\n",
       "date                                                     \n",
       "2016-09-01 00:59:59                          16.922877   \n",
       "2016-09-01 01:59:59                          17.002532   \n",
       "2016-09-01 02:59:59                          16.992520   \n",
       "2016-09-01 03:59:59                          16.532144   \n",
       "2016-09-01 04:59:59                          13.607257   \n",
       "\n",
       "                     rougher.input.floatbank10_xanthate  \\\n",
       "date                                                      \n",
       "2016-09-01 00:59:59                            6.153479   \n",
       "2016-09-01 01:59:59                            5.999043   \n",
       "2016-09-01 02:59:59                            5.850632   \n",
       "2016-09-01 03:59:59                            5.801935   \n",
       "2016-09-01 04:59:59                            5.738081   \n",
       "\n",
       "                     rougher.input.floatbank11_sulfate  \\\n",
       "date                                                     \n",
       "2016-09-01 00:59:59                          16.867518   \n",
       "2016-09-01 01:59:59                          16.996063   \n",
       "2016-09-01 02:59:59                          16.982096   \n",
       "2016-09-01 03:59:59                          16.515277   \n",
       "2016-09-01 04:59:59                          13.650053   \n",
       "\n",
       "                     rougher.input.floatbank11_xanthate  \\\n",
       "date                                                      \n",
       "2016-09-01 00:59:59                            6.150709   \n",
       "2016-09-01 01:59:59                            6.002315   \n",
       "2016-09-01 02:59:59                            5.853594   \n",
       "2016-09-01 03:59:59                            5.803657   \n",
       "2016-09-01 04:59:59                            5.739634   \n",
       "\n",
       "                     rougher.state.floatbank10_a_air  \\\n",
       "date                                                   \n",
       "2016-09-01 00:59:59                      1001.849317   \n",
       "2016-09-01 01:59:59                       998.690785   \n",
       "2016-09-01 02:59:59                       998.516720   \n",
       "2016-09-01 03:59:59                      1000.276604   \n",
       "2016-09-01 04:59:59                       996.541302   \n",
       "\n",
       "                     rougher.state.floatbank10_a_level  \\\n",
       "date                                                     \n",
       "2016-09-01 00:59:59                        -350.301265   \n",
       "2016-09-01 01:59:59                        -350.425704   \n",
       "2016-09-01 02:59:59                        -349.783538   \n",
       "2016-09-01 03:59:59                        -350.172597   \n",
       "2016-09-01 04:59:59                        -350.562517   \n",
       "\n",
       "                     rougher.state.floatbank10_b_air  \\\n",
       "date                                                   \n",
       "2016-09-01 00:59:59                      1249.738612   \n",
       "2016-09-01 01:59:59                      1248.395457   \n",
       "2016-09-01 02:59:59                      1247.440748   \n",
       "2016-09-01 03:59:59                      1251.322675   \n",
       "2016-09-01 04:59:59                      1304.658848   \n",
       "\n",
       "                     rougher.state.floatbank10_b_level  \\\n",
       "date                                                     \n",
       "2016-09-01 00:59:59                        -399.107531   \n",
       "2016-09-01 01:59:59                        -399.946025   \n",
       "2016-09-01 02:59:59                        -400.264330   \n",
       "2016-09-01 03:59:59                        -398.655289   \n",
       "2016-09-01 04:59:59                        -399.511519   \n",
       "\n",
       "                     rougher.state.floatbank10_c_air  \\\n",
       "date                                                   \n",
       "2016-09-01 00:59:59                      1249.750520   \n",
       "2016-09-01 01:59:59                      1249.514451   \n",
       "2016-09-01 02:59:59                      1248.207204   \n",
       "2016-09-01 03:59:59                      1250.493702   \n",
       "2016-09-01 04:59:59                      1306.455515   \n",
       "\n",
       "                     rougher.state.floatbank10_c_level  \\\n",
       "date                                                     \n",
       "2016-09-01 00:59:59                        -399.396730   \n",
       "2016-09-01 01:59:59                        -399.630810   \n",
       "2016-09-01 02:59:59                        -401.074405   \n",
       "2016-09-01 03:59:59                        -399.746728   \n",
       "2016-09-01 04:59:59                        -399.050685   \n",
       "\n",
       "                     rougher.state.floatbank10_d_air  \\\n",
       "date                                                   \n",
       "2016-09-01 00:59:59                      1198.287855   \n",
       "2016-09-01 01:59:59                      1200.506459   \n",
       "2016-09-01 02:59:59                      1199.770026   \n",
       "2016-09-01 03:59:59                      1199.398691   \n",
       "2016-09-01 04:59:59                      1248.699349   \n",
       "\n",
       "                     rougher.state.floatbank10_d_level  \\\n",
       "date                                                     \n",
       "2016-09-01 00:59:59                        -399.488594   \n",
       "2016-09-01 01:59:59                        -399.942434   \n",
       "2016-09-01 02:59:59                        -400.790582   \n",
       "2016-09-01 03:59:59                        -397.503052   \n",
       "2016-09-01 04:59:59                        -400.876894   \n",
       "\n",
       "                     rougher.state.floatbank10_e_air  \\\n",
       "date                                                   \n",
       "2016-09-01 00:59:59                       999.472250   \n",
       "2016-09-01 01:59:59                      1000.002114   \n",
       "2016-09-01 02:59:59                       999.925519   \n",
       "2016-09-01 03:59:59                      1001.930679   \n",
       "2016-09-01 04:59:59                      1058.839106   \n",
       "\n",
       "                     rougher.state.floatbank10_e_level  \\\n",
       "date                                                     \n",
       "2016-09-01 00:59:59                        -399.530962   \n",
       "2016-09-01 01:59:59                        -399.491528   \n",
       "2016-09-01 02:59:59                        -399.236999   \n",
       "2016-09-01 03:59:59                        -400.437573   \n",
       "2016-09-01 04:59:59                        -398.988239   \n",
       "\n",
       "                     rougher.state.floatbank10_f_air  \\\n",
       "date                                                   \n",
       "2016-09-01 00:59:59                       949.566189   \n",
       "2016-09-01 01:59:59                       950.200009   \n",
       "2016-09-01 02:59:59                       950.320481   \n",
       "2016-09-01 03:59:59                       950.735324   \n",
       "2016-09-01 04:59:59                       949.645313   \n",
       "\n",
       "                     rougher.state.floatbank10_f_level  \\\n",
       "date                                                     \n",
       "2016-09-01 00:59:59                        -398.180807   \n",
       "2016-09-01 01:59:59                        -405.787514   \n",
       "2016-09-01 02:59:59                        -400.864340   \n",
       "2016-09-01 03:59:59                        -399.802986   \n",
       "2016-09-01 04:59:59                        -399.277632   \n",
       "\n",
       "                     secondary_cleaner.state.floatbank2_a_air  \\\n",
       "date                                                            \n",
       "2016-09-01 00:59:59                                 24.938200   \n",
       "2016-09-01 01:59:59                                 24.923466   \n",
       "2016-09-01 02:59:59                                 24.908732   \n",
       "2016-09-01 03:59:59                                 24.893998   \n",
       "2016-09-01 04:59:59                                 24.886905   \n",
       "\n",
       "                     secondary_cleaner.state.floatbank2_a_level  \\\n",
       "date                                                              \n",
       "2016-09-01 00:59:59                                 -500.490963   \n",
       "2016-09-01 01:59:59                                 -499.813963   \n",
       "2016-09-01 02:59:59                                 -500.304035   \n",
       "2016-09-01 03:59:59                                 -499.382374   \n",
       "2016-09-01 04:59:59                                 -499.357375   \n",
       "\n",
       "                     secondary_cleaner.state.floatbank2_b_air  \\\n",
       "date                                                            \n",
       "2016-09-01 00:59:59                                 14.947607   \n",
       "2016-09-01 01:59:59                                 14.930873   \n",
       "2016-09-01 02:59:59                                 14.996511   \n",
       "2016-09-01 03:59:59                                 14.916674   \n",
       "2016-09-01 04:59:59                                 14.979233   \n",
       "\n",
       "                     secondary_cleaner.state.floatbank2_b_level  \\\n",
       "date                                                              \n",
       "2016-09-01 00:59:59                                 -500.013837   \n",
       "2016-09-01 01:59:59                                 -500.764452   \n",
       "2016-09-01 02:59:59                                 -500.993821   \n",
       "2016-09-01 03:59:59                                 -499.862299   \n",
       "2016-09-01 04:59:59                                 -500.186804   \n",
       "\n",
       "                     secondary_cleaner.state.floatbank3_a_air  \\\n",
       "date                                                            \n",
       "2016-09-01 00:59:59                                 20.018166   \n",
       "2016-09-01 01:59:59                                 19.988503   \n",
       "2016-09-01 02:59:59                                 20.039689   \n",
       "2016-09-01 03:59:59                                 20.031100   \n",
       "2016-09-01 04:59:59                                 19.962364   \n",
       "\n",
       "                     secondary_cleaner.state.floatbank3_a_level  \\\n",
       "date                                                              \n",
       "2016-09-01 00:59:59                                 -450.395995   \n",
       "2016-09-01 01:59:59                                 -450.114024   \n",
       "2016-09-01 02:59:59                                 -450.263164   \n",
       "2016-09-01 03:59:59                                 -449.372570   \n",
       "2016-09-01 04:59:59                                 -450.638828   \n",
       "\n",
       "                     secondary_cleaner.state.floatbank3_b_air  \\\n",
       "date                                                            \n",
       "2016-09-01 00:59:59                                 13.987058   \n",
       "2016-09-01 01:59:59                                 14.092981   \n",
       "2016-09-01 02:59:59                                 14.077881   \n",
       "2016-09-01 03:59:59                                 14.013968   \n",
       "2016-09-01 04:59:59                                 14.009245   \n",
       "\n",
       "                     secondary_cleaner.state.floatbank3_b_level  \\\n",
       "date                                                              \n",
       "2016-09-01 00:59:59                                 -449.831513   \n",
       "2016-09-01 01:59:59                                 -450.059163   \n",
       "2016-09-01 02:59:59                                 -449.660997   \n",
       "2016-09-01 03:59:59                                 -449.526900   \n",
       "2016-09-01 04:59:59                                 -450.022259   \n",
       "\n",
       "                     secondary_cleaner.state.floatbank4_a_air  \\\n",
       "date                                                            \n",
       "2016-09-01 00:59:59                                 12.023554   \n",
       "2016-09-01 01:59:59                                 12.058140   \n",
       "2016-09-01 02:59:59                                 11.962366   \n",
       "2016-09-01 03:59:59                                 12.033091   \n",
       "2016-09-01 04:59:59                                 12.025367   \n",
       "\n",
       "                     secondary_cleaner.state.floatbank4_a_level  \\\n",
       "date                                                              \n",
       "2016-09-01 00:59:59                                 -497.795834   \n",
       "2016-09-01 01:59:59                                 -498.695773   \n",
       "2016-09-01 02:59:59                                 -498.767484   \n",
       "2016-09-01 03:59:59                                 -498.350935   \n",
       "2016-09-01 04:59:59                                 -500.786497   \n",
       "\n",
       "                     secondary_cleaner.state.floatbank4_b_air  \\\n",
       "date                                                            \n",
       "2016-09-01 00:59:59                                  8.016656   \n",
       "2016-09-01 01:59:59                                  8.130979   \n",
       "2016-09-01 02:59:59                                  8.096893   \n",
       "2016-09-01 03:59:59                                  8.074946   \n",
       "2016-09-01 04:59:59                                  8.054678   \n",
       "\n",
       "                     secondary_cleaner.state.floatbank4_b_level  \\\n",
       "date                                                              \n",
       "2016-09-01 00:59:59                                 -501.289139   \n",
       "2016-09-01 01:59:59                                 -499.634209   \n",
       "2016-09-01 02:59:59                                 -500.827423   \n",
       "2016-09-01 03:59:59                                 -499.474407   \n",
       "2016-09-01 04:59:59                                 -500.397500   \n",
       "\n",
       "                     secondary_cleaner.state.floatbank5_a_air  \\\n",
       "date                                                            \n",
       "2016-09-01 00:59:59                                  7.946562   \n",
       "2016-09-01 01:59:59                                  7.958270   \n",
       "2016-09-01 02:59:59                                  8.071056   \n",
       "2016-09-01 03:59:59                                  7.897085   \n",
       "2016-09-01 04:59:59                                  8.107890   \n",
       "\n",
       "                     secondary_cleaner.state.floatbank5_a_level  \\\n",
       "date                                                              \n",
       "2016-09-01 00:59:59                                 -432.317850   \n",
       "2016-09-01 01:59:59                                 -525.839648   \n",
       "2016-09-01 02:59:59                                 -500.801673   \n",
       "2016-09-01 03:59:59                                 -500.868509   \n",
       "2016-09-01 04:59:59                                 -509.526725   \n",
       "\n",
       "                     secondary_cleaner.state.floatbank5_b_air  \\\n",
       "date                                                            \n",
       "2016-09-01 00:59:59                                  4.872511   \n",
       "2016-09-01 01:59:59                                  4.878850   \n",
       "2016-09-01 02:59:59                                  4.905125   \n",
       "2016-09-01 03:59:59                                  4.931400   \n",
       "2016-09-01 04:59:59                                  4.957674   \n",
       "\n",
       "                     secondary_cleaner.state.floatbank5_b_level  \\\n",
       "date                                                              \n",
       "2016-09-01 00:59:59                                 -500.037437   \n",
       "2016-09-01 01:59:59                                 -500.162375   \n",
       "2016-09-01 02:59:59                                 -499.828510   \n",
       "2016-09-01 03:59:59                                 -499.963623   \n",
       "2016-09-01 04:59:59                                 -500.360026   \n",
       "\n",
       "                     secondary_cleaner.state.floatbank6_a_air  \\\n",
       "date                                                            \n",
       "2016-09-01 00:59:59                                 26.705889   \n",
       "2016-09-01 01:59:59                                 25.019940   \n",
       "2016-09-01 02:59:59                                 24.994862   \n",
       "2016-09-01 03:59:59                                 24.948919   \n",
       "2016-09-01 04:59:59                                 25.003331   \n",
       "\n",
       "                     secondary_cleaner.state.floatbank6_a_level  \n",
       "date                                                             \n",
       "2016-09-01 00:59:59                                 -499.709414  \n",
       "2016-09-01 01:59:59                                 -499.819438  \n",
       "2016-09-01 02:59:59                                 -500.622559  \n",
       "2016-09-01 03:59:59                                 -498.709987  \n",
       "2016-09-01 04:59:59                                 -500.856333  "
      ]
     },
     "metadata": {},
     "output_type": "display_data"
    },
    {
     "data": {
      "text/html": [
       "<div>\n",
       "<style scoped>\n",
       "    .dataframe tbody tr th:only-of-type {\n",
       "        vertical-align: middle;\n",
       "    }\n",
       "\n",
       "    .dataframe tbody tr th {\n",
       "        vertical-align: top;\n",
       "    }\n",
       "\n",
       "    .dataframe thead th {\n",
       "        text-align: right;\n",
       "    }\n",
       "</style>\n",
       "<table border=\"1\" class=\"dataframe\">\n",
       "  <thead>\n",
       "    <tr style=\"text-align: right;\">\n",
       "      <th></th>\n",
       "      <th>primary_cleaner.input.sulfate</th>\n",
       "      <th>primary_cleaner.input.depressant</th>\n",
       "      <th>primary_cleaner.input.feed_size</th>\n",
       "      <th>primary_cleaner.input.xanthate</th>\n",
       "      <th>primary_cleaner.state.floatbank8_a_air</th>\n",
       "      <th>primary_cleaner.state.floatbank8_a_level</th>\n",
       "      <th>primary_cleaner.state.floatbank8_b_air</th>\n",
       "      <th>primary_cleaner.state.floatbank8_b_level</th>\n",
       "      <th>primary_cleaner.state.floatbank8_c_air</th>\n",
       "      <th>primary_cleaner.state.floatbank8_c_level</th>\n",
       "      <th>primary_cleaner.state.floatbank8_d_air</th>\n",
       "      <th>primary_cleaner.state.floatbank8_d_level</th>\n",
       "      <th>rougher.input.feed_ag</th>\n",
       "      <th>rougher.input.feed_pb</th>\n",
       "      <th>rougher.input.feed_rate</th>\n",
       "      <th>rougher.input.feed_size</th>\n",
       "      <th>rougher.input.feed_sol</th>\n",
       "      <th>rougher.input.feed_au</th>\n",
       "      <th>rougher.input.floatbank10_sulfate</th>\n",
       "      <th>rougher.input.floatbank10_xanthate</th>\n",
       "      <th>rougher.input.floatbank11_sulfate</th>\n",
       "      <th>rougher.input.floatbank11_xanthate</th>\n",
       "      <th>rougher.state.floatbank10_a_air</th>\n",
       "      <th>rougher.state.floatbank10_a_level</th>\n",
       "      <th>rougher.state.floatbank10_b_air</th>\n",
       "      <th>rougher.state.floatbank10_b_level</th>\n",
       "      <th>rougher.state.floatbank10_c_air</th>\n",
       "      <th>rougher.state.floatbank10_c_level</th>\n",
       "      <th>rougher.state.floatbank10_d_air</th>\n",
       "      <th>rougher.state.floatbank10_d_level</th>\n",
       "      <th>rougher.state.floatbank10_e_air</th>\n",
       "      <th>rougher.state.floatbank10_e_level</th>\n",
       "      <th>rougher.state.floatbank10_f_air</th>\n",
       "      <th>rougher.state.floatbank10_f_level</th>\n",
       "      <th>secondary_cleaner.state.floatbank2_a_air</th>\n",
       "      <th>secondary_cleaner.state.floatbank2_a_level</th>\n",
       "      <th>secondary_cleaner.state.floatbank2_b_air</th>\n",
       "      <th>secondary_cleaner.state.floatbank2_b_level</th>\n",
       "      <th>secondary_cleaner.state.floatbank3_a_air</th>\n",
       "      <th>secondary_cleaner.state.floatbank3_a_level</th>\n",
       "      <th>secondary_cleaner.state.floatbank3_b_air</th>\n",
       "      <th>secondary_cleaner.state.floatbank3_b_level</th>\n",
       "      <th>secondary_cleaner.state.floatbank4_a_air</th>\n",
       "      <th>secondary_cleaner.state.floatbank4_a_level</th>\n",
       "      <th>secondary_cleaner.state.floatbank4_b_air</th>\n",
       "      <th>secondary_cleaner.state.floatbank4_b_level</th>\n",
       "      <th>secondary_cleaner.state.floatbank5_a_air</th>\n",
       "      <th>secondary_cleaner.state.floatbank5_a_level</th>\n",
       "      <th>secondary_cleaner.state.floatbank5_b_air</th>\n",
       "      <th>secondary_cleaner.state.floatbank5_b_level</th>\n",
       "      <th>secondary_cleaner.state.floatbank6_a_air</th>\n",
       "      <th>secondary_cleaner.state.floatbank6_a_level</th>\n",
       "    </tr>\n",
       "  </thead>\n",
       "  <tbody>\n",
       "    <tr>\n",
       "      <th>count</th>\n",
       "      <td>5286.000000</td>\n",
       "      <td>5285.000000</td>\n",
       "      <td>5290.000000</td>\n",
       "      <td>5286.000000</td>\n",
       "      <td>5.290000e+03</td>\n",
       "      <td>5290.000000</td>\n",
       "      <td>5.290000e+03</td>\n",
       "      <td>5290.000000</td>\n",
       "      <td>5.290000e+03</td>\n",
       "      <td>5290.000000</td>\n",
       "      <td>5.290000e+03</td>\n",
       "      <td>5290.000000</td>\n",
       "      <td>5290.000000</td>\n",
       "      <td>5290.000000</td>\n",
       "      <td>5287.000000</td>\n",
       "      <td>5289.000000</td>\n",
       "      <td>5269.000000</td>\n",
       "      <td>5290.000000</td>\n",
       "      <td>5285.000000</td>\n",
       "      <td>5290.000000</td>\n",
       "      <td>5282.000000</td>\n",
       "      <td>5265.000000</td>\n",
       "      <td>5290.000000</td>\n",
       "      <td>5290.000000</td>\n",
       "      <td>5290.000000</td>\n",
       "      <td>5290.000000</td>\n",
       "      <td>5290.000000</td>\n",
       "      <td>5290.000000</td>\n",
       "      <td>5290.000000</td>\n",
       "      <td>5290.000000</td>\n",
       "      <td>5290.000000</td>\n",
       "      <td>5290.000000</td>\n",
       "      <td>5290.000000</td>\n",
       "      <td>5290.000000</td>\n",
       "      <td>5287.000000</td>\n",
       "      <td>5290.000000</td>\n",
       "      <td>5288.000000</td>\n",
       "      <td>5290.000000</td>\n",
       "      <td>5281.000000</td>\n",
       "      <td>5290.000000</td>\n",
       "      <td>5.290000e+03</td>\n",
       "      <td>5290.000000</td>\n",
       "      <td>5.290000e+03</td>\n",
       "      <td>5290.000000</td>\n",
       "      <td>5.290000e+03</td>\n",
       "      <td>5290.000000</td>\n",
       "      <td>5290.000000</td>\n",
       "      <td>5290.000000</td>\n",
       "      <td>5290.000000</td>\n",
       "      <td>5290.000000</td>\n",
       "      <td>5290.000000</td>\n",
       "      <td>5290.000000</td>\n",
       "    </tr>\n",
       "    <tr>\n",
       "      <th>mean</th>\n",
       "      <td>174.839652</td>\n",
       "      <td>8.683596</td>\n",
       "      <td>7.266339</td>\n",
       "      <td>1.383803</td>\n",
       "      <td>1.539494e+03</td>\n",
       "      <td>-497.665883</td>\n",
       "      <td>1.545174e+03</td>\n",
       "      <td>-500.273098</td>\n",
       "      <td>1.527272e+03</td>\n",
       "      <td>-498.330680</td>\n",
       "      <td>1.544844e+03</td>\n",
       "      <td>-500.199527</td>\n",
       "      <td>9.371940</td>\n",
       "      <td>3.798082</td>\n",
       "      <td>489.800620</td>\n",
       "      <td>55.951097</td>\n",
       "      <td>37.716648</td>\n",
       "      <td>9.334682</td>\n",
       "      <td>13.855759</td>\n",
       "      <td>6.467745</td>\n",
       "      <td>13.922328</td>\n",
       "      <td>6.512103</td>\n",
       "      <td>1053.400166</td>\n",
       "      <td>-395.732530</td>\n",
       "      <td>1318.926879</td>\n",
       "      <td>-475.241428</td>\n",
       "      <td>1301.595477</td>\n",
       "      <td>-474.836671</td>\n",
       "      <td>1214.847960</td>\n",
       "      <td>-475.682272</td>\n",
       "      <td>1056.648995</td>\n",
       "      <td>-469.029688</td>\n",
       "      <td>997.949719</td>\n",
       "      <td>-470.482465</td>\n",
       "      <td>26.312630</td>\n",
       "      <td>-502.750897</td>\n",
       "      <td>21.949119</td>\n",
       "      <td>-501.987097</td>\n",
       "      <td>25.402926</td>\n",
       "      <td>-507.490314</td>\n",
       "      <td>2.098211e+01</td>\n",
       "      <td>-506.627916</td>\n",
       "      <td>1.632007e+01</td>\n",
       "      <td>-505.144570</td>\n",
       "      <td>1.373544e+01</td>\n",
       "      <td>-463.349858</td>\n",
       "      <td>12.804186</td>\n",
       "      <td>-501.329122</td>\n",
       "      <td>9.881145</td>\n",
       "      <td>-495.663398</td>\n",
       "      <td>17.304935</td>\n",
       "      <td>-501.793193</td>\n",
       "    </tr>\n",
       "    <tr>\n",
       "      <th>std</th>\n",
       "      <td>43.027080</td>\n",
       "      <td>3.072050</td>\n",
       "      <td>0.610219</td>\n",
       "      <td>0.643474</td>\n",
       "      <td>1.167979e+02</td>\n",
       "      <td>19.952431</td>\n",
       "      <td>1.222246e+02</td>\n",
       "      <td>32.968307</td>\n",
       "      <td>1.225380e+02</td>\n",
       "      <td>21.964876</td>\n",
       "      <td>1.247731e+02</td>\n",
       "      <td>31.045257</td>\n",
       "      <td>1.926264</td>\n",
       "      <td>0.954859</td>\n",
       "      <td>108.036326</td>\n",
       "      <td>19.081758</td>\n",
       "      <td>5.491415</td>\n",
       "      <td>1.619521</td>\n",
       "      <td>3.350852</td>\n",
       "      <td>1.065114</td>\n",
       "      <td>3.223769</td>\n",
       "      <td>0.886989</td>\n",
       "      <td>121.139309</td>\n",
       "      <td>91.085505</td>\n",
       "      <td>156.450366</td>\n",
       "      <td>45.649466</td>\n",
       "      <td>171.269667</td>\n",
       "      <td>45.859866</td>\n",
       "      <td>185.763319</td>\n",
       "      <td>47.844967</td>\n",
       "      <td>131.542839</td>\n",
       "      <td>59.325990</td>\n",
       "      <td>128.218869</td>\n",
       "      <td>60.759318</td>\n",
       "      <td>3.429852</td>\n",
       "      <td>28.756505</td>\n",
       "      <td>4.354961</td>\n",
       "      <td>34.582722</td>\n",
       "      <td>6.526457</td>\n",
       "      <td>47.620908</td>\n",
       "      <td>6.736179e+00</td>\n",
       "      <td>44.528673</td>\n",
       "      <td>3.493583e+00</td>\n",
       "      <td>31.427337</td>\n",
       "      <td>3.430484e+00</td>\n",
       "      <td>86.189107</td>\n",
       "      <td>3.026591</td>\n",
       "      <td>17.951495</td>\n",
       "      <td>2.868205</td>\n",
       "      <td>34.535007</td>\n",
       "      <td>4.536544</td>\n",
       "      <td>39.044215</td>\n",
       "    </tr>\n",
       "    <tr>\n",
       "      <th>min</th>\n",
       "      <td>2.566156</td>\n",
       "      <td>0.003839</td>\n",
       "      <td>5.650000</td>\n",
       "      <td>0.004984</td>\n",
       "      <td>5.445860e-32</td>\n",
       "      <td>-795.316337</td>\n",
       "      <td>6.647490e-32</td>\n",
       "      <td>-799.997015</td>\n",
       "      <td>4.033736e-32</td>\n",
       "      <td>-799.960571</td>\n",
       "      <td>4.039220e-32</td>\n",
       "      <td>-799.794250</td>\n",
       "      <td>0.568441</td>\n",
       "      <td>0.273677</td>\n",
       "      <td>0.002986</td>\n",
       "      <td>0.046369</td>\n",
       "      <td>1.393488</td>\n",
       "      <td>0.568632</td>\n",
       "      <td>0.001147</td>\n",
       "      <td>0.000568</td>\n",
       "      <td>0.000077</td>\n",
       "      <td>0.006985</td>\n",
       "      <td>-0.042069</td>\n",
       "      <td>-657.949759</td>\n",
       "      <td>-0.721806</td>\n",
       "      <td>-650.245277</td>\n",
       "      <td>-0.056636</td>\n",
       "      <td>-647.544439</td>\n",
       "      <td>-0.992219</td>\n",
       "      <td>-648.390665</td>\n",
       "      <td>-1.982295</td>\n",
       "      <td>-649.267537</td>\n",
       "      <td>-2.593390</td>\n",
       "      <td>-649.949283</td>\n",
       "      <td>0.205329</td>\n",
       "      <td>-784.091091</td>\n",
       "      <td>0.006064</td>\n",
       "      <td>-797.783989</td>\n",
       "      <td>0.000000</td>\n",
       "      <td>-799.755798</td>\n",
       "      <td>1.521587e-17</td>\n",
       "      <td>-809.333008</td>\n",
       "      <td>1.079872e-16</td>\n",
       "      <td>-799.798523</td>\n",
       "      <td>2.489718e-17</td>\n",
       "      <td>-800.836914</td>\n",
       "      <td>0.069227</td>\n",
       "      <td>-797.323986</td>\n",
       "      <td>0.528083</td>\n",
       "      <td>-800.220337</td>\n",
       "      <td>-0.079426</td>\n",
       "      <td>-809.741464</td>\n",
       "    </tr>\n",
       "    <tr>\n",
       "      <th>25%</th>\n",
       "      <td>147.121401</td>\n",
       "      <td>6.489555</td>\n",
       "      <td>6.890000</td>\n",
       "      <td>0.907623</td>\n",
       "      <td>1.498936e+03</td>\n",
       "      <td>-500.357298</td>\n",
       "      <td>1.498971e+03</td>\n",
       "      <td>-500.703002</td>\n",
       "      <td>1.473230e+03</td>\n",
       "      <td>-501.018117</td>\n",
       "      <td>1.499481e+03</td>\n",
       "      <td>-500.452469</td>\n",
       "      <td>8.112434</td>\n",
       "      <td>3.240251</td>\n",
       "      <td>407.020883</td>\n",
       "      <td>43.906347</td>\n",
       "      <td>34.505576</td>\n",
       "      <td>8.207814</td>\n",
       "      <td>11.995006</td>\n",
       "      <td>5.998779</td>\n",
       "      <td>11.997200</td>\n",
       "      <td>5.999157</td>\n",
       "      <td>999.205344</td>\n",
       "      <td>-499.920565</td>\n",
       "      <td>1200.871883</td>\n",
       "      <td>-500.256114</td>\n",
       "      <td>1199.651371</td>\n",
       "      <td>-500.233831</td>\n",
       "      <td>1093.368068</td>\n",
       "      <td>-500.440610</td>\n",
       "      <td>999.361403</td>\n",
       "      <td>-500.190639</td>\n",
       "      <td>901.024994</td>\n",
       "      <td>-500.624783</td>\n",
       "      <td>24.942328</td>\n",
       "      <td>-500.206517</td>\n",
       "      <td>20.002315</td>\n",
       "      <td>-500.218030</td>\n",
       "      <td>22.982288</td>\n",
       "      <td>-500.297951</td>\n",
       "      <td>1.796786e+01</td>\n",
       "      <td>-500.145128</td>\n",
       "      <td>1.403618e+01</td>\n",
       "      <td>-500.868258</td>\n",
       "      <td>1.202862e+01</td>\n",
       "      <td>-500.323028</td>\n",
       "      <td>10.914838</td>\n",
       "      <td>-500.726841</td>\n",
       "      <td>8.036719</td>\n",
       "      <td>-500.194668</td>\n",
       "      <td>13.997317</td>\n",
       "      <td>-500.690984</td>\n",
       "    </tr>\n",
       "    <tr>\n",
       "      <th>50%</th>\n",
       "      <td>177.828489</td>\n",
       "      <td>8.052207</td>\n",
       "      <td>7.250000</td>\n",
       "      <td>1.197610</td>\n",
       "      <td>1.585129e+03</td>\n",
       "      <td>-499.969164</td>\n",
       "      <td>1.595622e+03</td>\n",
       "      <td>-500.028514</td>\n",
       "      <td>1.549595e+03</td>\n",
       "      <td>-500.017711</td>\n",
       "      <td>1.594579e+03</td>\n",
       "      <td>-500.023307</td>\n",
       "      <td>9.762654</td>\n",
       "      <td>3.740716</td>\n",
       "      <td>499.051440</td>\n",
       "      <td>50.841029</td>\n",
       "      <td>37.980276</td>\n",
       "      <td>9.593766</td>\n",
       "      <td>14.003126</td>\n",
       "      <td>6.498181</td>\n",
       "      <td>14.004371</td>\n",
       "      <td>6.498744</td>\n",
       "      <td>1000.472055</td>\n",
       "      <td>-399.693363</td>\n",
       "      <td>1302.254995</td>\n",
       "      <td>-499.837803</td>\n",
       "      <td>1300.202274</td>\n",
       "      <td>-499.777222</td>\n",
       "      <td>1207.014092</td>\n",
       "      <td>-499.691917</td>\n",
       "      <td>1047.495449</td>\n",
       "      <td>-499.765796</td>\n",
       "      <td>999.441879</td>\n",
       "      <td>-499.680986</td>\n",
       "      <td>26.910569</td>\n",
       "      <td>-500.003902</td>\n",
       "      <td>22.942603</td>\n",
       "      <td>-500.019058</td>\n",
       "      <td>25.010105</td>\n",
       "      <td>-500.034578</td>\n",
       "      <td>2.100316e+01</td>\n",
       "      <td>-500.013819</td>\n",
       "      <td>1.700847e+01</td>\n",
       "      <td>-500.115727</td>\n",
       "      <td>1.496486e+01</td>\n",
       "      <td>-499.576513</td>\n",
       "      <td>12.954182</td>\n",
       "      <td>-499.990332</td>\n",
       "      <td>10.004301</td>\n",
       "      <td>-499.990535</td>\n",
       "      <td>16.014935</td>\n",
       "      <td>-500.007126</td>\n",
       "    </tr>\n",
       "    <tr>\n",
       "      <th>75%</th>\n",
       "      <td>208.125438</td>\n",
       "      <td>10.027764</td>\n",
       "      <td>7.600000</td>\n",
       "      <td>1.797819</td>\n",
       "      <td>1.602077e+03</td>\n",
       "      <td>-499.568951</td>\n",
       "      <td>1.602324e+03</td>\n",
       "      <td>-499.293257</td>\n",
       "      <td>1.601144e+03</td>\n",
       "      <td>-498.994130</td>\n",
       "      <td>1.600965e+03</td>\n",
       "      <td>-499.607040</td>\n",
       "      <td>10.652297</td>\n",
       "      <td>4.282634</td>\n",
       "      <td>575.307213</td>\n",
       "      <td>62.431047</td>\n",
       "      <td>41.635385</td>\n",
       "      <td>10.463538</td>\n",
       "      <td>16.974284</td>\n",
       "      <td>7.085457</td>\n",
       "      <td>16.959671</td>\n",
       "      <td>7.091808</td>\n",
       "      <td>1006.254299</td>\n",
       "      <td>-300.060056</td>\n",
       "      <td>1433.955649</td>\n",
       "      <td>-450.749619</td>\n",
       "      <td>1406.594956</td>\n",
       "      <td>-451.153188</td>\n",
       "      <td>1391.497269</td>\n",
       "      <td>-452.483463</td>\n",
       "      <td>1101.365315</td>\n",
       "      <td>-450.957513</td>\n",
       "      <td>1050.433005</td>\n",
       "      <td>-451.986460</td>\n",
       "      <td>28.091885</td>\n",
       "      <td>-499.791639</td>\n",
       "      <td>24.985013</td>\n",
       "      <td>-499.831532</td>\n",
       "      <td>30.002063</td>\n",
       "      <td>-499.780163</td>\n",
       "      <td>2.697698e+01</td>\n",
       "      <td>-499.890608</td>\n",
       "      <td>1.803862e+01</td>\n",
       "      <td>-499.404224</td>\n",
       "      <td>1.596213e+01</td>\n",
       "      <td>-400.933805</td>\n",
       "      <td>15.097528</td>\n",
       "      <td>-499.283191</td>\n",
       "      <td>11.997467</td>\n",
       "      <td>-499.719913</td>\n",
       "      <td>21.020013</td>\n",
       "      <td>-499.373018</td>\n",
       "    </tr>\n",
       "    <tr>\n",
       "      <th>max</th>\n",
       "      <td>265.983123</td>\n",
       "      <td>40.000000</td>\n",
       "      <td>15.500000</td>\n",
       "      <td>4.102454</td>\n",
       "      <td>2.103104e+03</td>\n",
       "      <td>-57.195404</td>\n",
       "      <td>1.813084e+03</td>\n",
       "      <td>-142.527229</td>\n",
       "      <td>1.715054e+03</td>\n",
       "      <td>-150.937035</td>\n",
       "      <td>1.913257e+03</td>\n",
       "      <td>-158.950573</td>\n",
       "      <td>14.406130</td>\n",
       "      <td>6.905684</td>\n",
       "      <td>707.364020</td>\n",
       "      <td>392.494040</td>\n",
       "      <td>53.477742</td>\n",
       "      <td>13.731330</td>\n",
       "      <td>24.280636</td>\n",
       "      <td>8.910468</td>\n",
       "      <td>24.280966</td>\n",
       "      <td>8.621338</td>\n",
       "      <td>1423.274687</td>\n",
       "      <td>-273.776101</td>\n",
       "      <td>1706.640419</td>\n",
       "      <td>-298.200051</td>\n",
       "      <td>1731.017788</td>\n",
       "      <td>-298.036852</td>\n",
       "      <td>1775.218584</td>\n",
       "      <td>-76.397327</td>\n",
       "      <td>1467.184843</td>\n",
       "      <td>-139.753025</td>\n",
       "      <td>1476.588107</td>\n",
       "      <td>-249.801043</td>\n",
       "      <td>32.138727</td>\n",
       "      <td>-300.343670</td>\n",
       "      <td>28.165864</td>\n",
       "      <td>-211.999273</td>\n",
       "      <td>40.041997</td>\n",
       "      <td>-313.866425</td>\n",
       "      <td>3.203936e+01</td>\n",
       "      <td>-202.277366</td>\n",
       "      <td>3.005180e+01</td>\n",
       "      <td>-401.565212</td>\n",
       "      <td>3.126971e+01</td>\n",
       "      <td>-6.506986</td>\n",
       "      <td>25.258848</td>\n",
       "      <td>-244.483566</td>\n",
       "      <td>14.086866</td>\n",
       "      <td>-137.740004</td>\n",
       "      <td>26.705889</td>\n",
       "      <td>-123.307487</td>\n",
       "    </tr>\n",
       "  </tbody>\n",
       "</table>\n",
       "</div>"
      ],
      "text/plain": [
       "       primary_cleaner.input.sulfate  primary_cleaner.input.depressant  \\\n",
       "count                    5286.000000                       5285.000000   \n",
       "mean                      174.839652                          8.683596   \n",
       "std                        43.027080                          3.072050   \n",
       "min                         2.566156                          0.003839   \n",
       "25%                       147.121401                          6.489555   \n",
       "50%                       177.828489                          8.052207   \n",
       "75%                       208.125438                         10.027764   \n",
       "max                       265.983123                         40.000000   \n",
       "\n",
       "       primary_cleaner.input.feed_size  primary_cleaner.input.xanthate  \\\n",
       "count                      5290.000000                     5286.000000   \n",
       "mean                          7.266339                        1.383803   \n",
       "std                           0.610219                        0.643474   \n",
       "min                           5.650000                        0.004984   \n",
       "25%                           6.890000                        0.907623   \n",
       "50%                           7.250000                        1.197610   \n",
       "75%                           7.600000                        1.797819   \n",
       "max                          15.500000                        4.102454   \n",
       "\n",
       "       primary_cleaner.state.floatbank8_a_air  \\\n",
       "count                            5.290000e+03   \n",
       "mean                             1.539494e+03   \n",
       "std                              1.167979e+02   \n",
       "min                              5.445860e-32   \n",
       "25%                              1.498936e+03   \n",
       "50%                              1.585129e+03   \n",
       "75%                              1.602077e+03   \n",
       "max                              2.103104e+03   \n",
       "\n",
       "       primary_cleaner.state.floatbank8_a_level  \\\n",
       "count                               5290.000000   \n",
       "mean                                -497.665883   \n",
       "std                                   19.952431   \n",
       "min                                 -795.316337   \n",
       "25%                                 -500.357298   \n",
       "50%                                 -499.969164   \n",
       "75%                                 -499.568951   \n",
       "max                                  -57.195404   \n",
       "\n",
       "       primary_cleaner.state.floatbank8_b_air  \\\n",
       "count                            5.290000e+03   \n",
       "mean                             1.545174e+03   \n",
       "std                              1.222246e+02   \n",
       "min                              6.647490e-32   \n",
       "25%                              1.498971e+03   \n",
       "50%                              1.595622e+03   \n",
       "75%                              1.602324e+03   \n",
       "max                              1.813084e+03   \n",
       "\n",
       "       primary_cleaner.state.floatbank8_b_level  \\\n",
       "count                               5290.000000   \n",
       "mean                                -500.273098   \n",
       "std                                   32.968307   \n",
       "min                                 -799.997015   \n",
       "25%                                 -500.703002   \n",
       "50%                                 -500.028514   \n",
       "75%                                 -499.293257   \n",
       "max                                 -142.527229   \n",
       "\n",
       "       primary_cleaner.state.floatbank8_c_air  \\\n",
       "count                            5.290000e+03   \n",
       "mean                             1.527272e+03   \n",
       "std                              1.225380e+02   \n",
       "min                              4.033736e-32   \n",
       "25%                              1.473230e+03   \n",
       "50%                              1.549595e+03   \n",
       "75%                              1.601144e+03   \n",
       "max                              1.715054e+03   \n",
       "\n",
       "       primary_cleaner.state.floatbank8_c_level  \\\n",
       "count                               5290.000000   \n",
       "mean                                -498.330680   \n",
       "std                                   21.964876   \n",
       "min                                 -799.960571   \n",
       "25%                                 -501.018117   \n",
       "50%                                 -500.017711   \n",
       "75%                                 -498.994130   \n",
       "max                                 -150.937035   \n",
       "\n",
       "       primary_cleaner.state.floatbank8_d_air  \\\n",
       "count                            5.290000e+03   \n",
       "mean                             1.544844e+03   \n",
       "std                              1.247731e+02   \n",
       "min                              4.039220e-32   \n",
       "25%                              1.499481e+03   \n",
       "50%                              1.594579e+03   \n",
       "75%                              1.600965e+03   \n",
       "max                              1.913257e+03   \n",
       "\n",
       "       primary_cleaner.state.floatbank8_d_level  rougher.input.feed_ag  \\\n",
       "count                               5290.000000            5290.000000   \n",
       "mean                                -500.199527               9.371940   \n",
       "std                                   31.045257               1.926264   \n",
       "min                                 -799.794250               0.568441   \n",
       "25%                                 -500.452469               8.112434   \n",
       "50%                                 -500.023307               9.762654   \n",
       "75%                                 -499.607040              10.652297   \n",
       "max                                 -158.950573              14.406130   \n",
       "\n",
       "       rougher.input.feed_pb  rougher.input.feed_rate  \\\n",
       "count            5290.000000              5287.000000   \n",
       "mean                3.798082               489.800620   \n",
       "std                 0.954859               108.036326   \n",
       "min                 0.273677                 0.002986   \n",
       "25%                 3.240251               407.020883   \n",
       "50%                 3.740716               499.051440   \n",
       "75%                 4.282634               575.307213   \n",
       "max                 6.905684               707.364020   \n",
       "\n",
       "       rougher.input.feed_size  rougher.input.feed_sol  rougher.input.feed_au  \\\n",
       "count              5289.000000             5269.000000            5290.000000   \n",
       "mean                 55.951097               37.716648               9.334682   \n",
       "std                  19.081758                5.491415               1.619521   \n",
       "min                   0.046369                1.393488               0.568632   \n",
       "25%                  43.906347               34.505576               8.207814   \n",
       "50%                  50.841029               37.980276               9.593766   \n",
       "75%                  62.431047               41.635385              10.463538   \n",
       "max                 392.494040               53.477742              13.731330   \n",
       "\n",
       "       rougher.input.floatbank10_sulfate  rougher.input.floatbank10_xanthate  \\\n",
       "count                        5285.000000                         5290.000000   \n",
       "mean                           13.855759                            6.467745   \n",
       "std                             3.350852                            1.065114   \n",
       "min                             0.001147                            0.000568   \n",
       "25%                            11.995006                            5.998779   \n",
       "50%                            14.003126                            6.498181   \n",
       "75%                            16.974284                            7.085457   \n",
       "max                            24.280636                            8.910468   \n",
       "\n",
       "       rougher.input.floatbank11_sulfate  rougher.input.floatbank11_xanthate  \\\n",
       "count                        5282.000000                         5265.000000   \n",
       "mean                           13.922328                            6.512103   \n",
       "std                             3.223769                            0.886989   \n",
       "min                             0.000077                            0.006985   \n",
       "25%                            11.997200                            5.999157   \n",
       "50%                            14.004371                            6.498744   \n",
       "75%                            16.959671                            7.091808   \n",
       "max                            24.280966                            8.621338   \n",
       "\n",
       "       rougher.state.floatbank10_a_air  rougher.state.floatbank10_a_level  \\\n",
       "count                      5290.000000                        5290.000000   \n",
       "mean                       1053.400166                        -395.732530   \n",
       "std                         121.139309                          91.085505   \n",
       "min                          -0.042069                        -657.949759   \n",
       "25%                         999.205344                        -499.920565   \n",
       "50%                        1000.472055                        -399.693363   \n",
       "75%                        1006.254299                        -300.060056   \n",
       "max                        1423.274687                        -273.776101   \n",
       "\n",
       "       rougher.state.floatbank10_b_air  rougher.state.floatbank10_b_level  \\\n",
       "count                      5290.000000                        5290.000000   \n",
       "mean                       1318.926879                        -475.241428   \n",
       "std                         156.450366                          45.649466   \n",
       "min                          -0.721806                        -650.245277   \n",
       "25%                        1200.871883                        -500.256114   \n",
       "50%                        1302.254995                        -499.837803   \n",
       "75%                        1433.955649                        -450.749619   \n",
       "max                        1706.640419                        -298.200051   \n",
       "\n",
       "       rougher.state.floatbank10_c_air  rougher.state.floatbank10_c_level  \\\n",
       "count                      5290.000000                        5290.000000   \n",
       "mean                       1301.595477                        -474.836671   \n",
       "std                         171.269667                          45.859866   \n",
       "min                          -0.056636                        -647.544439   \n",
       "25%                        1199.651371                        -500.233831   \n",
       "50%                        1300.202274                        -499.777222   \n",
       "75%                        1406.594956                        -451.153188   \n",
       "max                        1731.017788                        -298.036852   \n",
       "\n",
       "       rougher.state.floatbank10_d_air  rougher.state.floatbank10_d_level  \\\n",
       "count                      5290.000000                        5290.000000   \n",
       "mean                       1214.847960                        -475.682272   \n",
       "std                         185.763319                          47.844967   \n",
       "min                          -0.992219                        -648.390665   \n",
       "25%                        1093.368068                        -500.440610   \n",
       "50%                        1207.014092                        -499.691917   \n",
       "75%                        1391.497269                        -452.483463   \n",
       "max                        1775.218584                         -76.397327   \n",
       "\n",
       "       rougher.state.floatbank10_e_air  rougher.state.floatbank10_e_level  \\\n",
       "count                      5290.000000                        5290.000000   \n",
       "mean                       1056.648995                        -469.029688   \n",
       "std                         131.542839                          59.325990   \n",
       "min                          -1.982295                        -649.267537   \n",
       "25%                         999.361403                        -500.190639   \n",
       "50%                        1047.495449                        -499.765796   \n",
       "75%                        1101.365315                        -450.957513   \n",
       "max                        1467.184843                        -139.753025   \n",
       "\n",
       "       rougher.state.floatbank10_f_air  rougher.state.floatbank10_f_level  \\\n",
       "count                      5290.000000                        5290.000000   \n",
       "mean                        997.949719                        -470.482465   \n",
       "std                         128.218869                          60.759318   \n",
       "min                          -2.593390                        -649.949283   \n",
       "25%                         901.024994                        -500.624783   \n",
       "50%                         999.441879                        -499.680986   \n",
       "75%                        1050.433005                        -451.986460   \n",
       "max                        1476.588107                        -249.801043   \n",
       "\n",
       "       secondary_cleaner.state.floatbank2_a_air  \\\n",
       "count                               5287.000000   \n",
       "mean                                  26.312630   \n",
       "std                                    3.429852   \n",
       "min                                    0.205329   \n",
       "25%                                   24.942328   \n",
       "50%                                   26.910569   \n",
       "75%                                   28.091885   \n",
       "max                                   32.138727   \n",
       "\n",
       "       secondary_cleaner.state.floatbank2_a_level  \\\n",
       "count                                 5290.000000   \n",
       "mean                                  -502.750897   \n",
       "std                                     28.756505   \n",
       "min                                   -784.091091   \n",
       "25%                                   -500.206517   \n",
       "50%                                   -500.003902   \n",
       "75%                                   -499.791639   \n",
       "max                                   -300.343670   \n",
       "\n",
       "       secondary_cleaner.state.floatbank2_b_air  \\\n",
       "count                               5288.000000   \n",
       "mean                                  21.949119   \n",
       "std                                    4.354961   \n",
       "min                                    0.006064   \n",
       "25%                                   20.002315   \n",
       "50%                                   22.942603   \n",
       "75%                                   24.985013   \n",
       "max                                   28.165864   \n",
       "\n",
       "       secondary_cleaner.state.floatbank2_b_level  \\\n",
       "count                                 5290.000000   \n",
       "mean                                  -501.987097   \n",
       "std                                     34.582722   \n",
       "min                                   -797.783989   \n",
       "25%                                   -500.218030   \n",
       "50%                                   -500.019058   \n",
       "75%                                   -499.831532   \n",
       "max                                   -211.999273   \n",
       "\n",
       "       secondary_cleaner.state.floatbank3_a_air  \\\n",
       "count                               5281.000000   \n",
       "mean                                  25.402926   \n",
       "std                                    6.526457   \n",
       "min                                    0.000000   \n",
       "25%                                   22.982288   \n",
       "50%                                   25.010105   \n",
       "75%                                   30.002063   \n",
       "max                                   40.041997   \n",
       "\n",
       "       secondary_cleaner.state.floatbank3_a_level  \\\n",
       "count                                 5290.000000   \n",
       "mean                                  -507.490314   \n",
       "std                                     47.620908   \n",
       "min                                   -799.755798   \n",
       "25%                                   -500.297951   \n",
       "50%                                   -500.034578   \n",
       "75%                                   -499.780163   \n",
       "max                                   -313.866425   \n",
       "\n",
       "       secondary_cleaner.state.floatbank3_b_air  \\\n",
       "count                              5.290000e+03   \n",
       "mean                               2.098211e+01   \n",
       "std                                6.736179e+00   \n",
       "min                                1.521587e-17   \n",
       "25%                                1.796786e+01   \n",
       "50%                                2.100316e+01   \n",
       "75%                                2.697698e+01   \n",
       "max                                3.203936e+01   \n",
       "\n",
       "       secondary_cleaner.state.floatbank3_b_level  \\\n",
       "count                                 5290.000000   \n",
       "mean                                  -506.627916   \n",
       "std                                     44.528673   \n",
       "min                                   -809.333008   \n",
       "25%                                   -500.145128   \n",
       "50%                                   -500.013819   \n",
       "75%                                   -499.890608   \n",
       "max                                   -202.277366   \n",
       "\n",
       "       secondary_cleaner.state.floatbank4_a_air  \\\n",
       "count                              5.290000e+03   \n",
       "mean                               1.632007e+01   \n",
       "std                                3.493583e+00   \n",
       "min                                1.079872e-16   \n",
       "25%                                1.403618e+01   \n",
       "50%                                1.700847e+01   \n",
       "75%                                1.803862e+01   \n",
       "max                                3.005180e+01   \n",
       "\n",
       "       secondary_cleaner.state.floatbank4_a_level  \\\n",
       "count                                 5290.000000   \n",
       "mean                                  -505.144570   \n",
       "std                                     31.427337   \n",
       "min                                   -799.798523   \n",
       "25%                                   -500.868258   \n",
       "50%                                   -500.115727   \n",
       "75%                                   -499.404224   \n",
       "max                                   -401.565212   \n",
       "\n",
       "       secondary_cleaner.state.floatbank4_b_air  \\\n",
       "count                              5.290000e+03   \n",
       "mean                               1.373544e+01   \n",
       "std                                3.430484e+00   \n",
       "min                                2.489718e-17   \n",
       "25%                                1.202862e+01   \n",
       "50%                                1.496486e+01   \n",
       "75%                                1.596213e+01   \n",
       "max                                3.126971e+01   \n",
       "\n",
       "       secondary_cleaner.state.floatbank4_b_level  \\\n",
       "count                                 5290.000000   \n",
       "mean                                  -463.349858   \n",
       "std                                     86.189107   \n",
       "min                                   -800.836914   \n",
       "25%                                   -500.323028   \n",
       "50%                                   -499.576513   \n",
       "75%                                   -400.933805   \n",
       "max                                     -6.506986   \n",
       "\n",
       "       secondary_cleaner.state.floatbank5_a_air  \\\n",
       "count                               5290.000000   \n",
       "mean                                  12.804186   \n",
       "std                                    3.026591   \n",
       "min                                    0.069227   \n",
       "25%                                   10.914838   \n",
       "50%                                   12.954182   \n",
       "75%                                   15.097528   \n",
       "max                                   25.258848   \n",
       "\n",
       "       secondary_cleaner.state.floatbank5_a_level  \\\n",
       "count                                 5290.000000   \n",
       "mean                                  -501.329122   \n",
       "std                                     17.951495   \n",
       "min                                   -797.323986   \n",
       "25%                                   -500.726841   \n",
       "50%                                   -499.990332   \n",
       "75%                                   -499.283191   \n",
       "max                                   -244.483566   \n",
       "\n",
       "       secondary_cleaner.state.floatbank5_b_air  \\\n",
       "count                               5290.000000   \n",
       "mean                                   9.881145   \n",
       "std                                    2.868205   \n",
       "min                                    0.528083   \n",
       "25%                                    8.036719   \n",
       "50%                                   10.004301   \n",
       "75%                                   11.997467   \n",
       "max                                   14.086866   \n",
       "\n",
       "       secondary_cleaner.state.floatbank5_b_level  \\\n",
       "count                                 5290.000000   \n",
       "mean                                  -495.663398   \n",
       "std                                     34.535007   \n",
       "min                                   -800.220337   \n",
       "25%                                   -500.194668   \n",
       "50%                                   -499.990535   \n",
       "75%                                   -499.719913   \n",
       "max                                   -137.740004   \n",
       "\n",
       "       secondary_cleaner.state.floatbank6_a_air  \\\n",
       "count                               5290.000000   \n",
       "mean                                  17.304935   \n",
       "std                                    4.536544   \n",
       "min                                   -0.079426   \n",
       "25%                                   13.997317   \n",
       "50%                                   16.014935   \n",
       "75%                                   21.020013   \n",
       "max                                   26.705889   \n",
       "\n",
       "       secondary_cleaner.state.floatbank6_a_level  \n",
       "count                                 5290.000000  \n",
       "mean                                  -501.793193  \n",
       "std                                     39.044215  \n",
       "min                                   -809.741464  \n",
       "25%                                   -500.690984  \n",
       "50%                                   -500.007126  \n",
       "75%                                   -499.373018  \n",
       "max                                   -123.307487  "
      ]
     },
     "metadata": {},
     "output_type": "display_data"
    },
    {
     "data": {
      "text/plain": [
       "secondary_cleaner.output.tail_sol                     1605\n",
       "rougher.state.floatbank10_e_air                        436\n",
       "rougher.input.floatbank11_xanthate                     428\n",
       "primary_cleaner.output.concentrate_sol                 286\n",
       "secondary_cleaner.state.floatbank2_a_air               217\n",
       "final.output.concentrate_sol                           211\n",
       "rougher.input.feed_size                                144\n",
       "rougher.input.feed_pb                                  100\n",
       "final.output.tail_pb                                   100\n",
       "primary_cleaner.input.xanthate                         100\n",
       "primary_cleaner.output.concentrate_pb                   86\n",
       "rougher.input.feed_sol                                  78\n",
       "primary_cleaner.output.tail_sol                         46\n",
       "rougher.input.floatbank11_sulfate                       36\n",
       "primary_cleaner.input.depressant                        32\n",
       "rougher.input.floatbank10_sulfate                       29\n",
       "rougher.output.concentrate_sol                          22\n",
       "secondary_cleaner.state.floatbank2_b_air                21\n",
       "primary_cleaner.input.sulfate                           20\n",
       "primary_cleaner.output.tail_pb                          15\n",
       "secondary_cleaner.output.tail_pb                        10\n",
       "rougher.input.floatbank10_xanthate                       8\n",
       "rougher.input.feed_rate                                  8\n",
       "secondary_cleaner.state.floatbank4_a_air                 6\n",
       "final.output.tail_sol                                    5\n",
       "primary_cleaner.state.floatbank8_b_air                   4\n",
       "primary_cleaner.state.floatbank8_a_air                   4\n",
       "secondary_cleaner.state.floatbank3_a_air                 4\n",
       "primary_cleaner.state.floatbank8_d_air                   3\n",
       "secondary_cleaner.output.tail_ag                         2\n",
       "secondary_cleaner.state.floatbank6_a_air                 2\n",
       "primary_cleaner.state.floatbank8_c_air                   2\n",
       "rougher.state.floatbank10_c_level                        1\n",
       "rougher.state.floatbank10_c_air                          1\n",
       "rougher.state.floatbank10_b_level                        1\n",
       "rougher.state.floatbank10_b_air                          1\n",
       "final.output.concentrate_ag                              1\n",
       "secondary_cleaner.state.floatbank2_a_level               1\n",
       "secondary_cleaner.state.floatbank2_b_level               1\n",
       "secondary_cleaner.state.floatbank3_a_level               1\n",
       "rougher.state.floatbank10_a_air                          1\n",
       "secondary_cleaner.state.floatbank3_b_air                 1\n",
       "secondary_cleaner.state.floatbank3_b_level               1\n",
       "secondary_cleaner.state.floatbank4_a_level               1\n",
       "secondary_cleaner.state.floatbank4_b_air                 1\n",
       "secondary_cleaner.state.floatbank4_b_level               1\n",
       "secondary_cleaner.state.floatbank5_a_air                 1\n",
       "secondary_cleaner.state.floatbank5_a_level               1\n",
       "secondary_cleaner.state.floatbank5_b_air                 1\n",
       "secondary_cleaner.state.floatbank5_b_level               1\n",
       "rougher.state.floatbank10_a_level                        1\n",
       "secondary_cleaner.state.floatbank6_a_level               1\n",
       "rougher.calculation.floatbank11_sulfate_to_au_feed       1\n",
       "rougher.calculation.floatbank10_sulfate_to_au_feed       1\n",
       "primary_cleaner.state.floatbank8_d_level                 1\n",
       "primary_cleaner.state.floatbank8_c_level                 1\n",
       "primary_cleaner.state.floatbank8_b_level                 1\n",
       "primary_cleaner.state.floatbank8_a_level                 1\n",
       "final.output.concentrate_pb                              1\n",
       "primary_cleaner.output.tail_ag                           1\n",
       "rougher.calculation.sulfate_to_au_concentrate            1\n",
       "rougher.output.tail_ag                                   1\n",
       "primary_cleaner.output.concentrate_ag                    0\n",
       "primary_cleaner.input.feed_size                          0\n",
       "primary_cleaner.output.tail_au                           0\n",
       "final.output.tail_au                                     0\n",
       "final.output.tail_ag                                     0\n",
       "final.output.recovery                                    0\n",
       "final.output.concentrate_au                              0\n",
       "primary_cleaner.output.concentrate_au                    0\n",
       "rougher.output.tail_au                                   0\n",
       "rougher.output.tail_sol                                  0\n",
       "rougher.calculation.au_pb_ratio                          0\n",
       "secondary_cleaner.output.tail_au                         0\n",
       "rougher.input.feed_ag                                    0\n",
       "rougher.input.feed_au                                    0\n",
       "rougher.state.floatbank10_f_level                        0\n",
       "rougher.state.floatbank10_f_air                          0\n",
       "rougher.state.floatbank10_e_level                        0\n",
       "rougher.output.concentrate_pb                            0\n",
       "rougher.state.floatbank10_d_level                        0\n",
       "rougher.state.floatbank10_d_air                          0\n",
       "rougher.output.concentrate_au                            0\n",
       "rougher.output.recovery                                  0\n",
       "rougher.output.tail_pb                                   0\n",
       "rougher.output.concentrate_ag                            0\n",
       "dtype: int64"
      ]
     },
     "metadata": {},
     "output_type": "display_data"
    },
    {
     "name": "stdout",
     "output_type": "stream",
     "text": [
      "<class 'pandas.core.frame.DataFrame'>\n",
      "Index: 5290 entries, 2016-09-01 00:59:59 to 2017-12-31 23:59:59\n",
      "Data columns (total 52 columns):\n",
      " #   Column                                      Non-Null Count  Dtype  \n",
      "---  ------                                      --------------  -----  \n",
      " 0   primary_cleaner.input.sulfate               5286 non-null   float64\n",
      " 1   primary_cleaner.input.depressant            5285 non-null   float64\n",
      " 2   primary_cleaner.input.feed_size             5290 non-null   float64\n",
      " 3   primary_cleaner.input.xanthate              5286 non-null   float64\n",
      " 4   primary_cleaner.state.floatbank8_a_air      5290 non-null   float64\n",
      " 5   primary_cleaner.state.floatbank8_a_level    5290 non-null   float64\n",
      " 6   primary_cleaner.state.floatbank8_b_air      5290 non-null   float64\n",
      " 7   primary_cleaner.state.floatbank8_b_level    5290 non-null   float64\n",
      " 8   primary_cleaner.state.floatbank8_c_air      5290 non-null   float64\n",
      " 9   primary_cleaner.state.floatbank8_c_level    5290 non-null   float64\n",
      " 10  primary_cleaner.state.floatbank8_d_air      5290 non-null   float64\n",
      " 11  primary_cleaner.state.floatbank8_d_level    5290 non-null   float64\n",
      " 12  rougher.input.feed_ag                       5290 non-null   float64\n",
      " 13  rougher.input.feed_pb                       5290 non-null   float64\n",
      " 14  rougher.input.feed_rate                     5287 non-null   float64\n",
      " 15  rougher.input.feed_size                     5289 non-null   float64\n",
      " 16  rougher.input.feed_sol                      5269 non-null   float64\n",
      " 17  rougher.input.feed_au                       5290 non-null   float64\n",
      " 18  rougher.input.floatbank10_sulfate           5285 non-null   float64\n",
      " 19  rougher.input.floatbank10_xanthate          5290 non-null   float64\n",
      " 20  rougher.input.floatbank11_sulfate           5282 non-null   float64\n",
      " 21  rougher.input.floatbank11_xanthate          5265 non-null   float64\n",
      " 22  rougher.state.floatbank10_a_air             5290 non-null   float64\n",
      " 23  rougher.state.floatbank10_a_level           5290 non-null   float64\n",
      " 24  rougher.state.floatbank10_b_air             5290 non-null   float64\n",
      " 25  rougher.state.floatbank10_b_level           5290 non-null   float64\n",
      " 26  rougher.state.floatbank10_c_air             5290 non-null   float64\n",
      " 27  rougher.state.floatbank10_c_level           5290 non-null   float64\n",
      " 28  rougher.state.floatbank10_d_air             5290 non-null   float64\n",
      " 29  rougher.state.floatbank10_d_level           5290 non-null   float64\n",
      " 30  rougher.state.floatbank10_e_air             5290 non-null   float64\n",
      " 31  rougher.state.floatbank10_e_level           5290 non-null   float64\n",
      " 32  rougher.state.floatbank10_f_air             5290 non-null   float64\n",
      " 33  rougher.state.floatbank10_f_level           5290 non-null   float64\n",
      " 34  secondary_cleaner.state.floatbank2_a_air    5287 non-null   float64\n",
      " 35  secondary_cleaner.state.floatbank2_a_level  5290 non-null   float64\n",
      " 36  secondary_cleaner.state.floatbank2_b_air    5288 non-null   float64\n",
      " 37  secondary_cleaner.state.floatbank2_b_level  5290 non-null   float64\n",
      " 38  secondary_cleaner.state.floatbank3_a_air    5281 non-null   float64\n",
      " 39  secondary_cleaner.state.floatbank3_a_level  5290 non-null   float64\n",
      " 40  secondary_cleaner.state.floatbank3_b_air    5290 non-null   float64\n",
      " 41  secondary_cleaner.state.floatbank3_b_level  5290 non-null   float64\n",
      " 42  secondary_cleaner.state.floatbank4_a_air    5290 non-null   float64\n",
      " 43  secondary_cleaner.state.floatbank4_a_level  5290 non-null   float64\n",
      " 44  secondary_cleaner.state.floatbank4_b_air    5290 non-null   float64\n",
      " 45  secondary_cleaner.state.floatbank4_b_level  5290 non-null   float64\n",
      " 46  secondary_cleaner.state.floatbank5_a_air    5290 non-null   float64\n",
      " 47  secondary_cleaner.state.floatbank5_a_level  5290 non-null   float64\n",
      " 48  secondary_cleaner.state.floatbank5_b_air    5290 non-null   float64\n",
      " 49  secondary_cleaner.state.floatbank5_b_level  5290 non-null   float64\n",
      " 50  secondary_cleaner.state.floatbank6_a_air    5290 non-null   float64\n",
      " 51  secondary_cleaner.state.floatbank6_a_level  5290 non-null   float64\n",
      "dtypes: float64(52)\n",
      "memory usage: 2.1+ MB\n"
     ]
    },
    {
     "data": {
      "text/plain": [
       "None"
      ]
     },
     "metadata": {},
     "output_type": "display_data"
    }
   ],
   "source": [
    "opening(data_test)#получим информацию о тестовой выборке"
   ]
  },
  {
   "cell_type": "code",
   "execution_count": 6,
   "metadata": {
    "scrolled": true
   },
   "outputs": [
    {
     "data": {
      "text/html": [
       "<div>\n",
       "<style scoped>\n",
       "    .dataframe tbody tr th:only-of-type {\n",
       "        vertical-align: middle;\n",
       "    }\n",
       "\n",
       "    .dataframe tbody tr th {\n",
       "        vertical-align: top;\n",
       "    }\n",
       "\n",
       "    .dataframe thead th {\n",
       "        text-align: right;\n",
       "    }\n",
       "</style>\n",
       "<table border=\"1\" class=\"dataframe\">\n",
       "  <thead>\n",
       "    <tr style=\"text-align: right;\">\n",
       "      <th></th>\n",
       "      <th>final.output.concentrate_ag</th>\n",
       "      <th>final.output.concentrate_pb</th>\n",
       "      <th>final.output.concentrate_sol</th>\n",
       "      <th>final.output.concentrate_au</th>\n",
       "      <th>final.output.recovery</th>\n",
       "      <th>final.output.tail_ag</th>\n",
       "      <th>final.output.tail_pb</th>\n",
       "      <th>final.output.tail_sol</th>\n",
       "      <th>final.output.tail_au</th>\n",
       "      <th>primary_cleaner.input.sulfate</th>\n",
       "      <th>primary_cleaner.input.depressant</th>\n",
       "      <th>primary_cleaner.input.feed_size</th>\n",
       "      <th>primary_cleaner.input.xanthate</th>\n",
       "      <th>primary_cleaner.output.concentrate_ag</th>\n",
       "      <th>primary_cleaner.output.concentrate_pb</th>\n",
       "      <th>primary_cleaner.output.concentrate_sol</th>\n",
       "      <th>primary_cleaner.output.concentrate_au</th>\n",
       "      <th>primary_cleaner.output.tail_ag</th>\n",
       "      <th>primary_cleaner.output.tail_pb</th>\n",
       "      <th>primary_cleaner.output.tail_sol</th>\n",
       "      <th>primary_cleaner.output.tail_au</th>\n",
       "      <th>primary_cleaner.state.floatbank8_a_air</th>\n",
       "      <th>primary_cleaner.state.floatbank8_a_level</th>\n",
       "      <th>primary_cleaner.state.floatbank8_b_air</th>\n",
       "      <th>primary_cleaner.state.floatbank8_b_level</th>\n",
       "      <th>primary_cleaner.state.floatbank8_c_air</th>\n",
       "      <th>primary_cleaner.state.floatbank8_c_level</th>\n",
       "      <th>primary_cleaner.state.floatbank8_d_air</th>\n",
       "      <th>primary_cleaner.state.floatbank8_d_level</th>\n",
       "      <th>rougher.calculation.sulfate_to_au_concentrate</th>\n",
       "      <th>rougher.calculation.floatbank10_sulfate_to_au_feed</th>\n",
       "      <th>rougher.calculation.floatbank11_sulfate_to_au_feed</th>\n",
       "      <th>rougher.calculation.au_pb_ratio</th>\n",
       "      <th>rougher.input.feed_ag</th>\n",
       "      <th>rougher.input.feed_pb</th>\n",
       "      <th>rougher.input.feed_rate</th>\n",
       "      <th>rougher.input.feed_size</th>\n",
       "      <th>rougher.input.feed_sol</th>\n",
       "      <th>rougher.input.feed_au</th>\n",
       "      <th>rougher.input.floatbank10_sulfate</th>\n",
       "      <th>rougher.input.floatbank10_xanthate</th>\n",
       "      <th>rougher.input.floatbank11_sulfate</th>\n",
       "      <th>rougher.input.floatbank11_xanthate</th>\n",
       "      <th>rougher.output.concentrate_ag</th>\n",
       "      <th>rougher.output.concentrate_pb</th>\n",
       "      <th>rougher.output.concentrate_sol</th>\n",
       "      <th>rougher.output.concentrate_au</th>\n",
       "      <th>rougher.output.recovery</th>\n",
       "      <th>rougher.output.tail_ag</th>\n",
       "      <th>rougher.output.tail_pb</th>\n",
       "      <th>rougher.output.tail_sol</th>\n",
       "      <th>rougher.output.tail_au</th>\n",
       "      <th>rougher.state.floatbank10_a_air</th>\n",
       "      <th>rougher.state.floatbank10_a_level</th>\n",
       "      <th>rougher.state.floatbank10_b_air</th>\n",
       "      <th>rougher.state.floatbank10_b_level</th>\n",
       "      <th>rougher.state.floatbank10_c_air</th>\n",
       "      <th>rougher.state.floatbank10_c_level</th>\n",
       "      <th>rougher.state.floatbank10_d_air</th>\n",
       "      <th>rougher.state.floatbank10_d_level</th>\n",
       "      <th>rougher.state.floatbank10_e_air</th>\n",
       "      <th>rougher.state.floatbank10_e_level</th>\n",
       "      <th>rougher.state.floatbank10_f_air</th>\n",
       "      <th>rougher.state.floatbank10_f_level</th>\n",
       "      <th>secondary_cleaner.output.tail_ag</th>\n",
       "      <th>secondary_cleaner.output.tail_pb</th>\n",
       "      <th>secondary_cleaner.output.tail_sol</th>\n",
       "      <th>secondary_cleaner.output.tail_au</th>\n",
       "      <th>secondary_cleaner.state.floatbank2_a_air</th>\n",
       "      <th>secondary_cleaner.state.floatbank2_a_level</th>\n",
       "      <th>secondary_cleaner.state.floatbank2_b_air</th>\n",
       "      <th>secondary_cleaner.state.floatbank2_b_level</th>\n",
       "      <th>secondary_cleaner.state.floatbank3_a_air</th>\n",
       "      <th>secondary_cleaner.state.floatbank3_a_level</th>\n",
       "      <th>secondary_cleaner.state.floatbank3_b_air</th>\n",
       "      <th>secondary_cleaner.state.floatbank3_b_level</th>\n",
       "      <th>secondary_cleaner.state.floatbank4_a_air</th>\n",
       "      <th>secondary_cleaner.state.floatbank4_a_level</th>\n",
       "      <th>secondary_cleaner.state.floatbank4_b_air</th>\n",
       "      <th>secondary_cleaner.state.floatbank4_b_level</th>\n",
       "      <th>secondary_cleaner.state.floatbank5_a_air</th>\n",
       "      <th>secondary_cleaner.state.floatbank5_a_level</th>\n",
       "      <th>secondary_cleaner.state.floatbank5_b_air</th>\n",
       "      <th>secondary_cleaner.state.floatbank5_b_level</th>\n",
       "      <th>secondary_cleaner.state.floatbank6_a_air</th>\n",
       "      <th>secondary_cleaner.state.floatbank6_a_level</th>\n",
       "    </tr>\n",
       "    <tr>\n",
       "      <th>date</th>\n",
       "      <th></th>\n",
       "      <th></th>\n",
       "      <th></th>\n",
       "      <th></th>\n",
       "      <th></th>\n",
       "      <th></th>\n",
       "      <th></th>\n",
       "      <th></th>\n",
       "      <th></th>\n",
       "      <th></th>\n",
       "      <th></th>\n",
       "      <th></th>\n",
       "      <th></th>\n",
       "      <th></th>\n",
       "      <th></th>\n",
       "      <th></th>\n",
       "      <th></th>\n",
       "      <th></th>\n",
       "      <th></th>\n",
       "      <th></th>\n",
       "      <th></th>\n",
       "      <th></th>\n",
       "      <th></th>\n",
       "      <th></th>\n",
       "      <th></th>\n",
       "      <th></th>\n",
       "      <th></th>\n",
       "      <th></th>\n",
       "      <th></th>\n",
       "      <th></th>\n",
       "      <th></th>\n",
       "      <th></th>\n",
       "      <th></th>\n",
       "      <th></th>\n",
       "      <th></th>\n",
       "      <th></th>\n",
       "      <th></th>\n",
       "      <th></th>\n",
       "      <th></th>\n",
       "      <th></th>\n",
       "      <th></th>\n",
       "      <th></th>\n",
       "      <th></th>\n",
       "      <th></th>\n",
       "      <th></th>\n",
       "      <th></th>\n",
       "      <th></th>\n",
       "      <th></th>\n",
       "      <th></th>\n",
       "      <th></th>\n",
       "      <th></th>\n",
       "      <th></th>\n",
       "      <th></th>\n",
       "      <th></th>\n",
       "      <th></th>\n",
       "      <th></th>\n",
       "      <th></th>\n",
       "      <th></th>\n",
       "      <th></th>\n",
       "      <th></th>\n",
       "      <th></th>\n",
       "      <th></th>\n",
       "      <th></th>\n",
       "      <th></th>\n",
       "      <th></th>\n",
       "      <th></th>\n",
       "      <th></th>\n",
       "      <th></th>\n",
       "      <th></th>\n",
       "      <th></th>\n",
       "      <th></th>\n",
       "      <th></th>\n",
       "      <th></th>\n",
       "      <th></th>\n",
       "      <th></th>\n",
       "      <th></th>\n",
       "      <th></th>\n",
       "      <th></th>\n",
       "      <th></th>\n",
       "      <th></th>\n",
       "      <th></th>\n",
       "      <th></th>\n",
       "      <th></th>\n",
       "      <th></th>\n",
       "      <th></th>\n",
       "      <th></th>\n",
       "    </tr>\n",
       "  </thead>\n",
       "  <tbody>\n",
       "    <tr>\n",
       "      <th>2016-01-15 00:00:00</th>\n",
       "      <td>6.055403</td>\n",
       "      <td>9.889648</td>\n",
       "      <td>5.507324</td>\n",
       "      <td>42.192020</td>\n",
       "      <td>70.541216</td>\n",
       "      <td>10.411962</td>\n",
       "      <td>0.895447</td>\n",
       "      <td>16.904297</td>\n",
       "      <td>2.143149</td>\n",
       "      <td>127.092003</td>\n",
       "      <td>10.128295</td>\n",
       "      <td>7.25</td>\n",
       "      <td>0.988759</td>\n",
       "      <td>8.547551</td>\n",
       "      <td>10.389648</td>\n",
       "      <td>19.529297</td>\n",
       "      <td>34.174427</td>\n",
       "      <td>14.936526</td>\n",
       "      <td>2.534912</td>\n",
       "      <td>7.476074</td>\n",
       "      <td>2.106679</td>\n",
       "      <td>1549.775757</td>\n",
       "      <td>-498.912140</td>\n",
       "      <td>1551.434204</td>\n",
       "      <td>-516.403442</td>\n",
       "      <td>1549.873901</td>\n",
       "      <td>-498.666595</td>\n",
       "      <td>1554.367432</td>\n",
       "      <td>-493.428131</td>\n",
       "      <td>41885.707031</td>\n",
       "      <td>3481.779053</td>\n",
       "      <td>3520.337158</td>\n",
       "      <td>2.838687</td>\n",
       "      <td>6.100378</td>\n",
       "      <td>2.284912</td>\n",
       "      <td>523.546326</td>\n",
       "      <td>55.486599</td>\n",
       "      <td>36.808594</td>\n",
       "      <td>6.486150</td>\n",
       "      <td>11.986616</td>\n",
       "      <td>6.007990</td>\n",
       "      <td>11.836743</td>\n",
       "      <td>6.005818</td>\n",
       "      <td>11.500771</td>\n",
       "      <td>7.101074</td>\n",
       "      <td>28.029297</td>\n",
       "      <td>19.793808</td>\n",
       "      <td>87.107763</td>\n",
       "      <td>5.008018</td>\n",
       "      <td>0.508728</td>\n",
       "      <td>19.154297</td>\n",
       "      <td>1.170244</td>\n",
       "      <td>999.706909</td>\n",
       "      <td>-404.066986</td>\n",
       "      <td>1603.011353</td>\n",
       "      <td>-434.715027</td>\n",
       "      <td>1602.375000</td>\n",
       "      <td>-442.204468</td>\n",
       "      <td>1598.937256</td>\n",
       "      <td>-451.294128</td>\n",
       "      <td>1404.472046</td>\n",
       "      <td>-455.462982</td>\n",
       "      <td>1416.354980</td>\n",
       "      <td>-451.939636</td>\n",
       "      <td>14.500184</td>\n",
       "      <td>4.694824</td>\n",
       "      <td>8.764648</td>\n",
       "      <td>2.606185</td>\n",
       "      <td>25.853109</td>\n",
       "      <td>-498.526489</td>\n",
       "      <td>23.893660</td>\n",
       "      <td>-501.406281</td>\n",
       "      <td>23.961798</td>\n",
       "      <td>-495.262817</td>\n",
       "      <td>21.940409</td>\n",
       "      <td>-499.340973</td>\n",
       "      <td>14.016835</td>\n",
       "      <td>-502.488007</td>\n",
       "      <td>12.099931</td>\n",
       "      <td>-504.715942</td>\n",
       "      <td>9.925633</td>\n",
       "      <td>-498.310211</td>\n",
       "      <td>8.079666</td>\n",
       "      <td>-500.470978</td>\n",
       "      <td>14.151341</td>\n",
       "      <td>-605.841980</td>\n",
       "    </tr>\n",
       "    <tr>\n",
       "      <th>2016-01-15 01:00:00</th>\n",
       "      <td>6.029369</td>\n",
       "      <td>9.968944</td>\n",
       "      <td>5.257781</td>\n",
       "      <td>42.701629</td>\n",
       "      <td>69.266198</td>\n",
       "      <td>10.462676</td>\n",
       "      <td>0.927452</td>\n",
       "      <td>16.634514</td>\n",
       "      <td>2.224930</td>\n",
       "      <td>125.629232</td>\n",
       "      <td>10.296251</td>\n",
       "      <td>7.25</td>\n",
       "      <td>1.002663</td>\n",
       "      <td>8.558743</td>\n",
       "      <td>10.497069</td>\n",
       "      <td>19.369147</td>\n",
       "      <td>34.118526</td>\n",
       "      <td>16.250511</td>\n",
       "      <td>3.049646</td>\n",
       "      <td>6.733907</td>\n",
       "      <td>2.353017</td>\n",
       "      <td>1576.166671</td>\n",
       "      <td>-500.904965</td>\n",
       "      <td>1575.950626</td>\n",
       "      <td>-499.865889</td>\n",
       "      <td>1575.994189</td>\n",
       "      <td>-499.315107</td>\n",
       "      <td>1574.479259</td>\n",
       "      <td>-498.931665</td>\n",
       "      <td>42050.861809</td>\n",
       "      <td>3498.370979</td>\n",
       "      <td>3489.981857</td>\n",
       "      <td>2.858998</td>\n",
       "      <td>6.161113</td>\n",
       "      <td>2.266033</td>\n",
       "      <td>525.290581</td>\n",
       "      <td>57.278666</td>\n",
       "      <td>35.753385</td>\n",
       "      <td>6.478583</td>\n",
       "      <td>11.971193</td>\n",
       "      <td>6.005766</td>\n",
       "      <td>11.996163</td>\n",
       "      <td>6.012594</td>\n",
       "      <td>11.615865</td>\n",
       "      <td>7.278807</td>\n",
       "      <td>28.067063</td>\n",
       "      <td>20.050975</td>\n",
       "      <td>86.843261</td>\n",
       "      <td>4.955378</td>\n",
       "      <td>0.536689</td>\n",
       "      <td>18.965234</td>\n",
       "      <td>1.184827</td>\n",
       "      <td>1000.286398</td>\n",
       "      <td>-400.065196</td>\n",
       "      <td>1600.754587</td>\n",
       "      <td>-449.953435</td>\n",
       "      <td>1600.479580</td>\n",
       "      <td>-449.830646</td>\n",
       "      <td>1600.527589</td>\n",
       "      <td>-449.953649</td>\n",
       "      <td>1399.227084</td>\n",
       "      <td>-450.869848</td>\n",
       "      <td>1399.719514</td>\n",
       "      <td>-450.119001</td>\n",
       "      <td>14.265474</td>\n",
       "      <td>4.592547</td>\n",
       "      <td>9.001494</td>\n",
       "      <td>2.488248</td>\n",
       "      <td>25.880539</td>\n",
       "      <td>-499.989656</td>\n",
       "      <td>23.889530</td>\n",
       "      <td>-500.372428</td>\n",
       "      <td>23.970550</td>\n",
       "      <td>-500.085473</td>\n",
       "      <td>22.085714</td>\n",
       "      <td>-499.446897</td>\n",
       "      <td>13.992281</td>\n",
       "      <td>-505.503262</td>\n",
       "      <td>11.950531</td>\n",
       "      <td>-501.331529</td>\n",
       "      <td>10.039245</td>\n",
       "      <td>-500.169983</td>\n",
       "      <td>7.984757</td>\n",
       "      <td>-500.582168</td>\n",
       "      <td>13.998353</td>\n",
       "      <td>-599.787184</td>\n",
       "    </tr>\n",
       "    <tr>\n",
       "      <th>2016-01-15 02:00:00</th>\n",
       "      <td>6.055926</td>\n",
       "      <td>10.213995</td>\n",
       "      <td>5.383759</td>\n",
       "      <td>42.657501</td>\n",
       "      <td>68.116445</td>\n",
       "      <td>10.507046</td>\n",
       "      <td>0.953716</td>\n",
       "      <td>16.208849</td>\n",
       "      <td>2.257889</td>\n",
       "      <td>123.819808</td>\n",
       "      <td>11.316280</td>\n",
       "      <td>7.25</td>\n",
       "      <td>0.991265</td>\n",
       "      <td>8.603505</td>\n",
       "      <td>10.354494</td>\n",
       "      <td>19.167579</td>\n",
       "      <td>33.969464</td>\n",
       "      <td>16.491823</td>\n",
       "      <td>3.124664</td>\n",
       "      <td>6.471768</td>\n",
       "      <td>2.416800</td>\n",
       "      <td>1601.556163</td>\n",
       "      <td>-499.997791</td>\n",
       "      <td>1600.386685</td>\n",
       "      <td>-500.607762</td>\n",
       "      <td>1602.003542</td>\n",
       "      <td>-500.870069</td>\n",
       "      <td>1599.541515</td>\n",
       "      <td>-499.827444</td>\n",
       "      <td>42018.101184</td>\n",
       "      <td>3495.348910</td>\n",
       "      <td>3502.359819</td>\n",
       "      <td>2.945989</td>\n",
       "      <td>6.116455</td>\n",
       "      <td>2.159622</td>\n",
       "      <td>530.026610</td>\n",
       "      <td>57.510649</td>\n",
       "      <td>35.971630</td>\n",
       "      <td>6.362222</td>\n",
       "      <td>11.920603</td>\n",
       "      <td>6.197377</td>\n",
       "      <td>11.920305</td>\n",
       "      <td>6.204633</td>\n",
       "      <td>11.695753</td>\n",
       "      <td>7.216833</td>\n",
       "      <td>27.454037</td>\n",
       "      <td>19.737170</td>\n",
       "      <td>86.842308</td>\n",
       "      <td>4.843460</td>\n",
       "      <td>0.546416</td>\n",
       "      <td>18.808533</td>\n",
       "      <td>1.162562</td>\n",
       "      <td>999.719565</td>\n",
       "      <td>-400.074028</td>\n",
       "      <td>1599.337330</td>\n",
       "      <td>-450.008530</td>\n",
       "      <td>1599.672797</td>\n",
       "      <td>-449.954491</td>\n",
       "      <td>1599.849325</td>\n",
       "      <td>-449.954185</td>\n",
       "      <td>1399.180945</td>\n",
       "      <td>-449.937588</td>\n",
       "      <td>1400.316682</td>\n",
       "      <td>-450.527147</td>\n",
       "      <td>14.115662</td>\n",
       "      <td>4.624775</td>\n",
       "      <td>8.842896</td>\n",
       "      <td>2.458187</td>\n",
       "      <td>26.005245</td>\n",
       "      <td>-499.929616</td>\n",
       "      <td>23.886657</td>\n",
       "      <td>-499.951928</td>\n",
       "      <td>23.913535</td>\n",
       "      <td>-499.442343</td>\n",
       "      <td>23.957717</td>\n",
       "      <td>-499.901982</td>\n",
       "      <td>14.015015</td>\n",
       "      <td>-502.520901</td>\n",
       "      <td>11.912783</td>\n",
       "      <td>-501.133383</td>\n",
       "      <td>10.070913</td>\n",
       "      <td>-500.129135</td>\n",
       "      <td>8.013877</td>\n",
       "      <td>-500.517572</td>\n",
       "      <td>14.028663</td>\n",
       "      <td>-601.427363</td>\n",
       "    </tr>\n",
       "    <tr>\n",
       "      <th>2016-01-15 03:00:00</th>\n",
       "      <td>6.047977</td>\n",
       "      <td>9.977019</td>\n",
       "      <td>4.858634</td>\n",
       "      <td>42.689819</td>\n",
       "      <td>68.347543</td>\n",
       "      <td>10.422762</td>\n",
       "      <td>0.883763</td>\n",
       "      <td>16.532835</td>\n",
       "      <td>2.146849</td>\n",
       "      <td>122.270188</td>\n",
       "      <td>11.322140</td>\n",
       "      <td>7.25</td>\n",
       "      <td>0.996739</td>\n",
       "      <td>7.221879</td>\n",
       "      <td>8.496563</td>\n",
       "      <td>15.978538</td>\n",
       "      <td>28.260743</td>\n",
       "      <td>16.024359</td>\n",
       "      <td>2.960362</td>\n",
       "      <td>6.843791</td>\n",
       "      <td>2.262051</td>\n",
       "      <td>1599.968720</td>\n",
       "      <td>-500.951778</td>\n",
       "      <td>1600.659236</td>\n",
       "      <td>-499.677094</td>\n",
       "      <td>1600.304144</td>\n",
       "      <td>-500.727997</td>\n",
       "      <td>1600.449520</td>\n",
       "      <td>-500.052575</td>\n",
       "      <td>42029.447991</td>\n",
       "      <td>3498.578313</td>\n",
       "      <td>3499.162912</td>\n",
       "      <td>3.002340</td>\n",
       "      <td>6.043309</td>\n",
       "      <td>2.037807</td>\n",
       "      <td>542.590390</td>\n",
       "      <td>57.792734</td>\n",
       "      <td>36.862241</td>\n",
       "      <td>6.118189</td>\n",
       "      <td>11.630094</td>\n",
       "      <td>6.203177</td>\n",
       "      <td>11.692450</td>\n",
       "      <td>6.196578</td>\n",
       "      <td>11.915047</td>\n",
       "      <td>7.175616</td>\n",
       "      <td>27.341277</td>\n",
       "      <td>19.320810</td>\n",
       "      <td>87.226430</td>\n",
       "      <td>4.655288</td>\n",
       "      <td>0.542525</td>\n",
       "      <td>19.330200</td>\n",
       "      <td>1.079755</td>\n",
       "      <td>999.814770</td>\n",
       "      <td>-400.200179</td>\n",
       "      <td>1600.059442</td>\n",
       "      <td>-450.619948</td>\n",
       "      <td>1600.012842</td>\n",
       "      <td>-449.910497</td>\n",
       "      <td>1597.725177</td>\n",
       "      <td>-450.130127</td>\n",
       "      <td>1400.943157</td>\n",
       "      <td>-450.030142</td>\n",
       "      <td>1400.234743</td>\n",
       "      <td>-449.790835</td>\n",
       "      <td>13.732071</td>\n",
       "      <td>4.482453</td>\n",
       "      <td>9.122857</td>\n",
       "      <td>2.322062</td>\n",
       "      <td>25.942508</td>\n",
       "      <td>-499.176749</td>\n",
       "      <td>23.955516</td>\n",
       "      <td>-499.848796</td>\n",
       "      <td>23.966838</td>\n",
       "      <td>-500.008812</td>\n",
       "      <td>23.954443</td>\n",
       "      <td>-499.944710</td>\n",
       "      <td>14.036510</td>\n",
       "      <td>-500.857308</td>\n",
       "      <td>11.999550</td>\n",
       "      <td>-501.193686</td>\n",
       "      <td>9.970366</td>\n",
       "      <td>-499.201640</td>\n",
       "      <td>7.977324</td>\n",
       "      <td>-500.255908</td>\n",
       "      <td>14.005551</td>\n",
       "      <td>-599.996129</td>\n",
       "    </tr>\n",
       "    <tr>\n",
       "      <th>2016-01-15 04:00:00</th>\n",
       "      <td>6.148599</td>\n",
       "      <td>10.142511</td>\n",
       "      <td>4.939416</td>\n",
       "      <td>42.774141</td>\n",
       "      <td>66.927016</td>\n",
       "      <td>10.360302</td>\n",
       "      <td>0.792826</td>\n",
       "      <td>16.525686</td>\n",
       "      <td>2.055292</td>\n",
       "      <td>117.988169</td>\n",
       "      <td>11.913613</td>\n",
       "      <td>7.25</td>\n",
       "      <td>1.009869</td>\n",
       "      <td>9.089428</td>\n",
       "      <td>9.986786</td>\n",
       "      <td>19.199864</td>\n",
       "      <td>33.044932</td>\n",
       "      <td>16.480185</td>\n",
       "      <td>3.112100</td>\n",
       "      <td>6.550154</td>\n",
       "      <td>2.277073</td>\n",
       "      <td>1601.339707</td>\n",
       "      <td>-498.975456</td>\n",
       "      <td>1601.437854</td>\n",
       "      <td>-500.323246</td>\n",
       "      <td>1599.581894</td>\n",
       "      <td>-500.888152</td>\n",
       "      <td>1602.649541</td>\n",
       "      <td>-500.593010</td>\n",
       "      <td>42125.354245</td>\n",
       "      <td>3494.800771</td>\n",
       "      <td>3506.679315</td>\n",
       "      <td>3.169615</td>\n",
       "      <td>6.060915</td>\n",
       "      <td>1.786875</td>\n",
       "      <td>540.531893</td>\n",
       "      <td>56.047189</td>\n",
       "      <td>34.347666</td>\n",
       "      <td>5.663707</td>\n",
       "      <td>10.957755</td>\n",
       "      <td>6.198826</td>\n",
       "      <td>10.960521</td>\n",
       "      <td>6.194897</td>\n",
       "      <td>12.411054</td>\n",
       "      <td>7.240205</td>\n",
       "      <td>27.041023</td>\n",
       "      <td>19.216101</td>\n",
       "      <td>86.688794</td>\n",
       "      <td>4.552800</td>\n",
       "      <td>0.515438</td>\n",
       "      <td>19.267422</td>\n",
       "      <td>1.012642</td>\n",
       "      <td>999.678690</td>\n",
       "      <td>-399.752729</td>\n",
       "      <td>1600.208824</td>\n",
       "      <td>-449.599614</td>\n",
       "      <td>1600.357732</td>\n",
       "      <td>-450.034364</td>\n",
       "      <td>1599.759049</td>\n",
       "      <td>-449.909799</td>\n",
       "      <td>1401.560902</td>\n",
       "      <td>-448.877187</td>\n",
       "      <td>1401.160227</td>\n",
       "      <td>-450.407128</td>\n",
       "      <td>14.079996</td>\n",
       "      <td>4.470737</td>\n",
       "      <td>8.871028</td>\n",
       "      <td>2.330448</td>\n",
       "      <td>26.024787</td>\n",
       "      <td>-500.279091</td>\n",
       "      <td>23.955345</td>\n",
       "      <td>-500.593614</td>\n",
       "      <td>23.985703</td>\n",
       "      <td>-500.083811</td>\n",
       "      <td>23.958945</td>\n",
       "      <td>-499.990309</td>\n",
       "      <td>14.027298</td>\n",
       "      <td>-499.838632</td>\n",
       "      <td>11.953070</td>\n",
       "      <td>-501.053894</td>\n",
       "      <td>9.925709</td>\n",
       "      <td>-501.686727</td>\n",
       "      <td>7.894242</td>\n",
       "      <td>-500.356035</td>\n",
       "      <td>13.996647</td>\n",
       "      <td>-601.496691</td>\n",
       "    </tr>\n",
       "  </tbody>\n",
       "</table>\n",
       "</div>"
      ],
      "text/plain": [
       "                     final.output.concentrate_ag  final.output.concentrate_pb  \\\n",
       "date                                                                            \n",
       "2016-01-15 00:00:00                     6.055403                     9.889648   \n",
       "2016-01-15 01:00:00                     6.029369                     9.968944   \n",
       "2016-01-15 02:00:00                     6.055926                    10.213995   \n",
       "2016-01-15 03:00:00                     6.047977                     9.977019   \n",
       "2016-01-15 04:00:00                     6.148599                    10.142511   \n",
       "\n",
       "                     final.output.concentrate_sol  \\\n",
       "date                                                \n",
       "2016-01-15 00:00:00                      5.507324   \n",
       "2016-01-15 01:00:00                      5.257781   \n",
       "2016-01-15 02:00:00                      5.383759   \n",
       "2016-01-15 03:00:00                      4.858634   \n",
       "2016-01-15 04:00:00                      4.939416   \n",
       "\n",
       "                     final.output.concentrate_au  final.output.recovery  \\\n",
       "date                                                                      \n",
       "2016-01-15 00:00:00                    42.192020              70.541216   \n",
       "2016-01-15 01:00:00                    42.701629              69.266198   \n",
       "2016-01-15 02:00:00                    42.657501              68.116445   \n",
       "2016-01-15 03:00:00                    42.689819              68.347543   \n",
       "2016-01-15 04:00:00                    42.774141              66.927016   \n",
       "\n",
       "                     final.output.tail_ag  final.output.tail_pb  \\\n",
       "date                                                              \n",
       "2016-01-15 00:00:00             10.411962              0.895447   \n",
       "2016-01-15 01:00:00             10.462676              0.927452   \n",
       "2016-01-15 02:00:00             10.507046              0.953716   \n",
       "2016-01-15 03:00:00             10.422762              0.883763   \n",
       "2016-01-15 04:00:00             10.360302              0.792826   \n",
       "\n",
       "                     final.output.tail_sol  final.output.tail_au  \\\n",
       "date                                                               \n",
       "2016-01-15 00:00:00              16.904297              2.143149   \n",
       "2016-01-15 01:00:00              16.634514              2.224930   \n",
       "2016-01-15 02:00:00              16.208849              2.257889   \n",
       "2016-01-15 03:00:00              16.532835              2.146849   \n",
       "2016-01-15 04:00:00              16.525686              2.055292   \n",
       "\n",
       "                     primary_cleaner.input.sulfate  \\\n",
       "date                                                 \n",
       "2016-01-15 00:00:00                     127.092003   \n",
       "2016-01-15 01:00:00                     125.629232   \n",
       "2016-01-15 02:00:00                     123.819808   \n",
       "2016-01-15 03:00:00                     122.270188   \n",
       "2016-01-15 04:00:00                     117.988169   \n",
       "\n",
       "                     primary_cleaner.input.depressant  \\\n",
       "date                                                    \n",
       "2016-01-15 00:00:00                         10.128295   \n",
       "2016-01-15 01:00:00                         10.296251   \n",
       "2016-01-15 02:00:00                         11.316280   \n",
       "2016-01-15 03:00:00                         11.322140   \n",
       "2016-01-15 04:00:00                         11.913613   \n",
       "\n",
       "                     primary_cleaner.input.feed_size  \\\n",
       "date                                                   \n",
       "2016-01-15 00:00:00                             7.25   \n",
       "2016-01-15 01:00:00                             7.25   \n",
       "2016-01-15 02:00:00                             7.25   \n",
       "2016-01-15 03:00:00                             7.25   \n",
       "2016-01-15 04:00:00                             7.25   \n",
       "\n",
       "                     primary_cleaner.input.xanthate  \\\n",
       "date                                                  \n",
       "2016-01-15 00:00:00                        0.988759   \n",
       "2016-01-15 01:00:00                        1.002663   \n",
       "2016-01-15 02:00:00                        0.991265   \n",
       "2016-01-15 03:00:00                        0.996739   \n",
       "2016-01-15 04:00:00                        1.009869   \n",
       "\n",
       "                     primary_cleaner.output.concentrate_ag  \\\n",
       "date                                                         \n",
       "2016-01-15 00:00:00                               8.547551   \n",
       "2016-01-15 01:00:00                               8.558743   \n",
       "2016-01-15 02:00:00                               8.603505   \n",
       "2016-01-15 03:00:00                               7.221879   \n",
       "2016-01-15 04:00:00                               9.089428   \n",
       "\n",
       "                     primary_cleaner.output.concentrate_pb  \\\n",
       "date                                                         \n",
       "2016-01-15 00:00:00                              10.389648   \n",
       "2016-01-15 01:00:00                              10.497069   \n",
       "2016-01-15 02:00:00                              10.354494   \n",
       "2016-01-15 03:00:00                               8.496563   \n",
       "2016-01-15 04:00:00                               9.986786   \n",
       "\n",
       "                     primary_cleaner.output.concentrate_sol  \\\n",
       "date                                                          \n",
       "2016-01-15 00:00:00                               19.529297   \n",
       "2016-01-15 01:00:00                               19.369147   \n",
       "2016-01-15 02:00:00                               19.167579   \n",
       "2016-01-15 03:00:00                               15.978538   \n",
       "2016-01-15 04:00:00                               19.199864   \n",
       "\n",
       "                     primary_cleaner.output.concentrate_au  \\\n",
       "date                                                         \n",
       "2016-01-15 00:00:00                              34.174427   \n",
       "2016-01-15 01:00:00                              34.118526   \n",
       "2016-01-15 02:00:00                              33.969464   \n",
       "2016-01-15 03:00:00                              28.260743   \n",
       "2016-01-15 04:00:00                              33.044932   \n",
       "\n",
       "                     primary_cleaner.output.tail_ag  \\\n",
       "date                                                  \n",
       "2016-01-15 00:00:00                       14.936526   \n",
       "2016-01-15 01:00:00                       16.250511   \n",
       "2016-01-15 02:00:00                       16.491823   \n",
       "2016-01-15 03:00:00                       16.024359   \n",
       "2016-01-15 04:00:00                       16.480185   \n",
       "\n",
       "                     primary_cleaner.output.tail_pb  \\\n",
       "date                                                  \n",
       "2016-01-15 00:00:00                        2.534912   \n",
       "2016-01-15 01:00:00                        3.049646   \n",
       "2016-01-15 02:00:00                        3.124664   \n",
       "2016-01-15 03:00:00                        2.960362   \n",
       "2016-01-15 04:00:00                        3.112100   \n",
       "\n",
       "                     primary_cleaner.output.tail_sol  \\\n",
       "date                                                   \n",
       "2016-01-15 00:00:00                         7.476074   \n",
       "2016-01-15 01:00:00                         6.733907   \n",
       "2016-01-15 02:00:00                         6.471768   \n",
       "2016-01-15 03:00:00                         6.843791   \n",
       "2016-01-15 04:00:00                         6.550154   \n",
       "\n",
       "                     primary_cleaner.output.tail_au  \\\n",
       "date                                                  \n",
       "2016-01-15 00:00:00                        2.106679   \n",
       "2016-01-15 01:00:00                        2.353017   \n",
       "2016-01-15 02:00:00                        2.416800   \n",
       "2016-01-15 03:00:00                        2.262051   \n",
       "2016-01-15 04:00:00                        2.277073   \n",
       "\n",
       "                     primary_cleaner.state.floatbank8_a_air  \\\n",
       "date                                                          \n",
       "2016-01-15 00:00:00                             1549.775757   \n",
       "2016-01-15 01:00:00                             1576.166671   \n",
       "2016-01-15 02:00:00                             1601.556163   \n",
       "2016-01-15 03:00:00                             1599.968720   \n",
       "2016-01-15 04:00:00                             1601.339707   \n",
       "\n",
       "                     primary_cleaner.state.floatbank8_a_level  \\\n",
       "date                                                            \n",
       "2016-01-15 00:00:00                               -498.912140   \n",
       "2016-01-15 01:00:00                               -500.904965   \n",
       "2016-01-15 02:00:00                               -499.997791   \n",
       "2016-01-15 03:00:00                               -500.951778   \n",
       "2016-01-15 04:00:00                               -498.975456   \n",
       "\n",
       "                     primary_cleaner.state.floatbank8_b_air  \\\n",
       "date                                                          \n",
       "2016-01-15 00:00:00                             1551.434204   \n",
       "2016-01-15 01:00:00                             1575.950626   \n",
       "2016-01-15 02:00:00                             1600.386685   \n",
       "2016-01-15 03:00:00                             1600.659236   \n",
       "2016-01-15 04:00:00                             1601.437854   \n",
       "\n",
       "                     primary_cleaner.state.floatbank8_b_level  \\\n",
       "date                                                            \n",
       "2016-01-15 00:00:00                               -516.403442   \n",
       "2016-01-15 01:00:00                               -499.865889   \n",
       "2016-01-15 02:00:00                               -500.607762   \n",
       "2016-01-15 03:00:00                               -499.677094   \n",
       "2016-01-15 04:00:00                               -500.323246   \n",
       "\n",
       "                     primary_cleaner.state.floatbank8_c_air  \\\n",
       "date                                                          \n",
       "2016-01-15 00:00:00                             1549.873901   \n",
       "2016-01-15 01:00:00                             1575.994189   \n",
       "2016-01-15 02:00:00                             1602.003542   \n",
       "2016-01-15 03:00:00                             1600.304144   \n",
       "2016-01-15 04:00:00                             1599.581894   \n",
       "\n",
       "                     primary_cleaner.state.floatbank8_c_level  \\\n",
       "date                                                            \n",
       "2016-01-15 00:00:00                               -498.666595   \n",
       "2016-01-15 01:00:00                               -499.315107   \n",
       "2016-01-15 02:00:00                               -500.870069   \n",
       "2016-01-15 03:00:00                               -500.727997   \n",
       "2016-01-15 04:00:00                               -500.888152   \n",
       "\n",
       "                     primary_cleaner.state.floatbank8_d_air  \\\n",
       "date                                                          \n",
       "2016-01-15 00:00:00                             1554.367432   \n",
       "2016-01-15 01:00:00                             1574.479259   \n",
       "2016-01-15 02:00:00                             1599.541515   \n",
       "2016-01-15 03:00:00                             1600.449520   \n",
       "2016-01-15 04:00:00                             1602.649541   \n",
       "\n",
       "                     primary_cleaner.state.floatbank8_d_level  \\\n",
       "date                                                            \n",
       "2016-01-15 00:00:00                               -493.428131   \n",
       "2016-01-15 01:00:00                               -498.931665   \n",
       "2016-01-15 02:00:00                               -499.827444   \n",
       "2016-01-15 03:00:00                               -500.052575   \n",
       "2016-01-15 04:00:00                               -500.593010   \n",
       "\n",
       "                     rougher.calculation.sulfate_to_au_concentrate  \\\n",
       "date                                                                 \n",
       "2016-01-15 00:00:00                                   41885.707031   \n",
       "2016-01-15 01:00:00                                   42050.861809   \n",
       "2016-01-15 02:00:00                                   42018.101184   \n",
       "2016-01-15 03:00:00                                   42029.447991   \n",
       "2016-01-15 04:00:00                                   42125.354245   \n",
       "\n",
       "                     rougher.calculation.floatbank10_sulfate_to_au_feed  \\\n",
       "date                                                                      \n",
       "2016-01-15 00:00:00                                         3481.779053   \n",
       "2016-01-15 01:00:00                                         3498.370979   \n",
       "2016-01-15 02:00:00                                         3495.348910   \n",
       "2016-01-15 03:00:00                                         3498.578313   \n",
       "2016-01-15 04:00:00                                         3494.800771   \n",
       "\n",
       "                     rougher.calculation.floatbank11_sulfate_to_au_feed  \\\n",
       "date                                                                      \n",
       "2016-01-15 00:00:00                                         3520.337158   \n",
       "2016-01-15 01:00:00                                         3489.981857   \n",
       "2016-01-15 02:00:00                                         3502.359819   \n",
       "2016-01-15 03:00:00                                         3499.162912   \n",
       "2016-01-15 04:00:00                                         3506.679315   \n",
       "\n",
       "                     rougher.calculation.au_pb_ratio  rougher.input.feed_ag  \\\n",
       "date                                                                          \n",
       "2016-01-15 00:00:00                         2.838687               6.100378   \n",
       "2016-01-15 01:00:00                         2.858998               6.161113   \n",
       "2016-01-15 02:00:00                         2.945989               6.116455   \n",
       "2016-01-15 03:00:00                         3.002340               6.043309   \n",
       "2016-01-15 04:00:00                         3.169615               6.060915   \n",
       "\n",
       "                     rougher.input.feed_pb  rougher.input.feed_rate  \\\n",
       "date                                                                  \n",
       "2016-01-15 00:00:00               2.284912               523.546326   \n",
       "2016-01-15 01:00:00               2.266033               525.290581   \n",
       "2016-01-15 02:00:00               2.159622               530.026610   \n",
       "2016-01-15 03:00:00               2.037807               542.590390   \n",
       "2016-01-15 04:00:00               1.786875               540.531893   \n",
       "\n",
       "                     rougher.input.feed_size  rougher.input.feed_sol  \\\n",
       "date                                                                   \n",
       "2016-01-15 00:00:00                55.486599               36.808594   \n",
       "2016-01-15 01:00:00                57.278666               35.753385   \n",
       "2016-01-15 02:00:00                57.510649               35.971630   \n",
       "2016-01-15 03:00:00                57.792734               36.862241   \n",
       "2016-01-15 04:00:00                56.047189               34.347666   \n",
       "\n",
       "                     rougher.input.feed_au  rougher.input.floatbank10_sulfate  \\\n",
       "date                                                                            \n",
       "2016-01-15 00:00:00               6.486150                          11.986616   \n",
       "2016-01-15 01:00:00               6.478583                          11.971193   \n",
       "2016-01-15 02:00:00               6.362222                          11.920603   \n",
       "2016-01-15 03:00:00               6.118189                          11.630094   \n",
       "2016-01-15 04:00:00               5.663707                          10.957755   \n",
       "\n",
       "                     rougher.input.floatbank10_xanthate  \\\n",
       "date                                                      \n",
       "2016-01-15 00:00:00                            6.007990   \n",
       "2016-01-15 01:00:00                            6.005766   \n",
       "2016-01-15 02:00:00                            6.197377   \n",
       "2016-01-15 03:00:00                            6.203177   \n",
       "2016-01-15 04:00:00                            6.198826   \n",
       "\n",
       "                     rougher.input.floatbank11_sulfate  \\\n",
       "date                                                     \n",
       "2016-01-15 00:00:00                          11.836743   \n",
       "2016-01-15 01:00:00                          11.996163   \n",
       "2016-01-15 02:00:00                          11.920305   \n",
       "2016-01-15 03:00:00                          11.692450   \n",
       "2016-01-15 04:00:00                          10.960521   \n",
       "\n",
       "                     rougher.input.floatbank11_xanthate  \\\n",
       "date                                                      \n",
       "2016-01-15 00:00:00                            6.005818   \n",
       "2016-01-15 01:00:00                            6.012594   \n",
       "2016-01-15 02:00:00                            6.204633   \n",
       "2016-01-15 03:00:00                            6.196578   \n",
       "2016-01-15 04:00:00                            6.194897   \n",
       "\n",
       "                     rougher.output.concentrate_ag  \\\n",
       "date                                                 \n",
       "2016-01-15 00:00:00                      11.500771   \n",
       "2016-01-15 01:00:00                      11.615865   \n",
       "2016-01-15 02:00:00                      11.695753   \n",
       "2016-01-15 03:00:00                      11.915047   \n",
       "2016-01-15 04:00:00                      12.411054   \n",
       "\n",
       "                     rougher.output.concentrate_pb  \\\n",
       "date                                                 \n",
       "2016-01-15 00:00:00                       7.101074   \n",
       "2016-01-15 01:00:00                       7.278807   \n",
       "2016-01-15 02:00:00                       7.216833   \n",
       "2016-01-15 03:00:00                       7.175616   \n",
       "2016-01-15 04:00:00                       7.240205   \n",
       "\n",
       "                     rougher.output.concentrate_sol  \\\n",
       "date                                                  \n",
       "2016-01-15 00:00:00                       28.029297   \n",
       "2016-01-15 01:00:00                       28.067063   \n",
       "2016-01-15 02:00:00                       27.454037   \n",
       "2016-01-15 03:00:00                       27.341277   \n",
       "2016-01-15 04:00:00                       27.041023   \n",
       "\n",
       "                     rougher.output.concentrate_au  rougher.output.recovery  \\\n",
       "date                                                                          \n",
       "2016-01-15 00:00:00                      19.793808                87.107763   \n",
       "2016-01-15 01:00:00                      20.050975                86.843261   \n",
       "2016-01-15 02:00:00                      19.737170                86.842308   \n",
       "2016-01-15 03:00:00                      19.320810                87.226430   \n",
       "2016-01-15 04:00:00                      19.216101                86.688794   \n",
       "\n",
       "                     rougher.output.tail_ag  rougher.output.tail_pb  \\\n",
       "date                                                                  \n",
       "2016-01-15 00:00:00                5.008018                0.508728   \n",
       "2016-01-15 01:00:00                4.955378                0.536689   \n",
       "2016-01-15 02:00:00                4.843460                0.546416   \n",
       "2016-01-15 03:00:00                4.655288                0.542525   \n",
       "2016-01-15 04:00:00                4.552800                0.515438   \n",
       "\n",
       "                     rougher.output.tail_sol  rougher.output.tail_au  \\\n",
       "date                                                                   \n",
       "2016-01-15 00:00:00                19.154297                1.170244   \n",
       "2016-01-15 01:00:00                18.965234                1.184827   \n",
       "2016-01-15 02:00:00                18.808533                1.162562   \n",
       "2016-01-15 03:00:00                19.330200                1.079755   \n",
       "2016-01-15 04:00:00                19.267422                1.012642   \n",
       "\n",
       "                     rougher.state.floatbank10_a_air  \\\n",
       "date                                                   \n",
       "2016-01-15 00:00:00                       999.706909   \n",
       "2016-01-15 01:00:00                      1000.286398   \n",
       "2016-01-15 02:00:00                       999.719565   \n",
       "2016-01-15 03:00:00                       999.814770   \n",
       "2016-01-15 04:00:00                       999.678690   \n",
       "\n",
       "                     rougher.state.floatbank10_a_level  \\\n",
       "date                                                     \n",
       "2016-01-15 00:00:00                        -404.066986   \n",
       "2016-01-15 01:00:00                        -400.065196   \n",
       "2016-01-15 02:00:00                        -400.074028   \n",
       "2016-01-15 03:00:00                        -400.200179   \n",
       "2016-01-15 04:00:00                        -399.752729   \n",
       "\n",
       "                     rougher.state.floatbank10_b_air  \\\n",
       "date                                                   \n",
       "2016-01-15 00:00:00                      1603.011353   \n",
       "2016-01-15 01:00:00                      1600.754587   \n",
       "2016-01-15 02:00:00                      1599.337330   \n",
       "2016-01-15 03:00:00                      1600.059442   \n",
       "2016-01-15 04:00:00                      1600.208824   \n",
       "\n",
       "                     rougher.state.floatbank10_b_level  \\\n",
       "date                                                     \n",
       "2016-01-15 00:00:00                        -434.715027   \n",
       "2016-01-15 01:00:00                        -449.953435   \n",
       "2016-01-15 02:00:00                        -450.008530   \n",
       "2016-01-15 03:00:00                        -450.619948   \n",
       "2016-01-15 04:00:00                        -449.599614   \n",
       "\n",
       "                     rougher.state.floatbank10_c_air  \\\n",
       "date                                                   \n",
       "2016-01-15 00:00:00                      1602.375000   \n",
       "2016-01-15 01:00:00                      1600.479580   \n",
       "2016-01-15 02:00:00                      1599.672797   \n",
       "2016-01-15 03:00:00                      1600.012842   \n",
       "2016-01-15 04:00:00                      1600.357732   \n",
       "\n",
       "                     rougher.state.floatbank10_c_level  \\\n",
       "date                                                     \n",
       "2016-01-15 00:00:00                        -442.204468   \n",
       "2016-01-15 01:00:00                        -449.830646   \n",
       "2016-01-15 02:00:00                        -449.954491   \n",
       "2016-01-15 03:00:00                        -449.910497   \n",
       "2016-01-15 04:00:00                        -450.034364   \n",
       "\n",
       "                     rougher.state.floatbank10_d_air  \\\n",
       "date                                                   \n",
       "2016-01-15 00:00:00                      1598.937256   \n",
       "2016-01-15 01:00:00                      1600.527589   \n",
       "2016-01-15 02:00:00                      1599.849325   \n",
       "2016-01-15 03:00:00                      1597.725177   \n",
       "2016-01-15 04:00:00                      1599.759049   \n",
       "\n",
       "                     rougher.state.floatbank10_d_level  \\\n",
       "date                                                     \n",
       "2016-01-15 00:00:00                        -451.294128   \n",
       "2016-01-15 01:00:00                        -449.953649   \n",
       "2016-01-15 02:00:00                        -449.954185   \n",
       "2016-01-15 03:00:00                        -450.130127   \n",
       "2016-01-15 04:00:00                        -449.909799   \n",
       "\n",
       "                     rougher.state.floatbank10_e_air  \\\n",
       "date                                                   \n",
       "2016-01-15 00:00:00                      1404.472046   \n",
       "2016-01-15 01:00:00                      1399.227084   \n",
       "2016-01-15 02:00:00                      1399.180945   \n",
       "2016-01-15 03:00:00                      1400.943157   \n",
       "2016-01-15 04:00:00                      1401.560902   \n",
       "\n",
       "                     rougher.state.floatbank10_e_level  \\\n",
       "date                                                     \n",
       "2016-01-15 00:00:00                        -455.462982   \n",
       "2016-01-15 01:00:00                        -450.869848   \n",
       "2016-01-15 02:00:00                        -449.937588   \n",
       "2016-01-15 03:00:00                        -450.030142   \n",
       "2016-01-15 04:00:00                        -448.877187   \n",
       "\n",
       "                     rougher.state.floatbank10_f_air  \\\n",
       "date                                                   \n",
       "2016-01-15 00:00:00                      1416.354980   \n",
       "2016-01-15 01:00:00                      1399.719514   \n",
       "2016-01-15 02:00:00                      1400.316682   \n",
       "2016-01-15 03:00:00                      1400.234743   \n",
       "2016-01-15 04:00:00                      1401.160227   \n",
       "\n",
       "                     rougher.state.floatbank10_f_level  \\\n",
       "date                                                     \n",
       "2016-01-15 00:00:00                        -451.939636   \n",
       "2016-01-15 01:00:00                        -450.119001   \n",
       "2016-01-15 02:00:00                        -450.527147   \n",
       "2016-01-15 03:00:00                        -449.790835   \n",
       "2016-01-15 04:00:00                        -450.407128   \n",
       "\n",
       "                     secondary_cleaner.output.tail_ag  \\\n",
       "date                                                    \n",
       "2016-01-15 00:00:00                         14.500184   \n",
       "2016-01-15 01:00:00                         14.265474   \n",
       "2016-01-15 02:00:00                         14.115662   \n",
       "2016-01-15 03:00:00                         13.732071   \n",
       "2016-01-15 04:00:00                         14.079996   \n",
       "\n",
       "                     secondary_cleaner.output.tail_pb  \\\n",
       "date                                                    \n",
       "2016-01-15 00:00:00                          4.694824   \n",
       "2016-01-15 01:00:00                          4.592547   \n",
       "2016-01-15 02:00:00                          4.624775   \n",
       "2016-01-15 03:00:00                          4.482453   \n",
       "2016-01-15 04:00:00                          4.470737   \n",
       "\n",
       "                     secondary_cleaner.output.tail_sol  \\\n",
       "date                                                     \n",
       "2016-01-15 00:00:00                           8.764648   \n",
       "2016-01-15 01:00:00                           9.001494   \n",
       "2016-01-15 02:00:00                           8.842896   \n",
       "2016-01-15 03:00:00                           9.122857   \n",
       "2016-01-15 04:00:00                           8.871028   \n",
       "\n",
       "                     secondary_cleaner.output.tail_au  \\\n",
       "date                                                    \n",
       "2016-01-15 00:00:00                          2.606185   \n",
       "2016-01-15 01:00:00                          2.488248   \n",
       "2016-01-15 02:00:00                          2.458187   \n",
       "2016-01-15 03:00:00                          2.322062   \n",
       "2016-01-15 04:00:00                          2.330448   \n",
       "\n",
       "                     secondary_cleaner.state.floatbank2_a_air  \\\n",
       "date                                                            \n",
       "2016-01-15 00:00:00                                 25.853109   \n",
       "2016-01-15 01:00:00                                 25.880539   \n",
       "2016-01-15 02:00:00                                 26.005245   \n",
       "2016-01-15 03:00:00                                 25.942508   \n",
       "2016-01-15 04:00:00                                 26.024787   \n",
       "\n",
       "                     secondary_cleaner.state.floatbank2_a_level  \\\n",
       "date                                                              \n",
       "2016-01-15 00:00:00                                 -498.526489   \n",
       "2016-01-15 01:00:00                                 -499.989656   \n",
       "2016-01-15 02:00:00                                 -499.929616   \n",
       "2016-01-15 03:00:00                                 -499.176749   \n",
       "2016-01-15 04:00:00                                 -500.279091   \n",
       "\n",
       "                     secondary_cleaner.state.floatbank2_b_air  \\\n",
       "date                                                            \n",
       "2016-01-15 00:00:00                                 23.893660   \n",
       "2016-01-15 01:00:00                                 23.889530   \n",
       "2016-01-15 02:00:00                                 23.886657   \n",
       "2016-01-15 03:00:00                                 23.955516   \n",
       "2016-01-15 04:00:00                                 23.955345   \n",
       "\n",
       "                     secondary_cleaner.state.floatbank2_b_level  \\\n",
       "date                                                              \n",
       "2016-01-15 00:00:00                                 -501.406281   \n",
       "2016-01-15 01:00:00                                 -500.372428   \n",
       "2016-01-15 02:00:00                                 -499.951928   \n",
       "2016-01-15 03:00:00                                 -499.848796   \n",
       "2016-01-15 04:00:00                                 -500.593614   \n",
       "\n",
       "                     secondary_cleaner.state.floatbank3_a_air  \\\n",
       "date                                                            \n",
       "2016-01-15 00:00:00                                 23.961798   \n",
       "2016-01-15 01:00:00                                 23.970550   \n",
       "2016-01-15 02:00:00                                 23.913535   \n",
       "2016-01-15 03:00:00                                 23.966838   \n",
       "2016-01-15 04:00:00                                 23.985703   \n",
       "\n",
       "                     secondary_cleaner.state.floatbank3_a_level  \\\n",
       "date                                                              \n",
       "2016-01-15 00:00:00                                 -495.262817   \n",
       "2016-01-15 01:00:00                                 -500.085473   \n",
       "2016-01-15 02:00:00                                 -499.442343   \n",
       "2016-01-15 03:00:00                                 -500.008812   \n",
       "2016-01-15 04:00:00                                 -500.083811   \n",
       "\n",
       "                     secondary_cleaner.state.floatbank3_b_air  \\\n",
       "date                                                            \n",
       "2016-01-15 00:00:00                                 21.940409   \n",
       "2016-01-15 01:00:00                                 22.085714   \n",
       "2016-01-15 02:00:00                                 23.957717   \n",
       "2016-01-15 03:00:00                                 23.954443   \n",
       "2016-01-15 04:00:00                                 23.958945   \n",
       "\n",
       "                     secondary_cleaner.state.floatbank3_b_level  \\\n",
       "date                                                              \n",
       "2016-01-15 00:00:00                                 -499.340973   \n",
       "2016-01-15 01:00:00                                 -499.446897   \n",
       "2016-01-15 02:00:00                                 -499.901982   \n",
       "2016-01-15 03:00:00                                 -499.944710   \n",
       "2016-01-15 04:00:00                                 -499.990309   \n",
       "\n",
       "                     secondary_cleaner.state.floatbank4_a_air  \\\n",
       "date                                                            \n",
       "2016-01-15 00:00:00                                 14.016835   \n",
       "2016-01-15 01:00:00                                 13.992281   \n",
       "2016-01-15 02:00:00                                 14.015015   \n",
       "2016-01-15 03:00:00                                 14.036510   \n",
       "2016-01-15 04:00:00                                 14.027298   \n",
       "\n",
       "                     secondary_cleaner.state.floatbank4_a_level  \\\n",
       "date                                                              \n",
       "2016-01-15 00:00:00                                 -502.488007   \n",
       "2016-01-15 01:00:00                                 -505.503262   \n",
       "2016-01-15 02:00:00                                 -502.520901   \n",
       "2016-01-15 03:00:00                                 -500.857308   \n",
       "2016-01-15 04:00:00                                 -499.838632   \n",
       "\n",
       "                     secondary_cleaner.state.floatbank4_b_air  \\\n",
       "date                                                            \n",
       "2016-01-15 00:00:00                                 12.099931   \n",
       "2016-01-15 01:00:00                                 11.950531   \n",
       "2016-01-15 02:00:00                                 11.912783   \n",
       "2016-01-15 03:00:00                                 11.999550   \n",
       "2016-01-15 04:00:00                                 11.953070   \n",
       "\n",
       "                     secondary_cleaner.state.floatbank4_b_level  \\\n",
       "date                                                              \n",
       "2016-01-15 00:00:00                                 -504.715942   \n",
       "2016-01-15 01:00:00                                 -501.331529   \n",
       "2016-01-15 02:00:00                                 -501.133383   \n",
       "2016-01-15 03:00:00                                 -501.193686   \n",
       "2016-01-15 04:00:00                                 -501.053894   \n",
       "\n",
       "                     secondary_cleaner.state.floatbank5_a_air  \\\n",
       "date                                                            \n",
       "2016-01-15 00:00:00                                  9.925633   \n",
       "2016-01-15 01:00:00                                 10.039245   \n",
       "2016-01-15 02:00:00                                 10.070913   \n",
       "2016-01-15 03:00:00                                  9.970366   \n",
       "2016-01-15 04:00:00                                  9.925709   \n",
       "\n",
       "                     secondary_cleaner.state.floatbank5_a_level  \\\n",
       "date                                                              \n",
       "2016-01-15 00:00:00                                 -498.310211   \n",
       "2016-01-15 01:00:00                                 -500.169983   \n",
       "2016-01-15 02:00:00                                 -500.129135   \n",
       "2016-01-15 03:00:00                                 -499.201640   \n",
       "2016-01-15 04:00:00                                 -501.686727   \n",
       "\n",
       "                     secondary_cleaner.state.floatbank5_b_air  \\\n",
       "date                                                            \n",
       "2016-01-15 00:00:00                                  8.079666   \n",
       "2016-01-15 01:00:00                                  7.984757   \n",
       "2016-01-15 02:00:00                                  8.013877   \n",
       "2016-01-15 03:00:00                                  7.977324   \n",
       "2016-01-15 04:00:00                                  7.894242   \n",
       "\n",
       "                     secondary_cleaner.state.floatbank5_b_level  \\\n",
       "date                                                              \n",
       "2016-01-15 00:00:00                                 -500.470978   \n",
       "2016-01-15 01:00:00                                 -500.582168   \n",
       "2016-01-15 02:00:00                                 -500.517572   \n",
       "2016-01-15 03:00:00                                 -500.255908   \n",
       "2016-01-15 04:00:00                                 -500.356035   \n",
       "\n",
       "                     secondary_cleaner.state.floatbank6_a_air  \\\n",
       "date                                                            \n",
       "2016-01-15 00:00:00                                 14.151341   \n",
       "2016-01-15 01:00:00                                 13.998353   \n",
       "2016-01-15 02:00:00                                 14.028663   \n",
       "2016-01-15 03:00:00                                 14.005551   \n",
       "2016-01-15 04:00:00                                 13.996647   \n",
       "\n",
       "                     secondary_cleaner.state.floatbank6_a_level  \n",
       "date                                                             \n",
       "2016-01-15 00:00:00                                 -605.841980  \n",
       "2016-01-15 01:00:00                                 -599.787184  \n",
       "2016-01-15 02:00:00                                 -601.427363  \n",
       "2016-01-15 03:00:00                                 -599.996129  \n",
       "2016-01-15 04:00:00                                 -601.496691  "
      ]
     },
     "metadata": {},
     "output_type": "display_data"
    },
    {
     "data": {
      "text/html": [
       "<div>\n",
       "<style scoped>\n",
       "    .dataframe tbody tr th:only-of-type {\n",
       "        vertical-align: middle;\n",
       "    }\n",
       "\n",
       "    .dataframe tbody tr th {\n",
       "        vertical-align: top;\n",
       "    }\n",
       "\n",
       "    .dataframe thead th {\n",
       "        text-align: right;\n",
       "    }\n",
       "</style>\n",
       "<table border=\"1\" class=\"dataframe\">\n",
       "  <thead>\n",
       "    <tr style=\"text-align: right;\">\n",
       "      <th></th>\n",
       "      <th>final.output.concentrate_ag</th>\n",
       "      <th>final.output.concentrate_pb</th>\n",
       "      <th>final.output.concentrate_sol</th>\n",
       "      <th>final.output.concentrate_au</th>\n",
       "      <th>final.output.recovery</th>\n",
       "      <th>final.output.tail_ag</th>\n",
       "      <th>final.output.tail_pb</th>\n",
       "      <th>final.output.tail_sol</th>\n",
       "      <th>final.output.tail_au</th>\n",
       "      <th>primary_cleaner.input.sulfate</th>\n",
       "      <th>primary_cleaner.input.depressant</th>\n",
       "      <th>primary_cleaner.input.feed_size</th>\n",
       "      <th>primary_cleaner.input.xanthate</th>\n",
       "      <th>primary_cleaner.output.concentrate_ag</th>\n",
       "      <th>primary_cleaner.output.concentrate_pb</th>\n",
       "      <th>primary_cleaner.output.concentrate_sol</th>\n",
       "      <th>primary_cleaner.output.concentrate_au</th>\n",
       "      <th>primary_cleaner.output.tail_ag</th>\n",
       "      <th>primary_cleaner.output.tail_pb</th>\n",
       "      <th>primary_cleaner.output.tail_sol</th>\n",
       "      <th>primary_cleaner.output.tail_au</th>\n",
       "      <th>primary_cleaner.state.floatbank8_a_air</th>\n",
       "      <th>primary_cleaner.state.floatbank8_a_level</th>\n",
       "      <th>primary_cleaner.state.floatbank8_b_air</th>\n",
       "      <th>primary_cleaner.state.floatbank8_b_level</th>\n",
       "      <th>primary_cleaner.state.floatbank8_c_air</th>\n",
       "      <th>primary_cleaner.state.floatbank8_c_level</th>\n",
       "      <th>primary_cleaner.state.floatbank8_d_air</th>\n",
       "      <th>primary_cleaner.state.floatbank8_d_level</th>\n",
       "      <th>rougher.calculation.sulfate_to_au_concentrate</th>\n",
       "      <th>rougher.calculation.floatbank10_sulfate_to_au_feed</th>\n",
       "      <th>rougher.calculation.floatbank11_sulfate_to_au_feed</th>\n",
       "      <th>rougher.calculation.au_pb_ratio</th>\n",
       "      <th>rougher.input.feed_ag</th>\n",
       "      <th>rougher.input.feed_pb</th>\n",
       "      <th>rougher.input.feed_rate</th>\n",
       "      <th>rougher.input.feed_size</th>\n",
       "      <th>rougher.input.feed_sol</th>\n",
       "      <th>rougher.input.feed_au</th>\n",
       "      <th>rougher.input.floatbank10_sulfate</th>\n",
       "      <th>rougher.input.floatbank10_xanthate</th>\n",
       "      <th>rougher.input.floatbank11_sulfate</th>\n",
       "      <th>rougher.input.floatbank11_xanthate</th>\n",
       "      <th>rougher.output.concentrate_ag</th>\n",
       "      <th>rougher.output.concentrate_pb</th>\n",
       "      <th>rougher.output.concentrate_sol</th>\n",
       "      <th>rougher.output.concentrate_au</th>\n",
       "      <th>rougher.output.recovery</th>\n",
       "      <th>rougher.output.tail_ag</th>\n",
       "      <th>rougher.output.tail_pb</th>\n",
       "      <th>rougher.output.tail_sol</th>\n",
       "      <th>rougher.output.tail_au</th>\n",
       "      <th>rougher.state.floatbank10_a_air</th>\n",
       "      <th>rougher.state.floatbank10_a_level</th>\n",
       "      <th>rougher.state.floatbank10_b_air</th>\n",
       "      <th>rougher.state.floatbank10_b_level</th>\n",
       "      <th>rougher.state.floatbank10_c_air</th>\n",
       "      <th>rougher.state.floatbank10_c_level</th>\n",
       "      <th>rougher.state.floatbank10_d_air</th>\n",
       "      <th>rougher.state.floatbank10_d_level</th>\n",
       "      <th>rougher.state.floatbank10_e_air</th>\n",
       "      <th>rougher.state.floatbank10_e_level</th>\n",
       "      <th>rougher.state.floatbank10_f_air</th>\n",
       "      <th>rougher.state.floatbank10_f_level</th>\n",
       "      <th>secondary_cleaner.output.tail_ag</th>\n",
       "      <th>secondary_cleaner.output.tail_pb</th>\n",
       "      <th>secondary_cleaner.output.tail_sol</th>\n",
       "      <th>secondary_cleaner.output.tail_au</th>\n",
       "      <th>secondary_cleaner.state.floatbank2_a_air</th>\n",
       "      <th>secondary_cleaner.state.floatbank2_a_level</th>\n",
       "      <th>secondary_cleaner.state.floatbank2_b_air</th>\n",
       "      <th>secondary_cleaner.state.floatbank2_b_level</th>\n",
       "      <th>secondary_cleaner.state.floatbank3_a_air</th>\n",
       "      <th>secondary_cleaner.state.floatbank3_a_level</th>\n",
       "      <th>secondary_cleaner.state.floatbank3_b_air</th>\n",
       "      <th>secondary_cleaner.state.floatbank3_b_level</th>\n",
       "      <th>secondary_cleaner.state.floatbank4_a_air</th>\n",
       "      <th>secondary_cleaner.state.floatbank4_a_level</th>\n",
       "      <th>secondary_cleaner.state.floatbank4_b_air</th>\n",
       "      <th>secondary_cleaner.state.floatbank4_b_level</th>\n",
       "      <th>secondary_cleaner.state.floatbank5_a_air</th>\n",
       "      <th>secondary_cleaner.state.floatbank5_a_level</th>\n",
       "      <th>secondary_cleaner.state.floatbank5_b_air</th>\n",
       "      <th>secondary_cleaner.state.floatbank5_b_level</th>\n",
       "      <th>secondary_cleaner.state.floatbank6_a_air</th>\n",
       "      <th>secondary_cleaner.state.floatbank6_a_level</th>\n",
       "    </tr>\n",
       "  </thead>\n",
       "  <tbody>\n",
       "    <tr>\n",
       "      <th>count</th>\n",
       "      <td>19438.000000</td>\n",
       "      <td>19438.000000</td>\n",
       "      <td>19228.000000</td>\n",
       "      <td>19439.000000</td>\n",
       "      <td>19439.000000</td>\n",
       "      <td>19438.000000</td>\n",
       "      <td>19338.000000</td>\n",
       "      <td>19433.000000</td>\n",
       "      <td>19439.000000</td>\n",
       "      <td>19415.000000</td>\n",
       "      <td>19402.000000</td>\n",
       "      <td>19439.000000</td>\n",
       "      <td>19335.000000</td>\n",
       "      <td>19439.000000</td>\n",
       "      <td>19323.000000</td>\n",
       "      <td>19069.000000</td>\n",
       "      <td>19439.000000</td>\n",
       "      <td>19435.000000</td>\n",
       "      <td>19418.000000</td>\n",
       "      <td>19377.000000</td>\n",
       "      <td>19439.000000</td>\n",
       "      <td>1.943500e+04</td>\n",
       "      <td>19438.000000</td>\n",
       "      <td>1.943500e+04</td>\n",
       "      <td>19438.000000</td>\n",
       "      <td>1.943700e+04</td>\n",
       "      <td>19438.000000</td>\n",
       "      <td>1.943600e+04</td>\n",
       "      <td>19438.000000</td>\n",
       "      <td>1.943700e+04</td>\n",
       "      <td>19437.000000</td>\n",
       "      <td>19437.000000</td>\n",
       "      <td>19439.000000</td>\n",
       "      <td>19439.000000</td>\n",
       "      <td>19339.000000</td>\n",
       "      <td>19428.000000</td>\n",
       "      <td>19294.000000</td>\n",
       "      <td>19340.000000</td>\n",
       "      <td>19439.000000</td>\n",
       "      <td>19405.000000</td>\n",
       "      <td>19431.000000</td>\n",
       "      <td>19395.000000</td>\n",
       "      <td>18986.000000</td>\n",
       "      <td>19439.000000</td>\n",
       "      <td>19439.000000</td>\n",
       "      <td>19416.000000</td>\n",
       "      <td>19439.000000</td>\n",
       "      <td>19439.000000</td>\n",
       "      <td>19438.000000</td>\n",
       "      <td>19439.000000</td>\n",
       "      <td>19439.000000</td>\n",
       "      <td>19439.000000</td>\n",
       "      <td>19438.000000</td>\n",
       "      <td>19438.000000</td>\n",
       "      <td>19438.000000</td>\n",
       "      <td>19438.000000</td>\n",
       "      <td>19438.000000</td>\n",
       "      <td>19438.000000</td>\n",
       "      <td>19439.000000</td>\n",
       "      <td>19439.000000</td>\n",
       "      <td>19003.000000</td>\n",
       "      <td>19439.000000</td>\n",
       "      <td>19439.000000</td>\n",
       "      <td>19439.000000</td>\n",
       "      <td>19437.000000</td>\n",
       "      <td>19427.000000</td>\n",
       "      <td>17691.000000</td>\n",
       "      <td>19439.000000</td>\n",
       "      <td>19219.000000</td>\n",
       "      <td>19438.000000</td>\n",
       "      <td>19416.000000</td>\n",
       "      <td>19438.000000</td>\n",
       "      <td>19426.000000</td>\n",
       "      <td>19438.000000</td>\n",
       "      <td>19438.000000</td>\n",
       "      <td>19438.000000</td>\n",
       "      <td>19433.000000</td>\n",
       "      <td>19438.000000</td>\n",
       "      <td>19438.000000</td>\n",
       "      <td>19438.000000</td>\n",
       "      <td>19438.000000</td>\n",
       "      <td>19438.000000</td>\n",
       "      <td>19438.000000</td>\n",
       "      <td>19438.000000</td>\n",
       "      <td>19437.000000</td>\n",
       "      <td>19438.000000</td>\n",
       "    </tr>\n",
       "    <tr>\n",
       "      <th>mean</th>\n",
       "      <td>5.168470</td>\n",
       "      <td>9.978895</td>\n",
       "      <td>9.501224</td>\n",
       "      <td>44.076513</td>\n",
       "      <td>67.050208</td>\n",
       "      <td>9.688589</td>\n",
       "      <td>2.705795</td>\n",
       "      <td>10.583728</td>\n",
       "      <td>3.042467</td>\n",
       "      <td>144.624774</td>\n",
       "      <td>8.817039</td>\n",
       "      <td>7.307078</td>\n",
       "      <td>1.021795</td>\n",
       "      <td>8.442408</td>\n",
       "      <td>9.829530</td>\n",
       "      <td>10.489499</td>\n",
       "      <td>32.119400</td>\n",
       "      <td>16.145826</td>\n",
       "      <td>3.435656</td>\n",
       "      <td>7.973209</td>\n",
       "      <td>3.914179</td>\n",
       "      <td>1.589354e+03</td>\n",
       "      <td>-491.195012</td>\n",
       "      <td>1.591344e+03</td>\n",
       "      <td>-492.192978</td>\n",
       "      <td>1.586669e+03</td>\n",
       "      <td>-491.980070</td>\n",
       "      <td>1.542912e+03</td>\n",
       "      <td>-488.017382</td>\n",
       "      <td>4.217119e+04</td>\n",
       "      <td>3393.052498</td>\n",
       "      <td>3256.854171</td>\n",
       "      <td>2.420119</td>\n",
       "      <td>8.794927</td>\n",
       "      <td>3.598085</td>\n",
       "      <td>478.320042</td>\n",
       "      <td>58.970310</td>\n",
       "      <td>36.695114</td>\n",
       "      <td>8.266097</td>\n",
       "      <td>12.334373</td>\n",
       "      <td>6.021474</td>\n",
       "      <td>12.064140</td>\n",
       "      <td>6.065533</td>\n",
       "      <td>11.994759</td>\n",
       "      <td>7.606272</td>\n",
       "      <td>28.805571</td>\n",
       "      <td>19.772000</td>\n",
       "      <td>83.328587</td>\n",
       "      <td>5.588982</td>\n",
       "      <td>0.645782</td>\n",
       "      <td>18.057106</td>\n",
       "      <td>1.816391</td>\n",
       "      <td>1105.315068</td>\n",
       "      <td>-376.610690</td>\n",
       "      <td>1320.221139</td>\n",
       "      <td>-467.247826</td>\n",
       "      <td>1299.968799</td>\n",
       "      <td>-467.716946</td>\n",
       "      <td>1211.563299</td>\n",
       "      <td>-468.239912</td>\n",
       "      <td>1080.869685</td>\n",
       "      <td>-466.037742</td>\n",
       "      <td>1025.274256</td>\n",
       "      <td>-466.265327</td>\n",
       "      <td>14.586833</td>\n",
       "      <td>5.777703</td>\n",
       "      <td>7.167247</td>\n",
       "      <td>4.339625</td>\n",
       "      <td>28.705564</td>\n",
       "      <td>-502.367331</td>\n",
       "      <td>24.106800</td>\n",
       "      <td>-503.230712</td>\n",
       "      <td>28.199338</td>\n",
       "      <td>-486.203350</td>\n",
       "      <td>22.200645</td>\n",
       "      <td>-493.742107</td>\n",
       "      <td>18.987674</td>\n",
       "      <td>-485.894516</td>\n",
       "      <td>15.010366</td>\n",
       "      <td>-461.078636</td>\n",
       "      <td>15.694452</td>\n",
       "      <td>-488.684065</td>\n",
       "      <td>12.198224</td>\n",
       "      <td>-487.149827</td>\n",
       "      <td>18.959024</td>\n",
       "      <td>-505.436305</td>\n",
       "    </tr>\n",
       "    <tr>\n",
       "      <th>std</th>\n",
       "      <td>1.372348</td>\n",
       "      <td>1.669240</td>\n",
       "      <td>2.787537</td>\n",
       "      <td>5.129784</td>\n",
       "      <td>10.125840</td>\n",
       "      <td>2.328642</td>\n",
       "      <td>0.949077</td>\n",
       "      <td>2.868782</td>\n",
       "      <td>0.922808</td>\n",
       "      <td>44.464071</td>\n",
       "      <td>3.286186</td>\n",
       "      <td>0.613509</td>\n",
       "      <td>0.513254</td>\n",
       "      <td>2.054465</td>\n",
       "      <td>2.556843</td>\n",
       "      <td>3.909639</td>\n",
       "      <td>5.627611</td>\n",
       "      <td>3.548598</td>\n",
       "      <td>1.392536</td>\n",
       "      <td>2.212677</td>\n",
       "      <td>1.593034</td>\n",
       "      <td>1.289968e+02</td>\n",
       "      <td>32.431842</td>\n",
       "      <td>1.318109e+02</td>\n",
       "      <td>33.794822</td>\n",
       "      <td>1.361114e+02</td>\n",
       "      <td>32.711455</td>\n",
       "      <td>2.461996e+02</td>\n",
       "      <td>43.959780</td>\n",
       "      <td>3.243621e+05</td>\n",
       "      <td>4943.845943</td>\n",
       "      <td>5781.423659</td>\n",
       "      <td>0.814935</td>\n",
       "      <td>1.936847</td>\n",
       "      <td>1.049486</td>\n",
       "      <td>105.373758</td>\n",
       "      <td>21.634478</td>\n",
       "      <td>5.145445</td>\n",
       "      <td>1.955092</td>\n",
       "      <td>3.427317</td>\n",
       "      <td>1.127263</td>\n",
       "      <td>3.784221</td>\n",
       "      <td>1.099118</td>\n",
       "      <td>2.733862</td>\n",
       "      <td>1.796757</td>\n",
       "      <td>5.944207</td>\n",
       "      <td>3.753600</td>\n",
       "      <td>14.148086</td>\n",
       "      <td>1.111288</td>\n",
       "      <td>0.251526</td>\n",
       "      <td>3.449218</td>\n",
       "      <td>0.680046</td>\n",
       "      <td>160.826798</td>\n",
       "      <td>93.909667</td>\n",
       "      <td>176.287095</td>\n",
       "      <td>54.673142</td>\n",
       "      <td>202.804325</td>\n",
       "      <td>53.534825</td>\n",
       "      <td>204.019326</td>\n",
       "      <td>53.921458</td>\n",
       "      <td>172.149992</td>\n",
       "      <td>57.384424</td>\n",
       "      <td>164.487837</td>\n",
       "      <td>57.850263</td>\n",
       "      <td>4.265202</td>\n",
       "      <td>2.774598</td>\n",
       "      <td>3.916079</td>\n",
       "      <td>2.326751</td>\n",
       "      <td>5.458789</td>\n",
       "      <td>53.571950</td>\n",
       "      <td>5.749616</td>\n",
       "      <td>56.567724</td>\n",
       "      <td>6.134908</td>\n",
       "      <td>54.412349</td>\n",
       "      <td>5.574001</td>\n",
       "      <td>43.372158</td>\n",
       "      <td>5.411058</td>\n",
       "      <td>47.758570</td>\n",
       "      <td>4.890228</td>\n",
       "      <td>67.405524</td>\n",
       "      <td>5.510974</td>\n",
       "      <td>34.533396</td>\n",
       "      <td>5.333024</td>\n",
       "      <td>38.347312</td>\n",
       "      <td>5.550498</td>\n",
       "      <td>37.689057</td>\n",
       "    </tr>\n",
       "    <tr>\n",
       "      <th>min</th>\n",
       "      <td>0.000000</td>\n",
       "      <td>0.000000</td>\n",
       "      <td>0.000000</td>\n",
       "      <td>0.000000</td>\n",
       "      <td>0.000000</td>\n",
       "      <td>0.000000</td>\n",
       "      <td>0.000000</td>\n",
       "      <td>0.000000</td>\n",
       "      <td>0.000000</td>\n",
       "      <td>0.003112</td>\n",
       "      <td>0.000000</td>\n",
       "      <td>1.080000</td>\n",
       "      <td>0.000005</td>\n",
       "      <td>0.000000</td>\n",
       "      <td>0.000000</td>\n",
       "      <td>0.000000</td>\n",
       "      <td>0.000000</td>\n",
       "      <td>0.000000</td>\n",
       "      <td>0.000000</td>\n",
       "      <td>0.000000</td>\n",
       "      <td>0.000000</td>\n",
       "      <td>5.445860e-32</td>\n",
       "      <td>-798.641662</td>\n",
       "      <td>6.647490e-32</td>\n",
       "      <td>-799.997015</td>\n",
       "      <td>4.033736e-32</td>\n",
       "      <td>-799.960571</td>\n",
       "      <td>4.039220e-32</td>\n",
       "      <td>-799.794250</td>\n",
       "      <td>-4.223520e+07</td>\n",
       "      <td>-486.598675</td>\n",
       "      <td>-264.982785</td>\n",
       "      <td>-0.010548</td>\n",
       "      <td>0.010000</td>\n",
       "      <td>0.010000</td>\n",
       "      <td>0.002986</td>\n",
       "      <td>0.046369</td>\n",
       "      <td>0.010000</td>\n",
       "      <td>0.010000</td>\n",
       "      <td>0.001083</td>\n",
       "      <td>0.000568</td>\n",
       "      <td>0.000077</td>\n",
       "      <td>0.000290</td>\n",
       "      <td>0.000000</td>\n",
       "      <td>0.000000</td>\n",
       "      <td>0.000000</td>\n",
       "      <td>0.000000</td>\n",
       "      <td>0.000000</td>\n",
       "      <td>0.594562</td>\n",
       "      <td>0.007566</td>\n",
       "      <td>10.014648</td>\n",
       "      <td>0.020676</td>\n",
       "      <td>-0.042069</td>\n",
       "      <td>-657.949759</td>\n",
       "      <td>-0.721806</td>\n",
       "      <td>-650.260008</td>\n",
       "      <td>-0.056636</td>\n",
       "      <td>-647.544439</td>\n",
       "      <td>-0.992219</td>\n",
       "      <td>-648.390665</td>\n",
       "      <td>-1.982295</td>\n",
       "      <td>-649.443911</td>\n",
       "      <td>-2.593390</td>\n",
       "      <td>-649.949283</td>\n",
       "      <td>0.000000</td>\n",
       "      <td>0.000000</td>\n",
       "      <td>0.000000</td>\n",
       "      <td>0.000000</td>\n",
       "      <td>0.077503</td>\n",
       "      <td>-799.606441</td>\n",
       "      <td>0.000000</td>\n",
       "      <td>-799.873878</td>\n",
       "      <td>0.000000</td>\n",
       "      <td>-799.755798</td>\n",
       "      <td>0.000000</td>\n",
       "      <td>-809.333008</td>\n",
       "      <td>0.000000</td>\n",
       "      <td>-799.798523</td>\n",
       "      <td>0.000000</td>\n",
       "      <td>-800.836914</td>\n",
       "      <td>-0.372054</td>\n",
       "      <td>-797.323986</td>\n",
       "      <td>0.528083</td>\n",
       "      <td>-800.220337</td>\n",
       "      <td>-0.079426</td>\n",
       "      <td>-809.741464</td>\n",
       "    </tr>\n",
       "    <tr>\n",
       "      <th>25%</th>\n",
       "      <td>4.251240</td>\n",
       "      <td>9.137262</td>\n",
       "      <td>7.722820</td>\n",
       "      <td>43.402215</td>\n",
       "      <td>63.299712</td>\n",
       "      <td>8.062878</td>\n",
       "      <td>2.040119</td>\n",
       "      <td>8.938947</td>\n",
       "      <td>2.461138</td>\n",
       "      <td>114.107029</td>\n",
       "      <td>6.076909</td>\n",
       "      <td>6.940000</td>\n",
       "      <td>0.697224</td>\n",
       "      <td>7.263288</td>\n",
       "      <td>8.702328</td>\n",
       "      <td>7.893893</td>\n",
       "      <td>30.463140</td>\n",
       "      <td>14.017742</td>\n",
       "      <td>2.504365</td>\n",
       "      <td>6.747483</td>\n",
       "      <td>2.924844</td>\n",
       "      <td>1.505063e+03</td>\n",
       "      <td>-500.308544</td>\n",
       "      <td>1.503630e+03</td>\n",
       "      <td>-500.437171</td>\n",
       "      <td>1.500927e+03</td>\n",
       "      <td>-500.703932</td>\n",
       "      <td>1.494219e+03</td>\n",
       "      <td>-500.458365</td>\n",
       "      <td>4.070095e+04</td>\n",
       "      <td>2611.425833</td>\n",
       "      <td>2551.437587</td>\n",
       "      <td>2.035434</td>\n",
       "      <td>7.237967</td>\n",
       "      <td>2.887280</td>\n",
       "      <td>416.525453</td>\n",
       "      <td>47.435103</td>\n",
       "      <td>34.207799</td>\n",
       "      <td>6.854384</td>\n",
       "      <td>10.000362</td>\n",
       "      <td>5.398678</td>\n",
       "      <td>9.998460</td>\n",
       "      <td>5.402368</td>\n",
       "      <td>10.628337</td>\n",
       "      <td>6.725987</td>\n",
       "      <td>27.224120</td>\n",
       "      <td>18.802523</td>\n",
       "      <td>81.037957</td>\n",
       "      <td>4.889892</td>\n",
       "      <td>0.477728</td>\n",
       "      <td>15.822525</td>\n",
       "      <td>1.404207</td>\n",
       "      <td>999.661867</td>\n",
       "      <td>-499.835165</td>\n",
       "      <td>1199.626115</td>\n",
       "      <td>-500.201130</td>\n",
       "      <td>1151.076301</td>\n",
       "      <td>-500.217218</td>\n",
       "      <td>1061.051788</td>\n",
       "      <td>-500.386386</td>\n",
       "      <td>998.675263</td>\n",
       "      <td>-500.232191</td>\n",
       "      <td>900.995511</td>\n",
       "      <td>-500.522553</td>\n",
       "      <td>12.640239</td>\n",
       "      <td>3.864733</td>\n",
       "      <td>3.845475</td>\n",
       "      <td>3.182770</td>\n",
       "      <td>25.048462</td>\n",
       "      <td>-500.233700</td>\n",
       "      <td>20.919853</td>\n",
       "      <td>-500.253794</td>\n",
       "      <td>24.949227</td>\n",
       "      <td>-500.213546</td>\n",
       "      <td>18.995924</td>\n",
       "      <td>-500.123034</td>\n",
       "      <td>14.975734</td>\n",
       "      <td>-500.704892</td>\n",
       "      <td>11.940294</td>\n",
       "      <td>-500.187742</td>\n",
       "      <td>10.988606</td>\n",
       "      <td>-500.458467</td>\n",
       "      <td>8.971105</td>\n",
       "      <td>-500.129462</td>\n",
       "      <td>14.983037</td>\n",
       "      <td>-500.728067</td>\n",
       "    </tr>\n",
       "    <tr>\n",
       "      <th>50%</th>\n",
       "      <td>5.066094</td>\n",
       "      <td>10.102433</td>\n",
       "      <td>9.218961</td>\n",
       "      <td>45.011244</td>\n",
       "      <td>68.172738</td>\n",
       "      <td>9.743623</td>\n",
       "      <td>2.748730</td>\n",
       "      <td>10.622456</td>\n",
       "      <td>2.984909</td>\n",
       "      <td>143.232103</td>\n",
       "      <td>8.038311</td>\n",
       "      <td>7.280000</td>\n",
       "      <td>0.940863</td>\n",
       "      <td>8.507298</td>\n",
       "      <td>10.152433</td>\n",
       "      <td>10.314632</td>\n",
       "      <td>32.841295</td>\n",
       "      <td>15.842836</td>\n",
       "      <td>3.271153</td>\n",
       "      <td>8.183673</td>\n",
       "      <td>3.623234</td>\n",
       "      <td>1.600597e+03</td>\n",
       "      <td>-499.926134</td>\n",
       "      <td>1.600521e+03</td>\n",
       "      <td>-499.956767</td>\n",
       "      <td>1.600254e+03</td>\n",
       "      <td>-499.909524</td>\n",
       "      <td>1.599447e+03</td>\n",
       "      <td>-499.905974</td>\n",
       "      <td>4.469648e+04</td>\n",
       "      <td>3018.353876</td>\n",
       "      <td>2997.218088</td>\n",
       "      <td>2.309665</td>\n",
       "      <td>8.593574</td>\n",
       "      <td>3.534895</td>\n",
       "      <td>499.416120</td>\n",
       "      <td>54.610197</td>\n",
       "      <td>37.202650</td>\n",
       "      <td>8.125839</td>\n",
       "      <td>12.001174</td>\n",
       "      <td>6.008273</td>\n",
       "      <td>12.000204</td>\n",
       "      <td>6.098580</td>\n",
       "      <td>12.098115</td>\n",
       "      <td>7.742580</td>\n",
       "      <td>29.835345</td>\n",
       "      <td>20.280214</td>\n",
       "      <td>86.188892</td>\n",
       "      <td>5.765802</td>\n",
       "      <td>0.617465</td>\n",
       "      <td>18.106867</td>\n",
       "      <td>1.808170</td>\n",
       "      <td>1001.072890</td>\n",
       "      <td>-300.263994</td>\n",
       "      <td>1301.579988</td>\n",
       "      <td>-499.784045</td>\n",
       "      <td>1300.211537</td>\n",
       "      <td>-499.713364</td>\n",
       "      <td>1201.569141</td>\n",
       "      <td>-499.532412</td>\n",
       "      <td>1050.029461</td>\n",
       "      <td>-499.663089</td>\n",
       "      <td>999.924821</td>\n",
       "      <td>-499.471777</td>\n",
       "      <td>15.641902</td>\n",
       "      <td>5.344073</td>\n",
       "      <td>7.685827</td>\n",
       "      <td>4.072412</td>\n",
       "      <td>29.099943</td>\n",
       "      <td>-499.973250</td>\n",
       "      <td>25.043289</td>\n",
       "      <td>-500.015439</td>\n",
       "      <td>27.982129</td>\n",
       "      <td>-499.930680</td>\n",
       "      <td>22.011231</td>\n",
       "      <td>-499.981902</td>\n",
       "      <td>18.017481</td>\n",
       "      <td>-499.837793</td>\n",
       "      <td>14.971014</td>\n",
       "      <td>-499.459786</td>\n",
       "      <td>15.000036</td>\n",
       "      <td>-499.802605</td>\n",
       "      <td>11.019433</td>\n",
       "      <td>-499.935317</td>\n",
       "      <td>19.960541</td>\n",
       "      <td>-500.048400</td>\n",
       "    </tr>\n",
       "    <tr>\n",
       "      <th>75%</th>\n",
       "      <td>5.895527</td>\n",
       "      <td>11.035769</td>\n",
       "      <td>10.947813</td>\n",
       "      <td>46.275313</td>\n",
       "      <td>72.686642</td>\n",
       "      <td>11.134294</td>\n",
       "      <td>3.333216</td>\n",
       "      <td>12.104271</td>\n",
       "      <td>3.571351</td>\n",
       "      <td>175.075656</td>\n",
       "      <td>11.013521</td>\n",
       "      <td>7.670000</td>\n",
       "      <td>1.210990</td>\n",
       "      <td>9.809001</td>\n",
       "      <td>11.424971</td>\n",
       "      <td>13.446702</td>\n",
       "      <td>35.048006</td>\n",
       "      <td>18.013975</td>\n",
       "      <td>4.181748</td>\n",
       "      <td>9.548586</td>\n",
       "      <td>4.585705</td>\n",
       "      <td>1.697658e+03</td>\n",
       "      <td>-499.433950</td>\n",
       "      <td>1.699218e+03</td>\n",
       "      <td>-499.373336</td>\n",
       "      <td>1.699483e+03</td>\n",
       "      <td>-498.857643</td>\n",
       "      <td>1.698525e+03</td>\n",
       "      <td>-499.064695</td>\n",
       "      <td>4.816821e+04</td>\n",
       "      <td>3676.769750</td>\n",
       "      <td>3601.998911</td>\n",
       "      <td>2.731794</td>\n",
       "      <td>10.213771</td>\n",
       "      <td>4.244161</td>\n",
       "      <td>550.172183</td>\n",
       "      <td>65.023044</td>\n",
       "      <td>40.039133</td>\n",
       "      <td>9.769917</td>\n",
       "      <td>14.716595</td>\n",
       "      <td>6.798051</td>\n",
       "      <td>14.636766</td>\n",
       "      <td>6.801233</td>\n",
       "      <td>13.736996</td>\n",
       "      <td>8.565199</td>\n",
       "      <td>32.189933</td>\n",
       "      <td>21.717843</td>\n",
       "      <td>90.010670</td>\n",
       "      <td>6.389234</td>\n",
       "      <td>0.778271</td>\n",
       "      <td>20.088151</td>\n",
       "      <td>2.211861</td>\n",
       "      <td>1205.620588</td>\n",
       "      <td>-299.981998</td>\n",
       "      <td>1448.630789</td>\n",
       "      <td>-400.615589</td>\n",
       "      <td>1449.464001</td>\n",
       "      <td>-400.985743</td>\n",
       "      <td>1352.880320</td>\n",
       "      <td>-401.638550</td>\n",
       "      <td>1199.425140</td>\n",
       "      <td>-401.161191</td>\n",
       "      <td>1099.719692</td>\n",
       "      <td>-401.511042</td>\n",
       "      <td>17.358217</td>\n",
       "      <td>7.788467</td>\n",
       "      <td>10.411296</td>\n",
       "      <td>5.063081</td>\n",
       "      <td>33.012536</td>\n",
       "      <td>-499.671261</td>\n",
       "      <td>28.008197</td>\n",
       "      <td>-499.785698</td>\n",
       "      <td>33.002798</td>\n",
       "      <td>-499.325739</td>\n",
       "      <td>25.998206</td>\n",
       "      <td>-499.812834</td>\n",
       "      <td>23.012470</td>\n",
       "      <td>-498.249730</td>\n",
       "      <td>19.034162</td>\n",
       "      <td>-400.118106</td>\n",
       "      <td>18.026190</td>\n",
       "      <td>-498.384187</td>\n",
       "      <td>14.019088</td>\n",
       "      <td>-499.436708</td>\n",
       "      <td>24.003170</td>\n",
       "      <td>-499.495378</td>\n",
       "    </tr>\n",
       "    <tr>\n",
       "      <th>max</th>\n",
       "      <td>16.001945</td>\n",
       "      <td>17.031899</td>\n",
       "      <td>19.615720</td>\n",
       "      <td>52.756638</td>\n",
       "      <td>100.000000</td>\n",
       "      <td>19.552149</td>\n",
       "      <td>5.804178</td>\n",
       "      <td>22.317730</td>\n",
       "      <td>8.245022</td>\n",
       "      <td>265.983123</td>\n",
       "      <td>40.000000</td>\n",
       "      <td>15.500000</td>\n",
       "      <td>4.102454</td>\n",
       "      <td>16.081632</td>\n",
       "      <td>17.081278</td>\n",
       "      <td>22.458114</td>\n",
       "      <td>45.933934</td>\n",
       "      <td>29.459575</td>\n",
       "      <td>9.634565</td>\n",
       "      <td>22.276364</td>\n",
       "      <td>17.788925</td>\n",
       "      <td>2.103104e+03</td>\n",
       "      <td>-57.195404</td>\n",
       "      <td>2.114907e+03</td>\n",
       "      <td>-142.527229</td>\n",
       "      <td>2.013156e+03</td>\n",
       "      <td>-150.937035</td>\n",
       "      <td>2.398904e+03</td>\n",
       "      <td>-30.601828</td>\n",
       "      <td>3.428099e+06</td>\n",
       "      <td>629638.977914</td>\n",
       "      <td>718684.955855</td>\n",
       "      <td>39.379272</td>\n",
       "      <td>14.596026</td>\n",
       "      <td>7.142594</td>\n",
       "      <td>717.508837</td>\n",
       "      <td>484.967466</td>\n",
       "      <td>53.477742</td>\n",
       "      <td>13.731330</td>\n",
       "      <td>36.118275</td>\n",
       "      <td>9.703448</td>\n",
       "      <td>37.980648</td>\n",
       "      <td>9.698407</td>\n",
       "      <td>24.480271</td>\n",
       "      <td>13.617072</td>\n",
       "      <td>38.351193</td>\n",
       "      <td>28.824507</td>\n",
       "      <td>100.000000</td>\n",
       "      <td>12.719177</td>\n",
       "      <td>3.778064</td>\n",
       "      <td>66.117188</td>\n",
       "      <td>9.688980</td>\n",
       "      <td>1521.980372</td>\n",
       "      <td>-273.776101</td>\n",
       "      <td>1809.194008</td>\n",
       "      <td>-296.383080</td>\n",
       "      <td>2499.129174</td>\n",
       "      <td>-292.155509</td>\n",
       "      <td>1817.199290</td>\n",
       "      <td>-76.397327</td>\n",
       "      <td>1922.636637</td>\n",
       "      <td>-139.753025</td>\n",
       "      <td>1706.307502</td>\n",
       "      <td>-191.718480</td>\n",
       "      <td>23.264738</td>\n",
       "      <td>17.042505</td>\n",
       "      <td>26.000772</td>\n",
       "      <td>26.811643</td>\n",
       "      <td>52.651399</td>\n",
       "      <td>-127.875565</td>\n",
       "      <td>35.152122</td>\n",
       "      <td>-211.999273</td>\n",
       "      <td>44.260464</td>\n",
       "      <td>-191.678810</td>\n",
       "      <td>35.072841</td>\n",
       "      <td>-159.742331</td>\n",
       "      <td>30.115735</td>\n",
       "      <td>-245.239184</td>\n",
       "      <td>31.269706</td>\n",
       "      <td>-6.506986</td>\n",
       "      <td>43.709931</td>\n",
       "      <td>-244.483566</td>\n",
       "      <td>27.926001</td>\n",
       "      <td>-137.740004</td>\n",
       "      <td>32.188906</td>\n",
       "      <td>-104.427459</td>\n",
       "    </tr>\n",
       "  </tbody>\n",
       "</table>\n",
       "</div>"
      ],
      "text/plain": [
       "       final.output.concentrate_ag  final.output.concentrate_pb  \\\n",
       "count                 19438.000000                 19438.000000   \n",
       "mean                      5.168470                     9.978895   \n",
       "std                       1.372348                     1.669240   \n",
       "min                       0.000000                     0.000000   \n",
       "25%                       4.251240                     9.137262   \n",
       "50%                       5.066094                    10.102433   \n",
       "75%                       5.895527                    11.035769   \n",
       "max                      16.001945                    17.031899   \n",
       "\n",
       "       final.output.concentrate_sol  final.output.concentrate_au  \\\n",
       "count                  19228.000000                 19439.000000   \n",
       "mean                       9.501224                    44.076513   \n",
       "std                        2.787537                     5.129784   \n",
       "min                        0.000000                     0.000000   \n",
       "25%                        7.722820                    43.402215   \n",
       "50%                        9.218961                    45.011244   \n",
       "75%                       10.947813                    46.275313   \n",
       "max                       19.615720                    52.756638   \n",
       "\n",
       "       final.output.recovery  final.output.tail_ag  final.output.tail_pb  \\\n",
       "count           19439.000000          19438.000000          19338.000000   \n",
       "mean               67.050208              9.688589              2.705795   \n",
       "std                10.125840              2.328642              0.949077   \n",
       "min                 0.000000              0.000000              0.000000   \n",
       "25%                63.299712              8.062878              2.040119   \n",
       "50%                68.172738              9.743623              2.748730   \n",
       "75%                72.686642             11.134294              3.333216   \n",
       "max               100.000000             19.552149              5.804178   \n",
       "\n",
       "       final.output.tail_sol  final.output.tail_au  \\\n",
       "count           19433.000000          19439.000000   \n",
       "mean               10.583728              3.042467   \n",
       "std                 2.868782              0.922808   \n",
       "min                 0.000000              0.000000   \n",
       "25%                 8.938947              2.461138   \n",
       "50%                10.622456              2.984909   \n",
       "75%                12.104271              3.571351   \n",
       "max                22.317730              8.245022   \n",
       "\n",
       "       primary_cleaner.input.sulfate  primary_cleaner.input.depressant  \\\n",
       "count                   19415.000000                      19402.000000   \n",
       "mean                      144.624774                          8.817039   \n",
       "std                        44.464071                          3.286186   \n",
       "min                         0.003112                          0.000000   \n",
       "25%                       114.107029                          6.076909   \n",
       "50%                       143.232103                          8.038311   \n",
       "75%                       175.075656                         11.013521   \n",
       "max                       265.983123                         40.000000   \n",
       "\n",
       "       primary_cleaner.input.feed_size  primary_cleaner.input.xanthate  \\\n",
       "count                     19439.000000                    19335.000000   \n",
       "mean                          7.307078                        1.021795   \n",
       "std                           0.613509                        0.513254   \n",
       "min                           1.080000                        0.000005   \n",
       "25%                           6.940000                        0.697224   \n",
       "50%                           7.280000                        0.940863   \n",
       "75%                           7.670000                        1.210990   \n",
       "max                          15.500000                        4.102454   \n",
       "\n",
       "       primary_cleaner.output.concentrate_ag  \\\n",
       "count                           19439.000000   \n",
       "mean                                8.442408   \n",
       "std                                 2.054465   \n",
       "min                                 0.000000   \n",
       "25%                                 7.263288   \n",
       "50%                                 8.507298   \n",
       "75%                                 9.809001   \n",
       "max                                16.081632   \n",
       "\n",
       "       primary_cleaner.output.concentrate_pb  \\\n",
       "count                           19323.000000   \n",
       "mean                                9.829530   \n",
       "std                                 2.556843   \n",
       "min                                 0.000000   \n",
       "25%                                 8.702328   \n",
       "50%                                10.152433   \n",
       "75%                                11.424971   \n",
       "max                                17.081278   \n",
       "\n",
       "       primary_cleaner.output.concentrate_sol  \\\n",
       "count                            19069.000000   \n",
       "mean                                10.489499   \n",
       "std                                  3.909639   \n",
       "min                                  0.000000   \n",
       "25%                                  7.893893   \n",
       "50%                                 10.314632   \n",
       "75%                                 13.446702   \n",
       "max                                 22.458114   \n",
       "\n",
       "       primary_cleaner.output.concentrate_au  primary_cleaner.output.tail_ag  \\\n",
       "count                           19439.000000                    19435.000000   \n",
       "mean                               32.119400                       16.145826   \n",
       "std                                 5.627611                        3.548598   \n",
       "min                                 0.000000                        0.000000   \n",
       "25%                                30.463140                       14.017742   \n",
       "50%                                32.841295                       15.842836   \n",
       "75%                                35.048006                       18.013975   \n",
       "max                                45.933934                       29.459575   \n",
       "\n",
       "       primary_cleaner.output.tail_pb  primary_cleaner.output.tail_sol  \\\n",
       "count                    19418.000000                     19377.000000   \n",
       "mean                         3.435656                         7.973209   \n",
       "std                          1.392536                         2.212677   \n",
       "min                          0.000000                         0.000000   \n",
       "25%                          2.504365                         6.747483   \n",
       "50%                          3.271153                         8.183673   \n",
       "75%                          4.181748                         9.548586   \n",
       "max                          9.634565                        22.276364   \n",
       "\n",
       "       primary_cleaner.output.tail_au  primary_cleaner.state.floatbank8_a_air  \\\n",
       "count                    19439.000000                            1.943500e+04   \n",
       "mean                         3.914179                            1.589354e+03   \n",
       "std                          1.593034                            1.289968e+02   \n",
       "min                          0.000000                            5.445860e-32   \n",
       "25%                          2.924844                            1.505063e+03   \n",
       "50%                          3.623234                            1.600597e+03   \n",
       "75%                          4.585705                            1.697658e+03   \n",
       "max                         17.788925                            2.103104e+03   \n",
       "\n",
       "       primary_cleaner.state.floatbank8_a_level  \\\n",
       "count                              19438.000000   \n",
       "mean                                -491.195012   \n",
       "std                                   32.431842   \n",
       "min                                 -798.641662   \n",
       "25%                                 -500.308544   \n",
       "50%                                 -499.926134   \n",
       "75%                                 -499.433950   \n",
       "max                                  -57.195404   \n",
       "\n",
       "       primary_cleaner.state.floatbank8_b_air  \\\n",
       "count                            1.943500e+04   \n",
       "mean                             1.591344e+03   \n",
       "std                              1.318109e+02   \n",
       "min                              6.647490e-32   \n",
       "25%                              1.503630e+03   \n",
       "50%                              1.600521e+03   \n",
       "75%                              1.699218e+03   \n",
       "max                              2.114907e+03   \n",
       "\n",
       "       primary_cleaner.state.floatbank8_b_level  \\\n",
       "count                              19438.000000   \n",
       "mean                                -492.192978   \n",
       "std                                   33.794822   \n",
       "min                                 -799.997015   \n",
       "25%                                 -500.437171   \n",
       "50%                                 -499.956767   \n",
       "75%                                 -499.373336   \n",
       "max                                 -142.527229   \n",
       "\n",
       "       primary_cleaner.state.floatbank8_c_air  \\\n",
       "count                            1.943700e+04   \n",
       "mean                             1.586669e+03   \n",
       "std                              1.361114e+02   \n",
       "min                              4.033736e-32   \n",
       "25%                              1.500927e+03   \n",
       "50%                              1.600254e+03   \n",
       "75%                              1.699483e+03   \n",
       "max                              2.013156e+03   \n",
       "\n",
       "       primary_cleaner.state.floatbank8_c_level  \\\n",
       "count                              19438.000000   \n",
       "mean                                -491.980070   \n",
       "std                                   32.711455   \n",
       "min                                 -799.960571   \n",
       "25%                                 -500.703932   \n",
       "50%                                 -499.909524   \n",
       "75%                                 -498.857643   \n",
       "max                                 -150.937035   \n",
       "\n",
       "       primary_cleaner.state.floatbank8_d_air  \\\n",
       "count                            1.943600e+04   \n",
       "mean                             1.542912e+03   \n",
       "std                              2.461996e+02   \n",
       "min                              4.039220e-32   \n",
       "25%                              1.494219e+03   \n",
       "50%                              1.599447e+03   \n",
       "75%                              1.698525e+03   \n",
       "max                              2.398904e+03   \n",
       "\n",
       "       primary_cleaner.state.floatbank8_d_level  \\\n",
       "count                              19438.000000   \n",
       "mean                                -488.017382   \n",
       "std                                   43.959780   \n",
       "min                                 -799.794250   \n",
       "25%                                 -500.458365   \n",
       "50%                                 -499.905974   \n",
       "75%                                 -499.064695   \n",
       "max                                  -30.601828   \n",
       "\n",
       "       rougher.calculation.sulfate_to_au_concentrate  \\\n",
       "count                                   1.943700e+04   \n",
       "mean                                    4.217119e+04   \n",
       "std                                     3.243621e+05   \n",
       "min                                    -4.223520e+07   \n",
       "25%                                     4.070095e+04   \n",
       "50%                                     4.469648e+04   \n",
       "75%                                     4.816821e+04   \n",
       "max                                     3.428099e+06   \n",
       "\n",
       "       rougher.calculation.floatbank10_sulfate_to_au_feed  \\\n",
       "count                                        19437.000000   \n",
       "mean                                          3393.052498   \n",
       "std                                           4943.845943   \n",
       "min                                           -486.598675   \n",
       "25%                                           2611.425833   \n",
       "50%                                           3018.353876   \n",
       "75%                                           3676.769750   \n",
       "max                                         629638.977914   \n",
       "\n",
       "       rougher.calculation.floatbank11_sulfate_to_au_feed  \\\n",
       "count                                        19437.000000   \n",
       "mean                                          3256.854171   \n",
       "std                                           5781.423659   \n",
       "min                                           -264.982785   \n",
       "25%                                           2551.437587   \n",
       "50%                                           2997.218088   \n",
       "75%                                           3601.998911   \n",
       "max                                         718684.955855   \n",
       "\n",
       "       rougher.calculation.au_pb_ratio  rougher.input.feed_ag  \\\n",
       "count                     19439.000000           19439.000000   \n",
       "mean                          2.420119               8.794927   \n",
       "std                           0.814935               1.936847   \n",
       "min                          -0.010548               0.010000   \n",
       "25%                           2.035434               7.237967   \n",
       "50%                           2.309665               8.593574   \n",
       "75%                           2.731794              10.213771   \n",
       "max                          39.379272              14.596026   \n",
       "\n",
       "       rougher.input.feed_pb  rougher.input.feed_rate  \\\n",
       "count           19339.000000             19428.000000   \n",
       "mean                3.598085               478.320042   \n",
       "std                 1.049486               105.373758   \n",
       "min                 0.010000                 0.002986   \n",
       "25%                 2.887280               416.525453   \n",
       "50%                 3.534895               499.416120   \n",
       "75%                 4.244161               550.172183   \n",
       "max                 7.142594               717.508837   \n",
       "\n",
       "       rougher.input.feed_size  rougher.input.feed_sol  rougher.input.feed_au  \\\n",
       "count             19294.000000            19340.000000           19439.000000   \n",
       "mean                 58.970310               36.695114               8.266097   \n",
       "std                  21.634478                5.145445               1.955092   \n",
       "min                   0.046369                0.010000               0.010000   \n",
       "25%                  47.435103               34.207799               6.854384   \n",
       "50%                  54.610197               37.202650               8.125839   \n",
       "75%                  65.023044               40.039133               9.769917   \n",
       "max                 484.967466               53.477742              13.731330   \n",
       "\n",
       "       rougher.input.floatbank10_sulfate  rougher.input.floatbank10_xanthate  \\\n",
       "count                       19405.000000                        19431.000000   \n",
       "mean                           12.334373                            6.021474   \n",
       "std                             3.427317                            1.127263   \n",
       "min                             0.001083                            0.000568   \n",
       "25%                            10.000362                            5.398678   \n",
       "50%                            12.001174                            6.008273   \n",
       "75%                            14.716595                            6.798051   \n",
       "max                            36.118275                            9.703448   \n",
       "\n",
       "       rougher.input.floatbank11_sulfate  rougher.input.floatbank11_xanthate  \\\n",
       "count                       19395.000000                        18986.000000   \n",
       "mean                           12.064140                            6.065533   \n",
       "std                             3.784221                            1.099118   \n",
       "min                             0.000077                            0.000290   \n",
       "25%                             9.998460                            5.402368   \n",
       "50%                            12.000204                            6.098580   \n",
       "75%                            14.636766                            6.801233   \n",
       "max                            37.980648                            9.698407   \n",
       "\n",
       "       rougher.output.concentrate_ag  rougher.output.concentrate_pb  \\\n",
       "count                   19439.000000                   19439.000000   \n",
       "mean                       11.994759                       7.606272   \n",
       "std                         2.733862                       1.796757   \n",
       "min                         0.000000                       0.000000   \n",
       "25%                        10.628337                       6.725987   \n",
       "50%                        12.098115                       7.742580   \n",
       "75%                        13.736996                       8.565199   \n",
       "max                        24.480271                      13.617072   \n",
       "\n",
       "       rougher.output.concentrate_sol  rougher.output.concentrate_au  \\\n",
       "count                    19416.000000                   19439.000000   \n",
       "mean                        28.805571                      19.772000   \n",
       "std                          5.944207                       3.753600   \n",
       "min                          0.000000                       0.000000   \n",
       "25%                         27.224120                      18.802523   \n",
       "50%                         29.835345                      20.280214   \n",
       "75%                         32.189933                      21.717843   \n",
       "max                         38.351193                      28.824507   \n",
       "\n",
       "       rougher.output.recovery  rougher.output.tail_ag  \\\n",
       "count             19439.000000            19438.000000   \n",
       "mean                 83.328587                5.588982   \n",
       "std                  14.148086                1.111288   \n",
       "min                   0.000000                0.594562   \n",
       "25%                  81.037957                4.889892   \n",
       "50%                  86.188892                5.765802   \n",
       "75%                  90.010670                6.389234   \n",
       "max                 100.000000               12.719177   \n",
       "\n",
       "       rougher.output.tail_pb  rougher.output.tail_sol  \\\n",
       "count            19439.000000             19439.000000   \n",
       "mean                 0.645782                18.057106   \n",
       "std                  0.251526                 3.449218   \n",
       "min                  0.007566                10.014648   \n",
       "25%                  0.477728                15.822525   \n",
       "50%                  0.617465                18.106867   \n",
       "75%                  0.778271                20.088151   \n",
       "max                  3.778064                66.117188   \n",
       "\n",
       "       rougher.output.tail_au  rougher.state.floatbank10_a_air  \\\n",
       "count            19439.000000                     19438.000000   \n",
       "mean                 1.816391                      1105.315068   \n",
       "std                  0.680046                       160.826798   \n",
       "min                  0.020676                        -0.042069   \n",
       "25%                  1.404207                       999.661867   \n",
       "50%                  1.808170                      1001.072890   \n",
       "75%                  2.211861                      1205.620588   \n",
       "max                  9.688980                      1521.980372   \n",
       "\n",
       "       rougher.state.floatbank10_a_level  rougher.state.floatbank10_b_air  \\\n",
       "count                       19438.000000                     19438.000000   \n",
       "mean                         -376.610690                      1320.221139   \n",
       "std                            93.909667                       176.287095   \n",
       "min                          -657.949759                        -0.721806   \n",
       "25%                          -499.835165                      1199.626115   \n",
       "50%                          -300.263994                      1301.579988   \n",
       "75%                          -299.981998                      1448.630789   \n",
       "max                          -273.776101                      1809.194008   \n",
       "\n",
       "       rougher.state.floatbank10_b_level  rougher.state.floatbank10_c_air  \\\n",
       "count                       19438.000000                     19438.000000   \n",
       "mean                         -467.247826                      1299.968799   \n",
       "std                            54.673142                       202.804325   \n",
       "min                          -650.260008                        -0.056636   \n",
       "25%                          -500.201130                      1151.076301   \n",
       "50%                          -499.784045                      1300.211537   \n",
       "75%                          -400.615589                      1449.464001   \n",
       "max                          -296.383080                      2499.129174   \n",
       "\n",
       "       rougher.state.floatbank10_c_level  rougher.state.floatbank10_d_air  \\\n",
       "count                       19438.000000                     19439.000000   \n",
       "mean                         -467.716946                      1211.563299   \n",
       "std                            53.534825                       204.019326   \n",
       "min                          -647.544439                        -0.992219   \n",
       "25%                          -500.217218                      1061.051788   \n",
       "50%                          -499.713364                      1201.569141   \n",
       "75%                          -400.985743                      1352.880320   \n",
       "max                          -292.155509                      1817.199290   \n",
       "\n",
       "       rougher.state.floatbank10_d_level  rougher.state.floatbank10_e_air  \\\n",
       "count                       19439.000000                     19003.000000   \n",
       "mean                         -468.239912                      1080.869685   \n",
       "std                            53.921458                       172.149992   \n",
       "min                          -648.390665                        -1.982295   \n",
       "25%                          -500.386386                       998.675263   \n",
       "50%                          -499.532412                      1050.029461   \n",
       "75%                          -401.638550                      1199.425140   \n",
       "max                           -76.397327                      1922.636637   \n",
       "\n",
       "       rougher.state.floatbank10_e_level  rougher.state.floatbank10_f_air  \\\n",
       "count                       19439.000000                     19439.000000   \n",
       "mean                         -466.037742                      1025.274256   \n",
       "std                            57.384424                       164.487837   \n",
       "min                          -649.443911                        -2.593390   \n",
       "25%                          -500.232191                       900.995511   \n",
       "50%                          -499.663089                       999.924821   \n",
       "75%                          -401.161191                      1099.719692   \n",
       "max                          -139.753025                      1706.307502   \n",
       "\n",
       "       rougher.state.floatbank10_f_level  secondary_cleaner.output.tail_ag  \\\n",
       "count                       19439.000000                      19437.000000   \n",
       "mean                         -466.265327                         14.586833   \n",
       "std                            57.850263                          4.265202   \n",
       "min                          -649.949283                          0.000000   \n",
       "25%                          -500.522553                         12.640239   \n",
       "50%                          -499.471777                         15.641902   \n",
       "75%                          -401.511042                         17.358217   \n",
       "max                          -191.718480                         23.264738   \n",
       "\n",
       "       secondary_cleaner.output.tail_pb  secondary_cleaner.output.tail_sol  \\\n",
       "count                      19427.000000                       17691.000000   \n",
       "mean                           5.777703                           7.167247   \n",
       "std                            2.774598                           3.916079   \n",
       "min                            0.000000                           0.000000   \n",
       "25%                            3.864733                           3.845475   \n",
       "50%                            5.344073                           7.685827   \n",
       "75%                            7.788467                          10.411296   \n",
       "max                           17.042505                          26.000772   \n",
       "\n",
       "       secondary_cleaner.output.tail_au  \\\n",
       "count                      19439.000000   \n",
       "mean                           4.339625   \n",
       "std                            2.326751   \n",
       "min                            0.000000   \n",
       "25%                            3.182770   \n",
       "50%                            4.072412   \n",
       "75%                            5.063081   \n",
       "max                           26.811643   \n",
       "\n",
       "       secondary_cleaner.state.floatbank2_a_air  \\\n",
       "count                              19219.000000   \n",
       "mean                                  28.705564   \n",
       "std                                    5.458789   \n",
       "min                                    0.077503   \n",
       "25%                                   25.048462   \n",
       "50%                                   29.099943   \n",
       "75%                                   33.012536   \n",
       "max                                   52.651399   \n",
       "\n",
       "       secondary_cleaner.state.floatbank2_a_level  \\\n",
       "count                                19438.000000   \n",
       "mean                                  -502.367331   \n",
       "std                                     53.571950   \n",
       "min                                   -799.606441   \n",
       "25%                                   -500.233700   \n",
       "50%                                   -499.973250   \n",
       "75%                                   -499.671261   \n",
       "max                                   -127.875565   \n",
       "\n",
       "       secondary_cleaner.state.floatbank2_b_air  \\\n",
       "count                              19416.000000   \n",
       "mean                                  24.106800   \n",
       "std                                    5.749616   \n",
       "min                                    0.000000   \n",
       "25%                                   20.919853   \n",
       "50%                                   25.043289   \n",
       "75%                                   28.008197   \n",
       "max                                   35.152122   \n",
       "\n",
       "       secondary_cleaner.state.floatbank2_b_level  \\\n",
       "count                                19438.000000   \n",
       "mean                                  -503.230712   \n",
       "std                                     56.567724   \n",
       "min                                   -799.873878   \n",
       "25%                                   -500.253794   \n",
       "50%                                   -500.015439   \n",
       "75%                                   -499.785698   \n",
       "max                                   -211.999273   \n",
       "\n",
       "       secondary_cleaner.state.floatbank3_a_air  \\\n",
       "count                              19426.000000   \n",
       "mean                                  28.199338   \n",
       "std                                    6.134908   \n",
       "min                                    0.000000   \n",
       "25%                                   24.949227   \n",
       "50%                                   27.982129   \n",
       "75%                                   33.002798   \n",
       "max                                   44.260464   \n",
       "\n",
       "       secondary_cleaner.state.floatbank3_a_level  \\\n",
       "count                                19438.000000   \n",
       "mean                                  -486.203350   \n",
       "std                                     54.412349   \n",
       "min                                   -799.755798   \n",
       "25%                                   -500.213546   \n",
       "50%                                   -499.930680   \n",
       "75%                                   -499.325739   \n",
       "max                                   -191.678810   \n",
       "\n",
       "       secondary_cleaner.state.floatbank3_b_air  \\\n",
       "count                              19438.000000   \n",
       "mean                                  22.200645   \n",
       "std                                    5.574001   \n",
       "min                                    0.000000   \n",
       "25%                                   18.995924   \n",
       "50%                                   22.011231   \n",
       "75%                                   25.998206   \n",
       "max                                   35.072841   \n",
       "\n",
       "       secondary_cleaner.state.floatbank3_b_level  \\\n",
       "count                                19438.000000   \n",
       "mean                                  -493.742107   \n",
       "std                                     43.372158   \n",
       "min                                   -809.333008   \n",
       "25%                                   -500.123034   \n",
       "50%                                   -499.981902   \n",
       "75%                                   -499.812834   \n",
       "max                                   -159.742331   \n",
       "\n",
       "       secondary_cleaner.state.floatbank4_a_air  \\\n",
       "count                              19433.000000   \n",
       "mean                                  18.987674   \n",
       "std                                    5.411058   \n",
       "min                                    0.000000   \n",
       "25%                                   14.975734   \n",
       "50%                                   18.017481   \n",
       "75%                                   23.012470   \n",
       "max                                   30.115735   \n",
       "\n",
       "       secondary_cleaner.state.floatbank4_a_level  \\\n",
       "count                                19438.000000   \n",
       "mean                                  -485.894516   \n",
       "std                                     47.758570   \n",
       "min                                   -799.798523   \n",
       "25%                                   -500.704892   \n",
       "50%                                   -499.837793   \n",
       "75%                                   -498.249730   \n",
       "max                                   -245.239184   \n",
       "\n",
       "       secondary_cleaner.state.floatbank4_b_air  \\\n",
       "count                              19438.000000   \n",
       "mean                                  15.010366   \n",
       "std                                    4.890228   \n",
       "min                                    0.000000   \n",
       "25%                                   11.940294   \n",
       "50%                                   14.971014   \n",
       "75%                                   19.034162   \n",
       "max                                   31.269706   \n",
       "\n",
       "       secondary_cleaner.state.floatbank4_b_level  \\\n",
       "count                                19438.000000   \n",
       "mean                                  -461.078636   \n",
       "std                                     67.405524   \n",
       "min                                   -800.836914   \n",
       "25%                                   -500.187742   \n",
       "50%                                   -499.459786   \n",
       "75%                                   -400.118106   \n",
       "max                                     -6.506986   \n",
       "\n",
       "       secondary_cleaner.state.floatbank5_a_air  \\\n",
       "count                              19438.000000   \n",
       "mean                                  15.694452   \n",
       "std                                    5.510974   \n",
       "min                                   -0.372054   \n",
       "25%                                   10.988606   \n",
       "50%                                   15.000036   \n",
       "75%                                   18.026190   \n",
       "max                                   43.709931   \n",
       "\n",
       "       secondary_cleaner.state.floatbank5_a_level  \\\n",
       "count                                19438.000000   \n",
       "mean                                  -488.684065   \n",
       "std                                     34.533396   \n",
       "min                                   -797.323986   \n",
       "25%                                   -500.458467   \n",
       "50%                                   -499.802605   \n",
       "75%                                   -498.384187   \n",
       "max                                   -244.483566   \n",
       "\n",
       "       secondary_cleaner.state.floatbank5_b_air  \\\n",
       "count                              19438.000000   \n",
       "mean                                  12.198224   \n",
       "std                                    5.333024   \n",
       "min                                    0.528083   \n",
       "25%                                    8.971105   \n",
       "50%                                   11.019433   \n",
       "75%                                   14.019088   \n",
       "max                                   27.926001   \n",
       "\n",
       "       secondary_cleaner.state.floatbank5_b_level  \\\n",
       "count                                19438.000000   \n",
       "mean                                  -487.149827   \n",
       "std                                     38.347312   \n",
       "min                                   -800.220337   \n",
       "25%                                   -500.129462   \n",
       "50%                                   -499.935317   \n",
       "75%                                   -499.436708   \n",
       "max                                   -137.740004   \n",
       "\n",
       "       secondary_cleaner.state.floatbank6_a_air  \\\n",
       "count                              19437.000000   \n",
       "mean                                  18.959024   \n",
       "std                                    5.550498   \n",
       "min                                   -0.079426   \n",
       "25%                                   14.983037   \n",
       "50%                                   19.960541   \n",
       "75%                                   24.003170   \n",
       "max                                   32.188906   \n",
       "\n",
       "       secondary_cleaner.state.floatbank6_a_level  \n",
       "count                                19438.000000  \n",
       "mean                                  -505.436305  \n",
       "std                                     37.689057  \n",
       "min                                   -809.741464  \n",
       "25%                                   -500.728067  \n",
       "50%                                   -500.048400  \n",
       "75%                                   -499.495378  \n",
       "max                                   -104.427459  "
      ]
     },
     "metadata": {},
     "output_type": "display_data"
    },
    {
     "data": {
      "text/plain": [
       "secondary_cleaner.output.tail_sol                     1605\n",
       "rougher.state.floatbank10_e_air                        436\n",
       "rougher.input.floatbank11_xanthate                     428\n",
       "primary_cleaner.output.concentrate_sol                 286\n",
       "secondary_cleaner.state.floatbank2_a_air               217\n",
       "final.output.concentrate_sol                           211\n",
       "rougher.input.feed_size                                144\n",
       "rougher.input.feed_pb                                  100\n",
       "final.output.tail_pb                                   100\n",
       "primary_cleaner.input.xanthate                         100\n",
       "primary_cleaner.output.concentrate_pb                   86\n",
       "rougher.input.feed_sol                                  78\n",
       "primary_cleaner.output.tail_sol                         46\n",
       "rougher.input.floatbank11_sulfate                       36\n",
       "primary_cleaner.input.depressant                        32\n",
       "rougher.input.floatbank10_sulfate                       29\n",
       "rougher.output.concentrate_sol                          22\n",
       "secondary_cleaner.state.floatbank2_b_air                21\n",
       "primary_cleaner.input.sulfate                           20\n",
       "primary_cleaner.output.tail_pb                          15\n",
       "secondary_cleaner.output.tail_pb                        10\n",
       "rougher.input.floatbank10_xanthate                       8\n",
       "rougher.input.feed_rate                                  8\n",
       "secondary_cleaner.state.floatbank4_a_air                 6\n",
       "final.output.tail_sol                                    5\n",
       "primary_cleaner.state.floatbank8_b_air                   4\n",
       "primary_cleaner.state.floatbank8_a_air                   4\n",
       "secondary_cleaner.state.floatbank3_a_air                 4\n",
       "primary_cleaner.state.floatbank8_d_air                   3\n",
       "secondary_cleaner.output.tail_ag                         2\n",
       "secondary_cleaner.state.floatbank6_a_air                 2\n",
       "primary_cleaner.state.floatbank8_c_air                   2\n",
       "rougher.state.floatbank10_c_level                        1\n",
       "rougher.state.floatbank10_c_air                          1\n",
       "rougher.state.floatbank10_b_level                        1\n",
       "rougher.state.floatbank10_b_air                          1\n",
       "final.output.concentrate_ag                              1\n",
       "secondary_cleaner.state.floatbank2_a_level               1\n",
       "secondary_cleaner.state.floatbank2_b_level               1\n",
       "secondary_cleaner.state.floatbank3_a_level               1\n",
       "rougher.state.floatbank10_a_air                          1\n",
       "secondary_cleaner.state.floatbank3_b_air                 1\n",
       "secondary_cleaner.state.floatbank3_b_level               1\n",
       "secondary_cleaner.state.floatbank4_a_level               1\n",
       "secondary_cleaner.state.floatbank4_b_air                 1\n",
       "secondary_cleaner.state.floatbank4_b_level               1\n",
       "secondary_cleaner.state.floatbank5_a_air                 1\n",
       "secondary_cleaner.state.floatbank5_a_level               1\n",
       "secondary_cleaner.state.floatbank5_b_air                 1\n",
       "secondary_cleaner.state.floatbank5_b_level               1\n",
       "rougher.state.floatbank10_a_level                        1\n",
       "secondary_cleaner.state.floatbank6_a_level               1\n",
       "rougher.calculation.floatbank11_sulfate_to_au_feed       1\n",
       "rougher.calculation.floatbank10_sulfate_to_au_feed       1\n",
       "primary_cleaner.state.floatbank8_d_level                 1\n",
       "primary_cleaner.state.floatbank8_c_level                 1\n",
       "primary_cleaner.state.floatbank8_b_level                 1\n",
       "primary_cleaner.state.floatbank8_a_level                 1\n",
       "final.output.concentrate_pb                              1\n",
       "primary_cleaner.output.tail_ag                           1\n",
       "rougher.calculation.sulfate_to_au_concentrate            1\n",
       "rougher.output.tail_ag                                   1\n",
       "primary_cleaner.output.concentrate_ag                    0\n",
       "primary_cleaner.input.feed_size                          0\n",
       "primary_cleaner.output.tail_au                           0\n",
       "final.output.tail_au                                     0\n",
       "final.output.tail_ag                                     0\n",
       "final.output.recovery                                    0\n",
       "final.output.concentrate_au                              0\n",
       "primary_cleaner.output.concentrate_au                    0\n",
       "rougher.output.tail_au                                   0\n",
       "rougher.output.tail_sol                                  0\n",
       "rougher.calculation.au_pb_ratio                          0\n",
       "secondary_cleaner.output.tail_au                         0\n",
       "rougher.input.feed_ag                                    0\n",
       "rougher.input.feed_au                                    0\n",
       "rougher.state.floatbank10_f_level                        0\n",
       "rougher.state.floatbank10_f_air                          0\n",
       "rougher.state.floatbank10_e_level                        0\n",
       "rougher.output.concentrate_pb                            0\n",
       "rougher.state.floatbank10_d_level                        0\n",
       "rougher.state.floatbank10_d_air                          0\n",
       "rougher.output.concentrate_au                            0\n",
       "rougher.output.recovery                                  0\n",
       "rougher.output.tail_pb                                   0\n",
       "rougher.output.concentrate_ag                            0\n",
       "dtype: int64"
      ]
     },
     "metadata": {},
     "output_type": "display_data"
    },
    {
     "name": "stdout",
     "output_type": "stream",
     "text": [
      "<class 'pandas.core.frame.DataFrame'>\n",
      "Index: 19439 entries, 2016-01-15 00:00:00 to 2018-08-18 10:59:59\n",
      "Data columns (total 86 columns):\n",
      " #   Column                                              Non-Null Count  Dtype  \n",
      "---  ------                                              --------------  -----  \n",
      " 0   final.output.concentrate_ag                         19438 non-null  float64\n",
      " 1   final.output.concentrate_pb                         19438 non-null  float64\n",
      " 2   final.output.concentrate_sol                        19228 non-null  float64\n",
      " 3   final.output.concentrate_au                         19439 non-null  float64\n",
      " 4   final.output.recovery                               19439 non-null  float64\n",
      " 5   final.output.tail_ag                                19438 non-null  float64\n",
      " 6   final.output.tail_pb                                19338 non-null  float64\n",
      " 7   final.output.tail_sol                               19433 non-null  float64\n",
      " 8   final.output.tail_au                                19439 non-null  float64\n",
      " 9   primary_cleaner.input.sulfate                       19415 non-null  float64\n",
      " 10  primary_cleaner.input.depressant                    19402 non-null  float64\n",
      " 11  primary_cleaner.input.feed_size                     19439 non-null  float64\n",
      " 12  primary_cleaner.input.xanthate                      19335 non-null  float64\n",
      " 13  primary_cleaner.output.concentrate_ag               19439 non-null  float64\n",
      " 14  primary_cleaner.output.concentrate_pb               19323 non-null  float64\n",
      " 15  primary_cleaner.output.concentrate_sol              19069 non-null  float64\n",
      " 16  primary_cleaner.output.concentrate_au               19439 non-null  float64\n",
      " 17  primary_cleaner.output.tail_ag                      19435 non-null  float64\n",
      " 18  primary_cleaner.output.tail_pb                      19418 non-null  float64\n",
      " 19  primary_cleaner.output.tail_sol                     19377 non-null  float64\n",
      " 20  primary_cleaner.output.tail_au                      19439 non-null  float64\n",
      " 21  primary_cleaner.state.floatbank8_a_air              19435 non-null  float64\n",
      " 22  primary_cleaner.state.floatbank8_a_level            19438 non-null  float64\n",
      " 23  primary_cleaner.state.floatbank8_b_air              19435 non-null  float64\n",
      " 24  primary_cleaner.state.floatbank8_b_level            19438 non-null  float64\n",
      " 25  primary_cleaner.state.floatbank8_c_air              19437 non-null  float64\n",
      " 26  primary_cleaner.state.floatbank8_c_level            19438 non-null  float64\n",
      " 27  primary_cleaner.state.floatbank8_d_air              19436 non-null  float64\n",
      " 28  primary_cleaner.state.floatbank8_d_level            19438 non-null  float64\n",
      " 29  rougher.calculation.sulfate_to_au_concentrate       19437 non-null  float64\n",
      " 30  rougher.calculation.floatbank10_sulfate_to_au_feed  19437 non-null  float64\n",
      " 31  rougher.calculation.floatbank11_sulfate_to_au_feed  19437 non-null  float64\n",
      " 32  rougher.calculation.au_pb_ratio                     19439 non-null  float64\n",
      " 33  rougher.input.feed_ag                               19439 non-null  float64\n",
      " 34  rougher.input.feed_pb                               19339 non-null  float64\n",
      " 35  rougher.input.feed_rate                             19428 non-null  float64\n",
      " 36  rougher.input.feed_size                             19294 non-null  float64\n",
      " 37  rougher.input.feed_sol                              19340 non-null  float64\n",
      " 38  rougher.input.feed_au                               19439 non-null  float64\n",
      " 39  rougher.input.floatbank10_sulfate                   19405 non-null  float64\n",
      " 40  rougher.input.floatbank10_xanthate                  19431 non-null  float64\n",
      " 41  rougher.input.floatbank11_sulfate                   19395 non-null  float64\n",
      " 42  rougher.input.floatbank11_xanthate                  18986 non-null  float64\n",
      " 43  rougher.output.concentrate_ag                       19439 non-null  float64\n",
      " 44  rougher.output.concentrate_pb                       19439 non-null  float64\n",
      " 45  rougher.output.concentrate_sol                      19416 non-null  float64\n",
      " 46  rougher.output.concentrate_au                       19439 non-null  float64\n",
      " 47  rougher.output.recovery                             19439 non-null  float64\n",
      " 48  rougher.output.tail_ag                              19438 non-null  float64\n",
      " 49  rougher.output.tail_pb                              19439 non-null  float64\n",
      " 50  rougher.output.tail_sol                             19439 non-null  float64\n",
      " 51  rougher.output.tail_au                              19439 non-null  float64\n",
      " 52  rougher.state.floatbank10_a_air                     19438 non-null  float64\n",
      " 53  rougher.state.floatbank10_a_level                   19438 non-null  float64\n",
      " 54  rougher.state.floatbank10_b_air                     19438 non-null  float64\n",
      " 55  rougher.state.floatbank10_b_level                   19438 non-null  float64\n",
      " 56  rougher.state.floatbank10_c_air                     19438 non-null  float64\n",
      " 57  rougher.state.floatbank10_c_level                   19438 non-null  float64\n",
      " 58  rougher.state.floatbank10_d_air                     19439 non-null  float64\n",
      " 59  rougher.state.floatbank10_d_level                   19439 non-null  float64\n",
      " 60  rougher.state.floatbank10_e_air                     19003 non-null  float64\n",
      " 61  rougher.state.floatbank10_e_level                   19439 non-null  float64\n",
      " 62  rougher.state.floatbank10_f_air                     19439 non-null  float64\n",
      " 63  rougher.state.floatbank10_f_level                   19439 non-null  float64\n",
      " 64  secondary_cleaner.output.tail_ag                    19437 non-null  float64\n",
      " 65  secondary_cleaner.output.tail_pb                    19427 non-null  float64\n",
      " 66  secondary_cleaner.output.tail_sol                   17691 non-null  float64\n",
      " 67  secondary_cleaner.output.tail_au                    19439 non-null  float64\n",
      " 68  secondary_cleaner.state.floatbank2_a_air            19219 non-null  float64\n",
      " 69  secondary_cleaner.state.floatbank2_a_level          19438 non-null  float64\n",
      " 70  secondary_cleaner.state.floatbank2_b_air            19416 non-null  float64\n",
      " 71  secondary_cleaner.state.floatbank2_b_level          19438 non-null  float64\n",
      " 72  secondary_cleaner.state.floatbank3_a_air            19426 non-null  float64\n",
      " 73  secondary_cleaner.state.floatbank3_a_level          19438 non-null  float64\n",
      " 74  secondary_cleaner.state.floatbank3_b_air            19438 non-null  float64\n",
      " 75  secondary_cleaner.state.floatbank3_b_level          19438 non-null  float64\n",
      " 76  secondary_cleaner.state.floatbank4_a_air            19433 non-null  float64\n",
      " 77  secondary_cleaner.state.floatbank4_a_level          19438 non-null  float64\n",
      " 78  secondary_cleaner.state.floatbank4_b_air            19438 non-null  float64\n",
      " 79  secondary_cleaner.state.floatbank4_b_level          19438 non-null  float64\n",
      " 80  secondary_cleaner.state.floatbank5_a_air            19438 non-null  float64\n",
      " 81  secondary_cleaner.state.floatbank5_a_level          19438 non-null  float64\n",
      " 82  secondary_cleaner.state.floatbank5_b_air            19438 non-null  float64\n",
      " 83  secondary_cleaner.state.floatbank5_b_level          19438 non-null  float64\n",
      " 84  secondary_cleaner.state.floatbank6_a_air            19437 non-null  float64\n",
      " 85  secondary_cleaner.state.floatbank6_a_level          19438 non-null  float64\n",
      "dtypes: float64(86)\n",
      "memory usage: 12.9+ MB\n"
     ]
    },
    {
     "data": {
      "text/plain": [
       "None"
      ]
     },
     "metadata": {},
     "output_type": "display_data"
    }
   ],
   "source": [
    "opening(data)#получим информацию об исходных данных"
   ]
  },
  {
   "cell_type": "markdown",
   "metadata": {},
   "source": [
    "**Мы видим:**\n",
    "- во многих признаках встречаются пропуски значений. \n",
    "- в тестовой выборке присутствуют не все признаки, которые есть в тренировочной и исходных данных, в том числе и признаки, которые нужно спрогнозировать(rougher.output.recovery и final.output.recovery). Связываем это с тем, что эти параметры замеряются и/или рассчитываются значительно позже.\n"
   ]
  },
  {
   "cell_type": "markdown",
   "metadata": {},
   "source": [
    "### Проверка рассчета эффективности обогащения."
   ]
  },
  {
   "cell_type": "markdown",
   "metadata": {},
   "source": [
    "**Проверим эффективность обогащения. Для проверки мы должны применить формулу для рассчета эффективности и вычислить среднюю абсолютную ошибку (MAE) между полученными значениями и значениями признака rougher.output.recovery.**"
   ]
  },
  {
   "cell_type": "markdown",
   "metadata": {},
   "source": [
    "Присвоим переменные необходимые признаки, где:\n",
    "- c — доля золота в концентрате после флотации/очистки(rougher.output.concentrate_au);\n",
    "- f — доля золота в сырье/концентрате до флотации/очистки(rougher.input.feed_au);\n",
    "- t — доля золота в отвальных хвостах после флотации/очистки(rougher.output.tail_au)."
   ]
  },
  {
   "cell_type": "code",
   "execution_count": 7,
   "metadata": {},
   "outputs": [],
   "source": [
    "c = data_train['rougher.output.concentrate_au']\n",
    "f = data_train['rougher.input.feed_au']\n",
    "t = data_train['rougher.output.tail_au']"
   ]
  },
  {
   "cell_type": "markdown",
   "metadata": {},
   "source": [
    "Вычислим эффективность обогащения,подставив в формулу все обозначенные переменные и выведем на экран первые 5 строк."
   ]
  },
  {
   "cell_type": "code",
   "execution_count": 8,
   "metadata": {
    "scrolled": true
   },
   "outputs": [
    {
     "data": {
      "text/plain": [
       "date\n",
       "2016-01-15 00:00:00    87.107763\n",
       "2016-01-15 01:00:00    86.843261\n",
       "2016-01-15 02:00:00    86.842308\n",
       "2016-01-15 03:00:00    87.226430\n",
       "2016-01-15 04:00:00    86.688794\n",
       "dtype: float64"
      ]
     },
     "execution_count": 8,
     "metadata": {},
     "output_type": "execute_result"
    }
   ],
   "source": [
    "rec = (c*(f - t))/(f*(c-t))*100\n",
    "rec.head()"
   ]
  },
  {
   "cell_type": "markdown",
   "metadata": {},
   "source": [
    "**Средняя абсолютная ошибка(MAE).**"
   ]
  },
  {
   "cell_type": "markdown",
   "metadata": {},
   "source": [
    "Вычислим MAE для наших вычислений и признака rougher.output.recovery."
   ]
  },
  {
   "cell_type": "code",
   "execution_count": 9,
   "metadata": {},
   "outputs": [
    {
     "data": {
      "text/plain": [
       "9.73512347450521e-15"
      ]
     },
     "execution_count": 9,
     "metadata": {},
     "output_type": "execute_result"
    }
   ],
   "source": [
    "error = mae(rec, data_train['rougher.output.recovery'])\n",
    "error"
   ]
  },
  {
   "cell_type": "markdown",
   "metadata": {},
   "source": [
    "**Значение MAE очень мало. Отсюда можно смело считать, что эффективность обогащения в исходной таблице рассчитана правильно.**"
   ]
  },
  {
   "cell_type": "markdown",
   "metadata": {},
   "source": [
    "### Анализ признаков, недоступных в тестовой выборке."
   ]
  },
  {
   "cell_type": "markdown",
   "metadata": {},
   "source": [
    "Посчитаем, сколько признаков не вошло в тестовую выборку. Выведем размеры таблиц для каждого датафрейма"
   ]
  },
  {
   "cell_type": "code",
   "execution_count": 10,
   "metadata": {},
   "outputs": [
    {
     "name": "stdout",
     "output_type": "stream",
     "text": [
      "(14149, 86)\n",
      "(5290, 52)\n",
      "(19439, 86)\n"
     ]
    }
   ],
   "source": [
    "print(data_train.shape)\n",
    "print(data_test.shape)\n",
    "print(data.shape)"
   ]
  },
  {
   "cell_type": "markdown",
   "metadata": {},
   "source": [
    "**В test не вошли 34 признака.**"
   ]
  },
  {
   "cell_type": "markdown",
   "metadata": {},
   "source": [
    "Сначала посмотрим, какие столбцы есть в тестовой выборке"
   ]
  },
  {
   "cell_type": "code",
   "execution_count": 11,
   "metadata": {
    "scrolled": true
   },
   "outputs": [
    {
     "data": {
      "text/plain": [
       "['primary_cleaner.input.sulfate',\n",
       " 'primary_cleaner.input.depressant',\n",
       " 'primary_cleaner.input.feed_size',\n",
       " 'primary_cleaner.input.xanthate',\n",
       " 'primary_cleaner.state.floatbank8_a_air',\n",
       " 'primary_cleaner.state.floatbank8_a_level',\n",
       " 'primary_cleaner.state.floatbank8_b_air',\n",
       " 'primary_cleaner.state.floatbank8_b_level',\n",
       " 'primary_cleaner.state.floatbank8_c_air',\n",
       " 'primary_cleaner.state.floatbank8_c_level',\n",
       " 'primary_cleaner.state.floatbank8_d_air',\n",
       " 'primary_cleaner.state.floatbank8_d_level',\n",
       " 'rougher.input.feed_ag',\n",
       " 'rougher.input.feed_pb',\n",
       " 'rougher.input.feed_rate',\n",
       " 'rougher.input.feed_size',\n",
       " 'rougher.input.feed_sol',\n",
       " 'rougher.input.feed_au',\n",
       " 'rougher.input.floatbank10_sulfate',\n",
       " 'rougher.input.floatbank10_xanthate',\n",
       " 'rougher.input.floatbank11_sulfate',\n",
       " 'rougher.input.floatbank11_xanthate',\n",
       " 'rougher.state.floatbank10_a_air',\n",
       " 'rougher.state.floatbank10_a_level',\n",
       " 'rougher.state.floatbank10_b_air',\n",
       " 'rougher.state.floatbank10_b_level',\n",
       " 'rougher.state.floatbank10_c_air',\n",
       " 'rougher.state.floatbank10_c_level',\n",
       " 'rougher.state.floatbank10_d_air',\n",
       " 'rougher.state.floatbank10_d_level',\n",
       " 'rougher.state.floatbank10_e_air',\n",
       " 'rougher.state.floatbank10_e_level',\n",
       " 'rougher.state.floatbank10_f_air',\n",
       " 'rougher.state.floatbank10_f_level',\n",
       " 'secondary_cleaner.state.floatbank2_a_air',\n",
       " 'secondary_cleaner.state.floatbank2_a_level',\n",
       " 'secondary_cleaner.state.floatbank2_b_air',\n",
       " 'secondary_cleaner.state.floatbank2_b_level',\n",
       " 'secondary_cleaner.state.floatbank3_a_air',\n",
       " 'secondary_cleaner.state.floatbank3_a_level',\n",
       " 'secondary_cleaner.state.floatbank3_b_air',\n",
       " 'secondary_cleaner.state.floatbank3_b_level',\n",
       " 'secondary_cleaner.state.floatbank4_a_air',\n",
       " 'secondary_cleaner.state.floatbank4_a_level',\n",
       " 'secondary_cleaner.state.floatbank4_b_air',\n",
       " 'secondary_cleaner.state.floatbank4_b_level',\n",
       " 'secondary_cleaner.state.floatbank5_a_air',\n",
       " 'secondary_cleaner.state.floatbank5_a_level',\n",
       " 'secondary_cleaner.state.floatbank5_b_air',\n",
       " 'secondary_cleaner.state.floatbank5_b_level',\n",
       " 'secondary_cleaner.state.floatbank6_a_air',\n",
       " 'secondary_cleaner.state.floatbank6_a_level']"
      ]
     },
     "execution_count": 11,
     "metadata": {},
     "output_type": "execute_result"
    }
   ],
   "source": [
    "data_test.columns.to_list()"
   ]
  },
  {
   "cell_type": "markdown",
   "metadata": {},
   "source": [
    "Затем выведем на экран признаки, отсутствующие в тестовой выборке."
   ]
  },
  {
   "cell_type": "code",
   "execution_count": 12,
   "metadata": {
    "scrolled": true
   },
   "outputs": [
    {
     "data": {
      "text/plain": [
       "['final.output.concentrate_ag',\n",
       " 'final.output.concentrate_pb',\n",
       " 'final.output.concentrate_sol',\n",
       " 'final.output.concentrate_au',\n",
       " 'final.output.recovery',\n",
       " 'final.output.tail_ag',\n",
       " 'final.output.tail_pb',\n",
       " 'final.output.tail_sol',\n",
       " 'final.output.tail_au',\n",
       " 'primary_cleaner.output.concentrate_ag',\n",
       " 'primary_cleaner.output.concentrate_pb',\n",
       " 'primary_cleaner.output.concentrate_sol',\n",
       " 'primary_cleaner.output.concentrate_au',\n",
       " 'primary_cleaner.output.tail_ag',\n",
       " 'primary_cleaner.output.tail_pb',\n",
       " 'primary_cleaner.output.tail_sol',\n",
       " 'primary_cleaner.output.tail_au',\n",
       " 'rougher.calculation.sulfate_to_au_concentrate',\n",
       " 'rougher.calculation.floatbank10_sulfate_to_au_feed',\n",
       " 'rougher.calculation.floatbank11_sulfate_to_au_feed',\n",
       " 'rougher.calculation.au_pb_ratio',\n",
       " 'rougher.output.concentrate_ag',\n",
       " 'rougher.output.concentrate_pb',\n",
       " 'rougher.output.concentrate_sol',\n",
       " 'rougher.output.concentrate_au',\n",
       " 'rougher.output.recovery',\n",
       " 'rougher.output.tail_ag',\n",
       " 'rougher.output.tail_pb',\n",
       " 'rougher.output.tail_sol',\n",
       " 'rougher.output.tail_au',\n",
       " 'secondary_cleaner.output.tail_ag',\n",
       " 'secondary_cleaner.output.tail_pb',\n",
       " 'secondary_cleaner.output.tail_sol',\n",
       " 'secondary_cleaner.output.tail_au']"
      ]
     },
     "execution_count": 12,
     "metadata": {},
     "output_type": "execute_result"
    }
   ],
   "source": [
    "[column for column in data.columns if column not in data_test.columns]\n"
   ]
  },
  {
   "cell_type": "markdown",
   "metadata": {},
   "source": [
    "**Четко видно,что в тестовую выборку не попали признаки, обозначающие параметры продукта(output) и расчётные характеристики(calculation).**"
   ]
  },
  {
   "cell_type": "markdown",
   "metadata": {},
   "source": [
    "Добавим целевые признаки rougher.output.recovery и final.output.recovery для дальнейшей проверки модели."
   ]
  },
  {
   "cell_type": "code",
   "execution_count": 13,
   "metadata": {},
   "outputs": [
    {
     "data": {
      "text/plain": [
       "(5290, 52)"
      ]
     },
     "execution_count": 13,
     "metadata": {},
     "output_type": "execute_result"
    }
   ],
   "source": [
    "data_test.shape"
   ]
  },
  {
   "cell_type": "code",
   "execution_count": 14,
   "metadata": {},
   "outputs": [],
   "source": [
    "data_test['rougher.output.recovery'] = data['rougher.output.recovery']\n",
    "data_test['final.output.recovery'] = data['final.output.recovery']"
   ]
  },
  {
   "cell_type": "code",
   "execution_count": 15,
   "metadata": {},
   "outputs": [
    {
     "data": {
      "text/plain": [
       "(5290, 54)"
      ]
     },
     "execution_count": 15,
     "metadata": {},
     "output_type": "execute_result"
    }
   ],
   "source": [
    "data_test.shape"
   ]
  },
  {
   "cell_type": "markdown",
   "metadata": {},
   "source": [
    "**В тестовой выборке теперь 54 признака, целевые добавлены.**"
   ]
  },
  {
   "cell_type": "markdown",
   "metadata": {},
   "source": [
    "### Предобработка данных."
   ]
  },
  {
   "cell_type": "markdown",
   "metadata": {},
   "source": [
    "#### Пропуски."
   ]
  },
  {
   "cell_type": "markdown",
   "metadata": {},
   "source": [
    "Проверим тренировочную и тестовую выборки на наличие пропусков."
   ]
  },
  {
   "cell_type": "code",
   "execution_count": 16,
   "metadata": {
    "scrolled": false
   },
   "outputs": [
    {
     "data": {
      "text/plain": [
       "4100"
      ]
     },
     "execution_count": 16,
     "metadata": {},
     "output_type": "execute_result"
    }
   ],
   "source": [
    "data_train.isna().sum().sum()"
   ]
  },
  {
   "cell_type": "code",
   "execution_count": 17,
   "metadata": {},
   "outputs": [
    {
     "data": {
      "text/plain": [
       "90"
      ]
     },
     "execution_count": 17,
     "metadata": {},
     "output_type": "execute_result"
    }
   ],
   "source": [
    "data_test.isna().sum().sum()"
   ]
  },
  {
   "cell_type": "code",
   "execution_count": 18,
   "metadata": {},
   "outputs": [
    {
     "data": {
      "text/plain": [
       "4481"
      ]
     },
     "execution_count": 18,
     "metadata": {},
     "output_type": "execute_result"
    }
   ],
   "source": [
    "data.isna().sum().sum()"
   ]
  },
  {
   "cell_type": "markdown",
   "metadata": {},
   "source": []
  },
  {
   "cell_type": "markdown",
   "metadata": {},
   "source": [
    "**заполним пропуски при помощи KNNimputer, так как соседние по времени параметры часто похожи.**"
   ]
  },
  {
   "cell_type": "code",
   "execution_count": 19,
   "metadata": {
    "scrolled": true
   },
   "outputs": [],
   "source": [
    "imputer = KNNImputer(n_neighbors=2)\n",
    "data = pd.DataFrame(imputer.fit_transform(data),columns = data.columns)\n",
    "data_train = pd.DataFrame(imputer.fit_transform(data_train),columns = data_train.columns)"
   ]
  },
  {
   "cell_type": "code",
   "execution_count": 20,
   "metadata": {},
   "outputs": [],
   "source": [
    "imputer_1 = KNNImputer(n_neighbors=2)\n",
    "data_test = pd.DataFrame(imputer_1.fit_transform(data_test),columns = data_test.columns)"
   ]
  },
  {
   "cell_type": "markdown",
   "metadata": {},
   "source": [
    "Проверим выбрки на наличие пропусков после заполнения."
   ]
  },
  {
   "cell_type": "code",
   "execution_count": 21,
   "metadata": {},
   "outputs": [
    {
     "data": {
      "text/plain": [
       "0"
      ]
     },
     "execution_count": 21,
     "metadata": {},
     "output_type": "execute_result"
    }
   ],
   "source": [
    "data_train.isna().sum().sum()"
   ]
  },
  {
   "cell_type": "code",
   "execution_count": 22,
   "metadata": {
    "scrolled": true
   },
   "outputs": [
    {
     "data": {
      "text/plain": [
       "0"
      ]
     },
     "execution_count": 22,
     "metadata": {},
     "output_type": "execute_result"
    }
   ],
   "source": [
    "data_test.isna().sum().sum()"
   ]
  },
  {
   "cell_type": "code",
   "execution_count": 23,
   "metadata": {},
   "outputs": [
    {
     "data": {
      "text/plain": [
       "0"
      ]
     },
     "execution_count": 23,
     "metadata": {},
     "output_type": "execute_result"
    }
   ],
   "source": [
    "data.isna().sum().sum()"
   ]
  },
  {
   "cell_type": "markdown",
   "metadata": {},
   "source": [
    "**Пропуски в данных заполнены.**"
   ]
  },
  {
   "cell_type": "markdown",
   "metadata": {},
   "source": [
    "#### Дубликаты."
   ]
  },
  {
   "cell_type": "markdown",
   "metadata": {},
   "source": [
    "Проверим датафреймы на наличие дубликатов."
   ]
  },
  {
   "cell_type": "code",
   "execution_count": 24,
   "metadata": {
    "scrolled": true
   },
   "outputs": [
    {
     "name": "stdout",
     "output_type": "stream",
     "text": [
      "0\n",
      "0\n",
      "0\n"
     ]
    }
   ],
   "source": [
    "print(data_train.duplicated().sum())\n",
    "print(data_test.duplicated().sum())\n",
    "print(data.duplicated().sum())"
   ]
  },
  {
   "cell_type": "markdown",
   "metadata": {},
   "source": [
    "**Дубликатов не нашел.**"
   ]
  },
  {
   "cell_type": "markdown",
   "metadata": {},
   "source": [
    "**В тренировочной выборке много ненужных признаков, оставим только те, которые есть в тестовой выборке.**"
   ]
  },
  {
   "cell_type": "code",
   "execution_count": 25,
   "metadata": {},
   "outputs": [],
   "source": [
    "data_train=data_train[data_test.columns]"
   ]
  },
  {
   "cell_type": "markdown",
   "metadata": {},
   "source": [
    "- Пропуски заполнены;\n",
    "- Дубликаты не обнаружены;\n",
    "- Удалены ненужные признаки в тренировочной выборке;\n",
    "\n",
    "**Данные для анализа и построения модели подготовлены.**"
   ]
  },
  {
   "cell_type": "markdown",
   "metadata": {},
   "source": [
    "## Анализ данных"
   ]
  },
  {
   "cell_type": "markdown",
   "metadata": {},
   "source": [
    "### Концентрация металлов (Au, Ag, Pb) на различных этапах очистки."
   ]
  },
  {
   "cell_type": "markdown",
   "metadata": {},
   "source": [
    "**Анализ концентрации металлов будем делать на исходных данных(data), так как только в данном датафрейме присутсвуют все признаки, изначально предоставленные заказчиком.**"
   ]
  },
  {
   "cell_type": "code",
   "execution_count": 26,
   "metadata": {},
   "outputs": [
    {
     "data": {
      "text/html": [
       "<div>\n",
       "<style scoped>\n",
       "    .dataframe tbody tr th:only-of-type {\n",
       "        vertical-align: middle;\n",
       "    }\n",
       "\n",
       "    .dataframe tbody tr th {\n",
       "        vertical-align: top;\n",
       "    }\n",
       "\n",
       "    .dataframe thead th {\n",
       "        text-align: right;\n",
       "    }\n",
       "</style>\n",
       "<table border=\"1\" class=\"dataframe\">\n",
       "  <thead>\n",
       "    <tr style=\"text-align: right;\">\n",
       "      <th></th>\n",
       "      <th>final.output.concentrate_ag</th>\n",
       "      <th>final.output.concentrate_pb</th>\n",
       "      <th>final.output.concentrate_sol</th>\n",
       "      <th>final.output.concentrate_au</th>\n",
       "      <th>final.output.recovery</th>\n",
       "      <th>final.output.tail_ag</th>\n",
       "      <th>final.output.tail_pb</th>\n",
       "      <th>final.output.tail_sol</th>\n",
       "      <th>final.output.tail_au</th>\n",
       "      <th>primary_cleaner.input.sulfate</th>\n",
       "      <th>primary_cleaner.input.depressant</th>\n",
       "      <th>primary_cleaner.input.feed_size</th>\n",
       "      <th>primary_cleaner.input.xanthate</th>\n",
       "      <th>primary_cleaner.output.concentrate_ag</th>\n",
       "      <th>primary_cleaner.output.concentrate_pb</th>\n",
       "      <th>primary_cleaner.output.concentrate_sol</th>\n",
       "      <th>primary_cleaner.output.concentrate_au</th>\n",
       "      <th>primary_cleaner.output.tail_ag</th>\n",
       "      <th>primary_cleaner.output.tail_pb</th>\n",
       "      <th>primary_cleaner.output.tail_sol</th>\n",
       "      <th>primary_cleaner.output.tail_au</th>\n",
       "      <th>primary_cleaner.state.floatbank8_a_air</th>\n",
       "      <th>primary_cleaner.state.floatbank8_a_level</th>\n",
       "      <th>primary_cleaner.state.floatbank8_b_air</th>\n",
       "      <th>primary_cleaner.state.floatbank8_b_level</th>\n",
       "      <th>primary_cleaner.state.floatbank8_c_air</th>\n",
       "      <th>primary_cleaner.state.floatbank8_c_level</th>\n",
       "      <th>primary_cleaner.state.floatbank8_d_air</th>\n",
       "      <th>primary_cleaner.state.floatbank8_d_level</th>\n",
       "      <th>rougher.calculation.sulfate_to_au_concentrate</th>\n",
       "      <th>rougher.calculation.floatbank10_sulfate_to_au_feed</th>\n",
       "      <th>rougher.calculation.floatbank11_sulfate_to_au_feed</th>\n",
       "      <th>rougher.calculation.au_pb_ratio</th>\n",
       "      <th>rougher.input.feed_ag</th>\n",
       "      <th>rougher.input.feed_pb</th>\n",
       "      <th>rougher.input.feed_rate</th>\n",
       "      <th>rougher.input.feed_size</th>\n",
       "      <th>rougher.input.feed_sol</th>\n",
       "      <th>rougher.input.feed_au</th>\n",
       "      <th>rougher.input.floatbank10_sulfate</th>\n",
       "      <th>rougher.input.floatbank10_xanthate</th>\n",
       "      <th>rougher.input.floatbank11_sulfate</th>\n",
       "      <th>rougher.input.floatbank11_xanthate</th>\n",
       "      <th>rougher.output.concentrate_ag</th>\n",
       "      <th>rougher.output.concentrate_pb</th>\n",
       "      <th>rougher.output.concentrate_sol</th>\n",
       "      <th>rougher.output.concentrate_au</th>\n",
       "      <th>rougher.output.recovery</th>\n",
       "      <th>rougher.output.tail_ag</th>\n",
       "      <th>rougher.output.tail_pb</th>\n",
       "      <th>rougher.output.tail_sol</th>\n",
       "      <th>rougher.output.tail_au</th>\n",
       "      <th>rougher.state.floatbank10_a_air</th>\n",
       "      <th>rougher.state.floatbank10_a_level</th>\n",
       "      <th>rougher.state.floatbank10_b_air</th>\n",
       "      <th>rougher.state.floatbank10_b_level</th>\n",
       "      <th>rougher.state.floatbank10_c_air</th>\n",
       "      <th>rougher.state.floatbank10_c_level</th>\n",
       "      <th>rougher.state.floatbank10_d_air</th>\n",
       "      <th>rougher.state.floatbank10_d_level</th>\n",
       "      <th>rougher.state.floatbank10_e_air</th>\n",
       "      <th>rougher.state.floatbank10_e_level</th>\n",
       "      <th>rougher.state.floatbank10_f_air</th>\n",
       "      <th>rougher.state.floatbank10_f_level</th>\n",
       "      <th>secondary_cleaner.output.tail_ag</th>\n",
       "      <th>secondary_cleaner.output.tail_pb</th>\n",
       "      <th>secondary_cleaner.output.tail_sol</th>\n",
       "      <th>secondary_cleaner.output.tail_au</th>\n",
       "      <th>secondary_cleaner.state.floatbank2_a_air</th>\n",
       "      <th>secondary_cleaner.state.floatbank2_a_level</th>\n",
       "      <th>secondary_cleaner.state.floatbank2_b_air</th>\n",
       "      <th>secondary_cleaner.state.floatbank2_b_level</th>\n",
       "      <th>secondary_cleaner.state.floatbank3_a_air</th>\n",
       "      <th>secondary_cleaner.state.floatbank3_a_level</th>\n",
       "      <th>secondary_cleaner.state.floatbank3_b_air</th>\n",
       "      <th>secondary_cleaner.state.floatbank3_b_level</th>\n",
       "      <th>secondary_cleaner.state.floatbank4_a_air</th>\n",
       "      <th>secondary_cleaner.state.floatbank4_a_level</th>\n",
       "      <th>secondary_cleaner.state.floatbank4_b_air</th>\n",
       "      <th>secondary_cleaner.state.floatbank4_b_level</th>\n",
       "      <th>secondary_cleaner.state.floatbank5_a_air</th>\n",
       "      <th>secondary_cleaner.state.floatbank5_a_level</th>\n",
       "      <th>secondary_cleaner.state.floatbank5_b_air</th>\n",
       "      <th>secondary_cleaner.state.floatbank5_b_level</th>\n",
       "      <th>secondary_cleaner.state.floatbank6_a_air</th>\n",
       "      <th>secondary_cleaner.state.floatbank6_a_level</th>\n",
       "    </tr>\n",
       "  </thead>\n",
       "  <tbody>\n",
       "    <tr>\n",
       "      <th>count</th>\n",
       "      <td>19439.000000</td>\n",
       "      <td>19439.000000</td>\n",
       "      <td>19439.000000</td>\n",
       "      <td>19439.000000</td>\n",
       "      <td>19439.000000</td>\n",
       "      <td>19439.000000</td>\n",
       "      <td>19439.000000</td>\n",
       "      <td>19439.000000</td>\n",
       "      <td>19439.000000</td>\n",
       "      <td>19439.000000</td>\n",
       "      <td>19439.000000</td>\n",
       "      <td>19439.000000</td>\n",
       "      <td>19439.000000</td>\n",
       "      <td>19439.000000</td>\n",
       "      <td>19439.000000</td>\n",
       "      <td>19439.000000</td>\n",
       "      <td>19439.000000</td>\n",
       "      <td>19439.000000</td>\n",
       "      <td>19439.000000</td>\n",
       "      <td>19439.000000</td>\n",
       "      <td>19439.000000</td>\n",
       "      <td>1.943900e+04</td>\n",
       "      <td>19439.000000</td>\n",
       "      <td>1.943900e+04</td>\n",
       "      <td>19439.000000</td>\n",
       "      <td>1.943900e+04</td>\n",
       "      <td>19439.000000</td>\n",
       "      <td>1.943900e+04</td>\n",
       "      <td>19439.000000</td>\n",
       "      <td>1.943900e+04</td>\n",
       "      <td>19439.000000</td>\n",
       "      <td>19439.000000</td>\n",
       "      <td>19439.000000</td>\n",
       "      <td>19439.000000</td>\n",
       "      <td>19439.000000</td>\n",
       "      <td>19439.000000</td>\n",
       "      <td>19439.000000</td>\n",
       "      <td>19439.000000</td>\n",
       "      <td>19439.000000</td>\n",
       "      <td>19439.000000</td>\n",
       "      <td>19439.000000</td>\n",
       "      <td>19439.000000</td>\n",
       "      <td>19439.000000</td>\n",
       "      <td>19439.000000</td>\n",
       "      <td>19439.000000</td>\n",
       "      <td>19439.000000</td>\n",
       "      <td>19439.000000</td>\n",
       "      <td>19439.000000</td>\n",
       "      <td>19439.000000</td>\n",
       "      <td>19439.000000</td>\n",
       "      <td>19439.000000</td>\n",
       "      <td>19439.000000</td>\n",
       "      <td>19439.000000</td>\n",
       "      <td>19439.000000</td>\n",
       "      <td>19439.000000</td>\n",
       "      <td>19439.000000</td>\n",
       "      <td>19439.000000</td>\n",
       "      <td>19439.000000</td>\n",
       "      <td>19439.000000</td>\n",
       "      <td>19439.000000</td>\n",
       "      <td>19439.000000</td>\n",
       "      <td>19439.000000</td>\n",
       "      <td>19439.000000</td>\n",
       "      <td>19439.000000</td>\n",
       "      <td>19439.000000</td>\n",
       "      <td>19439.000000</td>\n",
       "      <td>19439.000000</td>\n",
       "      <td>19439.000000</td>\n",
       "      <td>19439.000000</td>\n",
       "      <td>19439.000000</td>\n",
       "      <td>19439.000000</td>\n",
       "      <td>19439.000000</td>\n",
       "      <td>19439.000000</td>\n",
       "      <td>19439.000000</td>\n",
       "      <td>19439.000000</td>\n",
       "      <td>19439.000000</td>\n",
       "      <td>19439.000000</td>\n",
       "      <td>19439.000000</td>\n",
       "      <td>19439.000000</td>\n",
       "      <td>19439.000000</td>\n",
       "      <td>19439.000000</td>\n",
       "      <td>19439.000000</td>\n",
       "      <td>19439.000000</td>\n",
       "      <td>19439.000000</td>\n",
       "      <td>19439.000000</td>\n",
       "      <td>19439.000000</td>\n",
       "    </tr>\n",
       "    <tr>\n",
       "      <th>mean</th>\n",
       "      <td>5.168457</td>\n",
       "      <td>9.978900</td>\n",
       "      <td>9.474424</td>\n",
       "      <td>44.076513</td>\n",
       "      <td>67.050208</td>\n",
       "      <td>9.688633</td>\n",
       "      <td>2.702945</td>\n",
       "      <td>10.583872</td>\n",
       "      <td>3.042467</td>\n",
       "      <td>144.461750</td>\n",
       "      <td>8.807269</td>\n",
       "      <td>7.307078</td>\n",
       "      <td>1.018553</td>\n",
       "      <td>8.442408</td>\n",
       "      <td>9.823364</td>\n",
       "      <td>10.514187</td>\n",
       "      <td>32.119400</td>\n",
       "      <td>16.146129</td>\n",
       "      <td>3.434761</td>\n",
       "      <td>7.967190</td>\n",
       "      <td>3.914179</td>\n",
       "      <td>1.589368e+03</td>\n",
       "      <td>-491.195477</td>\n",
       "      <td>1.591363e+03</td>\n",
       "      <td>-492.193388</td>\n",
       "      <td>1.586673e+03</td>\n",
       "      <td>-491.980506</td>\n",
       "      <td>1.542942e+03</td>\n",
       "      <td>-488.017972</td>\n",
       "      <td>4.217819e+04</td>\n",
       "      <td>3392.867288</td>\n",
       "      <td>3256.688571</td>\n",
       "      <td>2.420119</td>\n",
       "      <td>8.794927</td>\n",
       "      <td>3.597960</td>\n",
       "      <td>478.151688</td>\n",
       "      <td>58.995236</td>\n",
       "      <td>36.680881</td>\n",
       "      <td>8.266097</td>\n",
       "      <td>12.315778</td>\n",
       "      <td>6.020448</td>\n",
       "      <td>12.054943</td>\n",
       "      <td>5.967362</td>\n",
       "      <td>11.994759</td>\n",
       "      <td>7.606272</td>\n",
       "      <td>28.805624</td>\n",
       "      <td>19.772000</td>\n",
       "      <td>83.328587</td>\n",
       "      <td>5.589067</td>\n",
       "      <td>0.645782</td>\n",
       "      <td>18.057106</td>\n",
       "      <td>1.816391</td>\n",
       "      <td>1105.309633</td>\n",
       "      <td>-376.617044</td>\n",
       "      <td>1320.235524</td>\n",
       "      <td>-467.249517</td>\n",
       "      <td>1299.984223</td>\n",
       "      <td>-467.718640</td>\n",
       "      <td>1211.563299</td>\n",
       "      <td>-468.239912</td>\n",
       "      <td>1076.473081</td>\n",
       "      <td>-466.037742</td>\n",
       "      <td>1025.274256</td>\n",
       "      <td>-466.265327</td>\n",
       "      <td>14.586509</td>\n",
       "      <td>5.776951</td>\n",
       "      <td>6.809953</td>\n",
       "      <td>4.339625</td>\n",
       "      <td>28.758382</td>\n",
       "      <td>-502.367186</td>\n",
       "      <td>24.106804</td>\n",
       "      <td>-503.230548</td>\n",
       "      <td>28.196487</td>\n",
       "      <td>-486.204062</td>\n",
       "      <td>22.200684</td>\n",
       "      <td>-493.742433</td>\n",
       "      <td>18.986205</td>\n",
       "      <td>-485.897788</td>\n",
       "      <td>15.010213</td>\n",
       "      <td>-461.083250</td>\n",
       "      <td>15.694159</td>\n",
       "      <td>-488.684403</td>\n",
       "      <td>12.198007</td>\n",
       "      <td>-487.150498</td>\n",
       "      <td>18.958411</td>\n",
       "      <td>-505.441245</td>\n",
       "    </tr>\n",
       "    <tr>\n",
       "      <th>std</th>\n",
       "      <td>1.372314</td>\n",
       "      <td>1.669197</td>\n",
       "      <td>2.800154</td>\n",
       "      <td>5.129784</td>\n",
       "      <td>10.125840</td>\n",
       "      <td>2.328590</td>\n",
       "      <td>0.948991</td>\n",
       "      <td>2.868777</td>\n",
       "      <td>0.922808</td>\n",
       "      <td>44.696586</td>\n",
       "      <td>3.294340</td>\n",
       "      <td>0.613509</td>\n",
       "      <td>0.514543</td>\n",
       "      <td>2.054465</td>\n",
       "      <td>2.554818</td>\n",
       "      <td>3.923528</td>\n",
       "      <td>5.627611</td>\n",
       "      <td>3.548550</td>\n",
       "      <td>1.392629</td>\n",
       "      <td>2.216096</td>\n",
       "      <td>1.593034</td>\n",
       "      <td>1.289914e+02</td>\n",
       "      <td>32.431072</td>\n",
       "      <td>1.318090e+02</td>\n",
       "      <td>33.794000</td>\n",
       "      <td>1.361073e+02</td>\n",
       "      <td>32.710670</td>\n",
       "      <td>2.462003e+02</td>\n",
       "      <td>43.958727</td>\n",
       "      <td>3.243469e+05</td>\n",
       "      <td>4943.652012</td>\n",
       "      <td>5781.171043</td>\n",
       "      <td>0.814935</td>\n",
       "      <td>1.936847</td>\n",
       "      <td>1.048972</td>\n",
       "      <td>105.702317</td>\n",
       "      <td>21.763756</td>\n",
       "      <td>5.154572</td>\n",
       "      <td>1.955092</td>\n",
       "      <td>3.455704</td>\n",
       "      <td>1.128913</td>\n",
       "      <td>3.824615</td>\n",
       "      <td>1.313134</td>\n",
       "      <td>2.733862</td>\n",
       "      <td>1.796757</td>\n",
       "      <td>5.943485</td>\n",
       "      <td>3.753600</td>\n",
       "      <td>14.148086</td>\n",
       "      <td>1.111322</td>\n",
       "      <td>0.251526</td>\n",
       "      <td>3.449218</td>\n",
       "      <td>0.680046</td>\n",
       "      <td>160.824446</td>\n",
       "      <td>93.911429</td>\n",
       "      <td>176.293969</td>\n",
       "      <td>54.672244</td>\n",
       "      <td>202.810509</td>\n",
       "      <td>53.533969</td>\n",
       "      <td>204.019326</td>\n",
       "      <td>53.921458</td>\n",
       "      <td>173.257627</td>\n",
       "      <td>57.384424</td>\n",
       "      <td>164.487837</td>\n",
       "      <td>57.850263</td>\n",
       "      <td>4.265102</td>\n",
       "      <td>2.774518</td>\n",
       "      <td>4.042287</td>\n",
       "      <td>2.326751</td>\n",
       "      <td>5.471950</td>\n",
       "      <td>53.570576</td>\n",
       "      <td>5.748874</td>\n",
       "      <td>56.566273</td>\n",
       "      <td>6.134519</td>\n",
       "      <td>54.411040</td>\n",
       "      <td>5.573861</td>\n",
       "      <td>43.371066</td>\n",
       "      <td>5.411419</td>\n",
       "      <td>47.759521</td>\n",
       "      <td>4.890149</td>\n",
       "      <td>67.406861</td>\n",
       "      <td>5.510984</td>\n",
       "      <td>34.532540</td>\n",
       "      <td>5.332972</td>\n",
       "      <td>38.346440</td>\n",
       "      <td>5.550551</td>\n",
       "      <td>37.694382</td>\n",
       "    </tr>\n",
       "    <tr>\n",
       "      <th>min</th>\n",
       "      <td>0.000000</td>\n",
       "      <td>0.000000</td>\n",
       "      <td>0.000000</td>\n",
       "      <td>0.000000</td>\n",
       "      <td>0.000000</td>\n",
       "      <td>0.000000</td>\n",
       "      <td>0.000000</td>\n",
       "      <td>0.000000</td>\n",
       "      <td>0.000000</td>\n",
       "      <td>0.003112</td>\n",
       "      <td>0.000000</td>\n",
       "      <td>1.080000</td>\n",
       "      <td>0.000005</td>\n",
       "      <td>0.000000</td>\n",
       "      <td>0.000000</td>\n",
       "      <td>0.000000</td>\n",
       "      <td>0.000000</td>\n",
       "      <td>0.000000</td>\n",
       "      <td>0.000000</td>\n",
       "      <td>0.000000</td>\n",
       "      <td>0.000000</td>\n",
       "      <td>5.445860e-32</td>\n",
       "      <td>-798.641662</td>\n",
       "      <td>6.647490e-32</td>\n",
       "      <td>-799.997015</td>\n",
       "      <td>4.033736e-32</td>\n",
       "      <td>-799.960571</td>\n",
       "      <td>4.039220e-32</td>\n",
       "      <td>-799.794250</td>\n",
       "      <td>-4.223520e+07</td>\n",
       "      <td>-486.598675</td>\n",
       "      <td>-264.982785</td>\n",
       "      <td>-0.010548</td>\n",
       "      <td>0.010000</td>\n",
       "      <td>0.010000</td>\n",
       "      <td>0.002986</td>\n",
       "      <td>0.046369</td>\n",
       "      <td>0.010000</td>\n",
       "      <td>0.010000</td>\n",
       "      <td>0.001083</td>\n",
       "      <td>0.000568</td>\n",
       "      <td>0.000077</td>\n",
       "      <td>0.000290</td>\n",
       "      <td>0.000000</td>\n",
       "      <td>0.000000</td>\n",
       "      <td>0.000000</td>\n",
       "      <td>0.000000</td>\n",
       "      <td>0.000000</td>\n",
       "      <td>0.594562</td>\n",
       "      <td>0.007566</td>\n",
       "      <td>10.014648</td>\n",
       "      <td>0.020676</td>\n",
       "      <td>-0.042069</td>\n",
       "      <td>-657.949759</td>\n",
       "      <td>-0.721806</td>\n",
       "      <td>-650.260008</td>\n",
       "      <td>-0.056636</td>\n",
       "      <td>-647.544439</td>\n",
       "      <td>-0.992219</td>\n",
       "      <td>-648.390665</td>\n",
       "      <td>-1.982295</td>\n",
       "      <td>-649.443911</td>\n",
       "      <td>-2.593390</td>\n",
       "      <td>-649.949283</td>\n",
       "      <td>0.000000</td>\n",
       "      <td>0.000000</td>\n",
       "      <td>0.000000</td>\n",
       "      <td>0.000000</td>\n",
       "      <td>0.077503</td>\n",
       "      <td>-799.606441</td>\n",
       "      <td>0.000000</td>\n",
       "      <td>-799.873878</td>\n",
       "      <td>0.000000</td>\n",
       "      <td>-799.755798</td>\n",
       "      <td>0.000000</td>\n",
       "      <td>-809.333008</td>\n",
       "      <td>0.000000</td>\n",
       "      <td>-799.798523</td>\n",
       "      <td>0.000000</td>\n",
       "      <td>-800.836914</td>\n",
       "      <td>-0.372054</td>\n",
       "      <td>-797.323986</td>\n",
       "      <td>0.528083</td>\n",
       "      <td>-800.220337</td>\n",
       "      <td>-0.079426</td>\n",
       "      <td>-809.741464</td>\n",
       "    </tr>\n",
       "    <tr>\n",
       "      <th>25%</th>\n",
       "      <td>4.251365</td>\n",
       "      <td>9.137280</td>\n",
       "      <td>7.702620</td>\n",
       "      <td>43.402215</td>\n",
       "      <td>63.299712</td>\n",
       "      <td>8.062924</td>\n",
       "      <td>2.035972</td>\n",
       "      <td>8.939093</td>\n",
       "      <td>2.461138</td>\n",
       "      <td>113.986410</td>\n",
       "      <td>6.071482</td>\n",
       "      <td>6.940000</td>\n",
       "      <td>0.696412</td>\n",
       "      <td>7.263288</td>\n",
       "      <td>8.686626</td>\n",
       "      <td>7.905476</td>\n",
       "      <td>30.463140</td>\n",
       "      <td>14.017742</td>\n",
       "      <td>2.503683</td>\n",
       "      <td>6.741540</td>\n",
       "      <td>2.924844</td>\n",
       "      <td>1.505127e+03</td>\n",
       "      <td>-500.308535</td>\n",
       "      <td>1.503639e+03</td>\n",
       "      <td>-500.437154</td>\n",
       "      <td>1.500930e+03</td>\n",
       "      <td>-500.703893</td>\n",
       "      <td>1.494275e+03</td>\n",
       "      <td>-500.458318</td>\n",
       "      <td>4.069786e+04</td>\n",
       "      <td>2611.418889</td>\n",
       "      <td>2551.428299</td>\n",
       "      <td>2.035434</td>\n",
       "      <td>7.237967</td>\n",
       "      <td>2.886967</td>\n",
       "      <td>416.355352</td>\n",
       "      <td>47.463533</td>\n",
       "      <td>34.196614</td>\n",
       "      <td>6.854384</td>\n",
       "      <td>10.000236</td>\n",
       "      <td>5.398618</td>\n",
       "      <td>9.998225</td>\n",
       "      <td>5.398636</td>\n",
       "      <td>10.628337</td>\n",
       "      <td>6.725987</td>\n",
       "      <td>27.224987</td>\n",
       "      <td>18.802523</td>\n",
       "      <td>81.037957</td>\n",
       "      <td>4.889934</td>\n",
       "      <td>0.477728</td>\n",
       "      <td>15.822525</td>\n",
       "      <td>1.404207</td>\n",
       "      <td>999.661991</td>\n",
       "      <td>-499.835283</td>\n",
       "      <td>1199.626514</td>\n",
       "      <td>-500.200998</td>\n",
       "      <td>1151.083780</td>\n",
       "      <td>-500.217261</td>\n",
       "      <td>1061.051788</td>\n",
       "      <td>-500.386386</td>\n",
       "      <td>997.375744</td>\n",
       "      <td>-500.232191</td>\n",
       "      <td>900.995511</td>\n",
       "      <td>-500.522553</td>\n",
       "      <td>12.638201</td>\n",
       "      <td>3.863993</td>\n",
       "      <td>3.206396</td>\n",
       "      <td>3.182770</td>\n",
       "      <td>25.050201</td>\n",
       "      <td>-500.233697</td>\n",
       "      <td>20.924990</td>\n",
       "      <td>-500.253773</td>\n",
       "      <td>24.948232</td>\n",
       "      <td>-500.213512</td>\n",
       "      <td>18.995946</td>\n",
       "      <td>-500.123010</td>\n",
       "      <td>14.975511</td>\n",
       "      <td>-500.705070</td>\n",
       "      <td>11.940333</td>\n",
       "      <td>-500.187767</td>\n",
       "      <td>10.988528</td>\n",
       "      <td>-500.458409</td>\n",
       "      <td>8.971074</td>\n",
       "      <td>-500.129482</td>\n",
       "      <td>14.983005</td>\n",
       "      <td>-500.728189</td>\n",
       "    </tr>\n",
       "    <tr>\n",
       "      <th>50%</th>\n",
       "      <td>5.066039</td>\n",
       "      <td>10.102264</td>\n",
       "      <td>9.200023</td>\n",
       "      <td>45.011244</td>\n",
       "      <td>68.172738</td>\n",
       "      <td>9.744140</td>\n",
       "      <td>2.747130</td>\n",
       "      <td>10.622456</td>\n",
       "      <td>2.984909</td>\n",
       "      <td>143.147974</td>\n",
       "      <td>8.037086</td>\n",
       "      <td>7.280000</td>\n",
       "      <td>0.933436</td>\n",
       "      <td>8.507298</td>\n",
       "      <td>10.147491</td>\n",
       "      <td>10.359967</td>\n",
       "      <td>32.841295</td>\n",
       "      <td>15.842858</td>\n",
       "      <td>3.270819</td>\n",
       "      <td>8.179644</td>\n",
       "      <td>3.623234</td>\n",
       "      <td>1.600599e+03</td>\n",
       "      <td>-499.926197</td>\n",
       "      <td>1.600523e+03</td>\n",
       "      <td>-499.956924</td>\n",
       "      <td>1.600254e+03</td>\n",
       "      <td>-499.909674</td>\n",
       "      <td>1.599448e+03</td>\n",
       "      <td>-499.905945</td>\n",
       "      <td>4.469648e+04</td>\n",
       "      <td>3018.353876</td>\n",
       "      <td>2997.218088</td>\n",
       "      <td>2.309665</td>\n",
       "      <td>8.593574</td>\n",
       "      <td>3.535715</td>\n",
       "      <td>499.397502</td>\n",
       "      <td>54.614393</td>\n",
       "      <td>37.195718</td>\n",
       "      <td>8.125839</td>\n",
       "      <td>12.001075</td>\n",
       "      <td>6.007738</td>\n",
       "      <td>12.000152</td>\n",
       "      <td>6.064207</td>\n",
       "      <td>12.098115</td>\n",
       "      <td>7.742580</td>\n",
       "      <td>29.836255</td>\n",
       "      <td>20.280214</td>\n",
       "      <td>86.188892</td>\n",
       "      <td>5.765829</td>\n",
       "      <td>0.617465</td>\n",
       "      <td>18.106867</td>\n",
       "      <td>1.808170</td>\n",
       "      <td>1001.071918</td>\n",
       "      <td>-300.263997</td>\n",
       "      <td>1301.581573</td>\n",
       "      <td>-499.784055</td>\n",
       "      <td>1300.212670</td>\n",
       "      <td>-499.713396</td>\n",
       "      <td>1201.569141</td>\n",
       "      <td>-499.532412</td>\n",
       "      <td>1049.830547</td>\n",
       "      <td>-499.663089</td>\n",
       "      <td>999.924821</td>\n",
       "      <td>-499.471777</td>\n",
       "      <td>15.640668</td>\n",
       "      <td>5.343291</td>\n",
       "      <td>7.262289</td>\n",
       "      <td>4.072412</td>\n",
       "      <td>29.161171</td>\n",
       "      <td>-499.973238</td>\n",
       "      <td>25.042097</td>\n",
       "      <td>-500.015476</td>\n",
       "      <td>27.982059</td>\n",
       "      <td>-499.930720</td>\n",
       "      <td>22.011361</td>\n",
       "      <td>-499.981932</td>\n",
       "      <td>18.017349</td>\n",
       "      <td>-499.837795</td>\n",
       "      <td>14.970988</td>\n",
       "      <td>-499.459790</td>\n",
       "      <td>14.999920</td>\n",
       "      <td>-499.802570</td>\n",
       "      <td>11.019389</td>\n",
       "      <td>-499.935338</td>\n",
       "      <td>19.960511</td>\n",
       "      <td>-500.048424</td>\n",
       "    </tr>\n",
       "    <tr>\n",
       "      <th>75%</th>\n",
       "      <td>5.895401</td>\n",
       "      <td>11.035644</td>\n",
       "      <td>10.929429</td>\n",
       "      <td>46.275313</td>\n",
       "      <td>72.686642</td>\n",
       "      <td>11.134242</td>\n",
       "      <td>3.329429</td>\n",
       "      <td>12.104447</td>\n",
       "      <td>3.571351</td>\n",
       "      <td>175.004825</td>\n",
       "      <td>11.011805</td>\n",
       "      <td>7.670000</td>\n",
       "      <td>1.209382</td>\n",
       "      <td>9.809001</td>\n",
       "      <td>11.416016</td>\n",
       "      <td>13.492015</td>\n",
       "      <td>35.048006</td>\n",
       "      <td>18.014169</td>\n",
       "      <td>4.180906</td>\n",
       "      <td>9.544672</td>\n",
       "      <td>4.585705</td>\n",
       "      <td>1.697658e+03</td>\n",
       "      <td>-499.433966</td>\n",
       "      <td>1.699218e+03</td>\n",
       "      <td>-499.373569</td>\n",
       "      <td>1.699483e+03</td>\n",
       "      <td>-498.857678</td>\n",
       "      <td>1.698527e+03</td>\n",
       "      <td>-499.064775</td>\n",
       "      <td>4.816850e+04</td>\n",
       "      <td>3676.758984</td>\n",
       "      <td>3601.912193</td>\n",
       "      <td>2.731794</td>\n",
       "      <td>10.213771</td>\n",
       "      <td>4.244161</td>\n",
       "      <td>550.163788</td>\n",
       "      <td>64.931610</td>\n",
       "      <td>40.036978</td>\n",
       "      <td>9.769917</td>\n",
       "      <td>14.702810</td>\n",
       "      <td>6.798028</td>\n",
       "      <td>14.637063</td>\n",
       "      <td>6.799929</td>\n",
       "      <td>13.736996</td>\n",
       "      <td>8.565199</td>\n",
       "      <td>32.188259</td>\n",
       "      <td>21.717843</td>\n",
       "      <td>90.010670</td>\n",
       "      <td>6.389399</td>\n",
       "      <td>0.778271</td>\n",
       "      <td>20.088151</td>\n",
       "      <td>2.211861</td>\n",
       "      <td>1205.611903</td>\n",
       "      <td>-299.982004</td>\n",
       "      <td>1448.634347</td>\n",
       "      <td>-400.615895</td>\n",
       "      <td>1449.465867</td>\n",
       "      <td>-400.986442</td>\n",
       "      <td>1352.880320</td>\n",
       "      <td>-401.638550</td>\n",
       "      <td>1199.255640</td>\n",
       "      <td>-401.161191</td>\n",
       "      <td>1099.719692</td>\n",
       "      <td>-401.511042</td>\n",
       "      <td>17.358101</td>\n",
       "      <td>7.787872</td>\n",
       "      <td>10.254457</td>\n",
       "      <td>5.063081</td>\n",
       "      <td>33.037348</td>\n",
       "      <td>-499.671226</td>\n",
       "      <td>28.008075</td>\n",
       "      <td>-499.785709</td>\n",
       "      <td>33.002570</td>\n",
       "      <td>-499.326017</td>\n",
       "      <td>25.998158</td>\n",
       "      <td>-499.812856</td>\n",
       "      <td>23.012460</td>\n",
       "      <td>-498.249814</td>\n",
       "      <td>19.034114</td>\n",
       "      <td>-400.118175</td>\n",
       "      <td>18.026184</td>\n",
       "      <td>-498.383889</td>\n",
       "      <td>14.019040</td>\n",
       "      <td>-499.437546</td>\n",
       "      <td>24.002617</td>\n",
       "      <td>-499.495403</td>\n",
       "    </tr>\n",
       "    <tr>\n",
       "      <th>max</th>\n",
       "      <td>16.001945</td>\n",
       "      <td>17.031899</td>\n",
       "      <td>19.615720</td>\n",
       "      <td>52.756638</td>\n",
       "      <td>100.000000</td>\n",
       "      <td>19.552149</td>\n",
       "      <td>5.804178</td>\n",
       "      <td>22.317730</td>\n",
       "      <td>8.245022</td>\n",
       "      <td>265.983123</td>\n",
       "      <td>40.000000</td>\n",
       "      <td>15.500000</td>\n",
       "      <td>4.102454</td>\n",
       "      <td>16.081632</td>\n",
       "      <td>17.081278</td>\n",
       "      <td>22.458114</td>\n",
       "      <td>45.933934</td>\n",
       "      <td>29.459575</td>\n",
       "      <td>9.634565</td>\n",
       "      <td>22.276364</td>\n",
       "      <td>17.788925</td>\n",
       "      <td>2.103104e+03</td>\n",
       "      <td>-57.195404</td>\n",
       "      <td>2.114907e+03</td>\n",
       "      <td>-142.527229</td>\n",
       "      <td>2.013156e+03</td>\n",
       "      <td>-150.937035</td>\n",
       "      <td>2.398904e+03</td>\n",
       "      <td>-30.601828</td>\n",
       "      <td>3.428099e+06</td>\n",
       "      <td>629638.977914</td>\n",
       "      <td>718684.955855</td>\n",
       "      <td>39.379272</td>\n",
       "      <td>14.596026</td>\n",
       "      <td>7.142594</td>\n",
       "      <td>717.508837</td>\n",
       "      <td>484.967466</td>\n",
       "      <td>53.477742</td>\n",
       "      <td>13.731330</td>\n",
       "      <td>36.118275</td>\n",
       "      <td>9.703448</td>\n",
       "      <td>37.980648</td>\n",
       "      <td>9.698407</td>\n",
       "      <td>24.480271</td>\n",
       "      <td>13.617072</td>\n",
       "      <td>38.351193</td>\n",
       "      <td>28.824507</td>\n",
       "      <td>100.000000</td>\n",
       "      <td>12.719177</td>\n",
       "      <td>3.778064</td>\n",
       "      <td>66.117188</td>\n",
       "      <td>9.688980</td>\n",
       "      <td>1521.980372</td>\n",
       "      <td>-273.776101</td>\n",
       "      <td>1809.194008</td>\n",
       "      <td>-296.383080</td>\n",
       "      <td>2499.129174</td>\n",
       "      <td>-292.155509</td>\n",
       "      <td>1817.199290</td>\n",
       "      <td>-76.397327</td>\n",
       "      <td>1922.636637</td>\n",
       "      <td>-139.753025</td>\n",
       "      <td>1706.307502</td>\n",
       "      <td>-191.718480</td>\n",
       "      <td>23.264738</td>\n",
       "      <td>17.042505</td>\n",
       "      <td>26.000772</td>\n",
       "      <td>26.811643</td>\n",
       "      <td>52.651399</td>\n",
       "      <td>-127.875565</td>\n",
       "      <td>35.152122</td>\n",
       "      <td>-211.999273</td>\n",
       "      <td>44.260464</td>\n",
       "      <td>-191.678810</td>\n",
       "      <td>35.072841</td>\n",
       "      <td>-159.742331</td>\n",
       "      <td>30.115735</td>\n",
       "      <td>-245.239184</td>\n",
       "      <td>31.269706</td>\n",
       "      <td>-6.506986</td>\n",
       "      <td>43.709931</td>\n",
       "      <td>-244.483566</td>\n",
       "      <td>27.926001</td>\n",
       "      <td>-137.740004</td>\n",
       "      <td>32.188906</td>\n",
       "      <td>-104.427459</td>\n",
       "    </tr>\n",
       "  </tbody>\n",
       "</table>\n",
       "</div>"
      ],
      "text/plain": [
       "       final.output.concentrate_ag  final.output.concentrate_pb  \\\n",
       "count                 19439.000000                 19439.000000   \n",
       "mean                      5.168457                     9.978900   \n",
       "std                       1.372314                     1.669197   \n",
       "min                       0.000000                     0.000000   \n",
       "25%                       4.251365                     9.137280   \n",
       "50%                       5.066039                    10.102264   \n",
       "75%                       5.895401                    11.035644   \n",
       "max                      16.001945                    17.031899   \n",
       "\n",
       "       final.output.concentrate_sol  final.output.concentrate_au  \\\n",
       "count                  19439.000000                 19439.000000   \n",
       "mean                       9.474424                    44.076513   \n",
       "std                        2.800154                     5.129784   \n",
       "min                        0.000000                     0.000000   \n",
       "25%                        7.702620                    43.402215   \n",
       "50%                        9.200023                    45.011244   \n",
       "75%                       10.929429                    46.275313   \n",
       "max                       19.615720                    52.756638   \n",
       "\n",
       "       final.output.recovery  final.output.tail_ag  final.output.tail_pb  \\\n",
       "count           19439.000000          19439.000000          19439.000000   \n",
       "mean               67.050208              9.688633              2.702945   \n",
       "std                10.125840              2.328590              0.948991   \n",
       "min                 0.000000              0.000000              0.000000   \n",
       "25%                63.299712              8.062924              2.035972   \n",
       "50%                68.172738              9.744140              2.747130   \n",
       "75%                72.686642             11.134242              3.329429   \n",
       "max               100.000000             19.552149              5.804178   \n",
       "\n",
       "       final.output.tail_sol  final.output.tail_au  \\\n",
       "count           19439.000000          19439.000000   \n",
       "mean               10.583872              3.042467   \n",
       "std                 2.868777              0.922808   \n",
       "min                 0.000000              0.000000   \n",
       "25%                 8.939093              2.461138   \n",
       "50%                10.622456              2.984909   \n",
       "75%                12.104447              3.571351   \n",
       "max                22.317730              8.245022   \n",
       "\n",
       "       primary_cleaner.input.sulfate  primary_cleaner.input.depressant  \\\n",
       "count                   19439.000000                      19439.000000   \n",
       "mean                      144.461750                          8.807269   \n",
       "std                        44.696586                          3.294340   \n",
       "min                         0.003112                          0.000000   \n",
       "25%                       113.986410                          6.071482   \n",
       "50%                       143.147974                          8.037086   \n",
       "75%                       175.004825                         11.011805   \n",
       "max                       265.983123                         40.000000   \n",
       "\n",
       "       primary_cleaner.input.feed_size  primary_cleaner.input.xanthate  \\\n",
       "count                     19439.000000                    19439.000000   \n",
       "mean                          7.307078                        1.018553   \n",
       "std                           0.613509                        0.514543   \n",
       "min                           1.080000                        0.000005   \n",
       "25%                           6.940000                        0.696412   \n",
       "50%                           7.280000                        0.933436   \n",
       "75%                           7.670000                        1.209382   \n",
       "max                          15.500000                        4.102454   \n",
       "\n",
       "       primary_cleaner.output.concentrate_ag  \\\n",
       "count                           19439.000000   \n",
       "mean                                8.442408   \n",
       "std                                 2.054465   \n",
       "min                                 0.000000   \n",
       "25%                                 7.263288   \n",
       "50%                                 8.507298   \n",
       "75%                                 9.809001   \n",
       "max                                16.081632   \n",
       "\n",
       "       primary_cleaner.output.concentrate_pb  \\\n",
       "count                           19439.000000   \n",
       "mean                                9.823364   \n",
       "std                                 2.554818   \n",
       "min                                 0.000000   \n",
       "25%                                 8.686626   \n",
       "50%                                10.147491   \n",
       "75%                                11.416016   \n",
       "max                                17.081278   \n",
       "\n",
       "       primary_cleaner.output.concentrate_sol  \\\n",
       "count                            19439.000000   \n",
       "mean                                10.514187   \n",
       "std                                  3.923528   \n",
       "min                                  0.000000   \n",
       "25%                                  7.905476   \n",
       "50%                                 10.359967   \n",
       "75%                                 13.492015   \n",
       "max                                 22.458114   \n",
       "\n",
       "       primary_cleaner.output.concentrate_au  primary_cleaner.output.tail_ag  \\\n",
       "count                           19439.000000                    19439.000000   \n",
       "mean                               32.119400                       16.146129   \n",
       "std                                 5.627611                        3.548550   \n",
       "min                                 0.000000                        0.000000   \n",
       "25%                                30.463140                       14.017742   \n",
       "50%                                32.841295                       15.842858   \n",
       "75%                                35.048006                       18.014169   \n",
       "max                                45.933934                       29.459575   \n",
       "\n",
       "       primary_cleaner.output.tail_pb  primary_cleaner.output.tail_sol  \\\n",
       "count                    19439.000000                     19439.000000   \n",
       "mean                         3.434761                         7.967190   \n",
       "std                          1.392629                         2.216096   \n",
       "min                          0.000000                         0.000000   \n",
       "25%                          2.503683                         6.741540   \n",
       "50%                          3.270819                         8.179644   \n",
       "75%                          4.180906                         9.544672   \n",
       "max                          9.634565                        22.276364   \n",
       "\n",
       "       primary_cleaner.output.tail_au  primary_cleaner.state.floatbank8_a_air  \\\n",
       "count                    19439.000000                            1.943900e+04   \n",
       "mean                         3.914179                            1.589368e+03   \n",
       "std                          1.593034                            1.289914e+02   \n",
       "min                          0.000000                            5.445860e-32   \n",
       "25%                          2.924844                            1.505127e+03   \n",
       "50%                          3.623234                            1.600599e+03   \n",
       "75%                          4.585705                            1.697658e+03   \n",
       "max                         17.788925                            2.103104e+03   \n",
       "\n",
       "       primary_cleaner.state.floatbank8_a_level  \\\n",
       "count                              19439.000000   \n",
       "mean                                -491.195477   \n",
       "std                                   32.431072   \n",
       "min                                 -798.641662   \n",
       "25%                                 -500.308535   \n",
       "50%                                 -499.926197   \n",
       "75%                                 -499.433966   \n",
       "max                                  -57.195404   \n",
       "\n",
       "       primary_cleaner.state.floatbank8_b_air  \\\n",
       "count                            1.943900e+04   \n",
       "mean                             1.591363e+03   \n",
       "std                              1.318090e+02   \n",
       "min                              6.647490e-32   \n",
       "25%                              1.503639e+03   \n",
       "50%                              1.600523e+03   \n",
       "75%                              1.699218e+03   \n",
       "max                              2.114907e+03   \n",
       "\n",
       "       primary_cleaner.state.floatbank8_b_level  \\\n",
       "count                              19439.000000   \n",
       "mean                                -492.193388   \n",
       "std                                   33.794000   \n",
       "min                                 -799.997015   \n",
       "25%                                 -500.437154   \n",
       "50%                                 -499.956924   \n",
       "75%                                 -499.373569   \n",
       "max                                 -142.527229   \n",
       "\n",
       "       primary_cleaner.state.floatbank8_c_air  \\\n",
       "count                            1.943900e+04   \n",
       "mean                             1.586673e+03   \n",
       "std                              1.361073e+02   \n",
       "min                              4.033736e-32   \n",
       "25%                              1.500930e+03   \n",
       "50%                              1.600254e+03   \n",
       "75%                              1.699483e+03   \n",
       "max                              2.013156e+03   \n",
       "\n",
       "       primary_cleaner.state.floatbank8_c_level  \\\n",
       "count                              19439.000000   \n",
       "mean                                -491.980506   \n",
       "std                                   32.710670   \n",
       "min                                 -799.960571   \n",
       "25%                                 -500.703893   \n",
       "50%                                 -499.909674   \n",
       "75%                                 -498.857678   \n",
       "max                                 -150.937035   \n",
       "\n",
       "       primary_cleaner.state.floatbank8_d_air  \\\n",
       "count                            1.943900e+04   \n",
       "mean                             1.542942e+03   \n",
       "std                              2.462003e+02   \n",
       "min                              4.039220e-32   \n",
       "25%                              1.494275e+03   \n",
       "50%                              1.599448e+03   \n",
       "75%                              1.698527e+03   \n",
       "max                              2.398904e+03   \n",
       "\n",
       "       primary_cleaner.state.floatbank8_d_level  \\\n",
       "count                              19439.000000   \n",
       "mean                                -488.017972   \n",
       "std                                   43.958727   \n",
       "min                                 -799.794250   \n",
       "25%                                 -500.458318   \n",
       "50%                                 -499.905945   \n",
       "75%                                 -499.064775   \n",
       "max                                  -30.601828   \n",
       "\n",
       "       rougher.calculation.sulfate_to_au_concentrate  \\\n",
       "count                                   1.943900e+04   \n",
       "mean                                    4.217819e+04   \n",
       "std                                     3.243469e+05   \n",
       "min                                    -4.223520e+07   \n",
       "25%                                     4.069786e+04   \n",
       "50%                                     4.469648e+04   \n",
       "75%                                     4.816850e+04   \n",
       "max                                     3.428099e+06   \n",
       "\n",
       "       rougher.calculation.floatbank10_sulfate_to_au_feed  \\\n",
       "count                                        19439.000000   \n",
       "mean                                          3392.867288   \n",
       "std                                           4943.652012   \n",
       "min                                           -486.598675   \n",
       "25%                                           2611.418889   \n",
       "50%                                           3018.353876   \n",
       "75%                                           3676.758984   \n",
       "max                                         629638.977914   \n",
       "\n",
       "       rougher.calculation.floatbank11_sulfate_to_au_feed  \\\n",
       "count                                        19439.000000   \n",
       "mean                                          3256.688571   \n",
       "std                                           5781.171043   \n",
       "min                                           -264.982785   \n",
       "25%                                           2551.428299   \n",
       "50%                                           2997.218088   \n",
       "75%                                           3601.912193   \n",
       "max                                         718684.955855   \n",
       "\n",
       "       rougher.calculation.au_pb_ratio  rougher.input.feed_ag  \\\n",
       "count                     19439.000000           19439.000000   \n",
       "mean                          2.420119               8.794927   \n",
       "std                           0.814935               1.936847   \n",
       "min                          -0.010548               0.010000   \n",
       "25%                           2.035434               7.237967   \n",
       "50%                           2.309665               8.593574   \n",
       "75%                           2.731794              10.213771   \n",
       "max                          39.379272              14.596026   \n",
       "\n",
       "       rougher.input.feed_pb  rougher.input.feed_rate  \\\n",
       "count           19439.000000             19439.000000   \n",
       "mean                3.597960               478.151688   \n",
       "std                 1.048972               105.702317   \n",
       "min                 0.010000                 0.002986   \n",
       "25%                 2.886967               416.355352   \n",
       "50%                 3.535715               499.397502   \n",
       "75%                 4.244161               550.163788   \n",
       "max                 7.142594               717.508837   \n",
       "\n",
       "       rougher.input.feed_size  rougher.input.feed_sol  rougher.input.feed_au  \\\n",
       "count             19439.000000            19439.000000           19439.000000   \n",
       "mean                 58.995236               36.680881               8.266097   \n",
       "std                  21.763756                5.154572               1.955092   \n",
       "min                   0.046369                0.010000               0.010000   \n",
       "25%                  47.463533               34.196614               6.854384   \n",
       "50%                  54.614393               37.195718               8.125839   \n",
       "75%                  64.931610               40.036978               9.769917   \n",
       "max                 484.967466               53.477742              13.731330   \n",
       "\n",
       "       rougher.input.floatbank10_sulfate  rougher.input.floatbank10_xanthate  \\\n",
       "count                       19439.000000                        19439.000000   \n",
       "mean                           12.315778                            6.020448   \n",
       "std                             3.455704                            1.128913   \n",
       "min                             0.001083                            0.000568   \n",
       "25%                            10.000236                            5.398618   \n",
       "50%                            12.001075                            6.007738   \n",
       "75%                            14.702810                            6.798028   \n",
       "max                            36.118275                            9.703448   \n",
       "\n",
       "       rougher.input.floatbank11_sulfate  rougher.input.floatbank11_xanthate  \\\n",
       "count                       19439.000000                        19439.000000   \n",
       "mean                           12.054943                            5.967362   \n",
       "std                             3.824615                            1.313134   \n",
       "min                             0.000077                            0.000290   \n",
       "25%                             9.998225                            5.398636   \n",
       "50%                            12.000152                            6.064207   \n",
       "75%                            14.637063                            6.799929   \n",
       "max                            37.980648                            9.698407   \n",
       "\n",
       "       rougher.output.concentrate_ag  rougher.output.concentrate_pb  \\\n",
       "count                   19439.000000                   19439.000000   \n",
       "mean                       11.994759                       7.606272   \n",
       "std                         2.733862                       1.796757   \n",
       "min                         0.000000                       0.000000   \n",
       "25%                        10.628337                       6.725987   \n",
       "50%                        12.098115                       7.742580   \n",
       "75%                        13.736996                       8.565199   \n",
       "max                        24.480271                      13.617072   \n",
       "\n",
       "       rougher.output.concentrate_sol  rougher.output.concentrate_au  \\\n",
       "count                    19439.000000                   19439.000000   \n",
       "mean                        28.805624                      19.772000   \n",
       "std                          5.943485                       3.753600   \n",
       "min                          0.000000                       0.000000   \n",
       "25%                         27.224987                      18.802523   \n",
       "50%                         29.836255                      20.280214   \n",
       "75%                         32.188259                      21.717843   \n",
       "max                         38.351193                      28.824507   \n",
       "\n",
       "       rougher.output.recovery  rougher.output.tail_ag  \\\n",
       "count             19439.000000            19439.000000   \n",
       "mean                 83.328587                5.589067   \n",
       "std                  14.148086                1.111322   \n",
       "min                   0.000000                0.594562   \n",
       "25%                  81.037957                4.889934   \n",
       "50%                  86.188892                5.765829   \n",
       "75%                  90.010670                6.389399   \n",
       "max                 100.000000               12.719177   \n",
       "\n",
       "       rougher.output.tail_pb  rougher.output.tail_sol  \\\n",
       "count            19439.000000             19439.000000   \n",
       "mean                 0.645782                18.057106   \n",
       "std                  0.251526                 3.449218   \n",
       "min                  0.007566                10.014648   \n",
       "25%                  0.477728                15.822525   \n",
       "50%                  0.617465                18.106867   \n",
       "75%                  0.778271                20.088151   \n",
       "max                  3.778064                66.117188   \n",
       "\n",
       "       rougher.output.tail_au  rougher.state.floatbank10_a_air  \\\n",
       "count            19439.000000                     19439.000000   \n",
       "mean                 1.816391                      1105.309633   \n",
       "std                  0.680046                       160.824446   \n",
       "min                  0.020676                        -0.042069   \n",
       "25%                  1.404207                       999.661991   \n",
       "50%                  1.808170                      1001.071918   \n",
       "75%                  2.211861                      1205.611903   \n",
       "max                  9.688980                      1521.980372   \n",
       "\n",
       "       rougher.state.floatbank10_a_level  rougher.state.floatbank10_b_air  \\\n",
       "count                       19439.000000                     19439.000000   \n",
       "mean                         -376.617044                      1320.235524   \n",
       "std                            93.911429                       176.293969   \n",
       "min                          -657.949759                        -0.721806   \n",
       "25%                          -499.835283                      1199.626514   \n",
       "50%                          -300.263997                      1301.581573   \n",
       "75%                          -299.982004                      1448.634347   \n",
       "max                          -273.776101                      1809.194008   \n",
       "\n",
       "       rougher.state.floatbank10_b_level  rougher.state.floatbank10_c_air  \\\n",
       "count                       19439.000000                     19439.000000   \n",
       "mean                         -467.249517                      1299.984223   \n",
       "std                            54.672244                       202.810509   \n",
       "min                          -650.260008                        -0.056636   \n",
       "25%                          -500.200998                      1151.083780   \n",
       "50%                          -499.784055                      1300.212670   \n",
       "75%                          -400.615895                      1449.465867   \n",
       "max                          -296.383080                      2499.129174   \n",
       "\n",
       "       rougher.state.floatbank10_c_level  rougher.state.floatbank10_d_air  \\\n",
       "count                       19439.000000                     19439.000000   \n",
       "mean                         -467.718640                      1211.563299   \n",
       "std                            53.533969                       204.019326   \n",
       "min                          -647.544439                        -0.992219   \n",
       "25%                          -500.217261                      1061.051788   \n",
       "50%                          -499.713396                      1201.569141   \n",
       "75%                          -400.986442                      1352.880320   \n",
       "max                          -292.155509                      1817.199290   \n",
       "\n",
       "       rougher.state.floatbank10_d_level  rougher.state.floatbank10_e_air  \\\n",
       "count                       19439.000000                     19439.000000   \n",
       "mean                         -468.239912                      1076.473081   \n",
       "std                            53.921458                       173.257627   \n",
       "min                          -648.390665                        -1.982295   \n",
       "25%                          -500.386386                       997.375744   \n",
       "50%                          -499.532412                      1049.830547   \n",
       "75%                          -401.638550                      1199.255640   \n",
       "max                           -76.397327                      1922.636637   \n",
       "\n",
       "       rougher.state.floatbank10_e_level  rougher.state.floatbank10_f_air  \\\n",
       "count                       19439.000000                     19439.000000   \n",
       "mean                         -466.037742                      1025.274256   \n",
       "std                            57.384424                       164.487837   \n",
       "min                          -649.443911                        -2.593390   \n",
       "25%                          -500.232191                       900.995511   \n",
       "50%                          -499.663089                       999.924821   \n",
       "75%                          -401.161191                      1099.719692   \n",
       "max                          -139.753025                      1706.307502   \n",
       "\n",
       "       rougher.state.floatbank10_f_level  secondary_cleaner.output.tail_ag  \\\n",
       "count                       19439.000000                      19439.000000   \n",
       "mean                         -466.265327                         14.586509   \n",
       "std                            57.850263                          4.265102   \n",
       "min                          -649.949283                          0.000000   \n",
       "25%                          -500.522553                         12.638201   \n",
       "50%                          -499.471777                         15.640668   \n",
       "75%                          -401.511042                         17.358101   \n",
       "max                          -191.718480                         23.264738   \n",
       "\n",
       "       secondary_cleaner.output.tail_pb  secondary_cleaner.output.tail_sol  \\\n",
       "count                      19439.000000                       19439.000000   \n",
       "mean                           5.776951                           6.809953   \n",
       "std                            2.774518                           4.042287   \n",
       "min                            0.000000                           0.000000   \n",
       "25%                            3.863993                           3.206396   \n",
       "50%                            5.343291                           7.262289   \n",
       "75%                            7.787872                          10.254457   \n",
       "max                           17.042505                          26.000772   \n",
       "\n",
       "       secondary_cleaner.output.tail_au  \\\n",
       "count                      19439.000000   \n",
       "mean                           4.339625   \n",
       "std                            2.326751   \n",
       "min                            0.000000   \n",
       "25%                            3.182770   \n",
       "50%                            4.072412   \n",
       "75%                            5.063081   \n",
       "max                           26.811643   \n",
       "\n",
       "       secondary_cleaner.state.floatbank2_a_air  \\\n",
       "count                              19439.000000   \n",
       "mean                                  28.758382   \n",
       "std                                    5.471950   \n",
       "min                                    0.077503   \n",
       "25%                                   25.050201   \n",
       "50%                                   29.161171   \n",
       "75%                                   33.037348   \n",
       "max                                   52.651399   \n",
       "\n",
       "       secondary_cleaner.state.floatbank2_a_level  \\\n",
       "count                                19439.000000   \n",
       "mean                                  -502.367186   \n",
       "std                                     53.570576   \n",
       "min                                   -799.606441   \n",
       "25%                                   -500.233697   \n",
       "50%                                   -499.973238   \n",
       "75%                                   -499.671226   \n",
       "max                                   -127.875565   \n",
       "\n",
       "       secondary_cleaner.state.floatbank2_b_air  \\\n",
       "count                              19439.000000   \n",
       "mean                                  24.106804   \n",
       "std                                    5.748874   \n",
       "min                                    0.000000   \n",
       "25%                                   20.924990   \n",
       "50%                                   25.042097   \n",
       "75%                                   28.008075   \n",
       "max                                   35.152122   \n",
       "\n",
       "       secondary_cleaner.state.floatbank2_b_level  \\\n",
       "count                                19439.000000   \n",
       "mean                                  -503.230548   \n",
       "std                                     56.566273   \n",
       "min                                   -799.873878   \n",
       "25%                                   -500.253773   \n",
       "50%                                   -500.015476   \n",
       "75%                                   -499.785709   \n",
       "max                                   -211.999273   \n",
       "\n",
       "       secondary_cleaner.state.floatbank3_a_air  \\\n",
       "count                              19439.000000   \n",
       "mean                                  28.196487   \n",
       "std                                    6.134519   \n",
       "min                                    0.000000   \n",
       "25%                                   24.948232   \n",
       "50%                                   27.982059   \n",
       "75%                                   33.002570   \n",
       "max                                   44.260464   \n",
       "\n",
       "       secondary_cleaner.state.floatbank3_a_level  \\\n",
       "count                                19439.000000   \n",
       "mean                                  -486.204062   \n",
       "std                                     54.411040   \n",
       "min                                   -799.755798   \n",
       "25%                                   -500.213512   \n",
       "50%                                   -499.930720   \n",
       "75%                                   -499.326017   \n",
       "max                                   -191.678810   \n",
       "\n",
       "       secondary_cleaner.state.floatbank3_b_air  \\\n",
       "count                              19439.000000   \n",
       "mean                                  22.200684   \n",
       "std                                    5.573861   \n",
       "min                                    0.000000   \n",
       "25%                                   18.995946   \n",
       "50%                                   22.011361   \n",
       "75%                                   25.998158   \n",
       "max                                   35.072841   \n",
       "\n",
       "       secondary_cleaner.state.floatbank3_b_level  \\\n",
       "count                                19439.000000   \n",
       "mean                                  -493.742433   \n",
       "std                                     43.371066   \n",
       "min                                   -809.333008   \n",
       "25%                                   -500.123010   \n",
       "50%                                   -499.981932   \n",
       "75%                                   -499.812856   \n",
       "max                                   -159.742331   \n",
       "\n",
       "       secondary_cleaner.state.floatbank4_a_air  \\\n",
       "count                              19439.000000   \n",
       "mean                                  18.986205   \n",
       "std                                    5.411419   \n",
       "min                                    0.000000   \n",
       "25%                                   14.975511   \n",
       "50%                                   18.017349   \n",
       "75%                                   23.012460   \n",
       "max                                   30.115735   \n",
       "\n",
       "       secondary_cleaner.state.floatbank4_a_level  \\\n",
       "count                                19439.000000   \n",
       "mean                                  -485.897788   \n",
       "std                                     47.759521   \n",
       "min                                   -799.798523   \n",
       "25%                                   -500.705070   \n",
       "50%                                   -499.837795   \n",
       "75%                                   -498.249814   \n",
       "max                                   -245.239184   \n",
       "\n",
       "       secondary_cleaner.state.floatbank4_b_air  \\\n",
       "count                              19439.000000   \n",
       "mean                                  15.010213   \n",
       "std                                    4.890149   \n",
       "min                                    0.000000   \n",
       "25%                                   11.940333   \n",
       "50%                                   14.970988   \n",
       "75%                                   19.034114   \n",
       "max                                   31.269706   \n",
       "\n",
       "       secondary_cleaner.state.floatbank4_b_level  \\\n",
       "count                                19439.000000   \n",
       "mean                                  -461.083250   \n",
       "std                                     67.406861   \n",
       "min                                   -800.836914   \n",
       "25%                                   -500.187767   \n",
       "50%                                   -499.459790   \n",
       "75%                                   -400.118175   \n",
       "max                                     -6.506986   \n",
       "\n",
       "       secondary_cleaner.state.floatbank5_a_air  \\\n",
       "count                              19439.000000   \n",
       "mean                                  15.694159   \n",
       "std                                    5.510984   \n",
       "min                                   -0.372054   \n",
       "25%                                   10.988528   \n",
       "50%                                   14.999920   \n",
       "75%                                   18.026184   \n",
       "max                                   43.709931   \n",
       "\n",
       "       secondary_cleaner.state.floatbank5_a_level  \\\n",
       "count                                19439.000000   \n",
       "mean                                  -488.684403   \n",
       "std                                     34.532540   \n",
       "min                                   -797.323986   \n",
       "25%                                   -500.458409   \n",
       "50%                                   -499.802570   \n",
       "75%                                   -498.383889   \n",
       "max                                   -244.483566   \n",
       "\n",
       "       secondary_cleaner.state.floatbank5_b_air  \\\n",
       "count                              19439.000000   \n",
       "mean                                  12.198007   \n",
       "std                                    5.332972   \n",
       "min                                    0.528083   \n",
       "25%                                    8.971074   \n",
       "50%                                   11.019389   \n",
       "75%                                   14.019040   \n",
       "max                                   27.926001   \n",
       "\n",
       "       secondary_cleaner.state.floatbank5_b_level  \\\n",
       "count                                19439.000000   \n",
       "mean                                  -487.150498   \n",
       "std                                     38.346440   \n",
       "min                                   -800.220337   \n",
       "25%                                   -500.129482   \n",
       "50%                                   -499.935338   \n",
       "75%                                   -499.437546   \n",
       "max                                   -137.740004   \n",
       "\n",
       "       secondary_cleaner.state.floatbank6_a_air  \\\n",
       "count                              19439.000000   \n",
       "mean                                  18.958411   \n",
       "std                                    5.550551   \n",
       "min                                   -0.079426   \n",
       "25%                                   14.983005   \n",
       "50%                                   19.960511   \n",
       "75%                                   24.002617   \n",
       "max                                   32.188906   \n",
       "\n",
       "       secondary_cleaner.state.floatbank6_a_level  \n",
       "count                                19439.000000  \n",
       "mean                                  -505.441245  \n",
       "std                                     37.694382  \n",
       "min                                   -809.741464  \n",
       "25%                                   -500.728189  \n",
       "50%                                   -500.048424  \n",
       "75%                                   -499.495403  \n",
       "max                                   -104.427459  "
      ]
     },
     "execution_count": 26,
     "metadata": {},
     "output_type": "execute_result"
    }
   ],
   "source": [
    "data.describe()"
   ]
  },
  {
   "cell_type": "markdown",
   "metadata": {},
   "source": [
    "**Концентрация ЗОЛОТА.**"
   ]
  },
  {
   "cell_type": "code",
   "execution_count": 27,
   "metadata": {
    "scrolled": false
   },
   "outputs": [
    {
     "data": {
      "image/png": "[encoded data removed]",
      "text/plain": [
       "<Figure size 720x360 with 1 Axes>"
      ]
     },
     "metadata": {
      "needs_background": "light"
     },
     "output_type": "display_data"
    }
   ],
   "source": [
    "plt.figure(figsize=(10, 5))\n",
    "plt.hist(data['rougher.output.concentrate_au'],bins=30, alpha = 0.5, label='флотация')\n",
    "plt.hist(data['primary_cleaner.output.concentrate_au'],bins=30, alpha = 0.5,  label='первичная')\n",
    "plt.hist(data['final.output.concentrate_au'],bins=30, alpha = 0.5, label='финал')\n",
    "plt.legend(loc='upper left')\n",
    "plt.xlabel('Концентрация')\n",
    "plt.ylabel('Значения')\n",
    "plt.title('Золото')\n",
    "plt.show()"
   ]
  },
  {
   "cell_type": "markdown",
   "metadata": {},
   "source": [
    "Как мы видим, наибольшая концентрация золота находится в финальных признаках, значит весь процесс очищения и обогащения работает правильно. Вообще все стадии по концентарции этого металла идут друг за другом, как и должно быть по технологическому процессу.Это наглядный пример."
   ]
  },
  {
   "cell_type": "markdown",
   "metadata": {},
   "source": [
    "**Концентрация СЕРЕБРА.**"
   ]
  },
  {
   "cell_type": "code",
   "execution_count": 28,
   "metadata": {
    "scrolled": false
   },
   "outputs": [
    {
     "data": {
      "image/png": "[encoded data removed]",
      "text/plain": [
       "<Figure size 720x360 with 1 Axes>"
      ]
     },
     "metadata": {
      "needs_background": "light"
     },
     "output_type": "display_data"
    }
   ],
   "source": [
    "plt.figure(figsize=(10, 5))\n",
    "plt.hist(data['rougher.output.concentrate_ag'],bins=30, alpha = 0.5, label='флотация')\n",
    "plt.hist(data['primary_cleaner.output.concentrate_ag'],bins=30, alpha = 0.5,  label='первичная')\n",
    "plt.hist(data['final.output.concentrate_ag'],bins=30, alpha = 0.5, label='финал')\n",
    "plt.legend(loc='upper right')\n",
    "plt.xlabel('Концентрация')\n",
    "plt.ylabel('Значения')\n",
    "plt.title('Серебро')\n",
    "plt.show()"
   ]
  },
  {
   "cell_type": "markdown",
   "metadata": {},
   "source": [
    "У серебра картина немного другая, относительно золота. Наибольшая концентрация наблюдается на этапе флотации. Наименьшая возникает на финальном этапе. "
   ]
  },
  {
   "cell_type": "markdown",
   "metadata": {},
   "source": [
    "**Концентрация СВИНЦА.**"
   ]
  },
  {
   "cell_type": "code",
   "execution_count": 29,
   "metadata": {
    "scrolled": false
   },
   "outputs": [
    {
     "data": {
      "image/png": "[encoded data removed]",
      "text/plain": [
       "<Figure size 720x360 with 1 Axes>"
      ]
     },
     "metadata": {
      "needs_background": "light"
     },
     "output_type": "display_data"
    }
   ],
   "source": [
    "plt.figure(figsize=(10, 5))\n",
    "plt.hist(data['rougher.output.concentrate_pb'],bins=30, alpha = 0.5, label='флотация')\n",
    "plt.hist(data['primary_cleaner.output.concentrate_pb'],bins=30, alpha = 0.5,  label='первичная')\n",
    "plt.hist(data['final.output.concentrate_pb'],bins=30, alpha = 0.5, label='финал')\n",
    "plt.legend(loc='upper right')\n",
    "plt.xlabel('Концентрация')\n",
    "plt.ylabel('Значения')\n",
    "plt.title('Свинец')\n",
    "plt.show()"
   ]
  },
  {
   "cell_type": "markdown",
   "metadata": {},
   "source": [
    "Наибольшая концентрация свинца наблюдается на этапе первичной обработки, наименьшая-на этапе флотации."
   ]
  },
  {
   "cell_type": "markdown",
   "metadata": {},
   "source": [
    "**По всем трем графиком наблюдаются выбросы в районе нуля. Удалим их (оставлю все значения больше 1), так как они могут повлиять на результаты анализа и обучения модели.**"
   ]
  },
  {
   "cell_type": "code",
   "execution_count": 30,
   "metadata": {},
   "outputs": [],
   "source": [
    "data = data[data > 1]"
   ]
  },
  {
   "cell_type": "markdown",
   "metadata": {},
   "source": [
    "### Сравнение распределения размеров гранул сырья на обучающей и тестовой выборках."
   ]
  },
  {
   "cell_type": "markdown",
   "metadata": {},
   "source": [
    "Для того, чтобы сравнить распределения размеров гранул сырья на обучающей и тестовой выборках нужно из каждой выборки нанести на график распределение rougher.input.feed_size\t "
   ]
  },
  {
   "cell_type": "code",
   "execution_count": 31,
   "metadata": {},
   "outputs": [
    {
     "data": {
      "image/png": "[encoded data removed]",
      "text/plain": [
       "<Figure size 720x504 with 1 Axes>"
      ]
     },
     "metadata": {
      "needs_background": "light"
     },
     "output_type": "display_data"
    }
   ],
   "source": [
    "plt.figure(figsize=(10, 7))\n",
    "sns.distplot(data_train['rougher.input.feed_size'], hist=True, kde=True, color = 'blue',label = 'тренировочная выборка')\n",
    "sns.distplot(data_test['rougher.input.feed_size'], hist=True, kde=True, color = 'green',label = 'тестовая выборка')\n",
    "plt.legend()\n",
    "plt.xlabel('размер гранул')\n",
    "plt.ylabel('Значения')\n",
    "plt.title('распределения размеров гранул')\n",
    "plt.xlim((0,120))\n",
    "plt.show()\n"
   ]
  },
  {
   "cell_type": "markdown",
   "metadata": {},
   "source": [
    "**Графики похожи, оценка модели будет правильной.**"
   ]
  },
  {
   "cell_type": "markdown",
   "metadata": {},
   "source": [
    "### Исследование суммарной концентрации всех веществ на разных стадиях."
   ]
  },
  {
   "cell_type": "markdown",
   "metadata": {},
   "source": [
    "У нас 3 стадии: сырьё, в черновая и финальная концентрация. Посчитаем суммарную концентрацию(сумма всех металлов(Au, Ag, Pb)) для каждого этапа. Закинем полученные результаты в переменные для представления их на одном графике."
   ]
  },
  {
   "cell_type": "code",
   "execution_count": 32,
   "metadata": {},
   "outputs": [],
   "source": [
    "final_concentrate = data['final.output.concentrate_ag'] + data['final.output.concentrate_pb'] + data['final.output.concentrate_au']\n",
    "rougher_concentrate = data['rougher.output.concentrate_ag'] + data['rougher.output.concentrate_pb'] + data['rougher.output.concentrate_au']\n",
    "primary_cleaner_concentrate = data['primary_cleaner.output.concentrate_ag'] + data['primary_cleaner.output.concentrate_pb'] + data['primary_cleaner.output.concentrate_au']"
   ]
  },
  {
   "cell_type": "code",
   "execution_count": 33,
   "metadata": {
    "scrolled": false
   },
   "outputs": [
    {
     "data": {
      "image/png": "[encoded data removed]",
      "text/plain": [
       "<Figure size 720x360 with 1 Axes>"
      ]
     },
     "metadata": {
      "needs_background": "light"
     },
     "output_type": "display_data"
    }
   ],
   "source": [
    "plt.figure(figsize=(10, 5))\n",
    "plt.hist(rougher_concentrate, bins=50, alpha = 0.5,  label='первичная очистка')\n",
    "plt.hist(primary_cleaner_concentrate, bins=50, alpha = 0.5, label='флотация')\n",
    "plt.hist(final_concentrate, bins=50, alpha = 0.5, label='финал')\n",
    "plt.legend(loc='upper left')\n",
    "plt.xlabel('Концентрация')\n",
    "plt.ylabel('Значения')\n",
    "plt.title('Суммарная концентрация')\n",
    "plt.xlim((25,None))\n",
    "plt.show()"
   ]
  },
  {
   "cell_type": "markdown",
   "metadata": {},
   "source": [
    "**Вывод можно сделать следующий, что суммарная концентрация всех металлов имеет наибольшее значение на финальном этапе. Это значит, что технологический процесс соблюдается правильно и на выходе мы получаем \"чистый\" металл.**"
   ]
  },
  {
   "cell_type": "markdown",
   "metadata": {},
   "source": [
    "## Модель."
   ]
  },
  {
   "cell_type": "markdown",
   "metadata": {},
   "source": [
    "Для решения задачи применим метрику качества — sMAPE (англ. Symmetric Mean Absolute Percentage Error, «симметричное среднее абсолютное процентное отклонение»).\n",
    "Она выражается в в относительных величинах.Она хороша тем, что одинаково учитывает масштаб и целевого признака, и предсказания."
   ]
  },
  {
   "cell_type": "markdown",
   "metadata": {},
   "source": [
    "**Для начала выполним все необходимые дейсвия для подготовки данных для построения модели.**"
   ]
  },
  {
   "cell_type": "markdown",
   "metadata": {},
   "source": [
    "- Оба целевых признака(rougher.output.recovery и final.output.recovery) определим в одну переменную для удобства."
   ]
  },
  {
   "cell_type": "code",
   "execution_count": 34,
   "metadata": {},
   "outputs": [],
   "source": [
    "TARGETS = ['rougher.output.recovery','final.output.recovery']"
   ]
  },
  {
   "cell_type": "markdown",
   "metadata": {},
   "source": [
    "- Затем разделим тренировочную и тестовую выборки на признаки(все столбцы, кроме TARGETS) и целевые признаки(только TARGETS)."
   ]
  },
  {
   "cell_type": "code",
   "execution_count": 35,
   "metadata": {},
   "outputs": [],
   "source": [
    "features_train = data_train.drop(TARGETS, axis='columns')\n",
    "target_train = data_train[TARGETS]\n",
    "features_test = data_test.drop(TARGETS, axis='columns')\n",
    "target_test = data_test[TARGETS]"
   ]
  },
  {
   "cell_type": "markdown",
   "metadata": {},
   "source": [
    "- стандартизируем(приведем к одному масштабу) данные в тренировочной выборке."
   ]
  },
  {
   "cell_type": "code",
   "execution_count": 36,
   "metadata": {},
   "outputs": [
    {
     "name": "stdout",
     "output_type": "stream",
     "text": [
      "(14149, 54)\n",
      "   primary_cleaner.input.sulfate  primary_cleaner.input.depressant  \\\n",
      "0                      -0.152523                          0.377564   \n",
      "1                      -0.189372                          0.427387   \n",
      "2                      -0.234954                          0.729976   \n",
      "3                      -0.273991                          0.731714   \n",
      "4                      -0.381861                          0.907173   \n",
      "\n",
      "   primary_cleaner.input.feed_size  primary_cleaner.input.xanthate  \\\n",
      "0                        -0.117761                        0.284092   \n",
      "1                        -0.117761                        0.321185   \n",
      "2                        -0.117761                        0.290779   \n",
      "3                        -0.117761                        0.305380   \n",
      "4                        -0.117761                        0.340409   \n",
      "\n",
      "   primary_cleaner.state.floatbank8_a_air  \\\n",
      "0                               -0.453649   \n",
      "1                               -0.248081   \n",
      "2                               -0.050312   \n",
      "3                               -0.062677   \n",
      "4                               -0.051998   \n",
      "\n",
      "   primary_cleaner.state.floatbank8_a_level  \\\n",
      "0                                 -0.283902   \n",
      "1                                 -0.339721   \n",
      "2                                 -0.314311   \n",
      "3                                 -0.341032   \n",
      "4                                 -0.285675   \n",
      "\n",
      "   primary_cleaner.state.floatbank8_b_air  \\\n",
      "0                               -0.436283   \n",
      "1                               -0.249281   \n",
      "2                               -0.062893   \n",
      "3                               -0.060814   \n",
      "4                               -0.054875   \n",
      "\n",
      "   primary_cleaner.state.floatbank8_b_level  \\\n",
      "0                                 -0.810390   \n",
      "1                                 -0.318233   \n",
      "2                                 -0.340311   \n",
      "3                                 -0.312614   \n",
      "4                                 -0.331844   \n",
      "\n",
      "   primary_cleaner.state.floatbank8_c_air  \\\n",
      "0                               -0.439519   \n",
      "1                               -0.244964   \n",
      "2                               -0.051234   \n",
      "3                               -0.063892   \n",
      "4                               -0.069272   \n",
      "\n",
      "   primary_cleaner.state.floatbank8_c_level  \\\n",
      "0                                 -0.254348   \n",
      "1                                 -0.272553   \n",
      "2                                 -0.316206   \n",
      "3                                 -0.312217   \n",
      "4                                 -0.316713   \n",
      "\n",
      "   primary_cleaner.state.floatbank8_d_air  \\\n",
      "0                                0.043611   \n",
      "1                                0.115877   \n",
      "2                                0.205932   \n",
      "3                                0.209195   \n",
      "4                                0.217100   \n",
      "\n",
      "   primary_cleaner.state.floatbank8_d_level  rougher.input.feed_ag  \\\n",
      "0                                 -0.211572              -1.307243   \n",
      "1                                 -0.328425              -1.275213   \n",
      "2                                 -0.347445              -1.298765   \n",
      "3                                 -0.352225              -1.337339   \n",
      "4                                 -0.363700              -1.328054   \n",
      "\n",
      "   rougher.input.feed_pb  rougher.input.feed_rate  rougher.input.feed_size  \\\n",
      "0              -1.153403                 0.476126                -0.205675   \n",
      "1              -1.171017                 0.492842                -0.126512   \n",
      "2              -1.270293                 0.538230                -0.116265   \n",
      "3              -1.383940                 0.658636                -0.103804   \n",
      "4              -1.618047                 0.638909                -0.180911   \n",
      "\n",
      "   rougher.input.feed_sol  rougher.input.feed_au  \\\n",
      "0                0.103094              -0.719183   \n",
      "1               -0.109359              -0.723125   \n",
      "2               -0.065418              -0.783747   \n",
      "3                0.113895              -0.910885   \n",
      "4               -0.392383              -1.147664   \n",
      "\n",
      "   rougher.input.floatbank10_sulfate  rougher.input.floatbank10_xanthate  \\\n",
      "0                           0.071573                            0.139829   \n",
      "1                           0.066903                            0.137817   \n",
      "2                           0.051584                            0.311083   \n",
      "3                          -0.036378                            0.316328   \n",
      "4                          -0.239955                            0.312394   \n",
      "\n",
      "   rougher.input.floatbank11_sulfate  rougher.input.floatbank11_xanthate  \\\n",
      "0                           0.124757                            0.166794   \n",
      "1                           0.166820                            0.171727   \n",
      "2                           0.146805                            0.311555   \n",
      "3                           0.086685                            0.305690   \n",
      "4                          -0.106434                            0.304466   \n",
      "\n",
      "   rougher.state.floatbank10_a_air  rougher.state.floatbank10_a_level  \\\n",
      "0                        -0.738387                          -0.368237   \n",
      "1                        -0.734964                          -0.325643   \n",
      "2                        -0.738313                          -0.325737   \n",
      "3                        -0.737750                          -0.327080   \n",
      "4                        -0.738554                          -0.322317   \n",
      "\n",
      "   rougher.state.floatbank10_b_air  rougher.state.floatbank10_b_level  \\\n",
      "0                         1.541218                           0.514759   \n",
      "1                         1.528897                           0.249275   \n",
      "2                         1.521159                           0.248316   \n",
      "3                         1.525102                           0.237663   \n",
      "4                         1.525917                           0.255440   \n",
      "\n",
      "   rougher.state.floatbank10_c_air  rougher.state.floatbank10_c_level  \\\n",
      "0                         1.419811                           0.408806   \n",
      "1                         1.410929                           0.272384   \n",
      "2                         1.407148                           0.270169   \n",
      "3                         1.408742                           0.270956   \n",
      "4                         1.410358                           0.268740   \n",
      "\n",
      "   rougher.state.floatbank10_d_air  rougher.state.floatbank10_d_level  \\\n",
      "0                         1.846756                           0.253961   \n",
      "1                         1.854314                           0.277997   \n",
      "2                         1.851091                           0.277987   \n",
      "3                         1.840996                           0.274832   \n",
      "4                         1.850661                           0.278783   \n",
      "\n",
      "   rougher.state.floatbank10_e_air  rougher.state.floatbank10_e_level  \\\n",
      "0                         1.724604                           0.167067   \n",
      "1                         1.696383                           0.248216   \n",
      "2                         1.696135                           0.264687   \n",
      "3                         1.705617                           0.263052   \n",
      "4                         1.708941                           0.283422   \n",
      "\n",
      "   rougher.state.floatbank10_f_air  rougher.state.floatbank10_f_level  \\\n",
      "0                         2.175797                           0.225072   \n",
      "1                         2.080762                           0.257214   \n",
      "2                         2.084173                           0.250009   \n",
      "3                         2.083705                           0.263008   \n",
      "4                         2.088992                           0.252128   \n",
      "\n",
      "   secondary_cleaner.state.floatbank2_a_air  \\\n",
      "0                                 -0.658821   \n",
      "1                                 -0.654093   \n",
      "2                                 -0.632600   \n",
      "3                                 -0.643413   \n",
      "4                                 -0.629232   \n",
      "\n",
      "   secondary_cleaner.state.floatbank2_a_level  \\\n",
      "0                                    0.061337   \n",
      "1                                    0.037063   \n",
      "2                                    0.038059   \n",
      "3                                    0.050549   \n",
      "4                                    0.032261   \n",
      "\n",
      "   secondary_cleaner.state.floatbank2_b_air  \\\n",
      "0                                 -0.170577   \n",
      "1                                 -0.171267   \n",
      "2                                 -0.171746   \n",
      "3                                 -0.160255   \n",
      "4                                 -0.160284   \n",
      "\n",
      "   secondary_cleaner.state.floatbank2_b_level  \\\n",
      "0                                    0.036433   \n",
      "1                                    0.052887   \n",
      "2                                    0.059579   \n",
      "3                                    0.061220   \n",
      "4                                    0.049366   \n",
      "\n",
      "   secondary_cleaner.state.floatbank3_a_air  \\\n",
      "0                                 -0.936898   \n",
      "1                                 -0.935346   \n",
      "2                                 -0.945461   \n",
      "3                                 -0.936004   \n",
      "4                                 -0.932657   \n",
      "\n",
      "   secondary_cleaner.state.floatbank3_a_level  \\\n",
      "0                                   -0.311376   \n",
      "1                                   -0.399620   \n",
      "2                                   -0.387852   \n",
      "3                                   -0.398217   \n",
      "4                                   -0.399590   \n",
      "\n",
      "   secondary_cleaner.state.floatbank3_b_air  \\\n",
      "0                                 -0.143299   \n",
      "1                                 -0.114213   \n",
      "2                                  0.260513   \n",
      "3                                  0.259857   \n",
      "4                                  0.260759   \n",
      "\n",
      "   secondary_cleaner.state.floatbank3_b_level  \\\n",
      "0                                   -0.248445   \n",
      "1                                   -0.250972   \n",
      "2                                   -0.261827   \n",
      "3                                   -0.262846   \n",
      "4                                   -0.263933   \n",
      "\n",
      "   secondary_cleaner.state.floatbank4_a_air  \\\n",
      "0                                 -1.054445   \n",
      "1                                 -1.058784   \n",
      "2                                 -1.054766   \n",
      "3                                 -1.050968   \n",
      "4                                 -1.052596   \n",
      "\n",
      "   secondary_cleaner.state.floatbank4_a_level  \\\n",
      "0                                   -0.468823   \n",
      "1                                   -0.528253   \n",
      "2                                   -0.469471   \n",
      "3                                   -0.436682   \n",
      "4                                   -0.416604   \n",
      "\n",
      "   secondary_cleaner.state.floatbank4_b_air  \\\n",
      "0                                 -0.644464   \n",
      "1                                 -0.672892   \n",
      "2                                 -0.680074   \n",
      "3                                 -0.663564   \n",
      "4                                 -0.672408   \n",
      "\n",
      "   secondary_cleaner.state.floatbank4_b_level  \\\n",
      "0                                   -0.755895   \n",
      "1                                   -0.698380   \n",
      "2                                   -0.695013   \n",
      "3                                   -0.696037   \n",
      "4                                   -0.693662   \n",
      "\n",
      "   secondary_cleaner.state.floatbank5_a_air  \\\n",
      "0                                 -1.174432   \n",
      "1                                 -1.154951   \n",
      "2                                 -1.149521   \n",
      "3                                 -1.166762   \n",
      "4                                 -1.174420   \n",
      "\n",
      "   secondary_cleaner.state.floatbank5_a_level  \\\n",
      "0                                   -0.378815   \n",
      "1                                   -0.427898   \n",
      "2                                   -0.426820   \n",
      "3                                   -0.402342   \n",
      "4                                   -0.467928   \n",
      "\n",
      "   secondary_cleaner.state.floatbank5_b_air  \\\n",
      "0                                 -0.864570   \n",
      "1                                 -0.881032   \n",
      "2                                 -0.875981   \n",
      "3                                 -0.882321   \n",
      "4                                 -0.896732   \n",
      "\n",
      "   secondary_cleaner.state.floatbank5_b_level  \\\n",
      "0                                   -0.420944   \n",
      "1                                   -0.423780   \n",
      "2                                   -0.422132   \n",
      "3                                   -0.415458   \n",
      "4                                   -0.418012   \n",
      "\n",
      "   secondary_cleaner.state.floatbank6_a_air  \\\n",
      "0                                 -0.941198   \n",
      "1                                 -0.967739   \n",
      "2                                 -0.962480   \n",
      "3                                 -0.966490   \n",
      "4                                 -0.968035   \n",
      "\n",
      "   secondary_cleaner.state.floatbank6_a_level  rougher.output.recovery  \\\n",
      "0                                   -2.670523                 0.304121   \n",
      "1                                   -2.507256                 0.285853   \n",
      "2                                   -2.551483                 0.285787   \n",
      "3                                   -2.512890                 0.312317   \n",
      "4                                   -2.553353                 0.275184   \n",
      "\n",
      "   final.output.recovery  \n",
      "0               0.390711  \n",
      "1               0.266863  \n",
      "2               0.155183  \n",
      "3               0.177630  \n",
      "4               0.039649  \n"
     ]
    }
   ],
   "source": [
    "scaler = StandardScaler()#Создадим объект структуры\n",
    "scaler.fit(data_train)#настроим его на обучающих данных \n",
    "data_train = pd.DataFrame(scaler.transform(data_train), columns = data_train.columns)#Преобразуем обучающую выборку функцией transform()\n",
    "print(data_train.shape) \n",
    "print(data_train.head())"
   ]
  },
  {
   "cell_type": "markdown",
   "metadata": {},
   "source": [
    "**Данные для обучения моделей подготовлены.**"
   ]
  },
  {
   "cell_type": "markdown",
   "metadata": {},
   "source": [
    "### Напишем функцию для вычисления итоговой sMAPE."
   ]
  },
  {
   "cell_type": "code",
   "execution_count": 37,
   "metadata": {},
   "outputs": [],
   "source": [
    "def final_smape(y_true, y_pred):\n",
    "    higher = np.abs(y_true - y_pred)\n",
    "    below = (np.abs(y_true) + np.abs(y_pred))/2\n",
    "    smape = ((higher / below)*100).sum()/len(y_pred)\n",
    "    return 0.25 * smape[0] + 0.75 * smape[1]"
   ]
  },
  {
   "cell_type": "markdown",
   "metadata": {},
   "source": [
    "Сделаем маркер из метрики производительности или функции потерь(make_scorer). На вход ей передадим нашу функцию."
   ]
  },
  {
   "cell_type": "code",
   "execution_count": 38,
   "metadata": {
    "scrolled": true
   },
   "outputs": [],
   "source": [
    "smape_scorer = make_scorer(final_smape, greater_is_better=False)"
   ]
  },
  {
   "cell_type": "markdown",
   "metadata": {},
   "source": [
    "**Применим к нашим данным несколько моделей машинного обучения и выберем ту, которая покажет наиболее низкий результат smape. Чем smape ниже, тем точнее модель. Рассмотрим три популярные модели:**\n",
    "\n",
    "- решающее дерево.\n",
    "- случайный лес.\n",
    "- линейная регрессия."
   ]
  },
  {
   "cell_type": "markdown",
   "metadata": {},
   "source": [
    "Для поиска гиперпараметров воспользуемся GridSearchCV(). Это инструмент для автоматического подбирания параметров для моделей машинного обучения. GridSearchCV находит наилучшие параметры, путем обычного перебора: он создает модель для каждой возможной комбинации параметров.На вход передадим модель, её гиперпараметры, кросс-валидацию(cv) равную 5 и применим наш маркер smape_scorer."
   ]
  },
  {
   "cell_type": "markdown",
   "metadata": {},
   "source": [
    "#### Дерево решений."
   ]
  },
  {
   "cell_type": "code",
   "execution_count": 39,
   "metadata": {},
   "outputs": [
    {
     "name": "stdout",
     "output_type": "stream",
     "text": [
      "Лучшее sMAPE для дерева решений: 10.935014680066505 с гиперпараметрами: {'max_depth': 4}\n",
      "CPU times: user 13.2 s, sys: 34.4 ms, total: 13.2 s\n",
      "Wall time: 13.2 s\n"
     ]
    }
   ],
   "source": [
    "%%time\n",
    "\n",
    "param_grid = {'max_depth': range(1, 9)}\n",
    "\n",
    "model = DecisionTreeRegressor(random_state=12345)\n",
    "search = RandomizedSearchCV(model, param_grid, cv=5, scoring=smape_scorer)\n",
    "search.fit(features_train, target_train)\n",
    "print('Лучшее sMAPE для дерева решений:', -search.best_score_, 'с гиперпараметрами:', search.best_params_)"
   ]
  },
  {
   "cell_type": "markdown",
   "metadata": {},
   "source": [
    "Результат smape дерева-10.9 с глубиной 4."
   ]
  },
  {
   "cell_type": "markdown",
   "metadata": {},
   "source": [
    "#### Случайный лес."
   ]
  },
  {
   "cell_type": "code",
   "execution_count": 40,
   "metadata": {},
   "outputs": [
    {
     "name": "stdout",
     "output_type": "stream",
     "text": [
      "Лучшее sMAPE для случайного леса: 10.366083527666495 с гиперпараметрами: {'n_estimators': 40, 'max_depth': 5}\n",
      "CPU times: user 3min 42s, sys: 512 ms, total: 3min 43s\n",
      "Wall time: 3min 43s\n"
     ]
    }
   ],
   "source": [
    "%%time\n",
    "\n",
    "param_grid = { 'n_estimators': range(10, 51, 10),\n",
    "               'max_depth': range (1,7, 2)}\n",
    "\n",
    "model = RandomForestRegressor(random_state=12345)\n",
    "search = RandomizedSearchCV(model, param_grid, cv=5, scoring=smape_scorer)\n",
    "search.fit(features_train, target_train)\n",
    "print('Лучшее sMAPE для случайного леса:',-search.best_score_, 'с гиперпараметрами:', search.best_params_)"
   ]
  },
  {
   "cell_type": "markdown",
   "metadata": {},
   "source": [
    "Результат-10.3 с глубиной 5 и количеством деревьев 40."
   ]
  },
  {
   "cell_type": "markdown",
   "metadata": {},
   "source": [
    "#### Линейная регрессия."
   ]
  },
  {
   "cell_type": "markdown",
   "metadata": {},
   "source": [
    "RandomizedSearchCV() для линейной регрессии не подходит. Обучим модель без него."
   ]
  },
  {
   "cell_type": "code",
   "execution_count": 41,
   "metadata": {},
   "outputs": [
    {
     "name": "stdout",
     "output_type": "stream",
     "text": [
      "Лучшее sMAPE для линейной регрессии: 12.535898006411529\n",
      "CPU times: user 2.73 s, sys: 4.24 s, total: 6.97 s\n",
      "Wall time: 6.95 s\n"
     ]
    }
   ],
   "source": [
    "%%time\n",
    "\n",
    "model = LinearRegression()\n",
    "model.fit(features_train, target_train)\n",
    "smape = cross_val_score(model, features_train, target_train, cv=5, scoring=smape_scorer).mean()\n",
    "print('Лучшее sMAPE для линейной регрессии:', -smape)"
   ]
  },
  {
   "cell_type": "markdown",
   "metadata": {},
   "source": [
    "Результат-12.5"
   ]
  },
  {
   "cell_type": "markdown",
   "metadata": {},
   "source": [
    "**Наилучший результат показала модель случайного леса(10.36). Проверим её качество на тестовых данных с оптимальными гиперпараметрами(max_depth=5, n_estimators=40,random_state=12345).**"
   ]
  },
  {
   "cell_type": "code",
   "execution_count": 42,
   "metadata": {},
   "outputs": [
    {
     "name": "stdout",
     "output_type": "stream",
     "text": [
      "sMAPE тестовой выборки: 9.142629290494721\n"
     ]
    }
   ],
   "source": [
    "model = RandomForestRegressor(max_depth=5, n_estimators=40, random_state=12345) \n",
    "model.fit(features_train, target_train)\n",
    "predictions = model.predict(features_test)\n",
    "smape_test = final_smape(target_test, predictions)\n",
    "print('sMAPE тестовой выборки:', smape_test)"
   ]
  },
  {
   "cell_type": "markdown",
   "metadata": {},
   "source": [
    "**Результат тестовой выборки даже лучше, чем на обучающей.**"
   ]
  },
  {
   "cell_type": "markdown",
   "metadata": {},
   "source": [
    "Сравним smape лучшей модели с результатом константной модели. Возьмем DummyRegressor. "
   ]
  },
  {
   "cell_type": "code",
   "execution_count": 43,
   "metadata": {},
   "outputs": [
    {
     "name": "stdout",
     "output_type": "stream",
     "text": [
      "sMAPE константной модели: 9.479919198122861\n"
     ]
    }
   ],
   "source": [
    "dummy = DummyRegressor(strategy=\"median\")\n",
    "dummy.fit(features_train,target_train)\n",
    "dummy_predict = dummy.predict(features_test)\n",
    "dummy_smape_test = final_smape(target_test, dummy_predict)\n",
    "print('sMAPE константной модели:', dummy_smape_test)"
   ]
  },
  {
   "cell_type": "markdown",
   "metadata": {},
   "source": [
    "**Дамми, который генерирует случайные прогнозы,имеет худшее качество чем случайный лес(9.4 против 10.3). Делаем вывод, что наша модель адекватна.**"
   ]
  },
  {
   "cell_type": "markdown",
   "metadata": {},
   "source": [
    "## Общий вывод"
   ]
  },
  {
   "cell_type": "markdown",
   "metadata": {},
   "source": [
    "Нам была поставлена задача подготовить прототип модели машинного обучения для «Цифры».Модель должна предсказать коэффициент восстановления золота из золотосодержащей руды. В нашем распоряжении были данные с параметрами добычи и очистки. \n",
    "\n",
    "На этапе подготовки данных мы подробно изучили данные во всех трех выборках и сделали выводы, что в некоторых признаках **встречаются пропуски значений**.Так же **в тестовой выборке присутствуют не все признаки**, которые есть в тренировочной и исходных данных, в том числе и признаки, которые нужно спрогнозировать (rougher.output.recovery и final.output.recovery).\n",
    "Проверили **правильность рассчета эффективности обогащения**, применив формулу для вычисления эффективности Recall. Выяснили, что данные рассчитаны правильно.\n",
    "Так же проанализировали, какие именно признаки не попали в тестовую выборку.\n",
    "\n",
    "На этапе анализа данных мы сравнивали концентрацию металлов (Au, Ag, Pb) на различных этапах очистки. Анализ показал, что наибольшая концентрация **золота** ожидаемо находится на финальном этапе, а наименьшая на этапе флотации. Наибольшая концентрация **серебра** наблюдается на этапе флотации. Наименьшая возникает на финальном этапе. Наибольшая концентрация **свинца** наблюдается на этапе первичной обработки, наименьшая-на этапе флотации. Еще на данном этапе мы **провели сравнение распределения размеров гранул сырья на обучающей и тестовой выборках** при помощи графиков. Графики **похожи** друг на друга, поэтому оценка модели будет правильной. Заключительным исследованием на данном этапе стало **исследование суммарной концентрации всех веществ на разных стадиях.** Сделали вывод  что **суммарная концентрация всех металлов имеет наибольшее значение на финальном этапе**. \n",
    "\n",
    "На заключительном этапе мы строили модели, изначально подготовив данные для обучения. Метрикой качетства была выбрана **smape**. Написали функцию для определения итогового smape и применили её для вычисления на разных моделях машинного обучения. **Наилучший результат показала модель случайного леса** с результатом 10.36. Определили для неё оптимальные гиперпараметры при помощи интсрумента GridSearchCV(). Проверили модель на тестовых данных. Результат-9.14. Имеено модель случайного леса рекомендую к использованию. Так же сравнили лучшую модель с константной. В качестве константной выбрали DummyRegressor. DummyRegressor имеет худший результа, по сравнению с лучшей моделью, что говорит о том, что наша модель адекватна."
   ]
  }
 ],
 "metadata": {
  "ExecuteTimeLog": [
   {
    "duration": 799,
    "start_time": "2023-03-27T12:27:58.759Z"
   },
   {
    "duration": 107,
    "start_time": "2023-03-27T12:28:43.324Z"
   },
   {
    "duration": 99,
    "start_time": "2023-03-27T12:29:41.704Z"
   },
   {
    "duration": 13,
    "start_time": "2023-03-27T12:29:54.459Z"
   },
   {
    "duration": 107,
    "start_time": "2023-03-27T12:30:25.265Z"
   },
   {
    "duration": 467,
    "start_time": "2023-03-27T12:32:45.702Z"
   },
   {
    "duration": 47,
    "start_time": "2023-03-27T12:33:29.575Z"
   },
   {
    "duration": 2027,
    "start_time": "2023-03-27T12:33:50.888Z"
   },
   {
    "duration": 319,
    "start_time": "2023-03-27T12:35:40.264Z"
   },
   {
    "duration": 188,
    "start_time": "2023-03-27T12:35:49.688Z"
   },
   {
    "duration": 537,
    "start_time": "2023-03-27T12:35:54.819Z"
   },
   {
    "duration": 464,
    "start_time": "2023-03-27T12:36:11.856Z"
   },
   {
    "duration": 494,
    "start_time": "2023-03-27T12:36:21.695Z"
   },
   {
    "duration": 428,
    "start_time": "2023-03-27T12:36:29.902Z"
   },
   {
    "duration": 409,
    "start_time": "2023-03-27T12:44:12.249Z"
   },
   {
    "duration": 1526,
    "start_time": "2023-03-27T12:44:32.473Z"
   },
   {
    "duration": 6,
    "start_time": "2023-03-27T12:44:58.286Z"
   },
   {
    "duration": 9,
    "start_time": "2023-03-27T12:45:48.127Z"
   },
   {
    "duration": 5,
    "start_time": "2023-03-27T12:45:55.826Z"
   },
   {
    "duration": 350,
    "start_time": "2023-03-27T12:46:14.727Z"
   },
   {
    "duration": 89,
    "start_time": "2023-03-27T12:48:03.255Z"
   },
   {
    "duration": 13,
    "start_time": "2023-03-27T12:49:45.411Z"
   },
   {
    "duration": 145,
    "start_time": "2023-03-27T12:49:50.288Z"
   },
   {
    "duration": 128,
    "start_time": "2023-03-27T12:49:56.352Z"
   },
   {
    "duration": 35,
    "start_time": "2023-03-27T12:50:02.941Z"
   },
   {
    "duration": 109,
    "start_time": "2023-03-27T12:50:06.830Z"
   },
   {
    "duration": 11,
    "start_time": "2023-03-27T12:50:27.502Z"
   },
   {
    "duration": 57,
    "start_time": "2023-03-27T16:40:46.440Z"
   },
   {
    "duration": 892,
    "start_time": "2023-03-27T16:40:54.100Z"
   },
   {
    "duration": 2497,
    "start_time": "2023-03-27T16:40:54.994Z"
   },
   {
    "duration": 26,
    "start_time": "2023-03-27T16:40:57.918Z"
   },
   {
    "duration": 38,
    "start_time": "2023-03-27T16:41:37.052Z"
   },
   {
    "duration": 47,
    "start_time": "2023-03-27T16:42:42.697Z"
   },
   {
    "duration": 20,
    "start_time": "2023-03-27T16:43:02.315Z"
   },
   {
    "duration": 739,
    "start_time": "2023-03-27T16:45:51.238Z"
   },
   {
    "duration": 40,
    "start_time": "2023-03-27T16:45:52.191Z"
   },
   {
    "duration": 642,
    "start_time": "2023-03-27T16:46:14.535Z"
   },
   {
    "duration": 7,
    "start_time": "2023-03-27T16:46:15.210Z"
   },
   {
    "duration": 100,
    "start_time": "2023-03-27T16:46:20.118Z"
   },
   {
    "duration": 7,
    "start_time": "2023-03-27T16:46:20.778Z"
   },
   {
    "duration": 711,
    "start_time": "2023-03-27T16:46:29.791Z"
   },
   {
    "duration": 38,
    "start_time": "2023-03-27T16:46:30.504Z"
   },
   {
    "duration": 1569,
    "start_time": "2023-03-27T17:22:38.893Z"
   },
   {
    "duration": 2,
    "start_time": "2023-03-27T17:24:23.515Z"
   },
   {
    "duration": 10,
    "start_time": "2023-03-27T17:25:21.945Z"
   },
   {
    "duration": 9,
    "start_time": "2023-03-27T17:25:31.993Z"
   },
   {
    "duration": 7,
    "start_time": "2023-03-27T17:36:59.848Z"
   },
   {
    "duration": 4,
    "start_time": "2023-03-27T17:42:04.303Z"
   },
   {
    "duration": 708,
    "start_time": "2023-03-27T17:42:04.695Z"
   },
   {
    "duration": 36,
    "start_time": "2023-03-27T17:42:05.405Z"
   },
   {
    "duration": 52,
    "start_time": "2023-03-27T17:43:28.363Z"
   },
   {
    "duration": 7,
    "start_time": "2023-03-27T17:44:36.860Z"
   },
   {
    "duration": 721,
    "start_time": "2023-03-27T17:44:37.232Z"
   },
   {
    "duration": 48,
    "start_time": "2023-03-27T17:44:38.047Z"
   },
   {
    "duration": 4,
    "start_time": "2023-03-27T17:45:04.155Z"
   },
   {
    "duration": 748,
    "start_time": "2023-03-27T17:45:04.584Z"
   },
   {
    "duration": 57,
    "start_time": "2023-03-27T17:45:05.334Z"
   },
   {
    "duration": 54,
    "start_time": "2023-03-27T17:45:29.624Z"
   },
   {
    "duration": 353,
    "start_time": "2023-03-27T17:45:51.046Z"
   },
   {
    "duration": 3,
    "start_time": "2023-03-27T17:52:25.600Z"
   },
   {
    "duration": 773,
    "start_time": "2023-03-27T17:52:26.006Z"
   },
   {
    "duration": 341,
    "start_time": "2023-03-27T17:52:26.786Z"
   },
   {
    "duration": 3,
    "start_time": "2023-03-27T17:55:52.708Z"
   },
   {
    "duration": 716,
    "start_time": "2023-03-27T17:55:53.133Z"
   },
   {
    "duration": 355,
    "start_time": "2023-03-27T17:55:53.852Z"
   },
   {
    "duration": 259,
    "start_time": "2023-03-27T18:03:54.388Z"
   },
   {
    "duration": 94,
    "start_time": "2023-03-27T18:04:04.228Z"
   },
   {
    "duration": 8,
    "start_time": "2023-03-27T18:05:48.691Z"
   },
   {
    "duration": 3,
    "start_time": "2023-03-27T18:09:59.592Z"
   },
   {
    "duration": 11,
    "start_time": "2023-03-27T18:10:23.142Z"
   },
   {
    "duration": 11,
    "start_time": "2023-03-27T18:10:36.375Z"
   },
   {
    "duration": 406,
    "start_time": "2023-03-27T18:10:37.689Z"
   },
   {
    "duration": 3,
    "start_time": "2023-03-27T18:11:30.843Z"
   },
   {
    "duration": 232,
    "start_time": "2023-03-27T18:11:31.594Z"
   },
   {
    "duration": 3,
    "start_time": "2023-03-27T18:12:04.686Z"
   },
   {
    "duration": 279,
    "start_time": "2023-03-27T18:12:05.516Z"
   },
   {
    "duration": 3,
    "start_time": "2023-03-27T18:14:53.341Z"
   },
   {
    "duration": 444,
    "start_time": "2023-03-27T18:14:53.900Z"
   },
   {
    "duration": 3,
    "start_time": "2023-03-27T18:15:27.748Z"
   },
   {
    "duration": 226,
    "start_time": "2023-03-27T18:16:20.594Z"
   },
   {
    "duration": 381,
    "start_time": "2023-03-27T18:16:41.255Z"
   },
   {
    "duration": 845,
    "start_time": "2023-03-27T18:24:36.651Z"
   },
   {
    "duration": 78,
    "start_time": "2023-03-27T18:25:24.330Z"
   },
   {
    "duration": 5,
    "start_time": "2023-03-27T18:25:40.434Z"
   },
   {
    "duration": 6,
    "start_time": "2023-03-27T18:25:46.733Z"
   },
   {
    "duration": 5,
    "start_time": "2023-03-27T18:26:09.298Z"
   },
   {
    "duration": 6,
    "start_time": "2023-03-27T18:26:23.550Z"
   },
   {
    "duration": 4,
    "start_time": "2023-03-27T18:29:19.616Z"
   },
   {
    "duration": 527,
    "start_time": "2023-03-27T18:29:20.112Z"
   },
   {
    "duration": 8,
    "start_time": "2023-03-27T18:29:36.858Z"
   },
   {
    "duration": 504,
    "start_time": "2023-03-27T18:29:37.445Z"
   },
   {
    "duration": 9,
    "start_time": "2023-03-27T18:29:48.506Z"
   },
   {
    "duration": 12,
    "start_time": "2023-03-27T18:30:08.417Z"
   },
   {
    "duration": 10,
    "start_time": "2023-03-27T18:30:20.935Z"
   },
   {
    "duration": 12,
    "start_time": "2023-03-27T18:30:43.120Z"
   },
   {
    "duration": 17,
    "start_time": "2023-03-27T18:30:56.660Z"
   },
   {
    "duration": 10,
    "start_time": "2023-03-27T18:31:12.811Z"
   },
   {
    "duration": 11,
    "start_time": "2023-03-27T18:31:25.212Z"
   },
   {
    "duration": 13,
    "start_time": "2023-03-27T18:31:52.261Z"
   },
   {
    "duration": 3,
    "start_time": "2023-03-27T18:32:20.295Z"
   },
   {
    "duration": 479,
    "start_time": "2023-03-27T18:32:20.860Z"
   },
   {
    "duration": 258,
    "start_time": "2023-03-27T18:32:46.956Z"
   },
   {
    "duration": 331,
    "start_time": "2023-03-27T18:33:00.338Z"
   },
   {
    "duration": 1508,
    "start_time": "2023-03-27T18:33:12.412Z"
   },
   {
    "duration": 879,
    "start_time": "2023-03-27T18:33:14.922Z"
   },
   {
    "duration": 5,
    "start_time": "2023-03-27T18:33:16.501Z"
   },
   {
    "duration": 435,
    "start_time": "2023-03-27T18:33:18.013Z"
   },
   {
    "duration": 256,
    "start_time": "2023-03-27T18:33:23.582Z"
   },
   {
    "duration": 446,
    "start_time": "2023-03-27T18:33:52.806Z"
   },
   {
    "duration": 1846,
    "start_time": "2023-03-27T18:34:12.308Z"
   },
   {
    "duration": 985,
    "start_time": "2023-03-27T18:34:14.157Z"
   },
   {
    "duration": 3,
    "start_time": "2023-03-27T18:34:15.144Z"
   },
   {
    "duration": 483,
    "start_time": "2023-03-27T18:34:15.149Z"
   },
   {
    "duration": 533,
    "start_time": "2023-03-27T18:34:19.154Z"
   },
   {
    "duration": 1826,
    "start_time": "2023-03-27T18:34:34.200Z"
   },
   {
    "duration": 891,
    "start_time": "2023-03-27T18:34:36.028Z"
   },
   {
    "duration": 6,
    "start_time": "2023-03-27T18:34:36.923Z"
   },
   {
    "duration": 283,
    "start_time": "2023-03-27T18:34:38.932Z"
   },
   {
    "duration": 474,
    "start_time": "2023-03-27T18:34:45.730Z"
   },
   {
    "duration": 806,
    "start_time": "2023-03-27T18:35:13.319Z"
   },
   {
    "duration": 6,
    "start_time": "2023-03-27T18:35:14.128Z"
   },
   {
    "duration": 400,
    "start_time": "2023-03-27T18:35:14.836Z"
   },
   {
    "duration": 252,
    "start_time": "2023-03-27T18:35:17.724Z"
   },
   {
    "duration": 8,
    "start_time": "2023-03-27T18:35:47.154Z"
   },
   {
    "duration": 489,
    "start_time": "2023-03-27T18:35:47.840Z"
   },
   {
    "duration": 278,
    "start_time": "2023-03-27T18:35:55.851Z"
   },
   {
    "duration": 489,
    "start_time": "2023-03-27T18:36:22.957Z"
   },
   {
    "duration": 4,
    "start_time": "2023-03-27T18:36:29.396Z"
   },
   {
    "duration": 13,
    "start_time": "2023-03-27T18:36:29.939Z"
   },
   {
    "duration": 8,
    "start_time": "2023-03-27T18:36:34.508Z"
   },
   {
    "duration": 1437,
    "start_time": "2023-03-28T17:06:55.043Z"
   },
   {
    "duration": 3689,
    "start_time": "2023-03-28T17:06:56.483Z"
   },
   {
    "duration": 3,
    "start_time": "2023-03-28T17:07:00.173Z"
   },
   {
    "duration": 427,
    "start_time": "2023-03-28T17:07:00.178Z"
   },
   {
    "duration": 242,
    "start_time": "2023-03-28T17:07:00.607Z"
   },
   {
    "duration": 421,
    "start_time": "2023-03-28T17:07:00.851Z"
   },
   {
    "duration": 4,
    "start_time": "2023-03-28T17:07:01.286Z"
   },
   {
    "duration": 42,
    "start_time": "2023-03-28T17:07:01.292Z"
   },
   {
    "duration": 39,
    "start_time": "2023-03-28T17:07:01.336Z"
   },
   {
    "duration": 4,
    "start_time": "2023-03-28T17:07:09.584Z"
   },
   {
    "duration": 113,
    "start_time": "2023-03-28T17:07:43.421Z"
   },
   {
    "duration": 8,
    "start_time": "2023-03-28T17:08:03.556Z"
   },
   {
    "duration": 9,
    "start_time": "2023-03-28T17:08:44.882Z"
   },
   {
    "duration": 684,
    "start_time": "2023-03-28T17:13:07.750Z"
   },
   {
    "duration": 3,
    "start_time": "2023-03-28T17:13:09.024Z"
   },
   {
    "duration": 355,
    "start_time": "2023-03-28T17:13:09.580Z"
   },
   {
    "duration": 209,
    "start_time": "2023-03-28T17:13:10.664Z"
   },
   {
    "duration": 368,
    "start_time": "2023-03-28T17:13:11.155Z"
   },
   {
    "duration": 3,
    "start_time": "2023-03-28T17:13:13.182Z"
   },
   {
    "duration": 10,
    "start_time": "2023-03-28T17:13:13.504Z"
   },
   {
    "duration": 7,
    "start_time": "2023-03-28T17:13:15.020Z"
   },
   {
    "duration": 9,
    "start_time": "2023-03-28T17:13:16.878Z"
   },
   {
    "duration": 77,
    "start_time": "2023-03-28T17:15:56.387Z"
   },
   {
    "duration": 4,
    "start_time": "2023-03-28T17:16:00.425Z"
   },
   {
    "duration": 3,
    "start_time": "2023-03-28T17:16:21.112Z"
   },
   {
    "duration": 765,
    "start_time": "2023-03-28T17:18:57.617Z"
   },
   {
    "duration": 13,
    "start_time": "2023-03-28T17:19:21.763Z"
   },
   {
    "duration": 5,
    "start_time": "2023-03-28T17:21:18.696Z"
   },
   {
    "duration": 5,
    "start_time": "2023-03-28T17:35:20.474Z"
   },
   {
    "duration": 5,
    "start_time": "2023-03-28T17:38:16.597Z"
   },
   {
    "duration": 5,
    "start_time": "2023-03-28T17:38:53.157Z"
   },
   {
    "duration": 6,
    "start_time": "2023-03-28T17:39:44.872Z"
   },
   {
    "duration": 5,
    "start_time": "2023-03-28T17:41:31.583Z"
   },
   {
    "duration": 4,
    "start_time": "2023-03-28T17:41:44.439Z"
   },
   {
    "duration": 4,
    "start_time": "2023-03-28T17:42:00.739Z"
   },
   {
    "duration": 67,
    "start_time": "2023-03-28T18:00:17.915Z"
   },
   {
    "duration": 10,
    "start_time": "2023-03-28T18:00:35.389Z"
   },
   {
    "duration": 9,
    "start_time": "2023-03-28T18:00:42.976Z"
   },
   {
    "duration": 5,
    "start_time": "2023-03-28T18:00:49.917Z"
   },
   {
    "duration": 3,
    "start_time": "2023-03-28T18:00:55.238Z"
   },
   {
    "duration": 5,
    "start_time": "2023-03-28T18:00:59.221Z"
   },
   {
    "duration": 8,
    "start_time": "2023-03-28T18:01:06.256Z"
   },
   {
    "duration": 5,
    "start_time": "2023-03-28T18:01:31.514Z"
   },
   {
    "duration": 12,
    "start_time": "2023-03-28T18:10:44.528Z"
   },
   {
    "duration": 43,
    "start_time": "2023-03-28T18:12:12.113Z"
   },
   {
    "duration": 1661,
    "start_time": "2023-03-29T11:29:17.915Z"
   },
   {
    "duration": 3630,
    "start_time": "2023-03-29T11:29:19.578Z"
   },
   {
    "duration": 4,
    "start_time": "2023-03-29T11:29:23.211Z"
   },
   {
    "duration": 402,
    "start_time": "2023-03-29T11:29:24.454Z"
   },
   {
    "duration": 258,
    "start_time": "2023-03-29T11:29:25.724Z"
   },
   {
    "duration": 458,
    "start_time": "2023-03-29T11:29:26.005Z"
   },
   {
    "duration": 3,
    "start_time": "2023-03-29T11:29:26.493Z"
   },
   {
    "duration": 17,
    "start_time": "2023-03-29T11:29:26.595Z"
   },
   {
    "duration": 9,
    "start_time": "2023-03-29T11:29:27.651Z"
   },
   {
    "duration": 7,
    "start_time": "2023-03-29T11:29:28.027Z"
   },
   {
    "duration": 5,
    "start_time": "2023-03-29T11:29:29.609Z"
   },
   {
    "duration": 6,
    "start_time": "2023-03-29T11:29:30.515Z"
   },
   {
    "duration": 8,
    "start_time": "2023-03-29T11:29:31.822Z"
   },
   {
    "duration": 48,
    "start_time": "2023-03-29T11:29:32.085Z"
   },
   {
    "duration": 1500,
    "start_time": "2023-03-29T11:30:02.921Z"
   },
   {
    "duration": 877,
    "start_time": "2023-03-29T11:30:04.423Z"
   },
   {
    "duration": 4,
    "start_time": "2023-03-29T11:30:05.302Z"
   },
   {
    "duration": 492,
    "start_time": "2023-03-29T11:30:05.309Z"
   },
   {
    "duration": 223,
    "start_time": "2023-03-29T11:30:06.896Z"
   },
   {
    "duration": 418,
    "start_time": "2023-03-29T11:30:07.450Z"
   },
   {
    "duration": 3,
    "start_time": "2023-03-29T11:30:08.260Z"
   },
   {
    "duration": 12,
    "start_time": "2023-03-29T11:30:09.019Z"
   },
   {
    "duration": 7,
    "start_time": "2023-03-29T11:30:09.820Z"
   },
   {
    "duration": 4,
    "start_time": "2023-03-29T11:30:10.920Z"
   },
   {
    "duration": 5,
    "start_time": "2023-03-29T11:30:13.099Z"
   },
   {
    "duration": 6,
    "start_time": "2023-03-29T11:30:14.009Z"
   },
   {
    "duration": 16,
    "start_time": "2023-03-29T11:30:17.100Z"
   },
   {
    "duration": 44,
    "start_time": "2023-03-29T11:30:17.558Z"
   },
   {
    "duration": 8,
    "start_time": "2023-03-29T11:30:19.690Z"
   },
   {
    "duration": 8,
    "start_time": "2023-03-29T11:30:51.924Z"
   },
   {
    "duration": 51,
    "start_time": "2023-03-29T11:33:13.391Z"
   },
   {
    "duration": 7,
    "start_time": "2023-03-29T11:36:35.463Z"
   },
   {
    "duration": 9,
    "start_time": "2023-03-29T11:36:48.154Z"
   },
   {
    "duration": 30493,
    "start_time": "2023-03-29T11:37:21.047Z"
   },
   {
    "duration": 11,
    "start_time": "2023-03-29T11:38:06.759Z"
   },
   {
    "duration": 28569,
    "start_time": "2023-03-29T11:38:23.209Z"
   },
   {
    "duration": 12,
    "start_time": "2023-03-29T11:40:37.417Z"
   },
   {
    "duration": 11,
    "start_time": "2023-03-29T11:40:47.826Z"
   },
   {
    "duration": 185,
    "start_time": "2023-03-29T11:41:04.847Z"
   },
   {
    "duration": 3,
    "start_time": "2023-03-29T11:41:48.615Z"
   },
   {
    "duration": 30589,
    "start_time": "2023-03-29T11:42:06.146Z"
   },
   {
    "duration": 10,
    "start_time": "2023-03-29T11:42:40.330Z"
   },
   {
    "duration": 9,
    "start_time": "2023-03-29T11:42:42.162Z"
   },
   {
    "duration": 30516,
    "start_time": "2023-03-29T11:42:53.852Z"
   },
   {
    "duration": 8,
    "start_time": "2023-03-29T11:43:24.371Z"
   },
   {
    "duration": 9,
    "start_time": "2023-03-29T11:43:24.381Z"
   },
   {
    "duration": 10,
    "start_time": "2023-03-29T11:44:26.955Z"
   },
   {
    "duration": 4,
    "start_time": "2023-03-29T11:44:41.707Z"
   },
   {
    "duration": 7,
    "start_time": "2023-03-29T11:44:47.161Z"
   },
   {
    "duration": 17,
    "start_time": "2023-03-29T11:45:31.460Z"
   },
   {
    "duration": 23,
    "start_time": "2023-03-29T11:47:23.806Z"
   },
   {
    "duration": 5,
    "start_time": "2023-03-29T11:47:32.484Z"
   },
   {
    "duration": 1685,
    "start_time": "2023-03-29T12:09:10.360Z"
   },
   {
    "duration": 833,
    "start_time": "2023-03-29T12:09:12.048Z"
   },
   {
    "duration": 4,
    "start_time": "2023-03-29T12:09:12.883Z"
   },
   {
    "duration": 510,
    "start_time": "2023-03-29T12:09:14.169Z"
   },
   {
    "duration": 239,
    "start_time": "2023-03-29T12:09:14.794Z"
   },
   {
    "duration": 479,
    "start_time": "2023-03-29T12:09:15.394Z"
   },
   {
    "duration": 3,
    "start_time": "2023-03-29T12:09:15.875Z"
   },
   {
    "duration": 21,
    "start_time": "2023-03-29T12:09:16.026Z"
   },
   {
    "duration": 10,
    "start_time": "2023-03-29T12:09:16.394Z"
   },
   {
    "duration": 4,
    "start_time": "2023-03-29T12:09:16.769Z"
   },
   {
    "duration": 6,
    "start_time": "2023-03-29T12:09:17.369Z"
   },
   {
    "duration": 7,
    "start_time": "2023-03-29T12:09:17.769Z"
   },
   {
    "duration": 13,
    "start_time": "2023-03-29T12:09:18.333Z"
   },
   {
    "duration": 70,
    "start_time": "2023-03-29T12:09:18.513Z"
   },
   {
    "duration": 4,
    "start_time": "2023-03-29T12:09:20.172Z"
   },
   {
    "duration": 11,
    "start_time": "2023-03-29T12:09:20.407Z"
   },
   {
    "duration": 403,
    "start_time": "2023-03-29T12:09:22.344Z"
   },
   {
    "duration": 8,
    "start_time": "2023-03-29T12:09:34.156Z"
   },
   {
    "duration": 13,
    "start_time": "2023-03-29T12:09:41.469Z"
   },
   {
    "duration": 12,
    "start_time": "2023-03-29T12:09:41.951Z"
   },
   {
    "duration": 2003,
    "start_time": "2023-03-29T12:10:02.011Z"
   },
   {
    "duration": 935,
    "start_time": "2023-03-29T12:10:04.018Z"
   },
   {
    "duration": 7,
    "start_time": "2023-03-29T12:10:04.955Z"
   },
   {
    "duration": 529,
    "start_time": "2023-03-29T12:10:04.965Z"
   },
   {
    "duration": 292,
    "start_time": "2023-03-29T12:10:05.496Z"
   },
   {
    "duration": 519,
    "start_time": "2023-03-29T12:10:05.791Z"
   },
   {
    "duration": 3,
    "start_time": "2023-03-29T12:10:06.312Z"
   },
   {
    "duration": 14,
    "start_time": "2023-03-29T12:10:06.676Z"
   },
   {
    "duration": 10,
    "start_time": "2023-03-29T12:10:07.049Z"
   },
   {
    "duration": 5,
    "start_time": "2023-03-29T12:10:07.414Z"
   },
   {
    "duration": 8,
    "start_time": "2023-03-29T12:10:07.998Z"
   },
   {
    "duration": 6,
    "start_time": "2023-03-29T12:10:08.396Z"
   },
   {
    "duration": 12,
    "start_time": "2023-03-29T12:10:08.972Z"
   },
   {
    "duration": 50,
    "start_time": "2023-03-29T12:10:09.162Z"
   },
   {
    "duration": 10,
    "start_time": "2023-03-29T12:10:10.001Z"
   },
   {
    "duration": 8,
    "start_time": "2023-03-29T12:10:10.188Z"
   },
   {
    "duration": 339,
    "start_time": "2023-03-29T12:10:10.636Z"
   },
   {
    "duration": 8,
    "start_time": "2023-03-29T12:10:12.933Z"
   },
   {
    "duration": 8,
    "start_time": "2023-03-29T12:10:22.595Z"
   },
   {
    "duration": 26374,
    "start_time": "2023-03-29T12:10:42.156Z"
   },
   {
    "duration": 9,
    "start_time": "2023-03-29T12:11:08.533Z"
   },
   {
    "duration": 29,
    "start_time": "2023-03-29T12:11:08.546Z"
   },
   {
    "duration": 10,
    "start_time": "2023-03-29T12:12:20.642Z"
   },
   {
    "duration": 4121,
    "start_time": "2023-03-29T12:18:50.973Z"
   },
   {
    "duration": 119,
    "start_time": "2023-03-29T12:21:00.827Z"
   },
   {
    "duration": 132,
    "start_time": "2023-03-29T12:21:52.281Z"
   },
   {
    "duration": 209,
    "start_time": "2023-03-29T12:24:24.517Z"
   },
   {
    "duration": 189,
    "start_time": "2023-03-29T12:25:17.816Z"
   },
   {
    "duration": 211,
    "start_time": "2023-03-29T12:25:33.727Z"
   },
   {
    "duration": 214,
    "start_time": "2023-03-29T12:26:00.415Z"
   },
   {
    "duration": 331,
    "start_time": "2023-03-29T12:26:39.095Z"
   },
   {
    "duration": 213,
    "start_time": "2023-03-29T12:26:45.562Z"
   },
   {
    "duration": 231,
    "start_time": "2023-03-29T12:27:07.244Z"
   },
   {
    "duration": 242,
    "start_time": "2023-03-29T12:27:23.839Z"
   },
   {
    "duration": 227,
    "start_time": "2023-03-29T12:27:46.047Z"
   },
   {
    "duration": 249,
    "start_time": "2023-03-29T12:28:18.042Z"
   },
   {
    "duration": 319,
    "start_time": "2023-03-29T12:30:49.050Z"
   },
   {
    "duration": 4162,
    "start_time": "2023-03-29T12:32:27.584Z"
   },
   {
    "duration": 230,
    "start_time": "2023-03-29T12:33:31.727Z"
   },
   {
    "duration": 224,
    "start_time": "2023-03-29T12:34:38.044Z"
   },
   {
    "duration": 368,
    "start_time": "2023-03-29T12:35:14.564Z"
   },
   {
    "duration": 221,
    "start_time": "2023-03-29T12:35:28.176Z"
   },
   {
    "duration": 248,
    "start_time": "2023-03-29T12:36:34.711Z"
   },
   {
    "duration": 244,
    "start_time": "2023-03-29T12:36:48.288Z"
   },
   {
    "duration": 228,
    "start_time": "2023-03-29T12:37:03.576Z"
   },
   {
    "duration": 1442,
    "start_time": "2023-03-29T17:06:03.094Z"
   },
   {
    "duration": 2125,
    "start_time": "2023-03-29T17:06:04.538Z"
   },
   {
    "duration": 3,
    "start_time": "2023-03-29T17:06:07.559Z"
   },
   {
    "duration": 296,
    "start_time": "2023-03-29T17:06:07.791Z"
   },
   {
    "duration": 183,
    "start_time": "2023-03-29T17:06:08.089Z"
   },
   {
    "duration": 349,
    "start_time": "2023-03-29T17:06:08.494Z"
   },
   {
    "duration": 3,
    "start_time": "2023-03-29T17:06:09.145Z"
   },
   {
    "duration": 12,
    "start_time": "2023-03-29T17:06:09.800Z"
   },
   {
    "duration": 8,
    "start_time": "2023-03-29T17:06:10.553Z"
   },
   {
    "duration": 3,
    "start_time": "2023-03-29T17:06:11.428Z"
   },
   {
    "duration": 4,
    "start_time": "2023-03-29T17:06:12.357Z"
   },
   {
    "duration": 4,
    "start_time": "2023-03-29T17:06:13.242Z"
   },
   {
    "duration": 6,
    "start_time": "2023-03-29T17:06:14.337Z"
   },
   {
    "duration": 42,
    "start_time": "2023-03-29T17:06:14.540Z"
   },
   {
    "duration": 7,
    "start_time": "2023-03-29T17:06:16.032Z"
   },
   {
    "duration": 6,
    "start_time": "2023-03-29T17:06:16.607Z"
   },
   {
    "duration": 10166,
    "start_time": "2023-03-29T17:06:18.154Z"
   },
   {
    "duration": 7,
    "start_time": "2023-03-29T17:06:29.792Z"
   },
   {
    "duration": 5,
    "start_time": "2023-03-29T17:06:30.303Z"
   },
   {
    "duration": 201,
    "start_time": "2023-03-29T17:06:31.989Z"
   },
   {
    "duration": 4,
    "start_time": "2023-03-29T17:08:01.050Z"
   },
   {
    "duration": 152,
    "start_time": "2023-03-29T17:08:11.743Z"
   },
   {
    "duration": 73,
    "start_time": "2023-03-29T17:08:34.402Z"
   },
   {
    "duration": 95,
    "start_time": "2023-03-29T17:08:40.781Z"
   },
   {
    "duration": 3,
    "start_time": "2023-03-29T17:10:01.971Z"
   },
   {
    "duration": 13,
    "start_time": "2023-03-29T17:10:02.656Z"
   },
   {
    "duration": 3,
    "start_time": "2023-03-29T17:10:25.959Z"
   },
   {
    "duration": 132,
    "start_time": "2023-03-29T17:10:26.598Z"
   },
   {
    "duration": 11,
    "start_time": "2023-03-29T17:11:37.243Z"
   },
   {
    "duration": 128,
    "start_time": "2023-03-29T17:16:16.800Z"
   },
   {
    "duration": 3,
    "start_time": "2023-03-29T17:25:31.723Z"
   },
   {
    "duration": 36,
    "start_time": "2023-03-29T17:26:45.867Z"
   },
   {
    "duration": 27,
    "start_time": "2023-03-29T17:27:17.945Z"
   },
   {
    "duration": 24,
    "start_time": "2023-03-29T17:30:25.694Z"
   },
   {
    "duration": 60,
    "start_time": "2023-03-29T17:31:02.723Z"
   },
   {
    "duration": 184,
    "start_time": "2023-03-29T17:34:18.476Z"
   },
   {
    "duration": 124,
    "start_time": "2023-03-29T17:34:40.907Z"
   },
   {
    "duration": 114,
    "start_time": "2023-03-29T17:34:50.273Z"
   },
   {
    "duration": 12,
    "start_time": "2023-03-29T17:45:56.750Z"
   },
   {
    "duration": 9,
    "start_time": "2023-03-29T17:46:28.688Z"
   },
   {
    "duration": 3,
    "start_time": "2023-03-29T17:50:39.318Z"
   },
   {
    "duration": 14,
    "start_time": "2023-03-29T17:51:08.233Z"
   },
   {
    "duration": 15,
    "start_time": "2023-03-29T17:52:02.528Z"
   },
   {
    "duration": 3,
    "start_time": "2023-03-29T17:53:33.813Z"
   },
   {
    "duration": 11,
    "start_time": "2023-03-29T17:53:35.110Z"
   },
   {
    "duration": 3,
    "start_time": "2023-03-29T17:53:59.990Z"
   },
   {
    "duration": 13,
    "start_time": "2023-03-29T17:54:00.935Z"
   },
   {
    "duration": 10,
    "start_time": "2023-03-29T17:55:36.947Z"
   },
   {
    "duration": 13,
    "start_time": "2023-03-29T17:55:49.268Z"
   },
   {
    "duration": 1311,
    "start_time": "2023-03-29T18:31:29.034Z"
   },
   {
    "duration": 617,
    "start_time": "2023-03-29T18:31:30.347Z"
   },
   {
    "duration": 3,
    "start_time": "2023-03-29T18:31:30.965Z"
   },
   {
    "duration": 354,
    "start_time": "2023-03-29T18:31:32.201Z"
   },
   {
    "duration": 212,
    "start_time": "2023-03-29T18:31:32.557Z"
   },
   {
    "duration": 313,
    "start_time": "2023-03-29T18:31:32.880Z"
   },
   {
    "duration": 2,
    "start_time": "2023-03-29T18:31:33.272Z"
   },
   {
    "duration": 10,
    "start_time": "2023-03-29T18:31:33.444Z"
   },
   {
    "duration": 6,
    "start_time": "2023-03-29T18:31:33.817Z"
   },
   {
    "duration": 4,
    "start_time": "2023-03-29T18:31:34.266Z"
   },
   {
    "duration": 4,
    "start_time": "2023-03-29T18:31:34.958Z"
   },
   {
    "duration": 5,
    "start_time": "2023-03-29T18:31:35.370Z"
   },
   {
    "duration": 7,
    "start_time": "2023-03-29T18:31:36.054Z"
   },
   {
    "duration": 37,
    "start_time": "2023-03-29T18:31:36.558Z"
   },
   {
    "duration": 8,
    "start_time": "2023-03-29T18:31:37.646Z"
   },
   {
    "duration": 6,
    "start_time": "2023-03-29T18:31:38.159Z"
   },
   {
    "duration": 11047,
    "start_time": "2023-03-29T18:31:39.207Z"
   },
   {
    "duration": 12,
    "start_time": "2023-03-29T18:31:50.257Z"
   },
   {
    "duration": 4,
    "start_time": "2023-03-29T18:31:50.271Z"
   },
   {
    "duration": 135,
    "start_time": "2023-03-29T18:31:51.740Z"
   },
   {
    "duration": 44,
    "start_time": "2023-03-29T18:31:53.069Z"
   },
   {
    "duration": 112,
    "start_time": "2023-03-29T18:32:12.544Z"
   },
   {
    "duration": 8,
    "start_time": "2023-03-29T18:32:36.503Z"
   },
   {
    "duration": 9,
    "start_time": "2023-03-29T18:32:47.102Z"
   },
   {
    "duration": 4,
    "start_time": "2023-03-29T18:32:52.853Z"
   },
   {
    "duration": 1334,
    "start_time": "2023-03-29T18:32:59.507Z"
   },
   {
    "duration": 13,
    "start_time": "2023-03-29T18:33:23.913Z"
   },
   {
    "duration": 2,
    "start_time": "2023-03-29T18:33:57.987Z"
   },
   {
    "duration": 48,
    "start_time": "2023-03-29T18:34:12.111Z"
   },
   {
    "duration": 1502,
    "start_time": "2023-03-30T10:44:17.653Z"
   },
   {
    "duration": 2130,
    "start_time": "2023-03-30T10:44:19.980Z"
   },
   {
    "duration": 3,
    "start_time": "2023-03-30T10:44:22.112Z"
   },
   {
    "duration": 331,
    "start_time": "2023-03-30T10:44:23.685Z"
   },
   {
    "duration": 180,
    "start_time": "2023-03-30T10:44:25.252Z"
   },
   {
    "duration": 338,
    "start_time": "2023-03-30T10:44:27.135Z"
   },
   {
    "duration": 4,
    "start_time": "2023-03-30T10:44:28.645Z"
   },
   {
    "duration": 14,
    "start_time": "2023-03-30T10:44:29.126Z"
   },
   {
    "duration": 7,
    "start_time": "2023-03-30T10:44:35.455Z"
   },
   {
    "duration": 3,
    "start_time": "2023-03-30T10:44:46.126Z"
   },
   {
    "duration": 4,
    "start_time": "2023-03-30T10:44:49.687Z"
   },
   {
    "duration": 4,
    "start_time": "2023-03-30T10:44:55.711Z"
   },
   {
    "duration": 7,
    "start_time": "2023-03-30T10:45:04.270Z"
   },
   {
    "duration": 34,
    "start_time": "2023-03-30T10:45:13.268Z"
   },
   {
    "duration": 7,
    "start_time": "2023-03-30T10:45:23.163Z"
   },
   {
    "duration": 5,
    "start_time": "2023-03-30T10:45:23.890Z"
   },
   {
    "duration": 7,
    "start_time": "2023-03-30T10:45:35.318Z"
   },
   {
    "duration": 54,
    "start_time": "2023-03-30T10:46:06.485Z"
   },
   {
    "duration": 48,
    "start_time": "2023-03-30T10:46:14.002Z"
   },
   {
    "duration": 34,
    "start_time": "2023-03-30T10:46:19.751Z"
   },
   {
    "duration": 21159,
    "start_time": "2023-03-30T10:46:24.831Z"
   },
   {
    "duration": 7,
    "start_time": "2023-03-30T10:46:48.465Z"
   },
   {
    "duration": 5,
    "start_time": "2023-03-30T10:46:49.374Z"
   },
   {
    "duration": 7,
    "start_time": "2023-03-30T10:47:02.495Z"
   },
   {
    "duration": 139,
    "start_time": "2023-03-30T10:47:04.053Z"
   },
   {
    "duration": 51,
    "start_time": "2023-03-30T10:47:16.672Z"
   },
   {
    "duration": 47,
    "start_time": "2023-03-30T10:47:35.440Z"
   },
   {
    "duration": 127,
    "start_time": "2023-03-30T10:47:57.928Z"
   },
   {
    "duration": 41,
    "start_time": "2023-03-30T10:47:59.971Z"
   },
   {
    "duration": 150,
    "start_time": "2023-03-30T10:48:26.878Z"
   },
   {
    "duration": 44,
    "start_time": "2023-03-30T10:50:11.414Z"
   },
   {
    "duration": 80,
    "start_time": "2023-03-30T10:58:46.410Z"
   },
   {
    "duration": 90,
    "start_time": "2023-03-30T10:59:25.886Z"
   },
   {
    "duration": 24,
    "start_time": "2023-03-30T10:59:35.909Z"
   },
   {
    "duration": 37,
    "start_time": "2023-03-30T10:59:41.616Z"
   },
   {
    "duration": 26,
    "start_time": "2023-03-30T11:01:15.502Z"
   },
   {
    "duration": 23,
    "start_time": "2023-03-30T11:01:27.661Z"
   },
   {
    "duration": 27,
    "start_time": "2023-03-30T11:02:35.938Z"
   },
   {
    "duration": 60,
    "start_time": "2023-03-30T11:02:51.609Z"
   },
   {
    "duration": 28,
    "start_time": "2023-03-30T11:06:35.576Z"
   },
   {
    "duration": 37,
    "start_time": "2023-03-30T11:06:46.789Z"
   },
   {
    "duration": 1312,
    "start_time": "2023-03-30T11:07:01.297Z"
   },
   {
    "duration": 713,
    "start_time": "2023-03-30T11:07:02.610Z"
   },
   {
    "duration": 4,
    "start_time": "2023-03-30T11:07:03.324Z"
   },
   {
    "duration": 315,
    "start_time": "2023-03-30T11:07:04.368Z"
   },
   {
    "duration": 188,
    "start_time": "2023-03-30T11:07:04.685Z"
   },
   {
    "duration": 357,
    "start_time": "2023-03-30T11:07:04.895Z"
   },
   {
    "duration": 2,
    "start_time": "2023-03-30T11:07:05.977Z"
   },
   {
    "duration": 11,
    "start_time": "2023-03-30T11:07:06.183Z"
   },
   {
    "duration": 6,
    "start_time": "2023-03-30T11:07:06.889Z"
   },
   {
    "duration": 4,
    "start_time": "2023-03-30T11:07:07.457Z"
   },
   {
    "duration": 5,
    "start_time": "2023-03-30T11:07:08.558Z"
   },
   {
    "duration": 4,
    "start_time": "2023-03-30T11:07:09.056Z"
   },
   {
    "duration": 6,
    "start_time": "2023-03-30T11:07:10.281Z"
   },
   {
    "duration": 33,
    "start_time": "2023-03-30T11:07:10.565Z"
   },
   {
    "duration": 7,
    "start_time": "2023-03-30T11:07:12.110Z"
   },
   {
    "duration": 7,
    "start_time": "2023-03-30T11:07:12.298Z"
   },
   {
    "duration": 11,
    "start_time": "2023-03-30T11:07:12.752Z"
   },
   {
    "duration": 20481,
    "start_time": "2023-03-30T11:07:14.185Z"
   },
   {
    "duration": 6,
    "start_time": "2023-03-30T11:07:34.668Z"
   },
   {
    "duration": 4,
    "start_time": "2023-03-30T11:07:34.676Z"
   },
   {
    "duration": 7,
    "start_time": "2023-03-30T11:07:34.682Z"
   },
   {
    "duration": 165,
    "start_time": "2023-03-30T11:07:34.690Z"
   },
   {
    "duration": 41,
    "start_time": "2023-03-30T11:07:38.951Z"
   },
   {
    "duration": 1295,
    "start_time": "2023-03-30T11:19:08.563Z"
   },
   {
    "duration": 662,
    "start_time": "2023-03-30T11:19:09.860Z"
   },
   {
    "duration": 3,
    "start_time": "2023-03-30T11:19:10.524Z"
   },
   {
    "duration": 326,
    "start_time": "2023-03-30T11:19:10.528Z"
   },
   {
    "duration": 186,
    "start_time": "2023-03-30T11:19:11.122Z"
   },
   {
    "duration": 353,
    "start_time": "2023-03-30T11:19:11.310Z"
   },
   {
    "duration": 3,
    "start_time": "2023-03-30T11:19:11.689Z"
   },
   {
    "duration": 14,
    "start_time": "2023-03-30T11:19:11.837Z"
   },
   {
    "duration": 6,
    "start_time": "2023-03-30T11:19:12.155Z"
   },
   {
    "duration": 4,
    "start_time": "2023-03-30T11:19:12.523Z"
   },
   {
    "duration": 4,
    "start_time": "2023-03-30T11:19:13.257Z"
   },
   {
    "duration": 5,
    "start_time": "2023-03-30T11:19:14.051Z"
   },
   {
    "duration": 7,
    "start_time": "2023-03-30T11:19:14.975Z"
   },
   {
    "duration": 33,
    "start_time": "2023-03-30T11:19:15.483Z"
   },
   {
    "duration": 7,
    "start_time": "2023-03-30T11:19:16.823Z"
   },
   {
    "duration": 6,
    "start_time": "2023-03-30T11:19:17.083Z"
   },
   {
    "duration": 9,
    "start_time": "2023-03-30T11:19:17.303Z"
   },
   {
    "duration": 21910,
    "start_time": "2023-03-30T11:19:18.659Z"
   },
   {
    "duration": 8,
    "start_time": "2023-03-30T11:19:40.572Z"
   },
   {
    "duration": 6,
    "start_time": "2023-03-30T11:19:40.582Z"
   },
   {
    "duration": 7,
    "start_time": "2023-03-30T11:19:40.591Z"
   },
   {
    "duration": 160,
    "start_time": "2023-03-30T11:19:40.599Z"
   },
   {
    "duration": 149,
    "start_time": "2023-03-30T11:19:43.651Z"
   },
   {
    "duration": 48,
    "start_time": "2023-03-30T11:20:01.034Z"
   },
   {
    "duration": 1294,
    "start_time": "2023-03-30T11:29:53.656Z"
   },
   {
    "duration": 669,
    "start_time": "2023-03-30T11:29:54.952Z"
   },
   {
    "duration": 3,
    "start_time": "2023-03-30T11:29:55.857Z"
   },
   {
    "duration": 324,
    "start_time": "2023-03-30T11:29:56.232Z"
   },
   {
    "duration": 205,
    "start_time": "2023-03-30T11:29:56.558Z"
   },
   {
    "duration": 358,
    "start_time": "2023-03-30T11:29:56.765Z"
   },
   {
    "duration": 3,
    "start_time": "2023-03-30T11:29:57.835Z"
   },
   {
    "duration": 9,
    "start_time": "2023-03-30T11:29:57.859Z"
   },
   {
    "duration": 6,
    "start_time": "2023-03-30T11:29:58.360Z"
   },
   {
    "duration": 3,
    "start_time": "2023-03-30T11:29:58.920Z"
   },
   {
    "duration": 4,
    "start_time": "2023-03-30T11:30:01.616Z"
   },
   {
    "duration": 4,
    "start_time": "2023-03-30T11:30:06.417Z"
   },
   {
    "duration": 6,
    "start_time": "2023-03-30T11:30:33.087Z"
   },
   {
    "duration": 3,
    "start_time": "2023-03-30T11:37:58.050Z"
   },
   {
    "duration": 7,
    "start_time": "2023-03-30T11:38:00.253Z"
   },
   {
    "duration": 38,
    "start_time": "2023-03-30T11:38:00.988Z"
   },
   {
    "duration": 4,
    "start_time": "2023-03-30T11:38:10.592Z"
   },
   {
    "duration": 7,
    "start_time": "2023-03-30T11:38:21.943Z"
   },
   {
    "duration": 5,
    "start_time": "2023-03-30T11:38:21.951Z"
   },
   {
    "duration": 8,
    "start_time": "2023-03-30T11:38:22.351Z"
   },
   {
    "duration": 21058,
    "start_time": "2023-03-30T11:38:25.626Z"
   },
   {
    "duration": 6,
    "start_time": "2023-03-30T11:38:46.686Z"
   },
   {
    "duration": 4,
    "start_time": "2023-03-30T11:38:46.694Z"
   },
   {
    "duration": 6,
    "start_time": "2023-03-30T11:38:46.700Z"
   },
   {
    "duration": 45,
    "start_time": "2023-03-30T11:38:51.180Z"
   },
   {
    "duration": 134,
    "start_time": "2023-03-30T11:38:55.911Z"
   },
   {
    "duration": 43,
    "start_time": "2023-03-30T11:42:57.695Z"
   },
   {
    "duration": 1369,
    "start_time": "2023-03-30T11:43:08.156Z"
   },
   {
    "duration": 635,
    "start_time": "2023-03-30T11:43:09.526Z"
   },
   {
    "duration": 4,
    "start_time": "2023-03-30T11:43:10.163Z"
   },
   {
    "duration": 291,
    "start_time": "2023-03-30T11:43:10.822Z"
   },
   {
    "duration": 191,
    "start_time": "2023-03-30T11:43:11.220Z"
   },
   {
    "duration": 355,
    "start_time": "2023-03-30T11:43:11.419Z"
   },
   {
    "duration": 2,
    "start_time": "2023-03-30T11:43:11.849Z"
   },
   {
    "duration": 11,
    "start_time": "2023-03-30T11:43:12.431Z"
   },
   {
    "duration": 6,
    "start_time": "2023-03-30T11:43:12.769Z"
   },
   {
    "duration": 4,
    "start_time": "2023-03-30T11:43:13.153Z"
   },
   {
    "duration": 5,
    "start_time": "2023-03-30T11:43:13.754Z"
   },
   {
    "duration": 5,
    "start_time": "2023-03-30T11:43:14.136Z"
   },
   {
    "duration": 9,
    "start_time": "2023-03-30T11:43:14.741Z"
   },
   {
    "duration": 7,
    "start_time": "2023-03-30T11:43:15.175Z"
   },
   {
    "duration": 3,
    "start_time": "2023-03-30T11:43:15.655Z"
   },
   {
    "duration": 8,
    "start_time": "2023-03-30T11:43:17.016Z"
   },
   {
    "duration": 6,
    "start_time": "2023-03-30T11:43:17.252Z"
   },
   {
    "duration": 7,
    "start_time": "2023-03-30T11:43:19.401Z"
   },
   {
    "duration": 21220,
    "start_time": "2023-03-30T11:43:20.977Z"
   },
   {
    "duration": 6,
    "start_time": "2023-03-30T11:43:43.116Z"
   },
   {
    "duration": 5,
    "start_time": "2023-03-30T11:43:43.301Z"
   },
   {
    "duration": 8,
    "start_time": "2023-03-30T11:43:43.455Z"
   },
   {
    "duration": 135,
    "start_time": "2023-03-30T11:43:44.330Z"
   },
   {
    "duration": 46,
    "start_time": "2023-03-30T11:43:46.052Z"
   },
   {
    "duration": 107,
    "start_time": "2023-03-30T11:46:25.021Z"
   },
   {
    "duration": 8,
    "start_time": "2023-03-30T11:48:44.700Z"
   },
   {
    "duration": 76,
    "start_time": "2023-03-30T11:49:05.908Z"
   },
   {
    "duration": 11,
    "start_time": "2023-03-30T11:49:38.724Z"
   },
   {
    "duration": 2,
    "start_time": "2023-03-30T11:49:50.127Z"
   },
   {
    "duration": 88,
    "start_time": "2023-03-30T11:49:50.843Z"
   },
   {
    "duration": 10,
    "start_time": "2023-03-30T11:50:00.008Z"
   },
   {
    "duration": 8,
    "start_time": "2023-03-30T11:50:27.932Z"
   },
   {
    "duration": 4,
    "start_time": "2023-03-30T11:50:36.844Z"
   },
   {
    "duration": 1266,
    "start_time": "2023-03-30T11:50:57.851Z"
   },
   {
    "duration": 618,
    "start_time": "2023-03-30T11:50:59.118Z"
   },
   {
    "duration": 3,
    "start_time": "2023-03-30T11:51:00.648Z"
   },
   {
    "duration": 298,
    "start_time": "2023-03-30T11:51:03.016Z"
   },
   {
    "duration": 180,
    "start_time": "2023-03-30T11:51:03.316Z"
   },
   {
    "duration": 330,
    "start_time": "2023-03-30T11:51:03.498Z"
   },
   {
    "duration": 3,
    "start_time": "2023-03-30T11:51:04.169Z"
   },
   {
    "duration": 9,
    "start_time": "2023-03-30T11:51:04.356Z"
   },
   {
    "duration": 7,
    "start_time": "2023-03-30T11:51:04.931Z"
   },
   {
    "duration": 4,
    "start_time": "2023-03-30T11:51:05.293Z"
   },
   {
    "duration": 5,
    "start_time": "2023-03-30T11:51:05.876Z"
   },
   {
    "duration": 5,
    "start_time": "2023-03-30T11:51:06.291Z"
   },
   {
    "duration": 3,
    "start_time": "2023-03-30T11:51:07.171Z"
   },
   {
    "duration": 6,
    "start_time": "2023-03-30T11:51:07.395Z"
   },
   {
    "duration": 4,
    "start_time": "2023-03-30T11:51:07.994Z"
   },
   {
    "duration": 8,
    "start_time": "2023-03-30T11:51:09.339Z"
   },
   {
    "duration": 7,
    "start_time": "2023-03-30T11:51:09.539Z"
   },
   {
    "duration": 9,
    "start_time": "2023-03-30T11:51:10.081Z"
   },
   {
    "duration": 22027,
    "start_time": "2023-03-30T11:51:11.255Z"
   },
   {
    "duration": 7,
    "start_time": "2023-03-30T11:51:34.194Z"
   },
   {
    "duration": 5,
    "start_time": "2023-03-30T11:51:34.401Z"
   },
   {
    "duration": 7,
    "start_time": "2023-03-30T11:51:34.962Z"
   },
   {
    "duration": 143,
    "start_time": "2023-03-30T11:51:36.418Z"
   },
   {
    "duration": 46,
    "start_time": "2023-03-30T11:51:38.647Z"
   },
   {
    "duration": 2,
    "start_time": "2023-03-30T11:51:40.154Z"
   },
   {
    "duration": 3,
    "start_time": "2023-03-30T11:51:41.754Z"
   },
   {
    "duration": 108,
    "start_time": "2023-03-30T11:51:42.282Z"
   },
   {
    "duration": 9,
    "start_time": "2023-03-30T11:51:43.397Z"
   },
   {
    "duration": 1123,
    "start_time": "2023-03-30T11:52:38.926Z"
   },
   {
    "duration": 1207,
    "start_time": "2023-03-30T11:54:32.404Z"
   },
   {
    "duration": 6,
    "start_time": "2023-03-30T11:54:49.481Z"
   },
   {
    "duration": 121,
    "start_time": "2023-03-30T11:55:04.374Z"
   },
   {
    "duration": 47,
    "start_time": "2023-03-30T11:55:27.718Z"
   },
   {
    "duration": 1189,
    "start_time": "2023-03-30T11:56:28.540Z"
   },
   {
    "duration": 14,
    "start_time": "2023-03-30T11:58:21.219Z"
   },
   {
    "duration": 16,
    "start_time": "2023-03-30T11:58:34.220Z"
   },
   {
    "duration": 32,
    "start_time": "2023-03-30T11:59:03.889Z"
   },
   {
    "duration": 1250,
    "start_time": "2023-03-30T11:59:40.482Z"
   },
   {
    "duration": 619,
    "start_time": "2023-03-30T11:59:41.734Z"
   },
   {
    "duration": 3,
    "start_time": "2023-03-30T11:59:42.355Z"
   },
   {
    "duration": 309,
    "start_time": "2023-03-30T11:59:42.361Z"
   },
   {
    "duration": 165,
    "start_time": "2023-03-30T11:59:42.993Z"
   },
   {
    "duration": 327,
    "start_time": "2023-03-30T11:59:43.160Z"
   },
   {
    "duration": 2,
    "start_time": "2023-03-30T11:59:43.538Z"
   },
   {
    "duration": 9,
    "start_time": "2023-03-30T11:59:43.681Z"
   },
   {
    "duration": 6,
    "start_time": "2023-03-30T11:59:44.000Z"
   },
   {
    "duration": 3,
    "start_time": "2023-03-30T11:59:44.326Z"
   },
   {
    "duration": 4,
    "start_time": "2023-03-30T11:59:44.851Z"
   },
   {
    "duration": 5,
    "start_time": "2023-03-30T11:59:45.216Z"
   },
   {
    "duration": 3,
    "start_time": "2023-03-30T11:59:45.762Z"
   },
   {
    "duration": 9,
    "start_time": "2023-03-30T11:59:46.201Z"
   },
   {
    "duration": 4,
    "start_time": "2023-03-30T11:59:46.673Z"
   },
   {
    "duration": 7,
    "start_time": "2023-03-30T11:59:47.974Z"
   },
   {
    "duration": 6,
    "start_time": "2023-03-30T11:59:48.193Z"
   },
   {
    "duration": 8,
    "start_time": "2023-03-30T11:59:48.433Z"
   },
   {
    "duration": 145,
    "start_time": "2023-03-30T11:59:49.095Z"
   },
   {
    "duration": 8,
    "start_time": "2023-03-30T11:59:50.205Z"
   },
   {
    "duration": 6,
    "start_time": "2023-03-30T11:59:50.415Z"
   },
   {
    "duration": 9,
    "start_time": "2023-03-30T11:59:50.649Z"
   },
   {
    "duration": 703,
    "start_time": "2023-03-30T12:00:27.377Z"
   },
   {
    "duration": 3,
    "start_time": "2023-03-30T12:00:28.724Z"
   },
   {
    "duration": 308,
    "start_time": "2023-03-30T12:00:28.912Z"
   },
   {
    "duration": 170,
    "start_time": "2023-03-30T12:00:29.223Z"
   },
   {
    "duration": 322,
    "start_time": "2023-03-30T12:00:29.395Z"
   },
   {
    "duration": 4,
    "start_time": "2023-03-30T12:00:29.719Z"
   },
   {
    "duration": 9,
    "start_time": "2023-03-30T12:00:29.774Z"
   },
   {
    "duration": 6,
    "start_time": "2023-03-30T12:00:30.169Z"
   },
   {
    "duration": 3,
    "start_time": "2023-03-30T12:00:30.569Z"
   },
   {
    "duration": 4,
    "start_time": "2023-03-30T12:00:31.099Z"
   },
   {
    "duration": 4,
    "start_time": "2023-03-30T12:00:31.522Z"
   },
   {
    "duration": 3,
    "start_time": "2023-03-30T12:00:32.123Z"
   },
   {
    "duration": 7,
    "start_time": "2023-03-30T12:00:32.328Z"
   },
   {
    "duration": 4,
    "start_time": "2023-03-30T12:00:32.553Z"
   },
   {
    "duration": 8,
    "start_time": "2023-03-30T12:00:34.120Z"
   },
   {
    "duration": 7,
    "start_time": "2023-03-30T12:00:34.493Z"
   },
   {
    "duration": 8,
    "start_time": "2023-03-30T12:00:34.740Z"
   },
   {
    "duration": 21669,
    "start_time": "2023-03-30T12:00:35.516Z"
   },
   {
    "duration": 6,
    "start_time": "2023-03-30T12:00:58.438Z"
   },
   {
    "duration": 5,
    "start_time": "2023-03-30T12:00:58.681Z"
   },
   {
    "duration": 8,
    "start_time": "2023-03-30T12:00:59.048Z"
   },
   {
    "duration": 134,
    "start_time": "2023-03-30T12:01:01.255Z"
   },
   {
    "duration": 33,
    "start_time": "2023-03-30T12:01:01.714Z"
   },
   {
    "duration": 5,
    "start_time": "2023-03-30T12:01:15.219Z"
   },
   {
    "duration": 4,
    "start_time": "2023-03-30T12:01:32.608Z"
   },
   {
    "duration": 1285,
    "start_time": "2023-03-30T12:02:11.731Z"
   },
   {
    "duration": 626,
    "start_time": "2023-03-30T12:02:13.018Z"
   },
   {
    "duration": 3,
    "start_time": "2023-03-30T12:02:13.645Z"
   },
   {
    "duration": 316,
    "start_time": "2023-03-30T12:02:13.650Z"
   },
   {
    "duration": 180,
    "start_time": "2023-03-30T12:02:13.967Z"
   },
   {
    "duration": 321,
    "start_time": "2023-03-30T12:02:14.149Z"
   },
   {
    "duration": 3,
    "start_time": "2023-03-30T12:02:14.472Z"
   },
   {
    "duration": 9,
    "start_time": "2023-03-30T12:02:14.563Z"
   },
   {
    "duration": 7,
    "start_time": "2023-03-30T12:02:15.004Z"
   },
   {
    "duration": 3,
    "start_time": "2023-03-30T12:02:15.503Z"
   },
   {
    "duration": 4,
    "start_time": "2023-03-30T12:02:16.368Z"
   },
   {
    "duration": 4,
    "start_time": "2023-03-30T12:02:16.805Z"
   },
   {
    "duration": 3,
    "start_time": "2023-03-30T12:02:17.612Z"
   },
   {
    "duration": 7,
    "start_time": "2023-03-30T12:02:18.043Z"
   },
   {
    "duration": 5,
    "start_time": "2023-03-30T12:02:18.529Z"
   },
   {
    "duration": 8,
    "start_time": "2023-03-30T12:02:24.568Z"
   },
   {
    "duration": 5,
    "start_time": "2023-03-30T12:02:25.114Z"
   },
   {
    "duration": 8,
    "start_time": "2023-03-30T12:02:25.280Z"
   },
   {
    "duration": 21766,
    "start_time": "2023-03-30T12:02:25.995Z"
   },
   {
    "duration": 8,
    "start_time": "2023-03-30T12:02:49.001Z"
   },
   {
    "duration": 6,
    "start_time": "2023-03-30T12:02:49.205Z"
   },
   {
    "duration": 8,
    "start_time": "2023-03-30T12:02:49.449Z"
   },
   {
    "duration": 143,
    "start_time": "2023-03-30T12:02:50.561Z"
   },
   {
    "duration": 36,
    "start_time": "2023-03-30T12:02:51.635Z"
   },
   {
    "duration": 4,
    "start_time": "2023-03-30T12:03:01.978Z"
   },
   {
    "duration": 3,
    "start_time": "2023-03-30T12:03:02.849Z"
   },
   {
    "duration": 5,
    "start_time": "2023-03-30T12:03:06.123Z"
   },
   {
    "duration": 4,
    "start_time": "2023-03-30T12:03:08.561Z"
   },
   {
    "duration": 5,
    "start_time": "2023-03-30T12:03:10.081Z"
   },
   {
    "duration": 5,
    "start_time": "2023-03-30T12:06:54.849Z"
   },
   {
    "duration": 1591,
    "start_time": "2023-03-30T12:06:59.713Z"
   },
   {
    "duration": 127,
    "start_time": "2023-03-30T12:07:19.418Z"
   },
   {
    "duration": 113,
    "start_time": "2023-03-30T12:07:27.128Z"
   },
   {
    "duration": 3,
    "start_time": "2023-03-30T12:14:18.734Z"
   },
   {
    "duration": 3,
    "start_time": "2023-03-30T12:14:19.932Z"
   },
   {
    "duration": 237,
    "start_time": "2023-03-30T12:14:22.567Z"
   },
   {
    "duration": 247,
    "start_time": "2023-03-30T12:14:52.813Z"
   },
   {
    "duration": 166,
    "start_time": "2023-03-30T12:15:46.999Z"
   },
   {
    "duration": 137,
    "start_time": "2023-03-30T12:16:03.858Z"
   },
   {
    "duration": 123,
    "start_time": "2023-03-30T12:16:10.157Z"
   },
   {
    "duration": 161,
    "start_time": "2023-03-30T12:16:16.214Z"
   },
   {
    "duration": 66,
    "start_time": "2023-03-30T12:17:08.991Z"
   },
   {
    "duration": 168,
    "start_time": "2023-03-30T12:20:25.791Z"
   },
   {
    "duration": 149,
    "start_time": "2023-03-30T12:20:37.122Z"
   },
   {
    "duration": 78,
    "start_time": "2023-03-30T12:21:22.759Z"
   },
   {
    "duration": 1295,
    "start_time": "2023-03-30T12:24:31.927Z"
   },
   {
    "duration": 682,
    "start_time": "2023-03-30T12:24:35.961Z"
   },
   {
    "duration": 4,
    "start_time": "2023-03-30T12:24:36.647Z"
   },
   {
    "duration": 381,
    "start_time": "2023-03-30T12:24:36.653Z"
   },
   {
    "duration": 189,
    "start_time": "2023-03-30T12:24:37.041Z"
   },
   {
    "duration": 329,
    "start_time": "2023-03-30T12:24:37.319Z"
   },
   {
    "duration": 3,
    "start_time": "2023-03-30T12:24:37.713Z"
   },
   {
    "duration": 10,
    "start_time": "2023-03-30T12:24:37.860Z"
   },
   {
    "duration": 7,
    "start_time": "2023-03-30T12:24:38.287Z"
   },
   {
    "duration": 3,
    "start_time": "2023-03-30T12:24:38.647Z"
   },
   {
    "duration": 5,
    "start_time": "2023-03-30T12:24:40.008Z"
   },
   {
    "duration": 4,
    "start_time": "2023-03-30T12:25:29.005Z"
   },
   {
    "duration": 3,
    "start_time": "2023-03-30T12:25:29.752Z"
   },
   {
    "duration": 9,
    "start_time": "2023-03-30T12:25:29.963Z"
   },
   {
    "duration": 4,
    "start_time": "2023-03-30T12:25:30.126Z"
   },
   {
    "duration": 9,
    "start_time": "2023-03-30T12:25:30.859Z"
   },
   {
    "duration": 7,
    "start_time": "2023-03-30T12:25:31.054Z"
   },
   {
    "duration": 9,
    "start_time": "2023-03-30T12:25:31.291Z"
   },
   {
    "duration": 20613,
    "start_time": "2023-03-30T12:25:32.193Z"
   },
   {
    "duration": 7,
    "start_time": "2023-03-30T12:25:53.873Z"
   },
   {
    "duration": 5,
    "start_time": "2023-03-30T12:25:54.113Z"
   },
   {
    "duration": 8,
    "start_time": "2023-03-30T12:25:54.602Z"
   },
   {
    "duration": 128,
    "start_time": "2023-03-30T12:25:56.031Z"
   },
   {
    "duration": 4,
    "start_time": "2023-03-30T12:25:57.522Z"
   },
   {
    "duration": 47,
    "start_time": "2023-03-30T12:26:01.566Z"
   },
   {
    "duration": 73,
    "start_time": "2023-03-30T12:26:03.739Z"
   },
   {
    "duration": 95,
    "start_time": "2023-03-30T12:26:33.014Z"
   },
   {
    "duration": 196,
    "start_time": "2023-03-30T12:26:37.160Z"
   },
   {
    "duration": 75,
    "start_time": "2023-03-30T12:27:20.229Z"
   },
   {
    "duration": 113,
    "start_time": "2023-03-30T12:27:25.356Z"
   },
   {
    "duration": 87,
    "start_time": "2023-03-30T12:27:33.735Z"
   },
   {
    "duration": 78,
    "start_time": "2023-03-30T12:27:46.486Z"
   },
   {
    "duration": 4,
    "start_time": "2023-03-30T12:29:15.648Z"
   },
   {
    "duration": 4,
    "start_time": "2023-03-30T12:29:28.654Z"
   },
   {
    "duration": 189,
    "start_time": "2023-03-30T12:29:49.791Z"
   },
   {
    "duration": 142,
    "start_time": "2023-03-30T12:30:00.060Z"
   },
   {
    "duration": 127,
    "start_time": "2023-03-30T12:31:15.785Z"
   },
   {
    "duration": 209,
    "start_time": "2023-03-30T12:31:28.187Z"
   },
   {
    "duration": 240,
    "start_time": "2023-03-30T12:32:02.022Z"
   },
   {
    "duration": 328,
    "start_time": "2023-03-30T12:32:43.863Z"
   },
   {
    "duration": 211,
    "start_time": "2023-03-30T12:33:14.383Z"
   },
   {
    "duration": 83,
    "start_time": "2023-03-30T12:34:38.005Z"
   },
   {
    "duration": 74,
    "start_time": "2023-03-30T12:34:53.051Z"
   },
   {
    "duration": 145,
    "start_time": "2023-03-30T12:35:04.083Z"
   },
   {
    "duration": 182,
    "start_time": "2023-03-30T12:35:16.768Z"
   },
   {
    "duration": 206,
    "start_time": "2023-03-30T12:35:56.038Z"
   },
   {
    "duration": 162,
    "start_time": "2023-03-30T12:36:14.578Z"
   },
   {
    "duration": 169,
    "start_time": "2023-03-30T12:37:29.250Z"
   },
   {
    "duration": 381,
    "start_time": "2023-03-30T12:39:30.580Z"
   },
   {
    "duration": 236,
    "start_time": "2023-03-30T12:39:44.505Z"
   },
   {
    "duration": 192,
    "start_time": "2023-03-30T12:39:52.014Z"
   },
   {
    "duration": 184,
    "start_time": "2023-03-30T12:39:58.721Z"
   },
   {
    "duration": 198,
    "start_time": "2023-03-30T12:41:21.435Z"
   },
   {
    "duration": 304,
    "start_time": "2023-03-30T12:41:41.200Z"
   },
   {
    "duration": 511,
    "start_time": "2023-03-30T12:43:00.824Z"
   },
   {
    "duration": 263,
    "start_time": "2023-03-30T12:43:31.322Z"
   },
   {
    "duration": 295,
    "start_time": "2023-03-30T12:45:59.732Z"
   },
   {
    "duration": 208,
    "start_time": "2023-03-30T12:46:19.450Z"
   },
   {
    "duration": 200,
    "start_time": "2023-03-30T12:47:10.690Z"
   },
   {
    "duration": 357,
    "start_time": "2023-03-30T12:47:22.965Z"
   },
   {
    "duration": 228,
    "start_time": "2023-03-30T12:47:47.894Z"
   },
   {
    "duration": 264,
    "start_time": "2023-03-30T12:48:58.017Z"
   },
   {
    "duration": 233,
    "start_time": "2023-03-30T12:49:09.332Z"
   },
   {
    "duration": 258,
    "start_time": "2023-03-30T12:49:20.010Z"
   },
   {
    "duration": 321,
    "start_time": "2023-03-30T12:49:57.660Z"
   },
   {
    "duration": 1680,
    "start_time": "2023-03-31T10:28:01.776Z"
   },
   {
    "duration": 2150,
    "start_time": "2023-03-31T10:28:03.458Z"
   },
   {
    "duration": 4,
    "start_time": "2023-03-31T10:28:05.609Z"
   },
   {
    "duration": 398,
    "start_time": "2023-03-31T10:28:05.615Z"
   },
   {
    "duration": 226,
    "start_time": "2023-03-31T10:28:06.016Z"
   },
   {
    "duration": 405,
    "start_time": "2023-03-31T10:28:06.769Z"
   },
   {
    "duration": 3,
    "start_time": "2023-03-31T10:28:07.175Z"
   },
   {
    "duration": 11,
    "start_time": "2023-03-31T10:28:07.371Z"
   },
   {
    "duration": 7,
    "start_time": "2023-03-31T10:28:08.001Z"
   },
   {
    "duration": 4,
    "start_time": "2023-03-31T10:28:08.369Z"
   },
   {
    "duration": 4,
    "start_time": "2023-03-31T10:28:09.009Z"
   },
   {
    "duration": 5,
    "start_time": "2023-03-31T10:28:09.452Z"
   },
   {
    "duration": 3,
    "start_time": "2023-03-31T10:28:10.426Z"
   },
   {
    "duration": 9,
    "start_time": "2023-03-31T10:28:10.633Z"
   },
   {
    "duration": 4,
    "start_time": "2023-03-31T10:28:10.886Z"
   },
   {
    "duration": 9,
    "start_time": "2023-03-31T10:28:13.696Z"
   },
   {
    "duration": 6,
    "start_time": "2023-03-31T10:28:13.905Z"
   },
   {
    "duration": 8,
    "start_time": "2023-03-31T10:28:14.185Z"
   },
   {
    "duration": 55717,
    "start_time": "2023-03-31T10:28:15.064Z"
   },
   {
    "duration": 8,
    "start_time": "2023-03-31T10:29:44.288Z"
   },
   {
    "duration": 6,
    "start_time": "2023-03-31T10:29:44.758Z"
   },
   {
    "duration": 8,
    "start_time": "2023-03-31T10:29:45.188Z"
   },
   {
    "duration": 141,
    "start_time": "2023-03-31T10:29:56.484Z"
   },
   {
    "duration": 5,
    "start_time": "2023-03-31T10:29:58.324Z"
   },
   {
    "duration": 59,
    "start_time": "2023-03-31T10:30:03.826Z"
   },
   {
    "duration": 12,
    "start_time": "2023-03-31T10:30:57.002Z"
   },
   {
    "duration": 295,
    "start_time": "2023-03-31T10:31:02.086Z"
   },
   {
    "duration": 284,
    "start_time": "2023-03-31T10:31:07.567Z"
   },
   {
    "duration": 376,
    "start_time": "2023-03-31T10:31:09.971Z"
   },
   {
    "duration": 116,
    "start_time": "2023-03-31T10:32:20.338Z"
   },
   {
    "duration": 256,
    "start_time": "2023-03-31T10:32:40.639Z"
   },
   {
    "duration": 10,
    "start_time": "2023-03-31T10:32:56.858Z"
   },
   {
    "duration": 10,
    "start_time": "2023-03-31T10:33:12.370Z"
   },
   {
    "duration": 38044,
    "start_time": "2023-03-31T10:33:23.778Z"
   },
   {
    "duration": 337,
    "start_time": "2023-03-31T10:34:55.702Z"
   },
   {
    "duration": 1436,
    "start_time": "2023-03-31T10:39:25.426Z"
   },
   {
    "duration": 710,
    "start_time": "2023-03-31T10:39:26.864Z"
   },
   {
    "duration": 3,
    "start_time": "2023-03-31T10:39:27.576Z"
   },
   {
    "duration": 391,
    "start_time": "2023-03-31T10:39:27.581Z"
   },
   {
    "duration": 244,
    "start_time": "2023-03-31T10:39:27.973Z"
   },
   {
    "duration": 421,
    "start_time": "2023-03-31T10:39:28.219Z"
   },
   {
    "duration": 2,
    "start_time": "2023-03-31T10:39:28.642Z"
   },
   {
    "duration": 13,
    "start_time": "2023-03-31T10:39:28.646Z"
   },
   {
    "duration": 6,
    "start_time": "2023-03-31T10:39:28.662Z"
   },
   {
    "duration": 45,
    "start_time": "2023-03-31T10:39:28.670Z"
   },
   {
    "duration": 6,
    "start_time": "2023-03-31T10:39:28.718Z"
   },
   {
    "duration": 4,
    "start_time": "2023-03-31T10:39:29.016Z"
   },
   {
    "duration": 4,
    "start_time": "2023-03-31T10:39:29.536Z"
   },
   {
    "duration": 8,
    "start_time": "2023-03-31T10:39:29.736Z"
   },
   {
    "duration": 3,
    "start_time": "2023-03-31T10:39:29.938Z"
   },
   {
    "duration": 7,
    "start_time": "2023-03-31T10:39:30.641Z"
   },
   {
    "duration": 7,
    "start_time": "2023-03-31T10:39:30.822Z"
   },
   {
    "duration": 11,
    "start_time": "2023-03-31T10:39:31.115Z"
   },
   {
    "duration": 51572,
    "start_time": "2023-03-31T10:39:31.666Z"
   },
   {
    "duration": 7,
    "start_time": "2023-03-31T10:40:23.240Z"
   },
   {
    "duration": 7,
    "start_time": "2023-03-31T10:40:23.248Z"
   },
   {
    "duration": 8,
    "start_time": "2023-03-31T10:40:23.257Z"
   },
   {
    "duration": 244,
    "start_time": "2023-03-31T10:40:31.178Z"
   },
   {
    "duration": 5,
    "start_time": "2023-03-31T10:40:32.902Z"
   },
   {
    "duration": 70,
    "start_time": "2023-03-31T10:40:35.278Z"
   },
   {
    "duration": 320,
    "start_time": "2023-03-31T10:40:35.532Z"
   },
   {
    "duration": 308,
    "start_time": "2023-03-31T10:40:36.841Z"
   },
   {
    "duration": 400,
    "start_time": "2023-03-31T10:40:37.570Z"
   },
   {
    "duration": 30,
    "start_time": "2023-03-31T10:40:41.446Z"
   },
   {
    "duration": 15,
    "start_time": "2023-03-31T10:52:12.448Z"
   },
   {
    "duration": 319,
    "start_time": "2023-03-31T10:52:32.807Z"
   },
   {
    "duration": 8,
    "start_time": "2023-03-31T10:53:05.668Z"
   },
   {
    "duration": 1455,
    "start_time": "2023-03-31T10:53:46.219Z"
   },
   {
    "duration": 747,
    "start_time": "2023-03-31T10:53:47.676Z"
   },
   {
    "duration": 3,
    "start_time": "2023-03-31T10:53:48.425Z"
   },
   {
    "duration": 420,
    "start_time": "2023-03-31T10:53:48.431Z"
   },
   {
    "duration": 236,
    "start_time": "2023-03-31T10:53:48.853Z"
   },
   {
    "duration": 433,
    "start_time": "2023-03-31T10:53:49.091Z"
   },
   {
    "duration": 3,
    "start_time": "2023-03-31T10:53:49.526Z"
   },
   {
    "duration": 26,
    "start_time": "2023-03-31T10:53:49.531Z"
   },
   {
    "duration": 16,
    "start_time": "2023-03-31T10:53:52.601Z"
   },
   {
    "duration": 4,
    "start_time": "2023-03-31T10:53:53.977Z"
   },
   {
    "duration": 6,
    "start_time": "2023-03-31T10:53:55.160Z"
   },
   {
    "duration": 7,
    "start_time": "2023-03-31T10:53:56.509Z"
   },
   {
    "duration": 4,
    "start_time": "2023-03-31T10:53:57.386Z"
   },
   {
    "duration": 8,
    "start_time": "2023-03-31T10:53:57.618Z"
   },
   {
    "duration": 4,
    "start_time": "2023-03-31T10:53:58.190Z"
   },
   {
    "duration": 10,
    "start_time": "2023-03-31T10:53:59.912Z"
   },
   {
    "duration": 6,
    "start_time": "2023-03-31T10:54:00.138Z"
   },
   {
    "duration": 9,
    "start_time": "2023-03-31T10:54:00.376Z"
   },
   {
    "duration": 56031,
    "start_time": "2023-03-31T10:54:01.739Z"
   },
   {
    "duration": 8,
    "start_time": "2023-03-31T10:54:57.772Z"
   },
   {
    "duration": 11,
    "start_time": "2023-03-31T10:54:57.781Z"
   },
   {
    "duration": 16,
    "start_time": "2023-03-31T10:54:57.804Z"
   },
   {
    "duration": 31,
    "start_time": "2023-03-31T10:55:24.518Z"
   },
   {
    "duration": 9,
    "start_time": "2023-03-31T10:55:28.279Z"
   },
   {
    "duration": 32,
    "start_time": "2023-03-31T10:55:51.322Z"
   },
   {
    "duration": 326,
    "start_time": "2023-03-31T10:55:52.397Z"
   },
   {
    "duration": 17,
    "start_time": "2023-03-31T10:55:54.402Z"
   },
   {
    "duration": 1468,
    "start_time": "2023-03-31T10:56:04.396Z"
   },
   {
    "duration": 723,
    "start_time": "2023-03-31T10:56:05.867Z"
   },
   {
    "duration": 3,
    "start_time": "2023-03-31T10:56:06.592Z"
   },
   {
    "duration": 426,
    "start_time": "2023-03-31T10:56:06.597Z"
   },
   {
    "duration": 247,
    "start_time": "2023-03-31T10:56:07.025Z"
   },
   {
    "duration": 442,
    "start_time": "2023-03-31T10:56:07.274Z"
   },
   {
    "duration": 7,
    "start_time": "2023-03-31T10:56:08.020Z"
   },
   {
    "duration": 13,
    "start_time": "2023-03-31T10:56:08.214Z"
   },
   {
    "duration": 7,
    "start_time": "2023-03-31T10:56:08.649Z"
   },
   {
    "duration": 3,
    "start_time": "2023-03-31T10:56:09.592Z"
   },
   {
    "duration": 5,
    "start_time": "2023-03-31T10:56:10.598Z"
   },
   {
    "duration": 5,
    "start_time": "2023-03-31T10:56:11.219Z"
   },
   {
    "duration": 5,
    "start_time": "2023-03-31T10:56:12.096Z"
   },
   {
    "duration": 8,
    "start_time": "2023-03-31T10:56:12.266Z"
   },
   {
    "duration": 5,
    "start_time": "2023-03-31T10:56:12.471Z"
   },
   {
    "duration": 8,
    "start_time": "2023-03-31T10:56:13.416Z"
   },
   {
    "duration": 7,
    "start_time": "2023-03-31T10:56:13.590Z"
   },
   {
    "duration": 10,
    "start_time": "2023-03-31T10:56:13.799Z"
   },
   {
    "duration": 48,
    "start_time": "2023-03-31T10:57:10.264Z"
   },
   {
    "duration": 7,
    "start_time": "2023-03-31T10:57:12.978Z"
   },
   {
    "duration": 32,
    "start_time": "2023-03-31T10:57:12.987Z"
   },
   {
    "duration": 8,
    "start_time": "2023-03-31T10:57:14.448Z"
   },
   {
    "duration": 250,
    "start_time": "2023-03-31T10:57:17.916Z"
   },
   {
    "duration": 5,
    "start_time": "2023-03-31T10:57:19.316Z"
   },
   {
    "duration": 73,
    "start_time": "2023-03-31T10:57:25.564Z"
   },
   {
    "duration": 299,
    "start_time": "2023-03-31T10:57:26.085Z"
   },
   {
    "duration": 309,
    "start_time": "2023-03-31T10:57:26.976Z"
   },
   {
    "duration": 394,
    "start_time": "2023-03-31T10:57:27.288Z"
   },
   {
    "duration": 2238,
    "start_time": "2023-03-31T10:57:27.684Z"
   },
   {
    "duration": 321,
    "start_time": "2023-03-31T10:57:29.924Z"
   },
   {
    "duration": 9,
    "start_time": "2023-03-31T10:57:30.247Z"
   },
   {
    "duration": 1555,
    "start_time": "2023-03-31T10:58:21.516Z"
   },
   {
    "duration": 718,
    "start_time": "2023-03-31T10:58:23.073Z"
   },
   {
    "duration": 4,
    "start_time": "2023-03-31T10:58:23.793Z"
   },
   {
    "duration": 436,
    "start_time": "2023-03-31T10:58:23.799Z"
   },
   {
    "duration": 228,
    "start_time": "2023-03-31T10:58:24.237Z"
   },
   {
    "duration": 428,
    "start_time": "2023-03-31T10:58:24.616Z"
   },
   {
    "duration": 3,
    "start_time": "2023-03-31T10:58:25.047Z"
   },
   {
    "duration": 12,
    "start_time": "2023-03-31T10:58:25.122Z"
   },
   {
    "duration": 6,
    "start_time": "2023-03-31T10:58:25.483Z"
   },
   {
    "duration": 4,
    "start_time": "2023-03-31T10:58:25.880Z"
   },
   {
    "duration": 5,
    "start_time": "2023-03-31T10:58:26.415Z"
   },
   {
    "duration": 4,
    "start_time": "2023-03-31T10:58:26.778Z"
   },
   {
    "duration": 4,
    "start_time": "2023-03-31T10:58:27.369Z"
   },
   {
    "duration": 8,
    "start_time": "2023-03-31T10:58:27.616Z"
   },
   {
    "duration": 3,
    "start_time": "2023-03-31T10:58:27.746Z"
   },
   {
    "duration": 10,
    "start_time": "2023-03-31T10:58:28.539Z"
   },
   {
    "duration": 7,
    "start_time": "2023-03-31T10:58:28.719Z"
   },
   {
    "duration": 8,
    "start_time": "2023-03-31T10:58:28.887Z"
   },
   {
    "duration": 59764,
    "start_time": "2023-03-31T10:58:29.520Z"
   },
   {
    "duration": 8,
    "start_time": "2023-03-31T10:59:29.286Z"
   },
   {
    "duration": 24,
    "start_time": "2023-03-31T10:59:29.295Z"
   },
   {
    "duration": 12,
    "start_time": "2023-03-31T10:59:29.321Z"
   },
   {
    "duration": 249,
    "start_time": "2023-03-31T10:59:32.675Z"
   },
   {
    "duration": 5,
    "start_time": "2023-03-31T10:59:34.418Z"
   },
   {
    "duration": 86,
    "start_time": "2023-03-31T10:59:37.966Z"
   },
   {
    "duration": 320,
    "start_time": "2023-03-31T10:59:38.553Z"
   },
   {
    "duration": 405,
    "start_time": "2023-03-31T10:59:39.294Z"
   },
   {
    "duration": 454,
    "start_time": "2023-03-31T10:59:39.924Z"
   },
   {
    "duration": 9,
    "start_time": "2023-03-31T10:59:45.975Z"
   },
   {
    "duration": 14,
    "start_time": "2023-03-31T10:59:48.724Z"
   },
   {
    "duration": 7,
    "start_time": "2023-03-31T10:59:52.916Z"
   },
   {
    "duration": 9,
    "start_time": "2023-03-31T10:59:57.892Z"
   },
   {
    "duration": 311,
    "start_time": "2023-03-31T11:01:36.412Z"
   },
   {
    "duration": 1582,
    "start_time": "2023-03-31T11:43:59.044Z"
   },
   {
    "duration": 790,
    "start_time": "2023-03-31T11:44:00.628Z"
   },
   {
    "duration": 5,
    "start_time": "2023-03-31T11:44:01.420Z"
   },
   {
    "duration": 456,
    "start_time": "2023-03-31T11:44:01.428Z"
   },
   {
    "duration": 382,
    "start_time": "2023-03-31T11:44:01.887Z"
   },
   {
    "duration": 477,
    "start_time": "2023-03-31T11:44:02.271Z"
   },
   {
    "duration": 3,
    "start_time": "2023-03-31T11:44:02.751Z"
   },
   {
    "duration": 25,
    "start_time": "2023-03-31T11:44:02.756Z"
   },
   {
    "duration": 7,
    "start_time": "2023-03-31T11:44:02.783Z"
   },
   {
    "duration": 21,
    "start_time": "2023-03-31T11:44:02.792Z"
   },
   {
    "duration": 16,
    "start_time": "2023-03-31T11:44:02.816Z"
   },
   {
    "duration": 6,
    "start_time": "2023-03-31T11:44:03.680Z"
   },
   {
    "duration": 5,
    "start_time": "2023-03-31T11:44:04.487Z"
   },
   {
    "duration": 8,
    "start_time": "2023-03-31T11:44:04.682Z"
   },
   {
    "duration": 4,
    "start_time": "2023-03-31T11:44:04.922Z"
   },
   {
    "duration": 8,
    "start_time": "2023-03-31T11:44:14.719Z"
   },
   {
    "duration": 7,
    "start_time": "2023-03-31T11:44:14.948Z"
   },
   {
    "duration": 11,
    "start_time": "2023-03-31T11:44:15.187Z"
   },
   {
    "duration": 260,
    "start_time": "2023-03-31T11:44:18.295Z"
   },
   {
    "duration": 5,
    "start_time": "2023-03-31T11:44:19.796Z"
   },
   {
    "duration": 76,
    "start_time": "2023-03-31T11:44:21.571Z"
   },
   {
    "duration": 334,
    "start_time": "2023-03-31T11:44:22.605Z"
   },
   {
    "duration": 328,
    "start_time": "2023-03-31T11:44:22.948Z"
   },
   {
    "duration": 403,
    "start_time": "2023-03-31T11:44:29.048Z"
   },
   {
    "duration": 286,
    "start_time": "2023-03-31T11:48:33.500Z"
   },
   {
    "duration": 1606,
    "start_time": "2023-03-31T11:49:02.195Z"
   },
   {
    "duration": 714,
    "start_time": "2023-03-31T11:49:03.805Z"
   },
   {
    "duration": 4,
    "start_time": "2023-03-31T11:49:04.521Z"
   },
   {
    "duration": 409,
    "start_time": "2023-03-31T11:49:04.527Z"
   },
   {
    "duration": 273,
    "start_time": "2023-03-31T11:49:04.938Z"
   },
   {
    "duration": 434,
    "start_time": "2023-03-31T11:49:05.213Z"
   },
   {
    "duration": 3,
    "start_time": "2023-03-31T11:49:05.649Z"
   },
   {
    "duration": 30,
    "start_time": "2023-03-31T11:49:05.653Z"
   },
   {
    "duration": 28,
    "start_time": "2023-03-31T11:49:05.685Z"
   },
   {
    "duration": 14,
    "start_time": "2023-03-31T11:49:05.716Z"
   },
   {
    "duration": 12,
    "start_time": "2023-03-31T11:49:05.732Z"
   },
   {
    "duration": 16,
    "start_time": "2023-03-31T11:49:05.746Z"
   },
   {
    "duration": 4,
    "start_time": "2023-03-31T11:49:05.959Z"
   },
   {
    "duration": 13,
    "start_time": "2023-03-31T11:49:06.101Z"
   },
   {
    "duration": 4,
    "start_time": "2023-03-31T11:49:06.262Z"
   },
   {
    "duration": 11,
    "start_time": "2023-03-31T11:49:07.103Z"
   },
   {
    "duration": 6,
    "start_time": "2023-03-31T11:49:07.261Z"
   },
   {
    "duration": 22,
    "start_time": "2023-03-31T11:49:07.494Z"
   },
   {
    "duration": 62153,
    "start_time": "2023-03-31T11:49:08.085Z"
   },
   {
    "duration": 8,
    "start_time": "2023-03-31T11:50:10.240Z"
   },
   {
    "duration": 5,
    "start_time": "2023-03-31T11:50:10.250Z"
   },
   {
    "duration": 15,
    "start_time": "2023-03-31T11:50:10.258Z"
   },
   {
    "duration": 268,
    "start_time": "2023-03-31T11:50:10.274Z"
   },
   {
    "duration": 7,
    "start_time": "2023-03-31T11:50:12.919Z"
   },
   {
    "duration": 72,
    "start_time": "2023-03-31T11:50:13.445Z"
   },
   {
    "duration": 308,
    "start_time": "2023-03-31T11:50:13.617Z"
   },
   {
    "duration": 336,
    "start_time": "2023-03-31T11:50:13.928Z"
   },
   {
    "duration": 396,
    "start_time": "2023-03-31T11:50:15.019Z"
   },
   {
    "duration": 2218,
    "start_time": "2023-03-31T11:50:15.493Z"
   },
   {
    "duration": 250,
    "start_time": "2023-03-31T11:50:17.716Z"
   },
   {
    "duration": 1493,
    "start_time": "2023-03-31T11:50:36.667Z"
   },
   {
    "duration": 709,
    "start_time": "2023-03-31T11:50:38.163Z"
   },
   {
    "duration": 4,
    "start_time": "2023-03-31T11:50:38.874Z"
   },
   {
    "duration": 440,
    "start_time": "2023-03-31T11:50:38.880Z"
   },
   {
    "duration": 238,
    "start_time": "2023-03-31T11:50:39.323Z"
   },
   {
    "duration": 425,
    "start_time": "2023-03-31T11:50:39.563Z"
   },
   {
    "duration": 3,
    "start_time": "2023-03-31T11:50:39.990Z"
   },
   {
    "duration": 17,
    "start_time": "2023-03-31T11:50:40.007Z"
   },
   {
    "duration": 7,
    "start_time": "2023-03-31T11:50:40.825Z"
   },
   {
    "duration": 4,
    "start_time": "2023-03-31T11:50:42.197Z"
   },
   {
    "duration": 5,
    "start_time": "2023-03-31T11:50:42.784Z"
   },
   {
    "duration": 5,
    "start_time": "2023-03-31T11:50:43.163Z"
   },
   {
    "duration": 4,
    "start_time": "2023-03-31T11:50:45.250Z"
   },
   {
    "duration": 4,
    "start_time": "2023-03-31T11:50:49.084Z"
   },
   {
    "duration": 21,
    "start_time": "2023-03-31T11:50:56.299Z"
   },
   {
    "duration": 19,
    "start_time": "2023-03-31T11:50:56.499Z"
   },
   {
    "duration": 11,
    "start_time": "2023-03-31T11:50:56.676Z"
   },
   {
    "duration": 8,
    "start_time": "2023-03-31T11:51:01.635Z"
   },
   {
    "duration": 20,
    "start_time": "2023-03-31T11:51:01.831Z"
   },
   {
    "duration": 19,
    "start_time": "2023-03-31T11:51:02.114Z"
   },
   {
    "duration": 265,
    "start_time": "2023-03-31T11:51:05.244Z"
   },
   {
    "duration": 77,
    "start_time": "2023-03-31T11:51:07.794Z"
   },
   {
    "duration": 388,
    "start_time": "2023-03-31T11:51:07.976Z"
   },
   {
    "duration": 378,
    "start_time": "2023-03-31T11:51:08.367Z"
   },
   {
    "duration": 435,
    "start_time": "2023-03-31T11:51:09.080Z"
   },
   {
    "duration": 1556,
    "start_time": "2023-03-31T11:51:10.886Z"
   },
   {
    "duration": 316,
    "start_time": "2023-03-31T11:51:14.200Z"
   },
   {
    "duration": 1460,
    "start_time": "2023-03-31T11:51:29.053Z"
   },
   {
    "duration": 752,
    "start_time": "2023-03-31T11:51:30.518Z"
   },
   {
    "duration": 4,
    "start_time": "2023-03-31T11:51:31.272Z"
   },
   {
    "duration": 453,
    "start_time": "2023-03-31T11:51:31.279Z"
   },
   {
    "duration": 285,
    "start_time": "2023-03-31T11:51:31.735Z"
   },
   {
    "duration": 494,
    "start_time": "2023-03-31T11:51:32.028Z"
   },
   {
    "duration": 2,
    "start_time": "2023-03-31T11:51:32.526Z"
   },
   {
    "duration": 14,
    "start_time": "2023-03-31T11:51:32.530Z"
   },
   {
    "duration": 8,
    "start_time": "2023-03-31T11:51:32.545Z"
   },
   {
    "duration": 4,
    "start_time": "2023-03-31T11:51:32.555Z"
   },
   {
    "duration": 5,
    "start_time": "2023-03-31T11:51:32.787Z"
   },
   {
    "duration": 7,
    "start_time": "2023-03-31T11:51:33.914Z"
   },
   {
    "duration": 5,
    "start_time": "2023-03-31T11:51:35.284Z"
   },
   {
    "duration": 5,
    "start_time": "2023-03-31T11:51:37.283Z"
   },
   {
    "duration": 8,
    "start_time": "2023-03-31T11:51:38.519Z"
   },
   {
    "duration": 7,
    "start_time": "2023-03-31T11:51:38.723Z"
   },
   {
    "duration": 11,
    "start_time": "2023-03-31T11:51:38.905Z"
   },
   {
    "duration": 13,
    "start_time": "2023-03-31T11:51:43.412Z"
   },
   {
    "duration": 6,
    "start_time": "2023-03-31T11:51:43.586Z"
   },
   {
    "duration": 10,
    "start_time": "2023-03-31T11:51:44.030Z"
   },
   {
    "duration": 278,
    "start_time": "2023-03-31T11:51:44.719Z"
   },
   {
    "duration": 90,
    "start_time": "2023-03-31T11:51:49.947Z"
   },
   {
    "duration": 344,
    "start_time": "2023-03-31T11:51:50.109Z"
   },
   {
    "duration": 327,
    "start_time": "2023-03-31T11:51:50.456Z"
   },
   {
    "duration": 402,
    "start_time": "2023-03-31T11:51:51.265Z"
   },
   {
    "duration": 1578,
    "start_time": "2023-03-31T11:51:53.170Z"
   },
   {
    "duration": 275,
    "start_time": "2023-03-31T11:51:55.898Z"
   },
   {
    "duration": 1498,
    "start_time": "2023-03-31T11:52:11.043Z"
   },
   {
    "duration": 742,
    "start_time": "2023-03-31T11:52:12.543Z"
   },
   {
    "duration": 4,
    "start_time": "2023-03-31T11:52:13.286Z"
   },
   {
    "duration": 434,
    "start_time": "2023-03-31T11:52:13.292Z"
   },
   {
    "duration": 262,
    "start_time": "2023-03-31T11:52:13.728Z"
   },
   {
    "duration": 463,
    "start_time": "2023-03-31T11:52:13.992Z"
   },
   {
    "duration": 4,
    "start_time": "2023-03-31T11:52:14.458Z"
   },
   {
    "duration": 17,
    "start_time": "2023-03-31T11:52:14.464Z"
   },
   {
    "duration": 9,
    "start_time": "2023-03-31T11:52:14.504Z"
   },
   {
    "duration": 12,
    "start_time": "2023-03-31T11:52:14.524Z"
   },
   {
    "duration": 11,
    "start_time": "2023-03-31T11:52:14.538Z"
   },
   {
    "duration": 11,
    "start_time": "2023-03-31T11:52:14.906Z"
   },
   {
    "duration": 5,
    "start_time": "2023-03-31T11:52:15.760Z"
   },
   {
    "duration": 9,
    "start_time": "2023-03-31T11:52:15.959Z"
   },
   {
    "duration": 1623,
    "start_time": "2023-03-31T11:52:35.554Z"
   },
   {
    "duration": 750,
    "start_time": "2023-03-31T11:52:37.179Z"
   },
   {
    "duration": 3,
    "start_time": "2023-03-31T11:52:37.932Z"
   },
   {
    "duration": 429,
    "start_time": "2023-03-31T11:52:37.939Z"
   },
   {
    "duration": 260,
    "start_time": "2023-03-31T11:52:38.369Z"
   },
   {
    "duration": 429,
    "start_time": "2023-03-31T11:52:38.630Z"
   },
   {
    "duration": 3,
    "start_time": "2023-03-31T11:52:39.061Z"
   },
   {
    "duration": 18,
    "start_time": "2023-03-31T11:52:39.066Z"
   },
   {
    "duration": 16,
    "start_time": "2023-03-31T11:52:39.104Z"
   },
   {
    "duration": 4,
    "start_time": "2023-03-31T11:52:40.266Z"
   },
   {
    "duration": 9,
    "start_time": "2023-03-31T11:52:42.803Z"
   },
   {
    "duration": 6,
    "start_time": "2023-03-31T11:52:43.482Z"
   },
   {
    "duration": 6,
    "start_time": "2023-03-31T11:52:45.077Z"
   },
   {
    "duration": 14,
    "start_time": "2023-03-31T11:52:47.015Z"
   },
   {
    "duration": 8,
    "start_time": "2023-03-31T11:52:48.524Z"
   },
   {
    "duration": 6,
    "start_time": "2023-03-31T11:52:48.694Z"
   },
   {
    "duration": 9,
    "start_time": "2023-03-31T11:52:48.855Z"
   },
   {
    "duration": 8,
    "start_time": "2023-03-31T11:52:52.076Z"
   },
   {
    "duration": 7,
    "start_time": "2023-03-31T11:52:52.227Z"
   },
   {
    "duration": 9,
    "start_time": "2023-03-31T11:52:52.475Z"
   },
   {
    "duration": 276,
    "start_time": "2023-03-31T11:52:57.236Z"
   },
   {
    "duration": 73,
    "start_time": "2023-03-31T11:53:00.589Z"
   },
   {
    "duration": 353,
    "start_time": "2023-03-31T11:53:01.020Z"
   },
   {
    "duration": 342,
    "start_time": "2023-03-31T11:53:01.619Z"
   },
   {
    "duration": 408,
    "start_time": "2023-03-31T11:53:02.690Z"
   },
   {
    "duration": 263,
    "start_time": "2023-03-31T11:53:06.520Z"
   },
   {
    "duration": 1551,
    "start_time": "2023-03-31T11:53:13.601Z"
   },
   {
    "duration": 270,
    "start_time": "2023-03-31T11:53:17.520Z"
   },
   {
    "duration": 1453,
    "start_time": "2023-03-31T11:56:34.916Z"
   },
   {
    "duration": 730,
    "start_time": "2023-03-31T11:56:36.371Z"
   },
   {
    "duration": 4,
    "start_time": "2023-03-31T11:56:38.444Z"
   },
   {
    "duration": 413,
    "start_time": "2023-03-31T11:56:40.334Z"
   },
   {
    "duration": 226,
    "start_time": "2023-03-31T11:56:40.862Z"
   },
   {
    "duration": 421,
    "start_time": "2023-03-31T11:56:41.122Z"
   },
   {
    "duration": 3,
    "start_time": "2023-03-31T11:56:41.623Z"
   },
   {
    "duration": 14,
    "start_time": "2023-03-31T11:56:41.784Z"
   },
   {
    "duration": 8,
    "start_time": "2023-03-31T11:56:42.123Z"
   },
   {
    "duration": 5,
    "start_time": "2023-03-31T11:56:44.178Z"
   },
   {
    "duration": 4,
    "start_time": "2023-03-31T11:56:46.185Z"
   },
   {
    "duration": 6,
    "start_time": "2023-03-31T11:56:47.119Z"
   },
   {
    "duration": 5,
    "start_time": "2023-03-31T11:56:48.836Z"
   },
   {
    "duration": 5,
    "start_time": "2023-03-31T11:56:50.523Z"
   },
   {
    "duration": 12,
    "start_time": "2023-03-31T11:56:53.408Z"
   },
   {
    "duration": 11,
    "start_time": "2023-03-31T11:56:53.609Z"
   },
   {
    "duration": 9,
    "start_time": "2023-03-31T11:56:53.916Z"
   },
   {
    "duration": 8,
    "start_time": "2023-03-31T11:56:57.444Z"
   },
   {
    "duration": 6,
    "start_time": "2023-03-31T11:56:57.585Z"
   },
   {
    "duration": 9,
    "start_time": "2023-03-31T11:56:57.784Z"
   },
   {
    "duration": 247,
    "start_time": "2023-03-31T11:57:00.221Z"
   },
   {
    "duration": 87,
    "start_time": "2023-03-31T11:57:03.942Z"
   },
   {
    "duration": 367,
    "start_time": "2023-03-31T11:57:04.094Z"
   },
   {
    "duration": 313,
    "start_time": "2023-03-31T11:57:04.463Z"
   },
   {
    "duration": 417,
    "start_time": "2023-03-31T11:57:05.702Z"
   },
   {
    "duration": 253,
    "start_time": "2023-03-31T11:57:09.606Z"
   },
   {
    "duration": 248,
    "start_time": "2023-03-31T11:58:28.234Z"
   },
   {
    "duration": 1669,
    "start_time": "2023-03-31T11:59:51.223Z"
   },
   {
    "duration": 776,
    "start_time": "2023-03-31T11:59:52.894Z"
   },
   {
    "duration": 5,
    "start_time": "2023-03-31T11:59:53.673Z"
   },
   {
    "duration": 517,
    "start_time": "2023-03-31T11:59:53.681Z"
   },
   {
    "duration": 253,
    "start_time": "2023-03-31T11:59:54.203Z"
   },
   {
    "duration": 557,
    "start_time": "2023-03-31T11:59:54.458Z"
   },
   {
    "duration": 3,
    "start_time": "2023-03-31T11:59:56.254Z"
   },
   {
    "duration": 12,
    "start_time": "2023-03-31T11:59:56.431Z"
   },
   {
    "duration": 10,
    "start_time": "2023-03-31T11:59:57.129Z"
   },
   {
    "duration": 5,
    "start_time": "2023-03-31T11:59:57.533Z"
   },
   {
    "duration": 20,
    "start_time": "2023-03-31T11:59:58.044Z"
   },
   {
    "duration": 7,
    "start_time": "2023-03-31T11:59:58.426Z"
   },
   {
    "duration": 5,
    "start_time": "2023-03-31T12:00:00.054Z"
   },
   {
    "duration": 12,
    "start_time": "2023-03-31T12:00:00.353Z"
   },
   {
    "duration": 8,
    "start_time": "2023-03-31T12:00:00.620Z"
   },
   {
    "duration": 13,
    "start_time": "2023-03-31T12:00:05.398Z"
   },
   {
    "duration": 7,
    "start_time": "2023-03-31T12:00:05.555Z"
   },
   {
    "duration": 12,
    "start_time": "2023-03-31T12:00:05.763Z"
   },
   {
    "duration": 69414,
    "start_time": "2023-03-31T12:00:06.966Z"
   },
   {
    "duration": 48,
    "start_time": "2023-03-31T12:01:18.047Z"
   },
   {
    "duration": 8,
    "start_time": "2023-03-31T12:01:18.834Z"
   },
   {
    "duration": 6,
    "start_time": "2023-03-31T12:01:19.071Z"
   },
   {
    "duration": 9,
    "start_time": "2023-03-31T12:01:19.233Z"
   },
   {
    "duration": 256,
    "start_time": "2023-03-31T12:01:20.076Z"
   },
   {
    "duration": 6,
    "start_time": "2023-03-31T12:01:20.722Z"
   },
   {
    "duration": 75,
    "start_time": "2023-03-31T12:01:21.568Z"
   },
   {
    "duration": 412,
    "start_time": "2023-03-31T12:01:21.744Z"
   },
   {
    "duration": 353,
    "start_time": "2023-03-31T12:01:22.159Z"
   },
   {
    "duration": 410,
    "start_time": "2023-03-31T12:01:22.621Z"
   },
   {
    "duration": 2204,
    "start_time": "2023-03-31T12:01:23.922Z"
   },
   {
    "duration": 278,
    "start_time": "2023-03-31T12:01:28.031Z"
   },
   {
    "duration": 1756,
    "start_time": "2023-03-31T12:02:04.056Z"
   },
   {
    "duration": 805,
    "start_time": "2023-03-31T12:02:05.820Z"
   },
   {
    "duration": 4,
    "start_time": "2023-03-31T12:02:06.627Z"
   },
   {
    "duration": 518,
    "start_time": "2023-03-31T12:02:06.634Z"
   },
   {
    "duration": 273,
    "start_time": "2023-03-31T12:02:07.155Z"
   },
   {
    "duration": 446,
    "start_time": "2023-03-31T12:02:07.430Z"
   },
   {
    "duration": 3,
    "start_time": "2023-03-31T12:02:07.878Z"
   },
   {
    "duration": 30,
    "start_time": "2023-03-31T12:02:07.883Z"
   },
   {
    "duration": 11,
    "start_time": "2023-03-31T12:02:07.915Z"
   },
   {
    "duration": 5,
    "start_time": "2023-03-31T12:02:07.929Z"
   },
   {
    "duration": 9,
    "start_time": "2023-03-31T12:02:07.936Z"
   },
   {
    "duration": 7,
    "start_time": "2023-03-31T12:02:08.224Z"
   },
   {
    "duration": 5,
    "start_time": "2023-03-31T12:02:09.182Z"
   },
   {
    "duration": 5,
    "start_time": "2023-03-31T12:02:14.655Z"
   },
   {
    "duration": 9,
    "start_time": "2023-03-31T12:02:19.342Z"
   },
   {
    "duration": 7,
    "start_time": "2023-03-31T12:02:19.847Z"
   },
   {
    "duration": 12,
    "start_time": "2023-03-31T12:02:20.071Z"
   },
   {
    "duration": 63243,
    "start_time": "2023-03-31T12:02:22.643Z"
   },
   {
    "duration": 18,
    "start_time": "2023-03-31T12:03:25.888Z"
   },
   {
    "duration": 7,
    "start_time": "2023-03-31T12:03:25.908Z"
   },
   {
    "duration": 15,
    "start_time": "2023-03-31T12:03:25.918Z"
   },
   {
    "duration": 271,
    "start_time": "2023-03-31T12:03:28.169Z"
   },
   {
    "duration": 5,
    "start_time": "2023-03-31T12:03:29.825Z"
   },
   {
    "duration": 85,
    "start_time": "2023-03-31T12:03:31.063Z"
   },
   {
    "duration": 348,
    "start_time": "2023-03-31T12:03:31.322Z"
   },
   {
    "duration": 367,
    "start_time": "2023-03-31T12:03:31.673Z"
   },
   {
    "duration": 438,
    "start_time": "2023-03-31T12:03:32.111Z"
   },
   {
    "duration": 2475,
    "start_time": "2023-03-31T12:03:33.604Z"
   },
   {
    "duration": 265,
    "start_time": "2023-03-31T12:03:36.082Z"
   },
   {
    "duration": 1462,
    "start_time": "2023-03-31T12:03:51.904Z"
   },
   {
    "duration": 722,
    "start_time": "2023-03-31T12:03:53.369Z"
   },
   {
    "duration": 4,
    "start_time": "2023-03-31T12:03:54.093Z"
   },
   {
    "duration": 430,
    "start_time": "2023-03-31T12:03:54.099Z"
   },
   {
    "duration": 282,
    "start_time": "2023-03-31T12:03:54.531Z"
   },
   {
    "duration": 423,
    "start_time": "2023-03-31T12:03:54.814Z"
   },
   {
    "duration": 3,
    "start_time": "2023-03-31T12:03:55.239Z"
   },
   {
    "duration": 17,
    "start_time": "2023-03-31T12:03:55.244Z"
   },
   {
    "duration": 15,
    "start_time": "2023-03-31T12:03:55.263Z"
   },
   {
    "duration": 4,
    "start_time": "2023-03-31T12:03:55.773Z"
   },
   {
    "duration": 5,
    "start_time": "2023-03-31T12:03:58.045Z"
   },
   {
    "duration": 6,
    "start_time": "2023-03-31T12:03:58.470Z"
   },
   {
    "duration": 5,
    "start_time": "2023-03-31T12:04:00.395Z"
   },
   {
    "duration": 7,
    "start_time": "2023-03-31T12:04:02.816Z"
   },
   {
    "duration": 11,
    "start_time": "2023-03-31T12:04:04.093Z"
   },
   {
    "duration": 7,
    "start_time": "2023-03-31T12:04:04.820Z"
   },
   {
    "duration": 10,
    "start_time": "2023-03-31T12:04:05.289Z"
   },
   {
    "duration": 8,
    "start_time": "2023-03-31T12:04:07.570Z"
   },
   {
    "duration": 15,
    "start_time": "2023-03-31T12:04:07.704Z"
   },
   {
    "duration": 9,
    "start_time": "2023-03-31T12:04:08.171Z"
   },
   {
    "duration": 235,
    "start_time": "2023-03-31T12:04:08.837Z"
   },
   {
    "duration": 6,
    "start_time": "2023-03-31T12:04:18.382Z"
   },
   {
    "duration": 77,
    "start_time": "2023-03-31T12:04:20.541Z"
   },
   {
    "duration": 347,
    "start_time": "2023-03-31T12:04:20.725Z"
   },
   {
    "duration": 326,
    "start_time": "2023-03-31T12:04:21.075Z"
   },
   {
    "duration": 467,
    "start_time": "2023-03-31T12:04:21.582Z"
   },
   {
    "duration": 2558,
    "start_time": "2023-03-31T12:04:23.023Z"
   },
   {
    "duration": 343,
    "start_time": "2023-03-31T12:04:25.584Z"
   },
   {
    "duration": 1577,
    "start_time": "2023-03-31T12:04:51.444Z"
   },
   {
    "duration": 708,
    "start_time": "2023-03-31T12:04:53.024Z"
   },
   {
    "duration": 4,
    "start_time": "2023-03-31T12:04:53.734Z"
   },
   {
    "duration": 480,
    "start_time": "2023-03-31T12:04:53.740Z"
   },
   {
    "duration": 252,
    "start_time": "2023-03-31T12:04:54.221Z"
   },
   {
    "duration": 448,
    "start_time": "2023-03-31T12:04:54.475Z"
   },
   {
    "duration": 8,
    "start_time": "2023-03-31T12:04:55.001Z"
   },
   {
    "duration": 13,
    "start_time": "2023-03-31T12:04:55.184Z"
   },
   {
    "duration": 8,
    "start_time": "2023-03-31T12:04:55.621Z"
   },
   {
    "duration": 4,
    "start_time": "2023-03-31T12:04:56.062Z"
   },
   {
    "duration": 5,
    "start_time": "2023-03-31T12:04:57.089Z"
   },
   {
    "duration": 6,
    "start_time": "2023-03-31T12:04:58.458Z"
   },
   {
    "duration": 5,
    "start_time": "2023-03-31T12:05:00.334Z"
   },
   {
    "duration": 8,
    "start_time": "2023-03-31T12:05:05.912Z"
   },
   {
    "duration": 13,
    "start_time": "2023-03-31T12:05:08.023Z"
   },
   {
    "duration": 8,
    "start_time": "2023-03-31T12:05:08.132Z"
   },
   {
    "duration": 11,
    "start_time": "2023-03-31T12:05:08.379Z"
   },
   {
    "duration": 9,
    "start_time": "2023-03-31T12:05:10.420Z"
   },
   {
    "duration": 7,
    "start_time": "2023-03-31T12:05:10.572Z"
   },
   {
    "duration": 11,
    "start_time": "2023-03-31T12:05:10.785Z"
   },
   {
    "duration": 247,
    "start_time": "2023-03-31T12:05:13.652Z"
   },
   {
    "duration": 83,
    "start_time": "2023-03-31T12:05:19.579Z"
   },
   {
    "duration": 325,
    "start_time": "2023-03-31T12:05:19.741Z"
   },
   {
    "duration": 352,
    "start_time": "2023-03-31T12:05:20.069Z"
   },
   {
    "duration": 412,
    "start_time": "2023-03-31T12:05:20.424Z"
   },
   {
    "duration": 1433,
    "start_time": "2023-03-31T12:05:21.337Z"
   },
   {
    "duration": 267,
    "start_time": "2023-03-31T12:05:23.876Z"
   },
   {
    "duration": 1517,
    "start_time": "2023-03-31T12:05:47.762Z"
   },
   {
    "duration": 756,
    "start_time": "2023-03-31T12:05:49.282Z"
   },
   {
    "duration": 4,
    "start_time": "2023-03-31T12:05:50.040Z"
   },
   {
    "duration": 437,
    "start_time": "2023-03-31T12:05:50.047Z"
   },
   {
    "duration": 257,
    "start_time": "2023-03-31T12:05:50.486Z"
   },
   {
    "duration": 446,
    "start_time": "2023-03-31T12:05:50.746Z"
   },
   {
    "duration": 14,
    "start_time": "2023-03-31T12:05:51.204Z"
   },
   {
    "duration": 20,
    "start_time": "2023-03-31T12:05:51.220Z"
   },
   {
    "duration": 7,
    "start_time": "2023-03-31T12:05:51.242Z"
   },
   {
    "duration": 5,
    "start_time": "2023-03-31T12:05:51.252Z"
   },
   {
    "duration": 6,
    "start_time": "2023-03-31T12:05:51.791Z"
   },
   {
    "duration": 6,
    "start_time": "2023-03-31T12:05:52.512Z"
   },
   {
    "duration": 6,
    "start_time": "2023-03-31T12:05:53.703Z"
   },
   {
    "duration": 9,
    "start_time": "2023-03-31T12:05:53.864Z"
   },
   {
    "duration": 7,
    "start_time": "2023-03-31T12:05:54.027Z"
   },
   {
    "duration": 12,
    "start_time": "2023-03-31T12:05:54.685Z"
   },
   {
    "duration": 8,
    "start_time": "2023-03-31T12:05:54.832Z"
   },
   {
    "duration": 9,
    "start_time": "2023-03-31T12:05:55.022Z"
   },
   {
    "duration": 61126,
    "start_time": "2023-03-31T12:05:55.532Z"
   },
   {
    "duration": 8,
    "start_time": "2023-03-31T12:06:56.660Z"
   },
   {
    "duration": 13,
    "start_time": "2023-03-31T12:06:56.670Z"
   },
   {
    "duration": 26,
    "start_time": "2023-03-31T12:06:56.685Z"
   },
   {
    "duration": 283,
    "start_time": "2023-03-31T12:06:58.252Z"
   },
   {
    "duration": 7,
    "start_time": "2023-03-31T12:06:58.884Z"
   },
   {
    "duration": 66,
    "start_time": "2023-03-31T12:07:00.402Z"
   },
   {
    "duration": 383,
    "start_time": "2023-03-31T12:07:00.580Z"
   },
   {
    "duration": 347,
    "start_time": "2023-03-31T12:07:00.965Z"
   },
   {
    "duration": 413,
    "start_time": "2023-03-31T12:07:01.314Z"
   },
   {
    "duration": 257,
    "start_time": "2023-03-31T12:07:05.608Z"
   },
   {
    "duration": 2415,
    "start_time": "2023-03-31T12:07:12.401Z"
   },
   {
    "duration": 260,
    "start_time": "2023-03-31T12:07:17.144Z"
   },
   {
    "duration": 9,
    "start_time": "2023-03-31T12:07:26.397Z"
   },
   {
    "duration": 11,
    "start_time": "2023-03-31T12:07:27.031Z"
   },
   {
    "duration": 9,
    "start_time": "2023-03-31T12:07:27.633Z"
   },
   {
    "duration": 268014,
    "start_time": "2023-03-31T12:07:29.193Z"
   },
   {
    "duration": 252391,
    "start_time": "2023-03-31T12:13:35.335Z"
   },
   {
    "duration": 1503,
    "start_time": "2023-03-31T12:18:13.324Z"
   },
   {
    "duration": 733,
    "start_time": "2023-03-31T12:18:14.830Z"
   },
   {
    "duration": 4,
    "start_time": "2023-03-31T12:18:15.565Z"
   },
   {
    "duration": 415,
    "start_time": "2023-03-31T12:18:15.572Z"
   },
   {
    "duration": 265,
    "start_time": "2023-03-31T12:18:15.989Z"
   },
   {
    "duration": 409,
    "start_time": "2023-03-31T12:18:16.582Z"
   },
   {
    "duration": 3,
    "start_time": "2023-03-31T12:18:17.175Z"
   },
   {
    "duration": 15,
    "start_time": "2023-03-31T12:18:17.701Z"
   },
   {
    "duration": 7,
    "start_time": "2023-03-31T12:18:18.078Z"
   },
   {
    "duration": 4,
    "start_time": "2023-03-31T12:18:19.262Z"
   },
   {
    "duration": 6,
    "start_time": "2023-03-31T12:18:21.091Z"
   },
   {
    "duration": 6,
    "start_time": "2023-03-31T12:18:24.887Z"
   },
   {
    "duration": 5,
    "start_time": "2023-03-31T12:18:27.026Z"
   },
   {
    "duration": 4,
    "start_time": "2023-03-31T12:18:29.322Z"
   },
   {
    "duration": 9,
    "start_time": "2023-03-31T12:18:32.043Z"
   },
   {
    "duration": 9,
    "start_time": "2023-03-31T12:18:32.262Z"
   },
   {
    "duration": 9,
    "start_time": "2023-03-31T12:18:33.061Z"
   },
   {
    "duration": 7,
    "start_time": "2023-03-31T12:18:36.722Z"
   },
   {
    "duration": 6,
    "start_time": "2023-03-31T12:18:37.418Z"
   },
   {
    "duration": 9,
    "start_time": "2023-03-31T12:18:37.763Z"
   },
   {
    "duration": 256,
    "start_time": "2023-03-31T12:18:40.942Z"
   },
   {
    "duration": 100,
    "start_time": "2023-03-31T12:18:47.281Z"
   },
   {
    "duration": 380,
    "start_time": "2023-03-31T12:18:49.618Z"
   },
   {
    "duration": 314,
    "start_time": "2023-03-31T12:18:50.320Z"
   },
   {
    "duration": 425,
    "start_time": "2023-03-31T12:18:53.701Z"
   },
   {
    "duration": 271,
    "start_time": "2023-03-31T12:18:57.243Z"
   },
   {
    "duration": 1546,
    "start_time": "2023-03-31T12:19:01.249Z"
   },
   {
    "duration": 266,
    "start_time": "2023-03-31T12:19:05.720Z"
   },
   {
    "duration": 9,
    "start_time": "2023-03-31T12:19:15.786Z"
   },
   {
    "duration": 9,
    "start_time": "2023-03-31T12:19:16.570Z"
   },
   {
    "duration": 11,
    "start_time": "2023-03-31T12:19:17.391Z"
   },
   {
    "duration": 290352,
    "start_time": "2023-03-31T12:19:20.002Z"
   },
   {
    "duration": 7,
    "start_time": "2023-03-31T12:25:12.728Z"
   },
   {
    "duration": 5,
    "start_time": "2023-03-31T12:25:20.028Z"
   },
   {
    "duration": 4,
    "start_time": "2023-03-31T12:25:38.493Z"
   },
   {
    "duration": 1617,
    "start_time": "2023-03-31T12:35:30.453Z"
   },
   {
    "duration": 821,
    "start_time": "2023-03-31T12:35:32.073Z"
   },
   {
    "duration": 12,
    "start_time": "2023-03-31T12:35:32.895Z"
   },
   {
    "duration": 501,
    "start_time": "2023-03-31T12:35:32.916Z"
   },
   {
    "duration": 223,
    "start_time": "2023-03-31T12:35:33.423Z"
   },
   {
    "duration": 461,
    "start_time": "2023-03-31T12:35:33.705Z"
   },
   {
    "duration": 3,
    "start_time": "2023-03-31T12:35:34.324Z"
   },
   {
    "duration": 15,
    "start_time": "2023-03-31T12:35:34.620Z"
   },
   {
    "duration": 7,
    "start_time": "2023-03-31T12:35:36.356Z"
   },
   {
    "duration": 4,
    "start_time": "2023-03-31T12:35:40.220Z"
   },
   {
    "duration": 6,
    "start_time": "2023-03-31T12:35:41.295Z"
   },
   {
    "duration": 5,
    "start_time": "2023-03-31T12:35:43.141Z"
   },
   {
    "duration": 4,
    "start_time": "2023-03-31T12:35:45.140Z"
   },
   {
    "duration": 9,
    "start_time": "2023-03-31T12:35:45.400Z"
   },
   {
    "duration": 6,
    "start_time": "2023-03-31T12:35:45.810Z"
   },
   {
    "duration": 8,
    "start_time": "2023-03-31T12:35:47.731Z"
   },
   {
    "duration": 11,
    "start_time": "2023-03-31T12:35:47.903Z"
   },
   {
    "duration": 8,
    "start_time": "2023-03-31T12:35:48.061Z"
   },
   {
    "duration": 5,
    "start_time": "2023-03-31T12:35:48.590Z"
   },
   {
    "duration": 4,
    "start_time": "2023-03-31T12:35:48.746Z"
   },
   {
    "duration": 4,
    "start_time": "2023-03-31T12:35:48.939Z"
   },
   {
    "duration": 62178,
    "start_time": "2023-03-31T12:35:49.096Z"
   },
   {
    "duration": 7,
    "start_time": "2023-03-31T12:36:51.276Z"
   },
   {
    "duration": 21,
    "start_time": "2023-03-31T12:36:51.285Z"
   },
   {
    "duration": 11,
    "start_time": "2023-03-31T12:36:51.311Z"
   },
   {
    "duration": 265,
    "start_time": "2023-03-31T12:36:51.324Z"
   },
   {
    "duration": 5,
    "start_time": "2023-03-31T12:36:51.591Z"
   },
   {
    "duration": 76,
    "start_time": "2023-03-31T12:36:51.598Z"
   },
   {
    "duration": 379,
    "start_time": "2023-03-31T12:36:51.675Z"
   },
   {
    "duration": 303,
    "start_time": "2023-03-31T12:36:54.533Z"
   },
   {
    "duration": 432,
    "start_time": "2023-03-31T12:36:54.838Z"
   },
   {
    "duration": 2528,
    "start_time": "2023-03-31T12:36:55.272Z"
   },
   {
    "duration": 381,
    "start_time": "2023-03-31T12:36:57.802Z"
   },
   {
    "duration": 1557,
    "start_time": "2023-03-31T12:37:31.081Z"
   },
   {
    "duration": 703,
    "start_time": "2023-03-31T12:37:32.641Z"
   },
   {
    "duration": 3,
    "start_time": "2023-03-31T12:37:33.347Z"
   },
   {
    "duration": 425,
    "start_time": "2023-03-31T12:37:33.353Z"
   },
   {
    "duration": 262,
    "start_time": "2023-03-31T12:37:33.779Z"
   },
   {
    "duration": 445,
    "start_time": "2023-03-31T12:37:34.043Z"
   },
   {
    "duration": 3,
    "start_time": "2023-03-31T12:37:34.503Z"
   },
   {
    "duration": 39,
    "start_time": "2023-03-31T12:37:34.512Z"
   },
   {
    "duration": 10,
    "start_time": "2023-03-31T12:37:34.554Z"
   },
   {
    "duration": 17,
    "start_time": "2023-03-31T12:37:34.566Z"
   },
   {
    "duration": 16,
    "start_time": "2023-03-31T12:37:34.586Z"
   },
   {
    "duration": 37,
    "start_time": "2023-03-31T12:37:34.606Z"
   },
   {
    "duration": 4,
    "start_time": "2023-03-31T12:37:34.773Z"
   },
   {
    "duration": 13,
    "start_time": "2023-03-31T12:37:35.013Z"
   },
   {
    "duration": 4,
    "start_time": "2023-03-31T12:37:35.183Z"
   },
   {
    "duration": 11,
    "start_time": "2023-03-31T12:37:37.528Z"
   },
   {
    "duration": 8,
    "start_time": "2023-03-31T12:37:37.693Z"
   },
   {
    "duration": 9,
    "start_time": "2023-03-31T12:37:37.944Z"
   },
   {
    "duration": 5,
    "start_time": "2023-03-31T12:37:39.019Z"
   },
   {
    "duration": 5,
    "start_time": "2023-03-31T12:37:39.178Z"
   },
   {
    "duration": 4,
    "start_time": "2023-03-31T12:37:39.348Z"
   },
   {
    "duration": 61830,
    "start_time": "2023-03-31T12:37:39.549Z"
   },
   {
    "duration": 7,
    "start_time": "2023-03-31T12:38:41.381Z"
   },
   {
    "duration": 24,
    "start_time": "2023-03-31T12:38:41.390Z"
   },
   {
    "duration": 8,
    "start_time": "2023-03-31T12:38:41.419Z"
   },
   {
    "duration": 245,
    "start_time": "2023-03-31T12:38:45.546Z"
   },
   {
    "duration": 5,
    "start_time": "2023-03-31T12:38:46.164Z"
   },
   {
    "duration": 62,
    "start_time": "2023-03-31T12:38:46.810Z"
   },
   {
    "duration": 339,
    "start_time": "2023-03-31T12:38:47.021Z"
   },
   {
    "duration": 302,
    "start_time": "2023-03-31T12:38:47.363Z"
   },
   {
    "duration": 407,
    "start_time": "2023-03-31T12:38:47.693Z"
   },
   {
    "duration": 2230,
    "start_time": "2023-03-31T12:38:49.120Z"
   },
   {
    "duration": 246,
    "start_time": "2023-03-31T12:38:52.821Z"
   },
   {
    "duration": 1656,
    "start_time": "2023-03-31T12:40:02.491Z"
   },
   {
    "duration": 700,
    "start_time": "2023-03-31T12:40:04.149Z"
   },
   {
    "duration": 3,
    "start_time": "2023-03-31T12:40:04.851Z"
   },
   {
    "duration": 421,
    "start_time": "2023-03-31T12:40:04.856Z"
   },
   {
    "duration": 259,
    "start_time": "2023-03-31T12:40:05.278Z"
   },
   {
    "duration": 416,
    "start_time": "2023-03-31T12:40:05.539Z"
   },
   {
    "duration": 3,
    "start_time": "2023-03-31T12:40:05.957Z"
   },
   {
    "duration": 11,
    "start_time": "2023-03-31T12:40:06.130Z"
   },
   {
    "duration": 7,
    "start_time": "2023-03-31T12:40:06.846Z"
   },
   {
    "duration": 4,
    "start_time": "2023-03-31T12:40:08.053Z"
   },
   {
    "duration": 4,
    "start_time": "2023-03-31T12:40:08.616Z"
   },
   {
    "duration": 6,
    "start_time": "2023-03-31T12:40:09.579Z"
   },
   {
    "duration": 7,
    "start_time": "2023-03-31T12:40:11.501Z"
   },
   {
    "duration": 6,
    "start_time": "2023-03-31T12:40:14.043Z"
   },
   {
    "duration": 10,
    "start_time": "2023-03-31T12:40:17.022Z"
   },
   {
    "duration": 12,
    "start_time": "2023-03-31T12:40:17.197Z"
   },
   {
    "duration": 10,
    "start_time": "2023-03-31T12:40:17.413Z"
   },
   {
    "duration": 3,
    "start_time": "2023-03-31T12:40:19.372Z"
   },
   {
    "duration": 5,
    "start_time": "2023-03-31T12:40:19.526Z"
   },
   {
    "duration": 242,
    "start_time": "2023-03-31T12:40:26.928Z"
   },
   {
    "duration": 6,
    "start_time": "2023-03-31T12:40:30.556Z"
   },
   {
    "duration": 88,
    "start_time": "2023-03-31T12:40:32.241Z"
   },
   {
    "duration": 304,
    "start_time": "2023-03-31T12:40:32.421Z"
   },
   {
    "duration": 309,
    "start_time": "2023-03-31T12:40:33.416Z"
   },
   {
    "duration": 426,
    "start_time": "2023-03-31T12:40:33.727Z"
   },
   {
    "duration": 2614,
    "start_time": "2023-03-31T12:40:34.863Z"
   },
   {
    "duration": 254,
    "start_time": "2023-03-31T12:40:39.058Z"
   },
   {
    "duration": 1501,
    "start_time": "2023-03-31T12:40:50.942Z"
   },
   {
    "duration": 704,
    "start_time": "2023-03-31T12:40:52.445Z"
   },
   {
    "duration": 3,
    "start_time": "2023-03-31T12:40:53.151Z"
   },
   {
    "duration": 415,
    "start_time": "2023-03-31T12:40:53.156Z"
   },
   {
    "duration": 258,
    "start_time": "2023-03-31T12:40:53.573Z"
   },
   {
    "duration": 415,
    "start_time": "2023-03-31T12:40:53.833Z"
   },
   {
    "duration": 3,
    "start_time": "2023-03-31T12:40:54.250Z"
   },
   {
    "duration": 13,
    "start_time": "2023-03-31T12:40:54.254Z"
   },
   {
    "duration": 9,
    "start_time": "2023-03-31T12:40:54.269Z"
   },
   {
    "duration": 28,
    "start_time": "2023-03-31T12:40:54.280Z"
   },
   {
    "duration": 5,
    "start_time": "2023-03-31T12:40:54.318Z"
   },
   {
    "duration": 5,
    "start_time": "2023-03-31T12:40:54.821Z"
   },
   {
    "duration": 8,
    "start_time": "2023-03-31T12:40:55.301Z"
   },
   {
    "duration": 4,
    "start_time": "2023-03-31T12:40:59.293Z"
   },
   {
    "duration": 8,
    "start_time": "2023-03-31T12:40:59.971Z"
   },
   {
    "duration": 6,
    "start_time": "2023-03-31T12:41:00.132Z"
   },
   {
    "duration": 8,
    "start_time": "2023-03-31T12:41:00.321Z"
   },
   {
    "duration": 8,
    "start_time": "2023-03-31T12:41:04.093Z"
   },
   {
    "duration": 6,
    "start_time": "2023-03-31T12:41:04.236Z"
   },
   {
    "duration": 8,
    "start_time": "2023-03-31T12:41:04.452Z"
   },
   {
    "duration": 251,
    "start_time": "2023-03-31T12:41:05.095Z"
   },
   {
    "duration": 5,
    "start_time": "2023-03-31T12:41:07.744Z"
   },
   {
    "duration": 65,
    "start_time": "2023-03-31T12:41:09.023Z"
   },
   {
    "duration": 305,
    "start_time": "2023-03-31T12:41:10.040Z"
   },
   {
    "duration": 337,
    "start_time": "2023-03-31T12:41:10.891Z"
   },
   {
    "duration": 396,
    "start_time": "2023-03-31T12:41:12.297Z"
   },
   {
    "duration": 262,
    "start_time": "2023-03-31T12:41:15.219Z"
   },
   {
    "duration": 1461,
    "start_time": "2023-03-31T12:44:13.430Z"
   },
   {
    "duration": 731,
    "start_time": "2023-03-31T12:44:14.894Z"
   },
   {
    "duration": 4,
    "start_time": "2023-03-31T12:44:15.627Z"
   },
   {
    "duration": 422,
    "start_time": "2023-03-31T12:44:15.633Z"
   },
   {
    "duration": 256,
    "start_time": "2023-03-31T12:44:16.057Z"
   },
   {
    "duration": 440,
    "start_time": "2023-03-31T12:44:16.319Z"
   },
   {
    "duration": 3,
    "start_time": "2023-03-31T12:44:16.761Z"
   },
   {
    "duration": 37,
    "start_time": "2023-03-31T12:44:16.767Z"
   },
   {
    "duration": 10,
    "start_time": "2023-03-31T12:44:16.833Z"
   },
   {
    "duration": 5,
    "start_time": "2023-03-31T12:44:17.290Z"
   },
   {
    "duration": 5,
    "start_time": "2023-03-31T12:44:19.586Z"
   },
   {
    "duration": 5,
    "start_time": "2023-03-31T12:44:21.720Z"
   },
   {
    "duration": 4,
    "start_time": "2023-03-31T12:44:24.462Z"
   },
   {
    "duration": 8,
    "start_time": "2023-03-31T12:44:28.223Z"
   },
   {
    "duration": 4,
    "start_time": "2023-03-31T12:44:30.761Z"
   },
   {
    "duration": 10,
    "start_time": "2023-03-31T12:44:33.254Z"
   },
   {
    "duration": 8,
    "start_time": "2023-03-31T12:44:33.493Z"
   },
   {
    "duration": 8,
    "start_time": "2023-03-31T12:44:33.666Z"
   },
   {
    "duration": 7,
    "start_time": "2023-03-31T12:44:36.586Z"
   },
   {
    "duration": 6,
    "start_time": "2023-03-31T12:44:36.727Z"
   },
   {
    "duration": 9,
    "start_time": "2023-03-31T12:44:36.944Z"
   },
   {
    "duration": 243,
    "start_time": "2023-03-31T12:44:38.450Z"
   },
   {
    "duration": 6,
    "start_time": "2023-03-31T12:44:40.616Z"
   },
   {
    "duration": 87,
    "start_time": "2023-03-31T12:44:44.381Z"
   },
   {
    "duration": 308,
    "start_time": "2023-03-31T12:44:45.532Z"
   },
   {
    "duration": 307,
    "start_time": "2023-03-31T12:44:47.217Z"
   },
   {
    "duration": 406,
    "start_time": "2023-03-31T12:44:48.216Z"
   },
   {
    "duration": 254,
    "start_time": "2023-03-31T12:44:53.420Z"
   },
   {
    "duration": 1107,
    "start_time": "2023-03-31T12:44:57.214Z"
   },
   {
    "duration": 262,
    "start_time": "2023-03-31T12:44:59.560Z"
   },
   {
    "duration": 14,
    "start_time": "2023-03-31T12:45:32.495Z"
   },
   {
    "duration": 8,
    "start_time": "2023-03-31T12:45:33.249Z"
   },
   {
    "duration": 10,
    "start_time": "2023-03-31T12:45:35.051Z"
   },
   {
    "duration": 238281,
    "start_time": "2023-03-31T12:45:38.544Z"
   },
   {
    "duration": 1807,
    "start_time": "2023-03-31T15:05:32.974Z"
   },
   {
    "duration": 2450,
    "start_time": "2023-03-31T15:05:34.783Z"
   },
   {
    "duration": 5,
    "start_time": "2023-03-31T15:05:37.235Z"
   },
   {
    "duration": 520,
    "start_time": "2023-03-31T15:05:37.243Z"
   },
   {
    "duration": 296,
    "start_time": "2023-03-31T15:05:38.058Z"
   },
   {
    "duration": 430,
    "start_time": "2023-03-31T15:05:38.992Z"
   },
   {
    "duration": 3,
    "start_time": "2023-03-31T15:05:39.433Z"
   },
   {
    "duration": 15,
    "start_time": "2023-03-31T15:05:39.668Z"
   },
   {
    "duration": 9,
    "start_time": "2023-03-31T15:05:40.733Z"
   },
   {
    "duration": 4,
    "start_time": "2023-03-31T15:05:48.173Z"
   },
   {
    "duration": 6,
    "start_time": "2023-03-31T15:05:51.289Z"
   },
   {
    "duration": 7,
    "start_time": "2023-03-31T15:05:53.465Z"
   },
   {
    "duration": 4,
    "start_time": "2023-03-31T15:06:04.721Z"
   },
   {
    "duration": 7,
    "start_time": "2023-03-31T15:06:05.333Z"
   },
   {
    "duration": 4,
    "start_time": "2023-03-31T15:06:06.435Z"
   },
   {
    "duration": 7,
    "start_time": "2023-03-31T15:06:09.746Z"
   },
   {
    "duration": 6,
    "start_time": "2023-03-31T15:06:09.939Z"
   },
   {
    "duration": 8,
    "start_time": "2023-03-31T15:06:10.187Z"
   },
   {
    "duration": 8,
    "start_time": "2023-03-31T15:06:13.179Z"
   },
   {
    "duration": 7,
    "start_time": "2023-03-31T15:06:13.373Z"
   },
   {
    "duration": 9,
    "start_time": "2023-03-31T15:06:13.551Z"
   },
   {
    "duration": 252,
    "start_time": "2023-03-31T15:06:17.843Z"
   },
   {
    "duration": 12,
    "start_time": "2023-03-31T15:06:22.999Z"
   },
   {
    "duration": 70,
    "start_time": "2023-03-31T15:06:25.585Z"
   },
   {
    "duration": 308,
    "start_time": "2023-03-31T15:06:26.033Z"
   },
   {
    "duration": 306,
    "start_time": "2023-03-31T15:06:27.768Z"
   },
   {
    "duration": 402,
    "start_time": "2023-03-31T15:06:28.427Z"
   },
   {
    "duration": 251,
    "start_time": "2023-03-31T15:06:33.145Z"
   },
   {
    "duration": 19,
    "start_time": "2023-03-31T15:07:03.360Z"
   },
   {
    "duration": 304,
    "start_time": "2023-03-31T15:07:07.450Z"
   },
   {
    "duration": 306,
    "start_time": "2023-03-31T15:07:13.165Z"
   },
   {
    "duration": 364,
    "start_time": "2023-03-31T15:07:15.556Z"
   },
   {
    "duration": 346,
    "start_time": "2023-03-31T15:07:27.129Z"
   },
   {
    "duration": 213130,
    "start_time": "2023-03-31T15:08:34.020Z"
   },
   {
    "duration": 0,
    "start_time": "2023-03-31T15:12:07.152Z"
   },
   {
    "duration": 1558,
    "start_time": "2023-03-31T15:13:25.980Z"
   },
   {
    "duration": 844,
    "start_time": "2023-03-31T15:13:27.541Z"
   },
   {
    "duration": 4,
    "start_time": "2023-03-31T15:13:29.922Z"
   },
   {
    "duration": 1575,
    "start_time": "2023-03-31T15:14:02.388Z"
   },
   {
    "duration": 749,
    "start_time": "2023-03-31T15:14:03.965Z"
   },
   {
    "duration": 8,
    "start_time": "2023-03-31T15:14:04.719Z"
   },
   {
    "duration": 441,
    "start_time": "2023-03-31T15:14:05.439Z"
   },
   {
    "duration": 263,
    "start_time": "2023-03-31T15:14:05.882Z"
   },
   {
    "duration": 476,
    "start_time": "2023-03-31T15:14:06.147Z"
   },
   {
    "duration": 5,
    "start_time": "2023-03-31T15:14:06.624Z"
   },
   {
    "duration": 12,
    "start_time": "2023-03-31T15:14:06.642Z"
   },
   {
    "duration": 9,
    "start_time": "2023-03-31T15:14:06.977Z"
   },
   {
    "duration": 5,
    "start_time": "2023-03-31T15:14:07.340Z"
   },
   {
    "duration": 5,
    "start_time": "2023-03-31T15:14:07.955Z"
   },
   {
    "duration": 6,
    "start_time": "2023-03-31T15:14:08.933Z"
   },
   {
    "duration": 4,
    "start_time": "2023-03-31T15:14:09.663Z"
   },
   {
    "duration": 9,
    "start_time": "2023-03-31T15:14:09.919Z"
   },
   {
    "duration": 5,
    "start_time": "2023-03-31T15:14:10.245Z"
   },
   {
    "duration": 11,
    "start_time": "2023-03-31T15:14:11.894Z"
   },
   {
    "duration": 10,
    "start_time": "2023-03-31T15:14:12.094Z"
   },
   {
    "duration": 9,
    "start_time": "2023-03-31T15:14:12.279Z"
   },
   {
    "duration": 37259,
    "start_time": "2023-03-31T15:14:14.549Z"
   },
   {
    "duration": 10,
    "start_time": "2023-03-31T15:14:56.788Z"
   },
   {
    "duration": 8,
    "start_time": "2023-03-31T15:14:57.019Z"
   },
   {
    "duration": 11,
    "start_time": "2023-03-31T15:14:57.587Z"
   },
   {
    "duration": 249,
    "start_time": "2023-03-31T15:15:00.628Z"
   },
   {
    "duration": 6,
    "start_time": "2023-03-31T15:15:01.745Z"
   },
   {
    "duration": 71,
    "start_time": "2023-03-31T15:15:04.211Z"
   },
   {
    "duration": 336,
    "start_time": "2023-03-31T15:15:04.491Z"
   },
   {
    "duration": 352,
    "start_time": "2023-03-31T15:15:05.030Z"
   },
   {
    "duration": 424,
    "start_time": "2023-03-31T15:15:06.372Z"
   },
   {
    "duration": 18,
    "start_time": "2023-03-31T15:15:10.130Z"
   },
   {
    "duration": 296,
    "start_time": "2023-03-31T15:15:12.623Z"
   },
   {
    "duration": 347,
    "start_time": "2023-03-31T15:16:09.133Z"
   },
   {
    "duration": 1520,
    "start_time": "2023-03-31T15:17:04.666Z"
   },
   {
    "duration": 768,
    "start_time": "2023-03-31T15:17:06.188Z"
   },
   {
    "duration": 4,
    "start_time": "2023-03-31T15:17:06.958Z"
   },
   {
    "duration": 439,
    "start_time": "2023-03-31T15:17:06.965Z"
   },
   {
    "duration": 269,
    "start_time": "2023-03-31T15:17:07.406Z"
   },
   {
    "duration": 474,
    "start_time": "2023-03-31T15:17:07.678Z"
   },
   {
    "duration": 3,
    "start_time": "2023-03-31T15:17:08.154Z"
   },
   {
    "duration": 13,
    "start_time": "2023-03-31T15:17:08.159Z"
   },
   {
    "duration": 8,
    "start_time": "2023-03-31T15:17:08.469Z"
   },
   {
    "duration": 4,
    "start_time": "2023-03-31T15:17:08.832Z"
   },
   {
    "duration": 9,
    "start_time": "2023-03-31T15:17:09.626Z"
   },
   {
    "duration": 6,
    "start_time": "2023-03-31T15:17:09.977Z"
   },
   {
    "duration": 4,
    "start_time": "2023-03-31T15:17:10.568Z"
   },
   {
    "duration": 8,
    "start_time": "2023-03-31T15:17:11.075Z"
   },
   {
    "duration": 4,
    "start_time": "2023-03-31T15:17:11.740Z"
   },
   {
    "duration": 9,
    "start_time": "2023-03-31T15:17:12.658Z"
   },
   {
    "duration": 9,
    "start_time": "2023-03-31T15:17:12.830Z"
   },
   {
    "duration": 11,
    "start_time": "2023-03-31T15:17:13.022Z"
   },
   {
    "duration": 37291,
    "start_time": "2023-03-31T15:17:14.140Z"
   },
   {
    "duration": 9,
    "start_time": "2023-03-31T15:17:54.762Z"
   },
   {
    "duration": 7,
    "start_time": "2023-03-31T15:17:54.957Z"
   },
   {
    "duration": 11,
    "start_time": "2023-03-31T15:17:56.181Z"
   },
   {
    "duration": 265,
    "start_time": "2023-03-31T15:17:58.492Z"
   },
   {
    "duration": 6,
    "start_time": "2023-03-31T15:18:00.330Z"
   },
   {
    "duration": 334,
    "start_time": "2023-03-31T15:18:02.730Z"
   },
   {
    "duration": 370,
    "start_time": "2023-03-31T15:19:18.561Z"
   },
   {
    "duration": 14,
    "start_time": "2023-03-31T15:19:59.757Z"
   },
   {
    "duration": 331,
    "start_time": "2023-03-31T15:20:02.964Z"
   },
   {
    "duration": 507,
    "start_time": "2023-03-31T15:20:07.475Z"
   },
   {
    "duration": 359,
    "start_time": "2023-03-31T15:20:08.596Z"
   },
   {
    "duration": 387,
    "start_time": "2023-03-31T15:20:18.287Z"
   },
   {
    "duration": 13,
    "start_time": "2023-03-31T15:25:16.640Z"
   },
   {
    "duration": 310,
    "start_time": "2023-03-31T15:25:17.804Z"
   },
   {
    "duration": 313,
    "start_time": "2023-03-31T15:25:19.531Z"
   },
   {
    "duration": 328,
    "start_time": "2023-03-31T15:25:19.939Z"
   },
   {
    "duration": 404,
    "start_time": "2023-03-31T15:25:21.962Z"
   },
   {
    "duration": 66,
    "start_time": "2023-03-31T15:25:47.598Z"
   },
   {
    "duration": 125,
    "start_time": "2023-03-31T15:30:00.114Z"
   },
   {
    "duration": 6,
    "start_time": "2023-03-31T15:30:04.151Z"
   },
   {
    "duration": 230,
    "start_time": "2023-03-31T15:30:04.797Z"
   },
   {
    "duration": 197,
    "start_time": "2023-03-31T15:30:29.448Z"
   },
   {
    "duration": 200,
    "start_time": "2023-03-31T15:30:44.752Z"
   },
   {
    "duration": 301,
    "start_time": "2023-03-31T15:32:17.628Z"
   },
   {
    "duration": 307,
    "start_time": "2023-03-31T15:33:29.757Z"
   },
   {
    "duration": 397,
    "start_time": "2023-03-31T15:33:44.379Z"
   },
   {
    "duration": 574,
    "start_time": "2023-03-31T15:34:19.660Z"
   },
   {
    "duration": 633,
    "start_time": "2023-03-31T15:34:30.471Z"
   },
   {
    "duration": 11,
    "start_time": "2023-03-31T15:39:38.130Z"
   },
   {
    "duration": 205,
    "start_time": "2023-03-31T15:41:46.050Z"
   },
   {
    "duration": 15,
    "start_time": "2023-03-31T15:42:04.469Z"
   },
   {
    "duration": 19,
    "start_time": "2023-03-31T15:42:13.306Z"
   },
   {
    "duration": 252,
    "start_time": "2023-03-31T15:42:51.588Z"
   },
   {
    "duration": 370,
    "start_time": "2023-03-31T15:43:07.447Z"
   },
   {
    "duration": 150,
    "start_time": "2023-03-31T15:44:36.827Z"
   },
   {
    "duration": 134,
    "start_time": "2023-03-31T15:44:48.322Z"
   },
   {
    "duration": 249,
    "start_time": "2023-03-31T15:45:01.951Z"
   },
   {
    "duration": 74,
    "start_time": "2023-03-31T15:45:22.671Z"
   },
   {
    "duration": 77,
    "start_time": "2023-03-31T15:45:34.145Z"
   },
   {
    "duration": 73,
    "start_time": "2023-03-31T15:45:42.742Z"
   },
   {
    "duration": 73,
    "start_time": "2023-03-31T15:45:50.994Z"
   },
   {
    "duration": 75,
    "start_time": "2023-03-31T15:45:55.768Z"
   },
   {
    "duration": 429,
    "start_time": "2023-03-31T15:47:30.207Z"
   },
   {
    "duration": 446,
    "start_time": "2023-03-31T15:47:43.672Z"
   },
   {
    "duration": 392,
    "start_time": "2023-03-31T15:49:45.302Z"
   },
   {
    "duration": 1499,
    "start_time": "2023-03-31T15:50:01.964Z"
   },
   {
    "duration": 719,
    "start_time": "2023-03-31T15:50:03.465Z"
   },
   {
    "duration": 3,
    "start_time": "2023-03-31T15:50:04.186Z"
   },
   {
    "duration": 401,
    "start_time": "2023-03-31T15:50:04.642Z"
   },
   {
    "duration": 269,
    "start_time": "2023-03-31T15:50:05.046Z"
   },
   {
    "duration": 412,
    "start_time": "2023-03-31T15:50:05.316Z"
   },
   {
    "duration": 4,
    "start_time": "2023-03-31T15:50:05.730Z"
   },
   {
    "duration": 41,
    "start_time": "2023-03-31T15:50:05.736Z"
   },
   {
    "duration": 7,
    "start_time": "2023-03-31T15:50:05.955Z"
   },
   {
    "duration": 4,
    "start_time": "2023-03-31T15:50:06.288Z"
   },
   {
    "duration": 4,
    "start_time": "2023-03-31T15:50:06.808Z"
   },
   {
    "duration": 5,
    "start_time": "2023-03-31T15:50:07.159Z"
   },
   {
    "duration": 4,
    "start_time": "2023-03-31T15:50:07.758Z"
   },
   {
    "duration": 9,
    "start_time": "2023-03-31T15:50:07.934Z"
   },
   {
    "duration": 6,
    "start_time": "2023-03-31T15:50:08.144Z"
   },
   {
    "duration": 8,
    "start_time": "2023-03-31T15:50:08.951Z"
   },
   {
    "duration": 7,
    "start_time": "2023-03-31T15:50:09.144Z"
   },
   {
    "duration": 8,
    "start_time": "2023-03-31T15:50:09.316Z"
   },
   {
    "duration": 35802,
    "start_time": "2023-03-31T15:50:10.604Z"
   },
   {
    "duration": 8,
    "start_time": "2023-03-31T15:50:46.409Z"
   },
   {
    "duration": 11,
    "start_time": "2023-03-31T15:50:46.419Z"
   },
   {
    "duration": 9,
    "start_time": "2023-03-31T15:50:46.432Z"
   },
   {
    "duration": 281,
    "start_time": "2023-03-31T15:50:58.483Z"
   },
   {
    "duration": 6,
    "start_time": "2023-03-31T15:50:59.346Z"
   },
   {
    "duration": 335,
    "start_time": "2023-03-31T15:51:00.261Z"
   },
   {
    "duration": 13,
    "start_time": "2023-03-31T15:51:00.799Z"
   },
   {
    "duration": 393,
    "start_time": "2023-03-31T15:51:01.006Z"
   },
   {
    "duration": 415,
    "start_time": "2023-03-31T15:51:01.468Z"
   },
   {
    "duration": 366,
    "start_time": "2023-03-31T15:51:01.886Z"
   },
   {
    "duration": 469,
    "start_time": "2023-03-31T15:51:03.140Z"
   },
   {
    "duration": 7,
    "start_time": "2023-03-31T15:51:06.480Z"
   },
   {
    "duration": 411,
    "start_time": "2023-03-31T15:51:07.218Z"
   },
   {
    "duration": 1417,
    "start_time": "2023-03-31T15:59:18.542Z"
   },
   {
    "duration": 703,
    "start_time": "2023-03-31T15:59:19.961Z"
   },
   {
    "duration": 3,
    "start_time": "2023-03-31T15:59:20.666Z"
   },
   {
    "duration": 417,
    "start_time": "2023-03-31T15:59:20.671Z"
   },
   {
    "duration": 246,
    "start_time": "2023-03-31T15:59:21.090Z"
   },
   {
    "duration": 415,
    "start_time": "2023-03-31T15:59:21.338Z"
   },
   {
    "duration": 4,
    "start_time": "2023-03-31T16:00:07.525Z"
   },
   {
    "duration": 11,
    "start_time": "2023-03-31T16:00:07.742Z"
   },
   {
    "duration": 7,
    "start_time": "2023-03-31T16:00:08.433Z"
   },
   {
    "duration": 4,
    "start_time": "2023-03-31T16:00:09.038Z"
   },
   {
    "duration": 6,
    "start_time": "2023-03-31T16:00:09.737Z"
   },
   {
    "duration": 4,
    "start_time": "2023-03-31T16:00:10.133Z"
   },
   {
    "duration": 4,
    "start_time": "2023-03-31T16:00:11.056Z"
   },
   {
    "duration": 7,
    "start_time": "2023-03-31T16:00:11.259Z"
   },
   {
    "duration": 4,
    "start_time": "2023-03-31T16:00:11.452Z"
   },
   {
    "duration": 10,
    "start_time": "2023-03-31T16:00:12.361Z"
   },
   {
    "duration": 8,
    "start_time": "2023-03-31T16:00:12.580Z"
   },
   {
    "duration": 9,
    "start_time": "2023-03-31T16:00:12.773Z"
   },
   {
    "duration": 34791,
    "start_time": "2023-03-31T16:00:13.427Z"
   },
   {
    "duration": 7,
    "start_time": "2023-03-31T16:00:48.220Z"
   },
   {
    "duration": 7,
    "start_time": "2023-03-31T16:00:48.229Z"
   },
   {
    "duration": 17,
    "start_time": "2023-03-31T16:00:48.238Z"
   },
   {
    "duration": 225,
    "start_time": "2023-03-31T16:00:50.532Z"
   },
   {
    "duration": 5,
    "start_time": "2023-03-31T16:00:52.108Z"
   },
   {
    "duration": 298,
    "start_time": "2023-03-31T16:01:01.126Z"
   },
   {
    "duration": 17,
    "start_time": "2023-03-31T16:01:01.833Z"
   },
   {
    "duration": 310,
    "start_time": "2023-03-31T16:01:02.393Z"
   },
   {
    "duration": 393,
    "start_time": "2023-03-31T16:01:02.705Z"
   },
   {
    "duration": 328,
    "start_time": "2023-03-31T16:01:03.104Z"
   },
   {
    "duration": 459,
    "start_time": "2023-03-31T16:01:04.829Z"
   },
   {
    "duration": 6,
    "start_time": "2023-03-31T16:01:10.252Z"
   },
   {
    "duration": 377,
    "start_time": "2023-03-31T16:01:11.191Z"
   },
   {
    "duration": 537,
    "start_time": "2023-03-31T16:01:52.840Z"
   },
   {
    "duration": 447,
    "start_time": "2023-03-31T16:02:03.496Z"
   },
   {
    "duration": 416,
    "start_time": "2023-03-31T16:02:11.121Z"
   },
   {
    "duration": 558,
    "start_time": "2023-03-31T16:02:26.911Z"
   },
   {
    "duration": 486,
    "start_time": "2023-03-31T16:02:36.099Z"
   },
   {
    "duration": 303,
    "start_time": "2023-03-31T16:02:45.309Z"
   },
   {
    "duration": 699,
    "start_time": "2023-03-31T16:02:55.650Z"
   },
   {
    "duration": 7,
    "start_time": "2023-04-02T07:22:55.430Z"
   },
   {
    "duration": 1825,
    "start_time": "2023-04-02T07:23:04.963Z"
   },
   {
    "duration": 2774,
    "start_time": "2023-04-02T07:23:06.791Z"
   },
   {
    "duration": 3,
    "start_time": "2023-04-02T07:23:09.567Z"
   },
   {
    "duration": 449,
    "start_time": "2023-04-02T07:23:09.573Z"
   },
   {
    "duration": 274,
    "start_time": "2023-04-02T07:23:10.024Z"
   },
   {
    "duration": 434,
    "start_time": "2023-04-02T07:23:10.773Z"
   },
   {
    "duration": 3,
    "start_time": "2023-04-02T07:23:11.209Z"
   },
   {
    "duration": 13,
    "start_time": "2023-04-02T07:23:11.309Z"
   },
   {
    "duration": 8,
    "start_time": "2023-04-02T07:23:11.836Z"
   },
   {
    "duration": 4,
    "start_time": "2023-04-02T07:23:12.174Z"
   },
   {
    "duration": 10,
    "start_time": "2023-04-02T07:23:12.970Z"
   },
   {
    "duration": 5,
    "start_time": "2023-04-02T07:23:13.327Z"
   },
   {
    "duration": 5,
    "start_time": "2023-04-02T07:23:14.068Z"
   },
   {
    "duration": 7,
    "start_time": "2023-04-02T07:23:14.732Z"
   },
   {
    "duration": 4,
    "start_time": "2023-04-02T07:23:14.935Z"
   },
   {
    "duration": 7,
    "start_time": "2023-04-02T07:23:16.627Z"
   },
   {
    "duration": 12,
    "start_time": "2023-04-02T07:23:16.836Z"
   },
   {
    "duration": 8,
    "start_time": "2023-04-02T07:23:17.007Z"
   },
   {
    "duration": 35602,
    "start_time": "2023-04-02T07:23:17.567Z"
   },
   {
    "duration": 8,
    "start_time": "2023-04-02T07:23:53.171Z"
   },
   {
    "duration": 10,
    "start_time": "2023-04-02T07:23:53.181Z"
   },
   {
    "duration": 22,
    "start_time": "2023-04-02T07:23:53.193Z"
   },
   {
    "duration": 258,
    "start_time": "2023-04-02T07:24:00.423Z"
   },
   {
    "duration": 5,
    "start_time": "2023-04-02T07:24:01.113Z"
   },
   {
    "duration": 302,
    "start_time": "2023-04-02T07:24:01.746Z"
   },
   {
    "duration": 16,
    "start_time": "2023-04-02T07:24:04.861Z"
   },
   {
    "duration": 377,
    "start_time": "2023-04-02T07:24:05.131Z"
   },
   {
    "duration": 381,
    "start_time": "2023-04-02T07:24:05.866Z"
   },
   {
    "duration": 296,
    "start_time": "2023-04-02T07:24:06.919Z"
   },
   {
    "duration": 792,
    "start_time": "2023-04-02T07:24:08.865Z"
   },
   {
    "duration": 9,
    "start_time": "2023-04-02T07:24:13.436Z"
   },
   {
    "duration": 442,
    "start_time": "2023-04-02T07:24:13.660Z"
   },
   {
    "duration": 3,
    "start_time": "2023-04-02T07:24:17.568Z"
   },
   {
    "duration": 131,
    "start_time": "2023-04-02T07:35:44.167Z"
   },
   {
    "duration": 3,
    "start_time": "2023-04-02T07:36:07.087Z"
   },
   {
    "duration": 8,
    "start_time": "2023-04-03T17:01:21.915Z"
   },
   {
    "duration": 1814,
    "start_time": "2023-04-03T17:01:30.024Z"
   },
   {
    "duration": 1988,
    "start_time": "2023-04-03T17:01:31.840Z"
   },
   {
    "duration": 3,
    "start_time": "2023-04-03T17:01:33.830Z"
   },
   {
    "duration": 382,
    "start_time": "2023-04-03T17:01:33.835Z"
   },
   {
    "duration": 229,
    "start_time": "2023-04-03T17:01:34.220Z"
   },
   {
    "duration": 415,
    "start_time": "2023-04-03T17:01:34.451Z"
   },
   {
    "duration": 4,
    "start_time": "2023-04-03T17:01:34.868Z"
   },
   {
    "duration": 11,
    "start_time": "2023-04-03T17:01:35.007Z"
   },
   {
    "duration": 7,
    "start_time": "2023-04-03T17:01:35.361Z"
   },
   {
    "duration": 4,
    "start_time": "2023-04-03T17:01:35.704Z"
   },
   {
    "duration": 4,
    "start_time": "2023-04-03T17:01:36.274Z"
   },
   {
    "duration": 5,
    "start_time": "2023-04-03T17:01:36.620Z"
   },
   {
    "duration": 3,
    "start_time": "2023-04-03T17:01:37.234Z"
   },
   {
    "duration": 8,
    "start_time": "2023-04-03T17:01:37.402Z"
   },
   {
    "duration": 7,
    "start_time": "2023-04-03T17:01:37.998Z"
   },
   {
    "duration": 9,
    "start_time": "2023-04-03T17:01:38.409Z"
   },
   {
    "duration": 6,
    "start_time": "2023-04-03T17:01:38.618Z"
   },
   {
    "duration": 8,
    "start_time": "2023-04-03T17:01:38.867Z"
   },
   {
    "duration": 31259,
    "start_time": "2023-04-03T17:01:39.472Z"
   },
   {
    "duration": 8,
    "start_time": "2023-04-03T17:02:10.733Z"
   },
   {
    "duration": 13,
    "start_time": "2023-04-03T17:02:10.742Z"
   },
   {
    "duration": 43,
    "start_time": "2023-04-03T17:02:10.757Z"
   },
   {
    "duration": 226,
    "start_time": "2023-04-03T17:02:12.158Z"
   },
   {
    "duration": 5,
    "start_time": "2023-04-03T17:02:12.803Z"
   },
   {
    "duration": 294,
    "start_time": "2023-04-03T17:02:13.448Z"
   },
   {
    "duration": 13,
    "start_time": "2023-04-03T17:02:14.428Z"
   },
   {
    "duration": 293,
    "start_time": "2023-04-03T17:02:14.644Z"
   },
   {
    "duration": 390,
    "start_time": "2023-04-03T17:02:14.939Z"
   },
   {
    "duration": 297,
    "start_time": "2023-04-03T17:02:15.332Z"
   },
   {
    "duration": 683,
    "start_time": "2023-04-03T17:02:16.415Z"
   },
   {
    "duration": 7,
    "start_time": "2023-04-03T17:02:18.198Z"
   },
   {
    "duration": 403,
    "start_time": "2023-04-03T17:02:18.827Z"
   },
   {
    "duration": 2,
    "start_time": "2023-04-03T17:02:20.859Z"
   },
   {
    "duration": 3,
    "start_time": "2023-04-03T17:02:21.877Z"
   },
   {
    "duration": 4,
    "start_time": "2023-04-03T17:02:22.401Z"
   },
   {
    "duration": 131,
    "start_time": "2023-04-03T17:03:17.611Z"
   },
   {
    "duration": 4,
    "start_time": "2023-04-03T17:03:47.143Z"
   },
   {
    "duration": 3,
    "start_time": "2023-04-03T17:03:52.536Z"
   },
   {
    "duration": 9,
    "start_time": "2023-04-03T17:03:53.304Z"
   },
   {
    "duration": 4,
    "start_time": "2023-04-03T17:04:53.339Z"
   },
   {
    "duration": 9,
    "start_time": "2023-04-03T17:05:11.648Z"
   },
   {
    "duration": 6,
    "start_time": "2023-04-03T17:05:37.875Z"
   },
   {
    "duration": 422,
    "start_time": "2023-04-03T17:05:42.127Z"
   },
   {
    "duration": 109,
    "start_time": "2023-04-03T17:07:13.652Z"
   },
   {
    "duration": 18,
    "start_time": "2023-04-03T17:07:31.017Z"
   },
   {
    "duration": 3902,
    "start_time": "2023-04-03T17:09:22.939Z"
   },
   {
    "duration": 4411,
    "start_time": "2023-04-03T17:09:49.605Z"
   },
   {
    "duration": 170849,
    "start_time": "2023-04-03T17:10:21.066Z"
   },
   {
    "duration": 1478,
    "start_time": "2023-04-03T17:16:08.803Z"
   },
   {
    "duration": 766,
    "start_time": "2023-04-03T17:16:10.283Z"
   },
   {
    "duration": 4,
    "start_time": "2023-04-03T17:16:11.050Z"
   },
   {
    "duration": 389,
    "start_time": "2023-04-03T17:16:11.055Z"
   },
   {
    "duration": 212,
    "start_time": "2023-04-03T17:16:11.704Z"
   },
   {
    "duration": 422,
    "start_time": "2023-04-03T17:16:11.918Z"
   },
   {
    "duration": 3,
    "start_time": "2023-04-03T17:16:12.358Z"
   },
   {
    "duration": 10,
    "start_time": "2023-04-03T17:16:12.551Z"
   },
   {
    "duration": 7,
    "start_time": "2023-04-03T17:16:12.924Z"
   },
   {
    "duration": 3,
    "start_time": "2023-04-03T17:16:13.329Z"
   },
   {
    "duration": 4,
    "start_time": "2023-04-03T17:16:14.306Z"
   },
   {
    "duration": 5,
    "start_time": "2023-04-03T17:16:15.106Z"
   },
   {
    "duration": 4,
    "start_time": "2023-04-03T17:16:16.132Z"
   },
   {
    "duration": 7,
    "start_time": "2023-04-03T17:16:16.365Z"
   },
   {
    "duration": 4,
    "start_time": "2023-04-03T17:16:16.604Z"
   },
   {
    "duration": 8,
    "start_time": "2023-04-03T17:16:17.835Z"
   },
   {
    "duration": 7,
    "start_time": "2023-04-03T17:16:18.020Z"
   },
   {
    "duration": 8,
    "start_time": "2023-04-03T17:16:18.222Z"
   },
   {
    "duration": 29646,
    "start_time": "2023-04-03T17:16:19.263Z"
   },
   {
    "duration": 11,
    "start_time": "2023-04-03T17:17:05.706Z"
   },
   {
    "duration": 15506,
    "start_time": "2023-04-03T17:17:07.611Z"
   },
   {
    "duration": 7,
    "start_time": "2023-04-03T17:17:31.112Z"
   },
   {
    "duration": 6,
    "start_time": "2023-04-03T17:17:31.672Z"
   },
   {
    "duration": 8,
    "start_time": "2023-04-03T17:17:33.510Z"
   },
   {
    "duration": 246,
    "start_time": "2023-04-03T17:17:34.281Z"
   },
   {
    "duration": 5,
    "start_time": "2023-04-03T17:17:35.550Z"
   },
   {
    "duration": 303,
    "start_time": "2023-04-03T17:17:36.675Z"
   },
   {
    "duration": 13,
    "start_time": "2023-04-03T17:17:41.017Z"
   },
   {
    "duration": 299,
    "start_time": "2023-04-03T17:17:41.251Z"
   },
   {
    "duration": 379,
    "start_time": "2023-04-03T17:17:42.713Z"
   },
   {
    "duration": 296,
    "start_time": "2023-04-03T17:17:43.309Z"
   },
   {
    "duration": 700,
    "start_time": "2023-04-03T17:17:46.450Z"
   },
   {
    "duration": 6,
    "start_time": "2023-04-03T17:17:56.678Z"
   },
   {
    "duration": 360,
    "start_time": "2023-04-03T17:17:56.862Z"
   },
   {
    "duration": 3,
    "start_time": "2023-04-03T17:17:58.365Z"
   },
   {
    "duration": 5,
    "start_time": "2023-04-03T17:17:58.609Z"
   },
   {
    "duration": 3,
    "start_time": "2023-04-03T17:17:58.856Z"
   },
   {
    "duration": 4,
    "start_time": "2023-04-03T17:17:59.429Z"
   },
   {
    "duration": 10,
    "start_time": "2023-04-03T17:18:00.084Z"
   },
   {
    "duration": 18103,
    "start_time": "2023-04-03T17:18:00.736Z"
   },
   {
    "duration": 1857,
    "start_time": "2023-04-03T17:18:18.842Z"
   },
   {
    "duration": 3,
    "start_time": "2023-04-03T17:20:13.635Z"
   },
   {
    "duration": 3,
    "start_time": "2023-04-03T17:20:14.348Z"
   },
   {
    "duration": 3,
    "start_time": "2023-04-03T17:20:21.785Z"
   },
   {
    "duration": 9,
    "start_time": "2023-04-03T17:20:23.316Z"
   },
   {
    "duration": 381,
    "start_time": "2023-04-03T17:20:26.277Z"
   },
   {
    "duration": 981,
    "start_time": "2023-04-03T17:20:45.026Z"
   },
   {
    "duration": 643,
    "start_time": "2023-04-03T17:20:50.708Z"
   },
   {
    "duration": 29,
    "start_time": "2023-04-03T17:24:33.167Z"
   },
   {
    "duration": 9,
    "start_time": "2023-04-03T17:33:16.101Z"
   },
   {
    "duration": 1520,
    "start_time": "2023-04-03T17:33:52.535Z"
   },
   {
    "duration": 767,
    "start_time": "2023-04-03T17:33:54.057Z"
   },
   {
    "duration": 3,
    "start_time": "2023-04-03T17:33:54.826Z"
   },
   {
    "duration": 401,
    "start_time": "2023-04-03T17:33:54.831Z"
   },
   {
    "duration": 221,
    "start_time": "2023-04-03T17:33:55.234Z"
   },
   {
    "duration": 421,
    "start_time": "2023-04-03T17:33:55.456Z"
   },
   {
    "duration": 5,
    "start_time": "2023-04-03T17:33:55.890Z"
   },
   {
    "duration": 10,
    "start_time": "2023-04-03T17:33:55.973Z"
   },
   {
    "duration": 9,
    "start_time": "2023-04-03T17:33:56.346Z"
   },
   {
    "duration": 4,
    "start_time": "2023-04-03T17:33:56.726Z"
   },
   {
    "duration": 4,
    "start_time": "2023-04-03T17:33:57.308Z"
   },
   {
    "duration": 6,
    "start_time": "2023-04-03T17:33:57.712Z"
   },
   {
    "duration": 4,
    "start_time": "2023-04-03T17:33:58.280Z"
   },
   {
    "duration": 14,
    "start_time": "2023-04-03T17:33:58.490Z"
   },
   {
    "duration": 5,
    "start_time": "2023-04-03T17:33:58.704Z"
   },
   {
    "duration": 12,
    "start_time": "2023-04-03T17:33:59.484Z"
   },
   {
    "duration": 8,
    "start_time": "2023-04-03T17:33:59.686Z"
   },
   {
    "duration": 8,
    "start_time": "2023-04-03T17:33:59.866Z"
   },
   {
    "duration": 34536,
    "start_time": "2023-04-03T17:34:00.517Z"
   },
   {
    "duration": 23482,
    "start_time": "2023-04-03T17:34:35.055Z"
   },
   {
    "duration": 8,
    "start_time": "2023-04-03T17:34:58.539Z"
   },
   {
    "duration": 5,
    "start_time": "2023-04-03T17:34:58.549Z"
   },
   {
    "duration": 18,
    "start_time": "2023-04-03T17:34:58.556Z"
   },
   {
    "duration": 235,
    "start_time": "2023-04-03T17:35:03.750Z"
   },
   {
    "duration": 4,
    "start_time": "2023-04-03T17:35:04.311Z"
   },
   {
    "duration": 302,
    "start_time": "2023-04-03T17:35:05.041Z"
   },
   {
    "duration": 13,
    "start_time": "2023-04-03T17:35:05.528Z"
   },
   {
    "duration": 320,
    "start_time": "2023-04-03T17:35:06.080Z"
   },
   {
    "duration": 440,
    "start_time": "2023-04-03T17:35:09.584Z"
   },
   {
    "duration": 297,
    "start_time": "2023-04-03T17:35:11.083Z"
   },
   {
    "duration": 871,
    "start_time": "2023-04-03T17:35:17.320Z"
   },
   {
    "duration": 7,
    "start_time": "2023-04-03T17:35:22.755Z"
   },
   {
    "duration": 387,
    "start_time": "2023-04-03T17:35:26.319Z"
   },
   {
    "duration": 3,
    "start_time": "2023-04-03T17:35:35.502Z"
   },
   {
    "duration": 3,
    "start_time": "2023-04-03T17:35:35.741Z"
   },
   {
    "duration": 3,
    "start_time": "2023-04-03T17:35:36.013Z"
   },
   {
    "duration": 9,
    "start_time": "2023-04-03T17:35:38.739Z"
   },
   {
    "duration": 126,
    "start_time": "2023-04-03T17:35:38.750Z"
   },
   {
    "duration": 12,
    "start_time": "2023-04-03T17:35:54.909Z"
   },
   {
    "duration": 5,
    "start_time": "2023-04-03T17:36:26.962Z"
   },
   {
    "duration": 10,
    "start_time": "2023-04-03T17:36:31.773Z"
   },
   {
    "duration": 197,
    "start_time": "2023-04-03T17:36:48.161Z"
   },
   {
    "duration": 1592,
    "start_time": "2023-04-03T17:39:28.314Z"
   },
   {
    "duration": 3,
    "start_time": "2023-04-03T17:40:26.416Z"
   },
   {
    "duration": 992,
    "start_time": "2023-04-03T17:40:30.590Z"
   },
   {
    "duration": 705,
    "start_time": "2023-04-03T17:41:19.204Z"
   },
   {
    "duration": 4,
    "start_time": "2023-04-03T19:24:19.754Z"
   },
   {
    "duration": 4,
    "start_time": "2023-04-03T19:24:25.614Z"
   },
   {
    "duration": 8,
    "start_time": "2023-04-03T19:24:26.767Z"
   },
   {
    "duration": 85,
    "start_time": "2023-04-03T19:24:37.515Z"
   },
   {
    "duration": 1720,
    "start_time": "2023-04-03T19:24:47.378Z"
   },
   {
    "duration": 1531,
    "start_time": "2023-04-03T19:24:55.165Z"
   },
   {
    "duration": 1478,
    "start_time": "2023-04-03T19:27:52.874Z"
   },
   {
    "duration": 761,
    "start_time": "2023-04-03T19:27:54.355Z"
   },
   {
    "duration": 3,
    "start_time": "2023-04-03T19:27:55.118Z"
   },
   {
    "duration": 403,
    "start_time": "2023-04-03T19:27:55.123Z"
   },
   {
    "duration": 223,
    "start_time": "2023-04-03T19:27:55.528Z"
   },
   {
    "duration": 419,
    "start_time": "2023-04-03T19:27:55.752Z"
   },
   {
    "duration": 3,
    "start_time": "2023-04-03T19:27:56.173Z"
   },
   {
    "duration": 15,
    "start_time": "2023-04-03T19:27:56.190Z"
   },
   {
    "duration": 7,
    "start_time": "2023-04-03T19:27:56.551Z"
   },
   {
    "duration": 4,
    "start_time": "2023-04-03T19:27:57.039Z"
   },
   {
    "duration": 5,
    "start_time": "2023-04-03T19:27:57.919Z"
   },
   {
    "duration": 7,
    "start_time": "2023-04-03T19:27:58.377Z"
   },
   {
    "duration": 4,
    "start_time": "2023-04-03T19:27:59.506Z"
   },
   {
    "duration": 9,
    "start_time": "2023-04-03T19:27:59.723Z"
   },
   {
    "duration": 4,
    "start_time": "2023-04-03T19:28:00.202Z"
   },
   {
    "duration": 7,
    "start_time": "2023-04-03T19:28:01.635Z"
   },
   {
    "duration": 6,
    "start_time": "2023-04-03T19:28:01.861Z"
   },
   {
    "duration": 9,
    "start_time": "2023-04-03T19:28:02.104Z"
   },
   {
    "duration": 33705,
    "start_time": "2023-04-03T19:28:03.121Z"
   },
   {
    "duration": 18501,
    "start_time": "2023-04-03T19:28:36.828Z"
   },
   {
    "duration": 9,
    "start_time": "2023-04-03T19:28:55.330Z"
   },
   {
    "duration": 6,
    "start_time": "2023-04-03T19:28:55.341Z"
   },
   {
    "duration": 10,
    "start_time": "2023-04-03T19:28:55.349Z"
   },
   {
    "duration": 244,
    "start_time": "2023-04-03T19:30:00.589Z"
   },
   {
    "duration": 5,
    "start_time": "2023-04-03T19:30:01.148Z"
   },
   {
    "duration": 300,
    "start_time": "2023-04-03T19:30:01.697Z"
   },
   {
    "duration": 13,
    "start_time": "2023-04-03T19:30:02.095Z"
   },
   {
    "duration": 279,
    "start_time": "2023-04-03T19:30:02.297Z"
   },
   {
    "duration": 387,
    "start_time": "2023-04-03T19:30:02.578Z"
   },
   {
    "duration": 287,
    "start_time": "2023-04-03T19:30:02.968Z"
   },
   {
    "duration": 656,
    "start_time": "2023-04-03T19:30:03.495Z"
   },
   {
    "duration": 5,
    "start_time": "2023-04-03T19:30:04.344Z"
   },
   {
    "duration": 374,
    "start_time": "2023-04-03T19:30:04.801Z"
   },
   {
    "duration": 3,
    "start_time": "2023-04-03T19:30:05.462Z"
   },
   {
    "duration": 4,
    "start_time": "2023-04-03T19:30:05.673Z"
   },
   {
    "duration": 3,
    "start_time": "2023-04-03T19:30:05.919Z"
   },
   {
    "duration": 8,
    "start_time": "2023-04-03T19:30:06.107Z"
   },
   {
    "duration": 1785,
    "start_time": "2023-04-03T19:30:07.212Z"
   },
   {
    "duration": 121,
    "start_time": "2023-04-03T19:30:21.306Z"
   },
   {
    "duration": 17547,
    "start_time": "2023-04-03T19:30:28.311Z"
   },
   {
    "duration": 27738,
    "start_time": "2023-04-03T19:31:05.399Z"
   },
   {
    "duration": 66114,
    "start_time": "2023-04-03T19:31:51.224Z"
   },
   {
    "duration": 157339,
    "start_time": "2023-04-03T19:33:08.856Z"
   },
   {
    "duration": 17420,
    "start_time": "2023-04-03T19:35:52.850Z"
   },
   {
    "duration": 17643,
    "start_time": "2023-04-03T19:36:37.254Z"
   },
   {
    "duration": 17882,
    "start_time": "2023-04-03T19:37:40.758Z"
   },
   {
    "duration": 17425,
    "start_time": "2023-04-03T19:38:12.849Z"
   },
   {
    "duration": 17376,
    "start_time": "2023-04-03T19:38:59.919Z"
   },
   {
    "duration": 56244,
    "start_time": "2023-04-03T19:40:21.060Z"
   },
   {
    "duration": 13,
    "start_time": "2023-04-03T19:41:20.687Z"
   },
   {
    "duration": 14,
    "start_time": "2023-04-03T19:41:56.144Z"
   },
   {
    "duration": 3554,
    "start_time": "2023-04-03T19:42:50.679Z"
   },
   {
    "duration": 3512,
    "start_time": "2023-04-03T19:43:03.177Z"
   },
   {
    "duration": 94,
    "start_time": "2023-04-04T18:50:36.053Z"
   },
   {
    "duration": 2354,
    "start_time": "2023-04-04T18:50:44.885Z"
   },
   {
    "duration": 3057,
    "start_time": "2023-04-04T18:50:47.247Z"
   },
   {
    "duration": 4,
    "start_time": "2023-04-04T18:50:50.306Z"
   },
   {
    "duration": 521,
    "start_time": "2023-04-04T18:50:50.315Z"
   },
   {
    "duration": 317,
    "start_time": "2023-04-04T18:50:50.838Z"
   },
   {
    "duration": 566,
    "start_time": "2023-04-04T18:50:51.161Z"
   },
   {
    "duration": 4,
    "start_time": "2023-04-04T18:50:51.730Z"
   },
   {
    "duration": 44,
    "start_time": "2023-04-04T18:50:51.736Z"
   },
   {
    "duration": 10,
    "start_time": "2023-04-04T18:50:51.943Z"
   },
   {
    "duration": 4,
    "start_time": "2023-04-04T18:50:52.455Z"
   },
   {
    "duration": 20,
    "start_time": "2023-04-04T18:50:53.200Z"
   },
   {
    "duration": 25,
    "start_time": "2023-04-04T18:50:54.203Z"
   },
   {
    "duration": 6,
    "start_time": "2023-04-04T18:50:55.093Z"
   },
   {
    "duration": 12,
    "start_time": "2023-04-04T18:50:55.338Z"
   },
   {
    "duration": 6,
    "start_time": "2023-04-04T18:50:55.803Z"
   },
   {
    "duration": 17,
    "start_time": "2023-04-04T18:50:59.981Z"
   },
   {
    "duration": 31,
    "start_time": "2023-04-04T18:51:00.180Z"
   },
   {
    "duration": 15,
    "start_time": "2023-04-04T18:51:00.394Z"
   },
   {
    "duration": 46179,
    "start_time": "2023-04-04T18:51:01.590Z"
   },
   {
    "duration": 34679,
    "start_time": "2023-04-04T18:51:47.777Z"
   },
   {
    "duration": 14,
    "start_time": "2023-04-04T18:52:22.463Z"
   },
   {
    "duration": 13,
    "start_time": "2023-04-04T18:52:22.485Z"
   },
   {
    "duration": 39,
    "start_time": "2023-04-04T18:52:22.505Z"
   },
   {
    "duration": 352,
    "start_time": "2023-04-04T18:52:26.456Z"
   },
   {
    "duration": 10,
    "start_time": "2023-04-04T18:52:27.092Z"
   },
   {
    "duration": 417,
    "start_time": "2023-04-04T18:52:27.802Z"
   },
   {
    "duration": 33,
    "start_time": "2023-04-04T18:52:28.274Z"
   },
   {
    "duration": 496,
    "start_time": "2023-04-04T18:52:28.530Z"
   },
   {
    "duration": 595,
    "start_time": "2023-04-04T18:52:29.148Z"
   },
   {
    "duration": 443,
    "start_time": "2023-04-04T18:52:29.745Z"
   },
   {
    "duration": 1208,
    "start_time": "2023-04-04T18:52:30.998Z"
   },
   {
    "duration": 11,
    "start_time": "2023-04-04T18:52:35.877Z"
   },
   {
    "duration": 508,
    "start_time": "2023-04-04T18:52:36.678Z"
   },
   {
    "duration": 54,
    "start_time": "2023-04-04T18:52:49.266Z"
   },
   {
    "duration": 3,
    "start_time": "2023-04-04T18:52:54.522Z"
   },
   {
    "duration": 5,
    "start_time": "2023-04-04T18:52:55.291Z"
   },
   {
    "duration": 3,
    "start_time": "2023-04-04T18:52:55.999Z"
   },
   {
    "duration": 147,
    "start_time": "2023-04-04T18:52:56.597Z"
   },
   {
    "duration": 33,
    "start_time": "2023-04-04T18:53:15.587Z"
   },
   {
    "duration": 1898,
    "start_time": "2023-04-04T18:55:01.834Z"
   },
   {
    "duration": 1009,
    "start_time": "2023-04-04T18:55:03.735Z"
   },
   {
    "duration": 5,
    "start_time": "2023-04-04T18:55:04.747Z"
   },
   {
    "duration": 631,
    "start_time": "2023-04-04T18:55:06.006Z"
   },
   {
    "duration": 266,
    "start_time": "2023-04-04T18:55:06.641Z"
   },
   {
    "duration": 566,
    "start_time": "2023-04-04T18:55:06.909Z"
   },
   {
    "duration": 2,
    "start_time": "2023-04-04T18:55:07.478Z"
   },
   {
    "duration": 28,
    "start_time": "2023-04-04T18:55:07.586Z"
   },
   {
    "duration": 11,
    "start_time": "2023-04-04T18:55:07.962Z"
   },
   {
    "duration": 4,
    "start_time": "2023-04-04T18:55:08.715Z"
   },
   {
    "duration": 7,
    "start_time": "2023-04-04T18:55:09.452Z"
   },
   {
    "duration": 13,
    "start_time": "2023-04-04T18:55:09.896Z"
   },
   {
    "duration": 12,
    "start_time": "2023-04-04T18:55:10.882Z"
   },
   {
    "duration": 20,
    "start_time": "2023-04-04T18:55:11.084Z"
   },
   {
    "duration": 5,
    "start_time": "2023-04-04T18:55:11.827Z"
   },
   {
    "duration": 14,
    "start_time": "2023-04-04T18:55:13.483Z"
   },
   {
    "duration": 11,
    "start_time": "2023-04-04T18:55:13.722Z"
   },
   {
    "duration": 21,
    "start_time": "2023-04-04T18:55:13.990Z"
   },
   {
    "duration": 66539,
    "start_time": "2023-04-04T18:55:31.085Z"
   },
   {
    "duration": 15,
    "start_time": "2023-04-04T18:56:42.155Z"
   },
   {
    "duration": 21,
    "start_time": "2023-04-04T18:56:42.356Z"
   },
   {
    "duration": 9,
    "start_time": "2023-04-04T18:56:42.893Z"
   },
   {
    "duration": 273,
    "start_time": "2023-04-04T18:56:45.549Z"
   },
   {
    "duration": 5,
    "start_time": "2023-04-04T18:56:46.905Z"
   },
   {
    "duration": 355,
    "start_time": "2023-04-04T18:56:47.952Z"
   },
   {
    "duration": 20,
    "start_time": "2023-04-04T18:56:49.080Z"
   },
   {
    "duration": 322,
    "start_time": "2023-04-04T18:56:49.286Z"
   },
   {
    "duration": 405,
    "start_time": "2023-04-04T18:56:49.747Z"
   },
   {
    "duration": 309,
    "start_time": "2023-04-04T18:56:50.748Z"
   },
   {
    "duration": 776,
    "start_time": "2023-04-04T18:56:51.958Z"
   },
   {
    "duration": 9,
    "start_time": "2023-04-04T18:56:59.791Z"
   },
   {
    "duration": 456,
    "start_time": "2023-04-04T18:57:00.848Z"
   },
   {
    "duration": 2,
    "start_time": "2023-04-04T18:57:02.433Z"
   },
   {
    "duration": 36,
    "start_time": "2023-04-04T18:57:03.119Z"
   },
   {
    "duration": 13,
    "start_time": "2023-04-04T18:57:05.517Z"
   },
   {
    "duration": 10,
    "start_time": "2023-04-04T18:57:06.085Z"
   },
   {
    "duration": 178,
    "start_time": "2023-04-04T18:57:07.294Z"
   },
   {
    "duration": 40,
    "start_time": "2023-04-04T19:01:37.201Z"
   },
   {
    "duration": 56,
    "start_time": "2023-04-04T19:01:49.024Z"
   },
   {
    "duration": 45,
    "start_time": "2023-04-04T19:02:46.882Z"
   },
   {
    "duration": 1492,
    "start_time": "2023-04-04T19:04:11.835Z"
   },
   {
    "duration": 857,
    "start_time": "2023-04-04T19:04:13.329Z"
   },
   {
    "duration": 4,
    "start_time": "2023-04-04T19:04:14.188Z"
   },
   {
    "duration": 485,
    "start_time": "2023-04-04T19:04:14.194Z"
   },
   {
    "duration": 241,
    "start_time": "2023-04-04T19:04:14.995Z"
   },
   {
    "duration": 452,
    "start_time": "2023-04-04T19:04:15.238Z"
   },
   {
    "duration": 5,
    "start_time": "2023-04-04T19:04:15.697Z"
   },
   {
    "duration": 13,
    "start_time": "2023-04-04T19:04:15.871Z"
   },
   {
    "duration": 7,
    "start_time": "2023-04-04T19:04:16.229Z"
   },
   {
    "duration": 9,
    "start_time": "2023-04-04T19:04:16.697Z"
   },
   {
    "duration": 11,
    "start_time": "2023-04-04T19:04:17.277Z"
   },
   {
    "duration": 8,
    "start_time": "2023-04-04T19:04:17.691Z"
   },
   {
    "duration": 5,
    "start_time": "2023-04-04T19:04:18.744Z"
   },
   {
    "duration": 14,
    "start_time": "2023-04-04T19:04:18.785Z"
   },
   {
    "duration": 4,
    "start_time": "2023-04-04T19:04:18.994Z"
   },
   {
    "duration": 7,
    "start_time": "2023-04-04T19:04:20.212Z"
   },
   {
    "duration": 8,
    "start_time": "2023-04-04T19:04:20.397Z"
   },
   {
    "duration": 14,
    "start_time": "2023-04-04T19:04:20.592Z"
   },
   {
    "duration": 64548,
    "start_time": "2023-04-04T19:04:21.495Z"
   },
   {
    "duration": 8,
    "start_time": "2023-04-04T19:05:26.045Z"
   },
   {
    "duration": 15,
    "start_time": "2023-04-04T19:05:26.062Z"
   },
   {
    "duration": 34,
    "start_time": "2023-04-04T19:05:26.079Z"
   },
   {
    "duration": 270,
    "start_time": "2023-04-04T19:05:29.860Z"
   },
   {
    "duration": 5,
    "start_time": "2023-04-04T19:05:30.444Z"
   },
   {
    "duration": 326,
    "start_time": "2023-04-04T19:05:31.090Z"
   },
   {
    "duration": 15,
    "start_time": "2023-04-04T19:05:31.491Z"
   },
   {
    "duration": 364,
    "start_time": "2023-04-04T19:05:31.690Z"
   },
   {
    "duration": 413,
    "start_time": "2023-04-04T19:05:32.057Z"
   },
   {
    "duration": 330,
    "start_time": "2023-04-04T19:05:32.476Z"
   },
   {
    "duration": 849,
    "start_time": "2023-04-04T19:05:33.791Z"
   },
   {
    "duration": 9,
    "start_time": "2023-04-04T19:05:35.887Z"
   },
   {
    "duration": 409,
    "start_time": "2023-04-04T19:05:36.109Z"
   },
   {
    "duration": 4,
    "start_time": "2023-04-04T19:05:37.519Z"
   },
   {
    "duration": 12,
    "start_time": "2023-04-04T19:05:38.226Z"
   },
   {
    "duration": 58,
    "start_time": "2023-04-04T19:05:39.307Z"
   },
   {
    "duration": 8,
    "start_time": "2023-04-04T19:05:44.260Z"
   },
   {
    "duration": 8,
    "start_time": "2023-04-04T19:05:45.465Z"
   },
   {
    "duration": 3512,
    "start_time": "2023-04-04T19:05:46.388Z"
   },
   {
    "duration": 19127,
    "start_time": "2023-04-04T19:05:52.330Z"
   },
   {
    "duration": 1608,
    "start_time": "2023-04-04T19:08:39.617Z"
   },
   {
    "duration": 865,
    "start_time": "2023-04-04T19:08:41.227Z"
   },
   {
    "duration": 3,
    "start_time": "2023-04-04T19:08:42.094Z"
   },
   {
    "duration": 478,
    "start_time": "2023-04-04T19:08:42.100Z"
   },
   {
    "duration": 249,
    "start_time": "2023-04-04T19:08:42.581Z"
   },
   {
    "duration": 434,
    "start_time": "2023-04-04T19:08:44.528Z"
   },
   {
    "duration": 3,
    "start_time": "2023-04-04T19:08:45.010Z"
   },
   {
    "duration": 12,
    "start_time": "2023-04-04T19:08:45.212Z"
   },
   {
    "duration": 10,
    "start_time": "2023-04-04T19:08:45.905Z"
   },
   {
    "duration": 4,
    "start_time": "2023-04-04T19:08:46.315Z"
   },
   {
    "duration": 5,
    "start_time": "2023-04-04T19:08:47.031Z"
   },
   {
    "duration": 5,
    "start_time": "2023-04-04T19:08:47.409Z"
   },
   {
    "duration": 6,
    "start_time": "2023-04-04T19:08:48.103Z"
   },
   {
    "duration": 7,
    "start_time": "2023-04-04T19:08:48.348Z"
   },
   {
    "duration": 6,
    "start_time": "2023-04-04T19:08:48.605Z"
   },
   {
    "duration": 9,
    "start_time": "2023-04-04T19:08:49.607Z"
   },
   {
    "duration": 11,
    "start_time": "2023-04-04T19:08:49.798Z"
   },
   {
    "duration": 11,
    "start_time": "2023-04-04T19:08:50.006Z"
   },
   {
    "duration": 65780,
    "start_time": "2023-04-04T19:08:50.705Z"
   },
   {
    "duration": 11,
    "start_time": "2023-04-04T19:09:56.488Z"
   },
   {
    "duration": 9,
    "start_time": "2023-04-04T19:09:56.501Z"
   },
   {
    "duration": 8,
    "start_time": "2023-04-04T19:09:56.512Z"
   },
   {
    "duration": 274,
    "start_time": "2023-04-04T19:09:58.889Z"
   },
   {
    "duration": 7,
    "start_time": "2023-04-04T19:09:59.807Z"
   },
   {
    "duration": 368,
    "start_time": "2023-04-04T19:10:00.402Z"
   },
   {
    "duration": 12,
    "start_time": "2023-04-04T19:10:00.828Z"
   },
   {
    "duration": 369,
    "start_time": "2023-04-04T19:10:01.032Z"
   },
   {
    "duration": 476,
    "start_time": "2023-04-04T19:10:01.404Z"
   },
   {
    "duration": 344,
    "start_time": "2023-04-04T19:10:01.882Z"
   },
   {
    "duration": 838,
    "start_time": "2023-04-04T19:10:02.303Z"
   },
   {
    "duration": 5,
    "start_time": "2023-04-04T19:10:03.143Z"
   },
   {
    "duration": 461,
    "start_time": "2023-04-04T19:10:03.769Z"
   },
   {
    "duration": 4,
    "start_time": "2023-04-04T19:10:04.508Z"
   },
   {
    "duration": 10,
    "start_time": "2023-04-04T19:10:05.302Z"
   },
   {
    "duration": 42,
    "start_time": "2023-04-04T19:10:06.393Z"
   },
   {
    "duration": 6,
    "start_time": "2023-04-04T19:10:09.305Z"
   },
   {
    "duration": 4,
    "start_time": "2023-04-04T19:10:10.205Z"
   },
   {
    "duration": 4410,
    "start_time": "2023-04-04T19:10:10.749Z"
   },
   {
    "duration": 19505,
    "start_time": "2023-04-04T19:10:19.703Z"
   },
   {
    "duration": 47170,
    "start_time": "2023-04-04T19:10:42.159Z"
   },
   {
    "duration": 175490,
    "start_time": "2023-04-04T19:12:23.704Z"
   },
   {
    "duration": 6042,
    "start_time": "2023-04-04T19:17:23.121Z"
   },
   {
    "duration": 19217,
    "start_time": "2023-04-04T19:17:33.101Z"
   },
   {
    "duration": 176356,
    "start_time": "2023-04-04T19:18:03.636Z"
   },
   {
    "duration": 3,
    "start_time": "2023-04-04T19:22:40.930Z"
   },
   {
    "duration": 3,
    "start_time": "2023-04-04T19:22:41.727Z"
   },
   {
    "duration": 11109,
    "start_time": "2023-04-04T19:22:44.516Z"
   },
   {
    "duration": 228,
    "start_time": "2023-04-04T19:23:59.907Z"
   },
   {
    "duration": 7,
    "start_time": "2023-04-04T19:24:03.410Z"
   },
   {
    "duration": 15,
    "start_time": "2023-04-04T19:24:03.683Z"
   },
   {
    "duration": 9,
    "start_time": "2023-04-04T19:24:04.221Z"
   },
   {
    "duration": 11282,
    "start_time": "2023-04-04T19:24:11.906Z"
   },
   {
    "duration": 1679,
    "start_time": "2023-04-04T19:24:37.278Z"
   },
   {
    "duration": 898,
    "start_time": "2023-04-04T19:24:38.959Z"
   },
   {
    "duration": 9,
    "start_time": "2023-04-04T19:24:39.858Z"
   },
   {
    "duration": 417,
    "start_time": "2023-04-04T19:24:39.877Z"
   },
   {
    "duration": 251,
    "start_time": "2023-04-04T19:24:40.296Z"
   },
   {
    "duration": 500,
    "start_time": "2023-04-04T19:24:40.549Z"
   },
   {
    "duration": 30,
    "start_time": "2023-04-04T19:24:41.050Z"
   },
   {
    "duration": 26,
    "start_time": "2023-04-04T19:24:41.081Z"
   },
   {
    "duration": 7,
    "start_time": "2023-04-04T19:24:41.433Z"
   },
   {
    "duration": 5,
    "start_time": "2023-04-04T19:24:41.832Z"
   },
   {
    "duration": 6,
    "start_time": "2023-04-04T19:24:42.419Z"
   },
   {
    "duration": 6,
    "start_time": "2023-04-04T19:24:42.811Z"
   },
   {
    "duration": 5,
    "start_time": "2023-04-04T19:24:43.393Z"
   },
   {
    "duration": 13,
    "start_time": "2023-04-04T19:24:43.598Z"
   },
   {
    "duration": 5,
    "start_time": "2023-04-04T19:24:43.806Z"
   },
   {
    "duration": 9,
    "start_time": "2023-04-04T19:24:44.832Z"
   },
   {
    "duration": 12,
    "start_time": "2023-04-04T19:24:45.060Z"
   },
   {
    "duration": 11,
    "start_time": "2023-04-04T19:24:45.268Z"
   },
   {
    "duration": 66955,
    "start_time": "2023-04-04T19:24:45.913Z"
   },
   {
    "duration": 235,
    "start_time": "2023-04-04T19:25:52.874Z"
   },
   {
    "duration": 8,
    "start_time": "2023-04-04T19:25:53.111Z"
   },
   {
    "duration": 5,
    "start_time": "2023-04-04T19:25:53.121Z"
   },
   {
    "duration": 8,
    "start_time": "2023-04-04T19:25:53.128Z"
   },
   {
    "duration": 288,
    "start_time": "2023-04-04T19:25:56.369Z"
   },
   {
    "duration": 5,
    "start_time": "2023-04-04T19:25:56.955Z"
   },
   {
    "duration": 352,
    "start_time": "2023-04-04T19:25:57.531Z"
   },
   {
    "duration": 13,
    "start_time": "2023-04-04T19:25:57.927Z"
   },
   {
    "duration": 320,
    "start_time": "2023-04-04T19:25:58.130Z"
   },
   {
    "duration": 417,
    "start_time": "2023-04-04T19:25:58.452Z"
   },
   {
    "duration": 365,
    "start_time": "2023-04-04T19:25:58.871Z"
   },
   {
    "duration": 805,
    "start_time": "2023-04-04T19:26:02.286Z"
   },
   {
    "duration": 19,
    "start_time": "2023-04-04T19:26:08.257Z"
   },
   {
    "duration": 420,
    "start_time": "2023-04-04T19:26:08.502Z"
   },
   {
    "duration": 8,
    "start_time": "2023-04-04T19:26:09.772Z"
   },
   {
    "duration": 9,
    "start_time": "2023-04-04T19:26:10.004Z"
   },
   {
    "duration": 37,
    "start_time": "2023-04-04T19:26:10.222Z"
   },
   {
    "duration": 4,
    "start_time": "2023-04-04T19:26:10.436Z"
   },
   {
    "duration": 4,
    "start_time": "2023-04-04T19:26:11.050Z"
   },
   {
    "duration": 7536,
    "start_time": "2023-04-04T19:26:11.260Z"
   },
   {
    "duration": 19566,
    "start_time": "2023-04-04T19:26:18.802Z"
   },
   {
    "duration": 169436,
    "start_time": "2023-04-04T19:26:38.370Z"
   },
   {
    "duration": 13165,
    "start_time": "2023-04-04T19:29:27.809Z"
   },
   {
    "duration": 4146,
    "start_time": "2023-04-04T19:29:53.163Z"
   },
   {
    "duration": 10821,
    "start_time": "2023-04-04T19:30:35.699Z"
   },
   {
    "duration": 1794,
    "start_time": "2023-04-04T19:39:33.606Z"
   },
   {
    "duration": 880,
    "start_time": "2023-04-04T19:39:35.409Z"
   },
   {
    "duration": 3,
    "start_time": "2023-04-04T19:39:36.291Z"
   },
   {
    "duration": 460,
    "start_time": "2023-04-04T19:39:37.113Z"
   },
   {
    "duration": 266,
    "start_time": "2023-04-04T19:39:37.577Z"
   },
   {
    "duration": 555,
    "start_time": "2023-04-04T19:39:37.845Z"
   },
   {
    "duration": 14,
    "start_time": "2023-04-04T19:39:38.402Z"
   },
   {
    "duration": 13,
    "start_time": "2023-04-04T19:39:38.418Z"
   },
   {
    "duration": 7,
    "start_time": "2023-04-04T19:39:38.606Z"
   },
   {
    "duration": 4,
    "start_time": "2023-04-04T19:39:39.022Z"
   },
   {
    "duration": 7,
    "start_time": "2023-04-04T19:39:39.689Z"
   },
   {
    "duration": 5,
    "start_time": "2023-04-04T19:39:40.109Z"
   },
   {
    "duration": 4,
    "start_time": "2023-04-04T19:39:40.751Z"
   },
   {
    "duration": 11,
    "start_time": "2023-04-04T19:39:40.998Z"
   },
   {
    "duration": 5,
    "start_time": "2023-04-04T19:39:41.214Z"
   },
   {
    "duration": 8,
    "start_time": "2023-04-04T19:39:42.010Z"
   },
   {
    "duration": 7,
    "start_time": "2023-04-04T19:39:42.212Z"
   },
   {
    "duration": 10,
    "start_time": "2023-04-04T19:39:42.421Z"
   },
   {
    "duration": 67895,
    "start_time": "2023-04-04T19:39:43.033Z"
   },
   {
    "duration": 399,
    "start_time": "2023-04-04T19:40:50.930Z"
   },
   {
    "duration": 13,
    "start_time": "2023-04-04T19:40:51.333Z"
   },
   {
    "duration": 15,
    "start_time": "2023-04-04T19:40:51.349Z"
   },
   {
    "duration": 12,
    "start_time": "2023-04-04T19:40:51.367Z"
   },
   {
    "duration": 338,
    "start_time": "2023-04-04T19:40:56.943Z"
   },
   {
    "duration": 10,
    "start_time": "2023-04-04T19:40:58.186Z"
   },
   {
    "duration": 404,
    "start_time": "2023-04-04T19:40:59.674Z"
   },
   {
    "duration": 18,
    "start_time": "2023-04-04T19:41:00.100Z"
   },
   {
    "duration": 391,
    "start_time": "2023-04-04T19:41:00.304Z"
   },
   {
    "duration": 428,
    "start_time": "2023-04-04T19:41:00.697Z"
   },
   {
    "duration": 383,
    "start_time": "2023-04-04T19:41:01.127Z"
   },
   {
    "duration": 820,
    "start_time": "2023-04-04T19:41:01.704Z"
   },
   {
    "duration": 8,
    "start_time": "2023-04-04T19:41:02.526Z"
   },
   {
    "duration": 450,
    "start_time": "2023-04-04T19:41:02.607Z"
   },
   {
    "duration": 3,
    "start_time": "2023-04-04T19:41:03.219Z"
   },
   {
    "duration": 12,
    "start_time": "2023-04-04T19:41:03.443Z"
   },
   {
    "duration": 77,
    "start_time": "2023-04-04T19:41:03.733Z"
   },
   {
    "duration": 5,
    "start_time": "2023-04-04T19:41:03.940Z"
   },
   {
    "duration": 14,
    "start_time": "2023-04-04T19:41:04.359Z"
   },
   {
    "duration": 15608,
    "start_time": "2023-04-04T19:41:04.624Z"
   },
   {
    "duration": 171058,
    "start_time": "2023-04-04T19:41:26.258Z"
   },
   {
    "duration": 13138,
    "start_time": "2023-04-04T19:44:45.641Z"
   },
   {
    "duration": 13086,
    "start_time": "2023-04-04T19:45:51.199Z"
   },
   {
    "duration": 1467,
    "start_time": "2023-04-04T19:55:50.206Z"
   },
   {
    "duration": 832,
    "start_time": "2023-04-04T19:55:51.677Z"
   },
   {
    "duration": 4,
    "start_time": "2023-04-04T19:55:52.510Z"
   },
   {
    "duration": 411,
    "start_time": "2023-04-04T19:55:52.516Z"
   },
   {
    "duration": 237,
    "start_time": "2023-04-04T19:55:52.928Z"
   },
   {
    "duration": 432,
    "start_time": "2023-04-04T19:55:53.173Z"
   },
   {
    "duration": 5,
    "start_time": "2023-04-04T19:55:53.607Z"
   },
   {
    "duration": 16,
    "start_time": "2023-04-04T19:55:53.783Z"
   },
   {
    "duration": 17,
    "start_time": "2023-04-04T19:55:54.158Z"
   },
   {
    "duration": 4,
    "start_time": "2023-04-04T19:55:54.555Z"
   },
   {
    "duration": 5,
    "start_time": "2023-04-04T19:55:55.122Z"
   },
   {
    "duration": 4,
    "start_time": "2023-04-04T19:55:55.495Z"
   },
   {
    "duration": 3,
    "start_time": "2023-04-04T19:55:56.112Z"
   },
   {
    "duration": 8,
    "start_time": "2023-04-04T19:55:56.325Z"
   },
   {
    "duration": 4,
    "start_time": "2023-04-04T19:55:56.528Z"
   },
   {
    "duration": 18,
    "start_time": "2023-04-04T19:55:57.357Z"
   },
   {
    "duration": 12,
    "start_time": "2023-04-04T19:55:57.581Z"
   },
   {
    "duration": 11,
    "start_time": "2023-04-04T19:55:57.781Z"
   },
   {
    "duration": 54989,
    "start_time": "2023-04-04T19:55:58.393Z"
   },
   {
    "duration": 410,
    "start_time": "2023-04-04T19:56:53.389Z"
   },
   {
    "duration": 8,
    "start_time": "2023-04-04T19:56:53.801Z"
   },
   {
    "duration": 5,
    "start_time": "2023-04-04T19:56:53.812Z"
   },
   {
    "duration": 14,
    "start_time": "2023-04-04T19:56:53.818Z"
   },
   {
    "duration": 252,
    "start_time": "2023-04-04T19:57:22.694Z"
   },
   {
    "duration": 5,
    "start_time": "2023-04-04T19:57:23.316Z"
   },
   {
    "duration": 341,
    "start_time": "2023-04-04T19:57:23.894Z"
   },
   {
    "duration": 13,
    "start_time": "2023-04-04T19:57:24.241Z"
   },
   {
    "duration": 298,
    "start_time": "2023-04-04T19:57:24.441Z"
   },
   {
    "duration": 404,
    "start_time": "2023-04-04T19:57:24.741Z"
   },
   {
    "duration": 345,
    "start_time": "2023-04-04T19:57:25.148Z"
   },
   {
    "duration": 710,
    "start_time": "2023-04-04T19:57:25.606Z"
   },
   {
    "duration": 8,
    "start_time": "2023-04-04T19:57:26.388Z"
   },
   {
    "duration": 384,
    "start_time": "2023-04-04T19:57:26.583Z"
   },
   {
    "duration": 3,
    "start_time": "2023-04-04T19:57:27.400Z"
   },
   {
    "duration": 8,
    "start_time": "2023-04-04T19:57:27.747Z"
   },
   {
    "duration": 46,
    "start_time": "2023-04-04T19:57:27.989Z"
   },
   {
    "duration": 3,
    "start_time": "2023-04-04T19:57:29.543Z"
   },
   {
    "duration": 3,
    "start_time": "2023-04-04T19:57:30.554Z"
   },
   {
    "duration": 12759,
    "start_time": "2023-04-04T19:57:31.258Z"
   },
   {
    "duration": 94359,
    "start_time": "2023-04-04T19:58:34.136Z"
   },
   {
    "duration": 297832,
    "start_time": "2023-04-04T20:00:30.759Z"
   },
   {
    "duration": 4553,
    "start_time": "2023-04-04T20:05:37.130Z"
   },
   {
    "duration": 10414,
    "start_time": "2023-04-04T20:05:55.990Z"
   },
   {
    "duration": 10512,
    "start_time": "2023-04-04T20:06:57.107Z"
   },
   {
    "duration": 1706,
    "start_time": "2023-04-05T06:30:51.367Z"
   },
   {
    "duration": 1664,
    "start_time": "2023-04-05T06:31:05.620Z"
   },
   {
    "duration": 2240,
    "start_time": "2023-04-05T06:31:08.991Z"
   },
   {
    "duration": 4,
    "start_time": "2023-04-05T06:32:06.778Z"
   },
   {
    "duration": 389,
    "start_time": "2023-04-05T06:32:09.198Z"
   },
   {
    "duration": 278,
    "start_time": "2023-04-05T06:32:51.362Z"
   },
   {
    "duration": 275,
    "start_time": "2023-04-05T06:32:58.178Z"
   },
   {
    "duration": 389,
    "start_time": "2023-04-05T06:33:05.483Z"
   },
   {
    "duration": 3,
    "start_time": "2023-04-05T06:46:00.510Z"
   },
   {
    "duration": 26,
    "start_time": "2023-04-05T06:46:01.065Z"
   },
   {
    "duration": 4,
    "start_time": "2023-04-05T06:48:29.420Z"
   },
   {
    "duration": 8,
    "start_time": "2023-04-05T06:48:49.561Z"
   },
   {
    "duration": 7,
    "start_time": "2023-04-05T06:49:42.326Z"
   },
   {
    "duration": 5,
    "start_time": "2023-04-05T06:52:00.742Z"
   },
   {
    "duration": 6,
    "start_time": "2023-04-05T06:52:31.296Z"
   },
   {
    "duration": 6,
    "start_time": "2023-04-05T06:53:02.387Z"
   },
   {
    "duration": 5,
    "start_time": "2023-04-05T06:53:55.771Z"
   },
   {
    "duration": 10,
    "start_time": "2023-04-05T06:53:57.001Z"
   },
   {
    "duration": 5,
    "start_time": "2023-04-05T06:53:58.143Z"
   },
   {
    "duration": 8,
    "start_time": "2023-04-05T06:55:23.858Z"
   },
   {
    "duration": 7,
    "start_time": "2023-04-05T06:55:26.195Z"
   },
   {
    "duration": 9,
    "start_time": "2023-04-05T06:55:26.389Z"
   },
   {
    "duration": 56587,
    "start_time": "2023-04-05T06:55:40.743Z"
   },
   {
    "duration": 234,
    "start_time": "2023-04-05T06:56:37.332Z"
   },
   {
    "duration": 7,
    "start_time": "2023-04-05T06:56:37.568Z"
   },
   {
    "duration": 10,
    "start_time": "2023-04-05T06:56:37.577Z"
   },
   {
    "duration": 9,
    "start_time": "2023-04-05T06:56:37.589Z"
   },
   {
    "duration": 240,
    "start_time": "2023-04-05T06:57:01.168Z"
   },
   {
    "duration": 5,
    "start_time": "2023-04-05T06:57:29.878Z"
   },
   {
    "duration": 300,
    "start_time": "2023-04-05T06:59:44.762Z"
   },
   {
    "duration": 295,
    "start_time": "2023-04-05T07:07:09.620Z"
   },
   {
    "duration": 398,
    "start_time": "2023-04-05T07:07:13.743Z"
   },
   {
    "duration": 314,
    "start_time": "2023-04-05T07:07:16.287Z"
   },
   {
    "duration": 286,
    "start_time": "2023-04-05T07:10:14.595Z"
   },
   {
    "duration": 91,
    "start_time": "2023-04-05T07:11:41.073Z"
   },
   {
    "duration": 270,
    "start_time": "2023-04-05T07:12:19.314Z"
   },
   {
    "duration": 302,
    "start_time": "2023-04-05T07:13:05.077Z"
   },
   {
    "duration": 390,
    "start_time": "2023-04-05T07:13:21.953Z"
   },
   {
    "duration": 284,
    "start_time": "2023-04-05T07:14:00.420Z"
   },
   {
    "duration": 323,
    "start_time": "2023-04-05T07:14:03.010Z"
   },
   {
    "duration": 285,
    "start_time": "2023-04-05T07:15:59.983Z"
   },
   {
    "duration": 13,
    "start_time": "2023-04-05T07:17:39.308Z"
   },
   {
    "duration": 795,
    "start_time": "2023-04-05T07:17:53.230Z"
   },
   {
    "duration": 7,
    "start_time": "2023-04-05T07:19:49.076Z"
   },
   {
    "duration": 356,
    "start_time": "2023-04-05T07:19:50.114Z"
   },
   {
    "duration": 361,
    "start_time": "2023-04-05T07:21:26.895Z"
   },
   {
    "duration": 3,
    "start_time": "2023-04-05T07:30:28.286Z"
   },
   {
    "duration": 10,
    "start_time": "2023-04-05T07:31:45.112Z"
   },
   {
    "duration": 10,
    "start_time": "2023-04-05T07:31:51.869Z"
   },
   {
    "duration": 54,
    "start_time": "2023-04-05T07:32:36.437Z"
   },
   {
    "duration": 3,
    "start_time": "2023-04-05T07:33:11.317Z"
   },
   {
    "duration": 3,
    "start_time": "2023-04-05T07:34:23.959Z"
   },
   {
    "duration": 12752,
    "start_time": "2023-04-05T07:43:21.308Z"
   },
   {
    "duration": 290712,
    "start_time": "2023-04-05T07:58:20.734Z"
   },
   {
    "duration": 1635,
    "start_time": "2023-04-05T08:06:42.922Z"
   },
   {
    "duration": 10296,
    "start_time": "2023-04-05T08:08:53.841Z"
   },
   {
    "duration": 305,
    "start_time": "2023-04-05T08:21:12.819Z"
   },
   {
    "duration": 1595,
    "start_time": "2023-04-05T08:31:58.510Z"
   },
   {
    "duration": 752,
    "start_time": "2023-04-05T08:32:00.107Z"
   },
   {
    "duration": 3,
    "start_time": "2023-04-05T08:32:00.861Z"
   },
   {
    "duration": 465,
    "start_time": "2023-04-05T08:32:00.866Z"
   },
   {
    "duration": 251,
    "start_time": "2023-04-05T08:32:01.547Z"
   },
   {
    "duration": 455,
    "start_time": "2023-04-05T08:32:01.800Z"
   },
   {
    "duration": 3,
    "start_time": "2023-04-05T08:32:02.709Z"
   },
   {
    "duration": 12,
    "start_time": "2023-04-05T08:32:03.109Z"
   },
   {
    "duration": 8,
    "start_time": "2023-04-05T08:32:03.762Z"
   },
   {
    "duration": 3,
    "start_time": "2023-04-05T08:32:04.530Z"
   },
   {
    "duration": 5,
    "start_time": "2023-04-05T08:32:05.129Z"
   },
   {
    "duration": 5,
    "start_time": "2023-04-05T08:32:05.532Z"
   },
   {
    "duration": 4,
    "start_time": "2023-04-05T08:32:06.285Z"
   },
   {
    "duration": 13,
    "start_time": "2023-04-05T08:32:06.532Z"
   },
   {
    "duration": 4,
    "start_time": "2023-04-05T08:32:06.821Z"
   },
   {
    "duration": 8,
    "start_time": "2023-04-05T08:32:08.560Z"
   },
   {
    "duration": 9,
    "start_time": "2023-04-05T08:32:08.778Z"
   },
   {
    "duration": 9,
    "start_time": "2023-04-05T08:32:09.011Z"
   },
   {
    "duration": 56365,
    "start_time": "2023-04-05T08:32:09.733Z"
   },
   {
    "duration": 279,
    "start_time": "2023-04-05T08:33:06.100Z"
   },
   {
    "duration": 7,
    "start_time": "2023-04-05T08:33:06.381Z"
   },
   {
    "duration": 18,
    "start_time": "2023-04-05T08:33:06.391Z"
   },
   {
    "duration": 13,
    "start_time": "2023-04-05T08:33:06.444Z"
   },
   {
    "duration": 250,
    "start_time": "2023-04-05T08:33:10.103Z"
   },
   {
    "duration": 6,
    "start_time": "2023-04-05T08:33:10.654Z"
   },
   {
    "duration": 297,
    "start_time": "2023-04-05T08:33:11.567Z"
   },
   {
    "duration": 326,
    "start_time": "2023-04-05T08:33:11.953Z"
   },
   {
    "duration": 402,
    "start_time": "2023-04-05T08:33:12.501Z"
   },
   {
    "duration": 324,
    "start_time": "2023-04-05T08:33:13.049Z"
   },
   {
    "duration": 13,
    "start_time": "2023-04-05T08:33:13.610Z"
   },
   {
    "duration": 782,
    "start_time": "2023-04-05T08:33:14.169Z"
   },
   {
    "duration": 7,
    "start_time": "2023-04-05T08:33:14.956Z"
   },
   {
    "duration": 440,
    "start_time": "2023-04-05T08:33:15.131Z"
   },
   {
    "duration": 3,
    "start_time": "2023-04-05T08:33:16.328Z"
   },
   {
    "duration": 11,
    "start_time": "2023-04-05T08:33:16.715Z"
   },
   {
    "duration": 39,
    "start_time": "2023-04-05T08:33:17.100Z"
   },
   {
    "duration": 4,
    "start_time": "2023-04-05T08:33:17.678Z"
   },
   {
    "duration": 3,
    "start_time": "2023-04-05T08:33:18.081Z"
   },
   {
    "duration": 13100,
    "start_time": "2023-04-05T08:33:19.628Z"
   },
   {
    "duration": 304061,
    "start_time": "2023-04-05T08:33:34.746Z"
   },
   {
    "duration": 3243,
    "start_time": "2023-04-05T08:38:52.799Z"
   },
   {
    "duration": 10398,
    "start_time": "2023-04-05T08:38:59.731Z"
   },
   {
    "duration": 696,
    "start_time": "2023-04-05T09:47:53.086Z"
   },
   {
    "duration": 726,
    "start_time": "2023-04-05T09:48:13.191Z"
   },
   {
    "duration": 62,
    "start_time": "2023-04-05T17:48:15.696Z"
   },
   {
    "duration": 1740,
    "start_time": "2023-04-05T17:48:25.576Z"
   },
   {
    "duration": 2324,
    "start_time": "2023-04-05T17:48:27.320Z"
   },
   {
    "duration": 4,
    "start_time": "2023-04-05T17:48:29.647Z"
   },
   {
    "duration": 437,
    "start_time": "2023-04-05T17:48:29.654Z"
   },
   {
    "duration": 249,
    "start_time": "2023-04-05T17:48:30.097Z"
   },
   {
    "duration": 427,
    "start_time": "2023-04-05T17:48:31.040Z"
   },
   {
    "duration": 2,
    "start_time": "2023-04-05T17:48:32.158Z"
   },
   {
    "duration": 8,
    "start_time": "2023-04-05T17:48:32.526Z"
   },
   {
    "duration": 8,
    "start_time": "2023-04-05T17:48:33.112Z"
   },
   {
    "duration": 4,
    "start_time": "2023-04-05T17:48:34.129Z"
   },
   {
    "duration": 5,
    "start_time": "2023-04-05T17:48:34.745Z"
   },
   {
    "duration": 5,
    "start_time": "2023-04-05T17:48:35.149Z"
   },
   {
    "duration": 4,
    "start_time": "2023-04-05T17:48:35.956Z"
   },
   {
    "duration": 8,
    "start_time": "2023-04-05T17:48:36.143Z"
   },
   {
    "duration": 4,
    "start_time": "2023-04-05T17:48:36.370Z"
   },
   {
    "duration": 8,
    "start_time": "2023-04-05T17:48:37.432Z"
   },
   {
    "duration": 6,
    "start_time": "2023-04-05T17:48:37.659Z"
   },
   {
    "duration": 10,
    "start_time": "2023-04-05T17:48:37.882Z"
   },
   {
    "duration": 57705,
    "start_time": "2023-04-05T17:48:38.637Z"
   },
   {
    "duration": 290,
    "start_time": "2023-04-05T17:49:36.344Z"
   },
   {
    "duration": 13,
    "start_time": "2023-04-05T17:49:42.097Z"
   },
   {
    "duration": 9,
    "start_time": "2023-04-05T17:49:42.299Z"
   },
   {
    "duration": 9,
    "start_time": "2023-04-05T17:49:42.568Z"
   },
   {
    "duration": 240,
    "start_time": "2023-04-05T17:49:45.802Z"
   },
   {
    "duration": 7,
    "start_time": "2023-04-05T17:49:48.699Z"
   },
   {
    "duration": 387,
    "start_time": "2023-04-05T17:49:57.518Z"
   },
   {
    "duration": 371,
    "start_time": "2023-04-05T17:50:00.322Z"
   },
   {
    "duration": 441,
    "start_time": "2023-04-05T17:50:01.387Z"
   },
   {
    "duration": 328,
    "start_time": "2023-04-05T17:50:02.305Z"
   },
   {
    "duration": 13,
    "start_time": "2023-04-05T17:50:04.495Z"
   },
   {
    "duration": 774,
    "start_time": "2023-04-05T17:50:06.486Z"
   },
   {
    "duration": 209,
    "start_time": "2023-04-05T17:52:03.809Z"
   },
   {
    "duration": 69,
    "start_time": "2023-04-05T17:52:24.706Z"
   },
   {
    "duration": 224,
    "start_time": "2023-04-05T17:52:30.707Z"
   },
   {
    "duration": 180,
    "start_time": "2023-04-05T17:52:43.145Z"
   },
   {
    "duration": 307,
    "start_time": "2023-04-05T17:52:58.522Z"
   },
   {
    "duration": 272,
    "start_time": "2023-04-05T17:53:33.337Z"
   },
   {
    "duration": 260,
    "start_time": "2023-04-05T17:53:43.632Z"
   },
   {
    "duration": 488,
    "start_time": "2023-04-05T17:54:11.087Z"
   },
   {
    "duration": 25,
    "start_time": "2023-04-05T17:54:43.891Z"
   },
   {
    "duration": 570,
    "start_time": "2023-04-05T17:55:15.759Z"
   },
   {
    "duration": 615,
    "start_time": "2023-04-05T17:55:47.110Z"
   },
   {
    "duration": 765,
    "start_time": "2023-04-05T17:56:43.099Z"
   },
   {
    "duration": 675,
    "start_time": "2023-04-05T17:56:57.799Z"
   },
   {
    "duration": 650,
    "start_time": "2023-04-05T17:57:40.540Z"
   },
   {
    "duration": 678,
    "start_time": "2023-04-05T17:58:01.895Z"
   },
   {
    "duration": 660,
    "start_time": "2023-04-05T17:58:53.221Z"
   },
   {
    "duration": 1123,
    "start_time": "2023-04-05T17:59:01.056Z"
   },
   {
    "duration": 812,
    "start_time": "2023-04-05T17:59:10.761Z"
   },
   {
    "duration": 675,
    "start_time": "2023-04-05T17:59:18.847Z"
   },
   {
    "duration": 752,
    "start_time": "2023-04-05T17:59:35.750Z"
   },
   {
    "duration": 749,
    "start_time": "2023-04-05T17:59:45.053Z"
   },
   {
    "duration": 857,
    "start_time": "2023-04-05T17:59:55.384Z"
   },
   {
    "duration": 875,
    "start_time": "2023-04-05T18:00:05.207Z"
   },
   {
    "duration": 721,
    "start_time": "2023-04-05T18:00:20.904Z"
   },
   {
    "duration": 774,
    "start_time": "2023-04-05T18:00:29.099Z"
   },
   {
    "duration": 707,
    "start_time": "2023-04-05T18:01:04.671Z"
   },
   {
    "duration": 700,
    "start_time": "2023-04-05T18:01:12.009Z"
   },
   {
    "duration": 1073,
    "start_time": "2023-04-05T18:01:22.076Z"
   },
   {
    "duration": 764,
    "start_time": "2023-04-05T18:01:29.257Z"
   },
   {
    "duration": 11,
    "start_time": "2023-04-05T18:02:04.487Z"
   },
   {
    "duration": 796,
    "start_time": "2023-04-05T18:02:18.630Z"
   },
   {
    "duration": 7,
    "start_time": "2023-04-05T18:02:35.415Z"
   },
   {
    "duration": 674,
    "start_time": "2023-04-05T18:02:41.550Z"
   },
   {
    "duration": 8,
    "start_time": "2023-04-05T18:05:27.527Z"
   },
   {
    "duration": 533,
    "start_time": "2023-04-05T18:05:27.736Z"
   },
   {
    "duration": 326,
    "start_time": "2023-04-05T18:06:01.526Z"
   },
   {
    "duration": 590,
    "start_time": "2023-04-05T18:06:10.639Z"
   },
   {
    "duration": 13,
    "start_time": "2023-04-05T18:06:24.823Z"
   },
   {
    "duration": 14,
    "start_time": "2023-04-05T18:06:27.414Z"
   },
   {
    "duration": 68,
    "start_time": "2023-04-05T18:06:28.375Z"
   },
   {
    "duration": 9,
    "start_time": "2023-04-05T18:06:31.220Z"
   },
   {
    "duration": 4,
    "start_time": "2023-04-05T18:06:33.559Z"
   },
   {
    "duration": 14447,
    "start_time": "2023-04-05T18:06:54.454Z"
   },
   {
    "duration": 337903,
    "start_time": "2023-04-05T18:08:28.913Z"
   },
   {
    "duration": 8,
    "start_time": "2023-04-05T18:14:06.825Z"
   },
   {
    "duration": 14357,
    "start_time": "2023-04-05T18:14:15.327Z"
   },
   {
    "duration": 207860,
    "start_time": "2023-04-05T18:14:55.164Z"
   },
   {
    "duration": 6208,
    "start_time": "2023-04-05T18:20:17.098Z"
   },
   {
    "duration": 11436,
    "start_time": "2023-04-05T18:20:51.116Z"
   },
   {
    "duration": 5,
    "start_time": "2023-04-05T18:21:31.067Z"
   },
   {
    "duration": 10,
    "start_time": "2023-04-05T18:22:36.845Z"
   },
   {
    "duration": 21,
    "start_time": "2023-04-05T18:23:17.766Z"
   },
   {
    "duration": 15,
    "start_time": "2023-04-05T18:29:29.964Z"
   },
   {
    "duration": 25,
    "start_time": "2023-04-05T18:29:40.384Z"
   },
   {
    "duration": 11,
    "start_time": "2023-04-05T18:30:12.026Z"
   },
   {
    "duration": 11,
    "start_time": "2023-04-05T18:30:19.960Z"
   },
   {
    "duration": 1604,
    "start_time": "2023-04-05T18:39:38.621Z"
   },
   {
    "duration": 890,
    "start_time": "2023-04-05T18:39:40.226Z"
   },
   {
    "duration": 3,
    "start_time": "2023-04-05T18:39:42.276Z"
   },
   {
    "duration": 412,
    "start_time": "2023-04-05T18:39:42.461Z"
   },
   {
    "duration": 235,
    "start_time": "2023-04-05T18:39:42.889Z"
   },
   {
    "duration": 446,
    "start_time": "2023-04-05T18:39:43.126Z"
   },
   {
    "duration": 3,
    "start_time": "2023-04-05T18:39:44.107Z"
   },
   {
    "duration": 12,
    "start_time": "2023-04-05T18:39:44.511Z"
   },
   {
    "duration": 10,
    "start_time": "2023-04-05T18:39:45.121Z"
   },
   {
    "duration": 4,
    "start_time": "2023-04-05T18:39:46.155Z"
   },
   {
    "duration": 6,
    "start_time": "2023-04-05T18:39:46.753Z"
   },
   {
    "duration": 6,
    "start_time": "2023-04-05T18:39:47.166Z"
   },
   {
    "duration": 4,
    "start_time": "2023-04-05T18:39:48.019Z"
   },
   {
    "duration": 8,
    "start_time": "2023-04-05T18:39:48.235Z"
   },
   {
    "duration": 4,
    "start_time": "2023-04-05T18:39:48.453Z"
   },
   {
    "duration": 17,
    "start_time": "2023-04-05T18:39:49.486Z"
   },
   {
    "duration": 12,
    "start_time": "2023-04-05T18:39:49.712Z"
   },
   {
    "duration": 9,
    "start_time": "2023-04-05T18:39:49.943Z"
   },
   {
    "duration": 59283,
    "start_time": "2023-04-05T18:39:50.662Z"
   },
   {
    "duration": 277,
    "start_time": "2023-04-05T18:40:49.948Z"
   },
   {
    "duration": 8,
    "start_time": "2023-04-05T18:40:50.227Z"
   },
   {
    "duration": 13,
    "start_time": "2023-04-05T18:40:50.238Z"
   },
   {
    "duration": 40,
    "start_time": "2023-04-05T18:40:50.253Z"
   },
   {
    "duration": 292,
    "start_time": "2023-04-05T18:51:22.824Z"
   },
   {
    "duration": 12,
    "start_time": "2023-04-05T18:51:23.390Z"
   },
   {
    "duration": 318,
    "start_time": "2023-04-05T18:51:24.662Z"
   },
   {
    "duration": 427,
    "start_time": "2023-04-05T18:51:25.111Z"
   },
   {
    "duration": 299,
    "start_time": "2023-04-05T18:51:25.961Z"
   },
   {
    "duration": 311,
    "start_time": "2023-04-05T18:51:26.840Z"
   },
   {
    "duration": 13,
    "start_time": "2023-04-05T18:51:27.777Z"
   },
   {
    "duration": 625,
    "start_time": "2023-04-05T18:51:28.948Z"
   },
   {
    "duration": 10,
    "start_time": "2023-04-05T18:51:33.934Z"
   },
   {
    "duration": 494,
    "start_time": "2023-04-05T18:51:34.143Z"
   },
   {
    "duration": 6,
    "start_time": "2023-04-05T18:51:36.298Z"
   },
   {
    "duration": 11,
    "start_time": "2023-04-05T18:51:36.768Z"
   },
   {
    "duration": 39,
    "start_time": "2023-04-05T18:51:37.511Z"
   },
   {
    "duration": 4,
    "start_time": "2023-04-05T18:51:39.012Z"
   },
   {
    "duration": 3,
    "start_time": "2023-04-05T18:51:39.944Z"
   },
   {
    "duration": 13220,
    "start_time": "2023-04-05T18:51:42.591Z"
   },
   {
    "duration": 223549,
    "start_time": "2023-04-05T18:52:00.218Z"
   },
   {
    "duration": 6950,
    "start_time": "2023-04-05T18:55:43.769Z"
   },
   {
    "duration": 10909,
    "start_time": "2023-04-05T18:55:50.723Z"
   },
   {
    "duration": 11,
    "start_time": "2023-04-05T18:56:01.635Z"
   }
  ],
  "kernelspec": {
   "display_name": "Python 3 (ipykernel)",
   "language": "python",
   "name": "python3"
  },
  "language_info": {
   "codemirror_mode": {
    "name": "ipython",
    "version": 3
   },
   "file_extension": ".py",
   "mimetype": "text/x-python",
   "name": "python",
   "nbconvert_exporter": "python",
   "pygments_lexer": "ipython3",
   "version": "3.9.13"
  },
  "toc": {
   "base_numbering": 1,
   "nav_menu": {},
   "number_sections": true,
   "sideBar": true,
   "skip_h1_title": true,
   "title_cell": "Содержание",
   "title_sidebar": "Contents",
   "toc_cell": true,
   "toc_position": {
    "height": "calc(100% - 180px)",
    "left": "10px",
    "top": "150px",
    "width": "334px"
   },
   "toc_section_display": true,
   "toc_window_display": true
  }
 },
 "nbformat": 4,
 "nbformat_minor": 2
}
